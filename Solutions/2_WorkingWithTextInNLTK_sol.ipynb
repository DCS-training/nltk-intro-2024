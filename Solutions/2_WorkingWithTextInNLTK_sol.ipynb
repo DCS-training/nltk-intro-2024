{
 "cells": [
  {
   "cell_type": "markdown",
   "id": "cdd705aa",
   "metadata": {},
   "source": [
    "# NLTK with Lewis Grassic Gibbon First Editions\n",
    "\n",
    "**Data Source:** [National Library of Scotland Data Foundry](https://data.nls.uk/data/digitised-collections/lewis-grassic-gibbon-first-editions/)\n",
    "\n",
    "**Code Reference:** \n",
    "National Library of Scotland. Exploring Lewis Grassic Gibbon First Editions. National Library of Scotland, 2020. https://doi.org/10.34812/gq6w-6e91\n",
    "\n",
    "**Date:** April 6, 2022\n",
    "\n",
    "**Course:** Text Analysis with NLTK (Week 2, Class 3); Centre for Data, Culture & Society"
   ]
  },
  {
   "cell_type": "markdown",
   "id": "3121b01a",
   "metadata": {},
   "source": [
    "***\n",
    "\n",
    "**Corpus Name:** Lewis Grassic Gibbon First Editions\n",
    "\n",
    "**Questions:**\n",
    "1. What are the most common words in the corpus?\n",
    "    * How many words are in the entire corpus?\n",
    "        * Create a list of all the alphabetic tokens (words)\n",
    "    * Calculate the frequency distribution (`FreqDist()`)\n",
    "    \n",
    "\n",
    "2. What are the most common words in one book from the corpus?\n",
    "    * Identify which files in the corpus are for which book\n",
    "        * Create a list of all the alphabetic tokens (words)\n",
    "    * Calculate the frequency distribution for individual files\n",
    "    \n",
    "\n",
    "3. How does the word choice of the author change from one book to another?\n",
    "    * How many words are in each book (each file in the corpus)?\n",
    "    * How many *unique* words are in each book?\n",
    "        * Normalize (standardize) the words by casefolding\n",
    "    * Lexical diversity = count of unique words / count of all words\n",
    "\n",
    "***\n",
    "\n",
    "## Table of Contents\n",
    "\n",
    "I. [Preparation](#preparation)\n",
    "\n",
    "II. [Normalization](#normalization)\n",
    "\n",
    "III. [Data Cleaning](#data_cleaning)\n",
    "\n",
    "IV. [Analysis](#analysis)\n",
    "\n",
    "***"
   ]
  },
  {
   "cell_type": "markdown",
   "id": "637cdd3f",
   "metadata": {},
   "source": [
    "<a id=\"preparation\"></a>\n",
    "## I. Preparation"
   ]
  },
  {
   "cell_type": "code",
   "execution_count": 1,
   "id": "c52a5768",
   "metadata": {},
   "outputs": [
    {
     "name": "stderr",
     "output_type": "stream",
     "text": [
      "/tmp/ipykernel_187788/1176932476.py:2: DeprecationWarning: \n",
      "Pyarrow will become a required dependency of pandas in the next major release of pandas (pandas 3.0),\n",
      "(to allow more performant data types, such as the Arrow string type, and better interoperability with other libraries)\n",
      "but was not found to be installed on your system.\n",
      "If this would cause problems for you,\n",
      "please provide us feedback at https://github.com/pandas-dev/pandas/issues/54466\n",
      "        \n",
      "  import pandas as pd\n",
      "[nltk_data] Downloading package punkt to /home/dave/nltk_data...\n",
      "[nltk_data]   Package punkt is already up-to-date!\n",
      "[nltk_data] Downloading package wordnet to /home/dave/nltk_data...\n",
      "[nltk_data]   Package wordnet is already up-to-date!\n",
      "[nltk_data] Downloading package stopwords to /home/dave/nltk_data...\n",
      "[nltk_data]   Package stopwords is already up-to-date!\n"
     ]
    }
   ],
   "source": [
    "# To load a CSV file with an inventory of the documents in the corpus\n",
    "import pandas as pd\n",
    "\n",
    "# To create data visualizations\n",
    "import altair as alt\n",
    "import matplotlib.pyplot as plt\n",
    "\n",
    "# To perform text analysis\n",
    "import nltk\n",
    "from nltk.tokenize import word_tokenize, sent_tokenize\n",
    "nltk.download('punkt')\n",
    "from nltk.corpus import PlaintextCorpusReader\n",
    "nltk.download('wordnet')\n",
    "from nltk.corpus import wordnet\n",
    "nltk.download('stopwords')\n",
    "from nltk.corpus import stopwords\n",
    "from nltk.text import Text\n",
    "from nltk.probability import FreqDist\n",
    "from nltk.draw.dispersion import dispersion_plot as displt\n",
    "\n",
    "import re # Regular Expressions (RegEx)"
   ]
  },
  {
   "cell_type": "code",
   "execution_count": 2,
   "id": "4923086f",
   "metadata": {},
   "outputs": [
    {
     "name": "stdout",
     "output_type": "stream",
     "text": [
      "['R', ',', '17U', '\\\\(', 'o', 'First', 'journey', 'National', 'Library', 'of', 'Scotland', 'â', '\\x80\\x98', 'B000054136', '*', 'TIMBUCTOO', 'NIGER', 'BY', 'THE', 'SAME']\n"
     ]
    }
   ],
   "source": [
    "data_directory = \"nls-text-gibbon\"\n",
    "wordlists = PlaintextCorpusReader(data_directory, \"\\d.*\", encoding=\"latin1\")\n",
    "corpus_tokens = wordlists.words()  # method for tokenization\n",
    "print(corpus_tokens[:20])"
   ]
  },
  {
   "cell_type": "markdown",
   "id": "5e75de13",
   "metadata": {},
   "source": [
    "To get a sense of the data we're working with, let's create a functions that tell us how many tokens, sentences, and files are in our corpus!"
   ]
  },
  {
   "cell_type": "code",
   "execution_count": 3,
   "id": "4530927d",
   "metadata": {},
   "outputs": [
    {
     "name": "stdout",
     "output_type": "stream",
     "text": [
      "Total tokens in Lewis Grassic Gibbon Corpus: 1506095\n",
      "Total tokens in Lewis Grassic Gibbon Corpus: 70826\n",
      "Total tokens in Lewis Grassic Gibbon Corpus: 16\n"
     ]
    }
   ],
   "source": [
    "def calculate_total_tokens(plaintext_corpus_read_lists):\n",
    "    \"\"\"A simpler approach would have been:\n",
    "\n",
    "    def calculate_total_tokens(plaintext_corpus_read_lists):\n",
    "        return len(wordlists.tokens())\n",
    "\n",
    "    ... however, I wanted to show how you can perform operations on \n",
    "    individual texts in the corpus\n",
    "    \"\"\"\n",
    "    total_tokens = 0\n",
    "    for fileid in plaintext_corpus_read_lists.fileids():\n",
    "        total_tokens += len(plaintext_corpus_read_lists.words(fileid))\n",
    "    return total_tokens\n",
    "\n",
    "def calculate_total_sents(plaintext_corpus_read_lists):\n",
    "    total_sents = 0\n",
    "    for fileid in plaintext_corpus_read_lists.fileids():\n",
    "        total_sents += len(plaintext_corpus_read_lists.sents(fileid))\n",
    "    return total_sents\n",
    "\n",
    "def calculate_total_files(plaintext_corpus_read_lists):\n",
    "    return len(plaintext_corpus_read_lists.fileids())\n",
    "\n",
    "def display_corpus_statistics(name, total_tokens, total_sents, total_files):\n",
    "    print(f\"Total tokens in {name}: {total_tokens}\")\n",
    "    print(f\"Total tokens in {name}: {total_sents}\")\n",
    "    print(f\"Total tokens in {name}: {total_files}\")\n",
    "\n",
    "display_corpus_statistics(\n",
    "    \"Lewis Grassic Gibbon Corpus\",\n",
    "    calculate_total_tokens(wordlists),\n",
    "    calculate_total_sents(wordlists),\n",
    "    calculate_total_files(wordlists)\n",
    ")\n"
   ]
  },
  {
   "cell_type": "code",
   "execution_count": 4,
   "id": "98374056",
   "metadata": {},
   "outputs": [
    {
     "name": "stdout",
     "output_type": "stream",
     "text": [
      "<class 'nltk.corpus.reader.plaintext.PlaintextCorpusReader'>\n"
     ]
    }
   ],
   "source": [
    "print(type(wordlists))"
   ]
  },
  {
   "cell_type": "code",
   "execution_count": 5,
   "id": "eadbfaf5",
   "metadata": {},
   "outputs": [
    {
     "name": "stdout",
     "output_type": "stream",
     "text": [
      "['205174241.txt', '205174242.txt', '205174243.txt', '205174244.txt', '205174245.txt', '205174246.txt', '205174247.txt', '205174248.txt', '205174249.txt', '205174250.txt', '205174251.txt', '205174252.txt', '205174253.txt', '205174254.txt', '205174255.txt', '205202834.txt']\n"
     ]
    }
   ],
   "source": [
    "print(wordlists.fileids())"
   ]
  },
  {
   "cell_type": "markdown",
   "id": "a97a281e",
   "metadata": {},
   "source": [
    "There is also a csv file which gives some metadata. Let's load this into a pandas DataFrame with `pd.read_csv`. It has no header row, so set the `header` parameter to `None` and use the `names` parameter to give it the column names `'fileid'` and `'title'`"
   ]
  },
  {
   "cell_type": "code",
   "execution_count": 6,
   "id": "3d421466",
   "metadata": {},
   "outputs": [
    {
     "data": {
      "text/html": [
       "<div>\n",
       "<style scoped>\n",
       "    .dataframe tbody tr th:only-of-type {\n",
       "        vertical-align: middle;\n",
       "    }\n",
       "\n",
       "    .dataframe tbody tr th {\n",
       "        vertical-align: top;\n",
       "    }\n",
       "\n",
       "    .dataframe thead th {\n",
       "        text-align: right;\n",
       "    }\n",
       "</style>\n",
       "<table border=\"1\" class=\"dataframe\">\n",
       "  <thead>\n",
       "    <tr style=\"text-align: right;\">\n",
       "      <th></th>\n",
       "      <th>fileid</th>\n",
       "      <th>title</th>\n",
       "    </tr>\n",
       "  </thead>\n",
       "  <tbody>\n",
       "    <tr>\n",
       "      <th>0</th>\n",
       "      <td>205174241.txt</td>\n",
       "      <td>Niger - R.176.i</td>\n",
       "    </tr>\n",
       "    <tr>\n",
       "      <th>1</th>\n",
       "      <td>205174242.txt</td>\n",
       "      <td>Thirteenth disciple - Vts.137.d</td>\n",
       "    </tr>\n",
       "    <tr>\n",
       "      <th>2</th>\n",
       "      <td>205174243.txt</td>\n",
       "      <td>Three go back - Vts.152.f.22</td>\n",
       "    </tr>\n",
       "    <tr>\n",
       "      <th>3</th>\n",
       "      <td>205174244.txt</td>\n",
       "      <td>Calends of Cairo - Vts.153.c.16</td>\n",
       "    </tr>\n",
       "    <tr>\n",
       "      <th>4</th>\n",
       "      <td>205174245.txt</td>\n",
       "      <td>Lost trumpet - Vts.143.j.8</td>\n",
       "    </tr>\n",
       "    <tr>\n",
       "      <th>5</th>\n",
       "      <td>205174246.txt</td>\n",
       "      <td>Image and superscription - Vts.118.l.16</td>\n",
       "    </tr>\n",
       "    <tr>\n",
       "      <th>6</th>\n",
       "      <td>205174247.txt</td>\n",
       "      <td>Spartacus - Vts.6.k.19</td>\n",
       "    </tr>\n",
       "    <tr>\n",
       "      <th>7</th>\n",
       "      <td>205174248.txt</td>\n",
       "      <td>Persian dawns, Egyptian nights - Vts.148.d.8</td>\n",
       "    </tr>\n",
       "    <tr>\n",
       "      <th>8</th>\n",
       "      <td>205174249.txt</td>\n",
       "      <td>Scots quair - Cloud howe - NF.523.b.30</td>\n",
       "    </tr>\n",
       "    <tr>\n",
       "      <th>9</th>\n",
       "      <td>205174250.txt</td>\n",
       "      <td>Scots quair - Grey granite - NF.523.b.31</td>\n",
       "    </tr>\n",
       "    <tr>\n",
       "      <th>10</th>\n",
       "      <td>205174251.txt</td>\n",
       "      <td>Scots quair - Sunset song - NF.523.b.29</td>\n",
       "    </tr>\n",
       "    <tr>\n",
       "      <th>11</th>\n",
       "      <td>205174252.txt</td>\n",
       "      <td>Hanno, or, The future of exploration - S.114.j.21</td>\n",
       "    </tr>\n",
       "    <tr>\n",
       "      <th>12</th>\n",
       "      <td>205174253.txt</td>\n",
       "      <td>Nine against the unknown - S.72.d.10</td>\n",
       "    </tr>\n",
       "    <tr>\n",
       "      <th>13</th>\n",
       "      <td>205174254.txt</td>\n",
       "      <td>Conquest of the Maya - S.60.c</td>\n",
       "    </tr>\n",
       "    <tr>\n",
       "      <th>14</th>\n",
       "      <td>205174255.txt</td>\n",
       "      <td>Gay hunter - Vts.215.j.26</td>\n",
       "    </tr>\n",
       "    <tr>\n",
       "      <th>15</th>\n",
       "      <td>205202834.txt</td>\n",
       "      <td>Stained radiance - T.204.f</td>\n",
       "    </tr>\n",
       "  </tbody>\n",
       "</table>\n",
       "</div>"
      ],
      "text/plain": [
       "           fileid                                              title\n",
       "0   205174241.txt                                    Niger - R.176.i\n",
       "1   205174242.txt                    Thirteenth disciple - Vts.137.d\n",
       "2   205174243.txt                       Three go back - Vts.152.f.22\n",
       "3   205174244.txt                    Calends of Cairo - Vts.153.c.16\n",
       "4   205174245.txt                         Lost trumpet - Vts.143.j.8\n",
       "5   205174246.txt            Image and superscription - Vts.118.l.16\n",
       "6   205174247.txt                            Spartacus - Vts.6.k.19 \n",
       "7   205174248.txt       Persian dawns, Egyptian nights - Vts.148.d.8\n",
       "8   205174249.txt             Scots quair - Cloud howe - NF.523.b.30\n",
       "9   205174250.txt           Scots quair - Grey granite - NF.523.b.31\n",
       "10  205174251.txt            Scots quair - Sunset song - NF.523.b.29\n",
       "11  205174252.txt  Hanno, or, The future of exploration - S.114.j.21\n",
       "12  205174253.txt               Nine against the unknown - S.72.d.10\n",
       "13  205174254.txt                      Conquest of the Maya - S.60.c\n",
       "14  205174255.txt                          Gay hunter - Vts.215.j.26\n",
       "15  205202834.txt                         Stained radiance - T.204.f"
      ]
     },
     "execution_count": 6,
     "metadata": {},
     "output_type": "execute_result"
    }
   ],
   "source": [
    "# Your code here\n",
    "df = pd.read_csv('nls-text-gibbon/gibbon-inventory.csv', header=None, names=['fileid', 'title'])\n",
    "df"
   ]
  },
  {
   "cell_type": "markdown",
   "id": "7ee14061",
   "metadata": {},
   "source": [
    "Let's create a **dictionary**, one of the Python data types, that associates each `fileid` with each `title`.  That way we can quickly determine from our text analysis with NLTK what book we are looking at, since NLTK uses the fileids (the names of the files in our data directory, a.k.a. folder)."
   ]
  },
  {
   "cell_type": "code",
   "execution_count": 7,
   "id": "a825c427",
   "metadata": {},
   "outputs": [
    {
     "name": "stdout",
     "output_type": "stream",
     "text": [
      "List of file IDs:\n",
      "['205174241.txt', '205174242.txt', '205174243.txt', '205174244.txt', '205174245.txt', '205174246.txt', '205174247.txt', '205174248.txt', '205174249.txt', '205174250.txt', '205174251.txt', '205174252.txt', '205174253.txt', '205174254.txt', '205174255.txt', '205202834.txt']\n",
      "\n",
      "List of titles:\n",
      "['Niger - R.176.i', 'Thirteenth disciple - Vts.137.d', 'Three go back - Vts.152.f.22', 'Calends of Cairo - Vts.153.c.16', 'Lost trumpet - Vts.143.j.8', 'Image and superscription - Vts.118.l.16', 'Spartacus - Vts.6.k.19 ', 'Persian dawns, Egyptian nights - Vts.148.d.8', 'Scots quair - Cloud howe - NF.523.b.30', 'Scots quair - Grey granite - NF.523.b.31', 'Scots quair - Sunset song - NF.523.b.29', 'Hanno, or, The future of exploration - S.114.j.21', 'Nine against the unknown - S.72.d.10', 'Conquest of the Maya - S.60.c', 'Gay hunter - Vts.215.j.26', 'Stained radiance - T.204.f']\n",
      "\n",
      "Dictionary of file IDs and titles:\n",
      "{'205174241.txt': 'Niger - R.176.i', '205174242.txt': 'Thirteenth disciple - Vts.137.d', '205174243.txt': 'Three go back - Vts.152.f.22', '205174244.txt': 'Calends of Cairo - Vts.153.c.16', '205174245.txt': 'Lost trumpet - Vts.143.j.8', '205174246.txt': 'Image and superscription - Vts.118.l.16', '205174247.txt': 'Spartacus - Vts.6.k.19 ', '205174248.txt': 'Persian dawns, Egyptian nights - Vts.148.d.8', '205174249.txt': 'Scots quair - Cloud howe - NF.523.b.30', '205174250.txt': 'Scots quair - Grey granite - NF.523.b.31', '205174251.txt': 'Scots quair - Sunset song - NF.523.b.29', '205174252.txt': 'Hanno, or, The future of exploration - S.114.j.21', '205174253.txt': 'Nine against the unknown - S.72.d.10', '205174254.txt': 'Conquest of the Maya - S.60.c', '205174255.txt': 'Gay hunter - Vts.215.j.26', '205202834.txt': 'Stained radiance - T.204.f'}\n",
      "\n"
     ]
    }
   ],
   "source": [
    "# obtain a list of all file IDs\n",
    "# your code here\n",
    "fileids = list(df[\"fileid\"])\n",
    "print(f\"List of file IDs:\\n{fileids}\\n\")\n",
    "\n",
    "# obtain a list of all titles\n",
    "# your code here\n",
    "titles = list(df[\"title\"])\n",
    "print(f\"List of titles:\\n{titles}\\n\")\n",
    "\n",
    "# create a dictionary where the keys are file IDs and the values are titles\n",
    "# your code here\n",
    "lgg_dict = dict(zip(fileids, titles))\n",
    "print(f\"Dictionary of file IDs and titles:\\n{lgg_dict}\\n\")"
   ]
  },
  {
   "cell_type": "code",
   "execution_count": 8,
   "id": "8617570d",
   "metadata": {},
   "outputs": [
    {
     "data": {
      "text/plain": [
       "'Scots quair - Sunset song - NF.523.b.29'"
      ]
     },
     "execution_count": 8,
     "metadata": {},
     "output_type": "execute_result"
    }
   ],
   "source": [
    "# Now we can say...\n",
    "a_file_id = fileids[10]\n",
    "lgg_dict[a_file_id]"
   ]
  },
  {
   "cell_type": "code",
   "execution_count": 9,
   "id": "646bec40",
   "metadata": {},
   "outputs": [
    {
     "data": {
      "text/plain": [
       "'Scots quair - Sunset song - NF.523.b.29'"
      ]
     },
     "execution_count": 9,
     "metadata": {},
     "output_type": "execute_result"
    }
   ],
   "source": [
    "# ...or simply...\n",
    "lgg_dict['205174251.txt']"
   ]
  },
  {
   "cell_type": "markdown",
   "id": "9f35b5dd",
   "metadata": {},
   "source": [
    "Let's create lists of all the words (alphabetic tokens) and sentences in the LGG corpus."
   ]
  },
  {
   "cell_type": "code",
   "execution_count": 10,
   "id": "3aa52f82",
   "metadata": {},
   "outputs": [],
   "source": [
    "# your code here\n",
    "def get_words_sents (plaintext_corpus_read_lists):\n",
    "    \"\"\"Creates lists of all words and all tokens in a given corpus.\n",
    "    I've added this docstring because docstrings are good practice,\n",
    "    and I can show you one of the standard formats for Python \n",
    "    docstrings\n",
    "    \n",
    "    Parameters\n",
    "    ----------\n",
    "        plaintext_corpus_read_lists (PlaintextCorpusReader):\n",
    "            corpus generated from a collection of plantext files\n",
    "\n",
    "    Returns\n",
    "    -------\n",
    "        all_words (list):\n",
    "            list of all words: that is, all tokens consisting of alphabetical\n",
    "            characters only\n",
    "        all_sents (list)\n",
    "            list of all sentences\n",
    "    \"\"\"\n",
    "    # your code here\n",
    "    all_words = []\n",
    "    all_sents = []\n",
    "    for fileid in plaintext_corpus_read_lists.fileids():\n",
    "        \n",
    "        file_words = plaintext_corpus_read_lists.words(fileid)\n",
    "        all_words += [str(word) for word in file_words]\n",
    "        \n",
    "        file_sents = sent_tokenize(plaintext_corpus_read_lists.raw(fileid))\n",
    "        all_sents += [str(sent) for sent in file_sents]\n",
    "        \n",
    "    return all_words, all_sents"
   ]
  },
  {
   "cell_type": "code",
   "execution_count": 11,
   "id": "4d43cdab",
   "metadata": {},
   "outputs": [
    {
     "name": "stdout",
     "output_type": "stream",
     "text": [
      "['R', ',', '17U', '\\\\(', 'o', 'First', 'journey', 'National', 'Library', 'of', 'Scotland', 'â', '\\x80\\x98', 'B000054136', '*', 'TIMBUCTOO', 'NIGER', 'BY', 'THE', 'SAME']\n",
      "['R, 17U \\\\(o\\r\\nFirst journey\\r\\nNational Library of Scotland\\r\\nâ\\x80\\x98B000054136*\\r\\nTIMBUCTOO\\r\\nNIGER\\r\\nBY THE SAME AUTHOR\\r\\nNovels forming the trilogy, A Scots Quair\\r\\nPart I. Sunset Song (1932)\\r\\nPart II.', 'Cloud Howe (1933)\\r\\nPart III.', 'Grey Granite (1934)\\r\\nMUNCiO PARK\\r\\nNIGER\\r\\nTHE LIFE OF MUNGO PARK\\r\\nBY\\r\\nLEWIS GRASSIC GIBBON\\r\\nEDINBURGH\\r\\nTHE PORPOISE PRESS\\r\\nFIRST PUBLISHED IN 1034\\r\\nBY THE PORPOISE PRESS\\r\\nI33A GEORGE STREET, EDINBURGH\\r\\nLONDON *.']\n"
     ]
    }
   ],
   "source": [
    "lgg_words, lgg_sents = get_words_sents(wordlists)\n",
    "print(lgg_words[:20])\n",
    "print(lgg_sents[:3])"
   ]
  },
  {
   "cell_type": "markdown",
   "id": "109d0e4e",
   "metadata": {},
   "source": [
    "<a id=\"data_cleaning\"></a>\n",
    "## II. Data Cleaning with RegEx and NLTK"
   ]
  },
  {
   "cell_type": "markdown",
   "id": "42680cb2",
   "metadata": {},
   "source": [
    "Let's calculate the frequency distribution, or the count of occurrences of each word across the entire corpus:"
   ]
  },
  {
   "cell_type": "code",
   "execution_count": 12,
   "id": "2c027e5a",
   "metadata": {},
   "outputs": [
    {
     "name": "stdout",
     "output_type": "stream",
     "text": [
      "Total words after filtering: 1506095\n",
      "50 most common words after filtering: [(',', 86225), ('the', 82215), ('.', 69949), ('and', 49686), ('of', 40160), ('a', 27930), ('to', 24359), ('in', 22692), ('\\x80\\x99', 21483), ('â', 19943), ('that', 15065), ('was', 14704), ('-', 13435), ('his', 11708), ('he', 11433), ('had', 11078), ('with', 10261), ('it', 9070), ('at', 8320), ('her', 8319), ('on', 7965), ('as', 7831), ('\\x80\\x94', 6779), ('for', 6755), ('s', 6752), ('I', 6569), ('from', 6293), ('she', 6062), ('?', 6033), ('they', 5610), ('The', 5354), ('him', 5346), ('you', 5264), ('\\x80\\x98', 4920), ('¬', 4700), ('\\x80\\x9c', 4619), ('were', 4596), ('And', 4470), ('He', 4444), ('\\x80\\x9d', 4229), ('by', 4086), ('up', 4066), ('out', 3758), ('their', 3710), ('but', 3535), ('them', 3503), ('t', 3421), ('not', 3402), ('all', 3381), ('But', 3356)]\n"
     ]
    }
   ],
   "source": [
    "fdist_lgg = FreqDist(lgg_words)\n",
    "print(\"Total words after filtering:\", fdist_lgg.N())\n",
    "print(\"50 most common words after filtering:\", fdist_lgg.most_common(50))"
   ]
  },
  {
   "cell_type": "markdown",
   "id": "ed032bd1",
   "metadata": {},
   "source": [
    "Uh-oh! Note the 'â' and the '\\x80\\x99' - those don't look like they're meant to be there! The NLS Gibbon corpus is, after all, the result of scanning and running OCR (Optical Character Recognition), which is not totally reliable. Before doing our analysis, let's do some data cleaning, with ..."
   ]
  },
  {
   "cell_type": "markdown",
   "id": "instant-latex",
   "metadata": {},
   "source": [
    "### Regular Expresssions (RegEx)\n",
    "\n",
    "* **WHAT? Pattern matching strings in Python**\n",
    "* **WHY? To find specific words or phrases, or variations of a particular word or phrase**\n",
    "    * Once found, they can be replaced, so this is useful for cleaning text with digitization errors.  Optical Character Recognition (OCR) and Handwriting Recognition (HWT or HRT) technologies are imperfect, so you will find errors in digitized text corpora (unless of course they've been manually reviewed and corrected).\n",
    "* **HOW? Combinations of special characters with a RegEx compiler**\n",
    "    * In programming, a *compiler* translates code from one programming language to another.  In a sense, RegEx is a language that can sit on top of Python.  RegEx works with Python data types and syntax but it also has its own special characters and methods that plain Python doesn't use.\n",
    "    \n",
    "My favorite resource for practice with and testing Regular Expressions is  is [Regex101.com](https://regex101.com): also check out [Pythex.org](https://pythex.org) for the cheat sheet it provides!"
   ]
  },
  {
   "cell_type": "code",
   "execution_count": 13,
   "id": "complex-questionnaire",
   "metadata": {},
   "outputs": [],
   "source": [
    "# # To use Regular Expressions (RegEx)\n",
    "# import re\n",
    "\n",
    "# # To perform text analysis\n",
    "# import nltk\n",
    "# from nltk.tokenize import word_tokenize, sent_tokenize\n",
    "# nltk.download('punkt')\n",
    "# from nltk.corpus import PlaintextCorpusReader\n",
    "# nltk.download('wordnet')\n",
    "# from nltk.corpus import wordnet\n",
    "# nltk.download('stopwords')\n",
    "# from nltk.corpus import stopwords\n",
    "# from nltk.text import Text"
   ]
  },
  {
   "cell_type": "code",
   "execution_count": 14,
   "id": "opened-element",
   "metadata": {},
   "outputs": [
    {
     "name": "stdout",
     "output_type": "stream",
     "text": [
      "['R', ',', '17U', '\\\\(', 'o', 'First', 'journey', 'National', 'Library', 'of', 'Scotland', 'â', '\\x80\\x98', 'B000054136', '*', 'TIMBUCTOO', 'NIGER', 'BY', 'THE', 'SAME', 'AUTHOR', 'Novels', 'forming', 'the', 'trilogy', ',', 'A', 'Scots', 'Quair', 'Part', 'I', '.', 'Sunset', 'Song', '(', '1932', ')', 'Part', 'II', '.', 'Cloud', 'Howe', '(', '1933', ')', 'Part', 'III', '.', 'Grey', 'Granite', '(', '1934', ')', 'MUNCiO', 'PARK', 'NIGER', 'THE', 'LIFE', 'OF', 'MUNGO', 'PARK', 'BY', 'LEWIS', 'GRASSIC', 'GIBBON', 'EDINBURGH', 'THE', 'PORPOISE', 'PRESS', 'FIRST', 'PUBLISHED', 'IN', '1034', 'BY', 'THE', 'PORPOISE', 'PRESS', 'I33A', 'GEORGE', 'STREET', ',', 'EDINBURGH', 'LONDON', '*.', 'FABER', 'AND', 'FABER', 'LIMITED', '24', 'RUSSELL', 'SQUARE', ',', 'W', '.', 'G', '.', 'I', 'PRINTED', 'IN', 'SCOTLAND']\n"
     ]
    }
   ],
   "source": [
    "lgg = nltk.Text(lgg_words)\n",
    "print(lgg[:100])"
   ]
  },
  {
   "cell_type": "code",
   "execution_count": 15,
   "id": "shared-defensive",
   "metadata": {},
   "outputs": [
    {
     "name": "stdout",
     "output_type": "stream",
     "text": [
      "Displaying 25 of 4920 matches:\n",
      "ourney National Library of Scotland â  B000054136 * TIMBUCTOO NIGER BY THE S\n",
      "h biography . A much better book is â  H . B . â  s â  Life of Mungo Par\n",
      " the room , and Mungo himÂ ¬ self . â  Youâ  re destroying the book , â \n",
      "ight of all his bio - 14 graphers , â  Ay , you , or somebody else , will on\n",
      "racÂ ¬ teristic , it was national : â  You poor useless thing , do you think\n",
      "surrounding hills , he went often , â  to read poetry â . This was mostly \n",
      "upon the record the affirÂ ¬ mation â  Some sparks of latent spirit which oc\n",
      " ¬ ously qualified by ( yet again ) â  the gravity and steady decorum of his\n",
      "o study medicine . ! 9 3His gravity â  not altogether thrown awayâ , he wa\n",
      "thematics , in both of which he was â  very apt . For the rest he no doubt p\n",
      "e a letter to Anderson in Selkirk : â  I have now got upon the first step of\n",
      " just before the Worcester sailed : â  I wish you may be able to look upon t\n",
      "e Great River , crocodile - laden , â  dividing Africa as the Danube does Eu\n",
      ", are no more than Chestertonâ  s â  small , dark , cloud , where the tort\n",
      "n , having come into collision with â  revolting Arabs 5 ( he referred to th\n",
      "s since his return from Bencoolen . â  I had a passionate desire to examine \n",
      "in authority . Jillifree lay in the â  kingdom â  of Barra , and the Emir \n",
      "trate of Jillifreeâ  el caid , or â  the Alkaid â  as Mungo somewhat stu\n",
      " ¬ tracted from the kernel of a nut â  and an admirable substitute for butte\n",
      "ses for the use of the two blacks . â  Thus I had no less than six attendant\n",
      "while , in Mungoâ  s phrase , the â  beef was preparing â , Jemaffoo and\n",
      "e at the lion through the rafters . â  This proposition was approved and ado\n",
      "mall caravan . They were now in the â  kingdom â  of Walli and these were \n",
      "d in considerable puzzlement upon a â  sort of masquerade habit â  made fr\n",
      "fled from the village . Even so , a â  body of these harpies â  followed h\n"
     ]
    }
   ],
   "source": [
    "lgg.concordance(\"\\x80\\x98\")"
   ]
  },
  {
   "cell_type": "markdown",
   "id": "3e3a0691",
   "metadata": {},
   "source": [
    "Looks like \"\\x80\\x98\" is the [UTF-8](https://en.wikipedia.org/wiki/UTF-8) encoding for the em-dash character."
   ]
  },
  {
   "cell_type": "code",
   "execution_count": 16,
   "id": "tamil-blackberry",
   "metadata": {},
   "outputs": [
    {
     "name": "stdout",
     "output_type": "stream",
     "text": [
      "Displaying 25 of 20332 matches:\n",
      "t journey National Library of Scotland â  B000054136 * TIMBUCTOO NIGER BY THE\n",
      "ngth biography . A much better book is â  H . B . â  s â  Life of Mungo P\n",
      "y . A much better book is â  H . B . â  s â  Life of Mungo Park ( 1835 ),\n",
      "uch better book is â  H . B . â  s â  Life of Mungo Park ( 1835 ), sincer\n",
      " a i woman of great prudence and sense â , â  else indeed she would not hav\n",
      "oman of great prudence and sense â , â  else indeed she would not have surv\n",
      " in the room , and Mungo himÂ ¬ self . â  Youâ  re destroying the book , â \n",
      " â  Youâ  re destroying the book , â  Mungo proÂ ¬ tested . The servant t\n",
      " 4 Theyâ  re only old Flavelâ  s . â  To which the dark - faced boy retor\n",
      "delight of all his bio - 14 graphers , â  Ay , you , or somebody else , will \n",
      "characÂ ¬ teristic , it was national : â  You poor useless thing , do you thi\n",
      "think that you will ever write books ? â  Mungoâ  s retort is not recorded \n",
      "he surrounding hills , he went often , â  to read poetry â . This was mostl\n",
      " , he went often , â  to read poetry â . This was mostly collections of son\n",
      "ms upon the record the affirÂ ¬ mation â  Some sparks of latent spirit which \n",
      "e part of his noisy school - fellows . â  But rather , one can hear their how\n",
      "viÂ ¬ ously qualified by ( yet again ) â  the gravity and steady decorum of h\n",
      "avity and steady decorum of his manner â . And , just as it was the ambition \n",
      "d to study medicine . ! 9 3His gravity â  not altogether thrown awayâ , he \n",
      " mathematics , in both of which he was â  very apt . For the rest he no doubt\n",
      "rote a letter to Anderson in Selkirk : â  I have now got upon the first step \n",
      "the author and finisher of his faith . â  Perhaps teasing Ailie would read th\n",
      "n , just before the Worcester sailed : â  I wish you may be able to look upon\n",
      "han see you anything but a Christian . â  It is almost the most appalling exa\n",
      " the Great River , crocodile - laden , â  dividing Africa as the Danube does \n"
     ]
    }
   ],
   "source": [
    "lgg.concordance(\"â\")"
   ]
  },
  {
   "cell_type": "markdown",
   "id": "ranging-significance",
   "metadata": {},
   "source": [
    "In addition to the â's, we can also see above some oddities with 'Â' - examples being:\n",
    "\n",
    "- `'himÂ ¬ self'`\n",
    "- `'proÂ ¬ tested'`\n",
    "- `'affirÂ ¬ mation'`"
   ]
  },
  {
   "cell_type": "code",
   "execution_count": 17,
   "id": "fundamental-pillow",
   "metadata": {},
   "outputs": [
    {
     "name": "stdout",
     "output_type": "stream",
     "text": [
      "Displaying 25 of 4700 matches:\n",
      "n in mind and disregarding it as unimÂ ¬ portant . I followed the latter course\n",
      "f Africa in 1805 , by Mungo Park ; toÂ ¬ gether with other documents , official\n",
      "riodâ  even if economic fact had deÂ ¬ signed a more enduring costume . The p\n",
      "on for educationâ  that passion comÂ ¬ pounded of a belief that education mea\n",
      "an argument . It had , and has , someÂ ¬ thing of the same quality , this Scots\n",
      "â  s biographers make of her a handÂ ¬ some personage , as they do of her con\n",
      "which produced their family . They reÂ ¬ garded each other , no doubt , with th\n",
      " was quiet , restrained , grave of deÂ ¬ meanour , proper and shyâ  a fit sub\n",
      "alysts as yet inapparent upon that unÂ ¬ happy era . No child should be any of \n",
      "abbath , of the hearty eating of tireÂ ¬ some food , of conventionality of expr\n",
      " of outward demeanour to hide the burÂ ¬ geon of his soul beneath . He was a ha\n",
      "handsome boy , as later a man , brownÂ ¬ haired , tall for his age , with finel\n",
      " of childhood and adolescence by modiÂ ¬ fying the well - known portrait and ga\n",
      "other was in the room , and Mungo himÂ ¬ self . â  Youâ  re destroying the \n",
      " destroying the book , â  Mungo proÂ ¬ tested . The servant tossed her head :\n",
      "erâ  s comment was more than characÂ ¬ teristic , it was national : â  You \n",
      "tion of the farmyard down to the drumÂ ¬ ming Yarrow banks , still happily unsu\n",
      "banks , still happily unsung by WordsÂ ¬ worth . There , and to the surrounding\n",
      "y were those oddly constipated pseudoÂ ¬ religious tracts beloved of his time .\n",
      " and smarms upon the record the affirÂ ¬ mation â  Some sparks of latent spir\n",
      "me sparks of latent spirit which occaÂ ¬ sionally flashed forth protected him f\n",
      "ing in some playground corner a brownÂ ¬ faced silent boy . His schoolmaster in\n",
      " that he was exceedingly fond of readÂ ¬ ing and 4 always the head of his class\n",
      "s schoolmates and the fatuous expectaÂ ¬ tions of Fowlshiels . But at last in h\n",
      "the Kirk of Scotland . He was so obviÂ ¬ ously qualified by ( yet again ) â  \n"
     ]
    }
   ],
   "source": [
    "lgg.concordance(\"¬\")"
   ]
  },
  {
   "cell_type": "markdown",
   "id": "facial-snowboard",
   "metadata": {},
   "source": [
    "To remove a substring (a selection of characters in a string), we can use an empty string (either `\"\"` or `''`) as the second input for the `replace()` method.  Just remember to set the Text object followed by this method to a variable, otherwise your changes won't be saved!"
   ]
  },
  {
   "cell_type": "code",
   "execution_count": 18,
   "id": "demographic-allen",
   "metadata": {},
   "outputs": [],
   "source": [
    "# .replace() must be used on a string object, not a Text object\n",
    "lgg_str = wordlists.raw()\n",
    "# your code here\n",
    "lgg_str = lgg_str.replace(\"Â ¬ \",\"\")"
   ]
  },
  {
   "cell_type": "code",
   "execution_count": 19,
   "id": "humanitarian-throw",
   "metadata": {},
   "outputs": [
    {
     "name": "stdout",
     "output_type": "stream",
     "text": [
      "no matches\n"
     ]
    }
   ],
   "source": [
    "# .concordance() must be used on a Text object, not a string object\n",
    "corpus_tokens = word_tokenize(lgg_str)\n",
    "lgg = nltk.Text(corpus_tokens)\n",
    "lgg.concordance(\"¬\")"
   ]
  },
  {
   "cell_type": "markdown",
   "id": "minimal-primary",
   "metadata": {},
   "source": [
    "It worked!\n",
    "\n",
    "Let's try using RegEx to clean the text now. Write a regular expression which finds seqences consisting of one or more alphabetic characters, followed by 'â' or 'Â'"
   ]
  },
  {
   "cell_type": "code",
   "execution_count": 20,
   "id": "developed-athens",
   "metadata": {},
   "outputs": [],
   "source": [
    "sequence = \"[a-zA-Z]+[âÂ]\" # your code here\n",
    "re_pattern = re.compile(sequence)"
   ]
  },
  {
   "cell_type": "code",
   "execution_count": 21,
   "id": "coastal-frame",
   "metadata": {},
   "outputs": [],
   "source": [
    "digit_errors = re_pattern.findall(lgg_str)"
   ]
  },
  {
   "cell_type": "code",
   "execution_count": 22,
   "id": "accepting-avenue",
   "metadata": {},
   "outputs": [
    {
     "data": {
      "text/plain": [
       "27456"
      ]
     },
     "execution_count": 22,
     "metadata": {},
     "output_type": "execute_result"
    }
   ],
   "source": [
    "len(digit_errors)"
   ]
  },
  {
   "cell_type": "code",
   "execution_count": 23,
   "id": "dramatic-sheriff",
   "metadata": {},
   "outputs": [
    {
     "data": {
      "text/plain": [
       "6559"
      ]
     },
     "execution_count": 23,
     "metadata": {},
     "output_type": "execute_result"
    }
   ],
   "source": [
    "unique_errors = list(set(digit_errors))\n",
    "len(unique_errors)"
   ]
  },
  {
   "cell_type": "code",
   "execution_count": 24,
   "id": "rural-airplane",
   "metadata": {},
   "outputs": [
    {
     "name": "stdout",
     "output_type": "stream",
     "text": [
      "['apprenÂ', 'partsâ', 'channelâ', 'diaboloâ', 'matterâ', 'giftâ', 'cÂ', 'eleÂ', 'Crocodileâ', 'figureâ', 'brazierâ', 'readiÂ', 'NovelÂ', 'sweirtyâ', 'tionsâ', 'knowsâ', 'Songâ', 'pacifyÂ', 'tradeâ', 'geyserâ', 'Mongolâ', 'vomitoriaâ', 'mammieâ', 'bruteâ', 'entertainedâ', 'ConÂ', 'signiÂ', 'Hheyâ', 'catasÂ', 'cowardâ', 'chairâ', 'BatterÂ', 'depreÂ', 'wombâ', 'Wellâ', 'Lawtonâ', 'Riddochâ', 'Waterâ', 'coldÂ', 'lecturerâ', 'weatherÂ', 'Riverâ', 'Tenâ', 'Brennusâ', 'sangâ', 'Ginchyâ', 'literaÂ', 'omnibusâ', 'Kingâ', 'amusementâ', 'coughâ', 'fulfilÂ', 'memberÂ', 'SaturÂ', 'Malcomâ', 'Virginâ', 'Gordonâ', 'BeautiÂ', 'threatenÂ', 'soonâ', 'Copanâ', 'damâ', 'prinÂ', 'Landaâ', 'Nineâ', 'Basqueâ', 'Nigerâ', 'basmâ', 'managerâ', 'Feetâ', 'leversâ', 'Mochcovohâ', 'comprehenÂ', 'abroadâ', 'headâ', 'prospectâ', 'Wellsâ', 'Octoberâ', 'speakÂ', 'docuÂ', 'frÂ', 'hapÂ', 'phonoÂ', 'Staviskyâ', 'propagandaâ', 'charmingâ', 'Funingkedyâ', 'opporÂ', 'possibleâ', 'techÂ', 'happenedâ', 'Seddehâ', 'râ', 'obstacleâ', 'ThreadÂ', 'gangwaysâ', 'Avenâ', 'characterÂ', 'immacuÂ', 'comÂ']\n"
     ]
    }
   ],
   "source": [
    "print(unique_errors[:100])"
   ]
  },
  {
   "cell_type": "markdown",
   "id": "empty-closing",
   "metadata": {},
   "source": [
    "Since the `â` character keeps appearing at the end of tokens, let's first re-tokenise `lgg_str`, then create use `strip()` to remove them for practice with that method!"
   ]
  },
  {
   "cell_type": "code",
   "execution_count": 25,
   "id": "collaborative-christmas",
   "metadata": {},
   "outputs": [
    {
     "name": "stdout",
     "output_type": "stream",
     "text": [
      "['R', ',', '17U', '\\\\', '(', 'o', 'First', 'journey', 'National', 'Library', 'of', 'Scotland', 'â\\x80\\x98B000054136', '*', 'TIMBUCTOO', 'NIGER', 'BY', 'THE', 'SAME', 'AUTHOR', 'Novels', 'forming', 'the', 'trilogy', ',', 'A', 'Scots', 'Quair', 'Part', 'I.', 'Sunset', 'Song', '(', '1932', ')', 'Part', 'II', '.', 'Cloud', 'Howe', '(', '1933', ')', 'Part', 'III', '.', 'Grey', 'Granite', '(', '1934', ')', 'MUNCiO', 'PARK', 'NIGER', 'THE', 'LIFE', 'OF', 'MUNGO', 'PARK', 'BY', 'LEWIS', 'GRASSIC', 'GIBBON', 'EDINBURGH', 'THE', 'PORPOISE', 'PRESS', 'FIRST', 'PUBLISHED', 'IN', '1034', 'BY', 'THE', 'PORPOISE', 'PRESS', 'I33A', 'GEORGE', 'STREET', ',', 'EDINBURGH', 'LONDON', '*', '.', 'FABER', 'AND', 'FABER', 'LIMITED', '24', 'RUSSELL', 'SQUARE', ',', 'W.G', '.', 'I', 'PRINTED', 'IN', 'SCOTLAND', 'BY', 'ROBERT', 'MACLEHOSE']\n"
     ]
    }
   ],
   "source": [
    "# first, re-tokenise\n",
    "lgg_tokens = word_tokenize(lgg_str)\n",
    "print(lgg_tokens[:100])"
   ]
  },
  {
   "cell_type": "markdown",
   "id": "aeae620e",
   "metadata": {},
   "source": [
    "Let's make a function that strips 'â' from our tokens"
   ]
  },
  {
   "cell_type": "code",
   "execution_count": 26,
   "id": "straight-ebony",
   "metadata": {
    "scrolled": false
   },
   "outputs": [
    {
     "name": "stdout",
     "output_type": "stream",
     "text": [
      "['R', ',', '17U', '\\\\', '(', 'o', 'First', 'journey', 'National', 'Library', 'of', 'Scotland', '\\x80\\x98B000054136', '*', 'TIMBUCTOO', 'NIGER', 'BY', 'THE', 'SAME', 'AUTHOR', 'Novels', 'forming', 'the', 'trilogy', ',', 'A', 'Scots', 'Quair', 'Part', 'I.', 'Sunset', 'Song', '(', '1932', ')', 'Part', 'II', '.', 'Cloud', 'Howe', '(', '1933', ')', 'Part', 'III', '.', 'Grey', 'Granite', '(', '1934', ')', 'MUNCiO', 'PARK', 'NIGER', 'THE', 'LIFE', 'OF', 'MUNGO', 'PARK', 'BY', 'LEWIS', 'GRASSIC', 'GIBBON', 'EDINBURGH', 'THE', 'PORPOISE', 'PRESS', 'FIRST', 'PUBLISHED', 'IN', '1034', 'BY', 'THE', 'PORPOISE', 'PRESS', 'I33A', 'GEORGE', 'STREET', ',', 'EDINBURGH', 'LONDON', '*', '.', 'FABER', 'AND', 'FABER', 'LIMITED', '24', 'RUSSELL', 'SQUARE', ',', 'W.G', '.', 'I', 'PRINTED', 'IN', 'SCOTLAND', 'BY', 'ROBERT', 'MACLEHOSE']\n"
     ]
    }
   ],
   "source": [
    "\n",
    "# Let's try it first with a sample subcorpus\n",
    "subcorpus = lgg_tokens[:1000]\n",
    "# your code here\n",
    "def strip_in_corpus(corpus, characters):\n",
    "    clean_corpus = []\n",
    "    for t in corpus:\n",
    "        new_t = t.strip(characters)\n",
    "        clean_corpus += [new_t]\n",
    "    return clean_corpus\n",
    "\n",
    "clean_subcorpus = strip_in_corpus(subcorpus, 'âÂ')\n",
    "print(clean_subcorpus[:100])\n"
   ]
  },
  {
   "cell_type": "markdown",
   "id": "f0518f6c",
   "metadata": {},
   "source": [
    "I've made a function to check exactly what is being changed in the subcorpus. Has this solved our â-problem?"
   ]
  },
  {
   "cell_type": "code",
   "execution_count": 60,
   "id": "888d4a76",
   "metadata": {},
   "outputs": [
    {
     "ename": "TypeError",
     "evalue": "unhashable type: 'slice'",
     "output_type": "error",
     "traceback": [
      "\u001b[0;31m---------------------------------------------------------------------------\u001b[0m",
      "\u001b[0;31mTypeError\u001b[0m                                 Traceback (most recent call last)",
      "Cell \u001b[0;32mIn[60], line 9\u001b[0m\n\u001b[1;32m      6\u001b[0m             diffs[i] \u001b[38;5;241m=\u001b[39m (a, b)\n\u001b[1;32m      7\u001b[0m     \u001b[38;5;28;01mreturn\u001b[39;00m diffs\n\u001b[0;32m----> 9\u001b[0m \u001b[38;5;28mprint\u001b[39m(\u001b[43mcompare_tokens\u001b[49m\u001b[43m(\u001b[49m\u001b[43msubcorpus\u001b[49m\u001b[43m,\u001b[49m\u001b[43m \u001b[49m\u001b[43mclean_subcorpus\u001b[49m\u001b[43m)\u001b[49m\u001b[43m[\u001b[49m\u001b[43m:\u001b[49m\u001b[38;5;241;43m100\u001b[39;49m\u001b[43m]\u001b[49m)\n",
      "\u001b[0;31mTypeError\u001b[0m: unhashable type: 'slice'"
     ]
    }
   ],
   "source": [
    "def compare_tokens(tokens1, tokens2):\n",
    "    diffs = {}\n",
    "    for i, pair in enumerate(zip(tokens1, tokens2)):\n",
    "        a, b = pair\n",
    "        if a!=b:\n",
    "            diffs[i] = (a, b)\n",
    "    return diffs\n",
    "\n",
    "print(compare_tokens(subcorpus, clean_subcorpus))"
   ]
  },
  {
   "cell_type": "markdown",
   "id": "eca001d0",
   "metadata": {},
   "source": [
    "It would appear not. OK, let's try making a function to show us all the tokens that contain the pattern matched by the regular expression we created earlier, `re_pattern`."
   ]
  },
  {
   "cell_type": "code",
   "execution_count": 28,
   "id": "518a91cc",
   "metadata": {},
   "outputs": [],
   "source": [
    "def corpus_find_pattern(corpus, pattern):\n",
    "    # your code here\n",
    "    problems = set()\n",
    "    for t in corpus:\n",
    "        if pattern.search(t):\n",
    "            problems.add(t)\n",
    "    return problems"
   ]
  },
  {
   "cell_type": "code",
   "execution_count": 59,
   "id": "be451e70",
   "metadata": {},
   "outputs": [
    {
     "ename": "TypeError",
     "evalue": "'set' object is not subscriptable",
     "output_type": "error",
     "traceback": [
      "\u001b[0;31m---------------------------------------------------------------------------\u001b[0m",
      "\u001b[0;31mTypeError\u001b[0m                                 Traceback (most recent call last)",
      "Cell \u001b[0;32mIn[59], line 1\u001b[0m\n\u001b[0;32m----> 1\u001b[0m \u001b[38;5;28mprint\u001b[39m(\u001b[43mcorpus_find_pattern\u001b[49m\u001b[43m(\u001b[49m\u001b[43mlgg_tokens\u001b[49m\u001b[43m,\u001b[49m\u001b[43m \u001b[49m\u001b[43mre_pattern\u001b[49m\u001b[43m)\u001b[49m\u001b[43m[\u001b[49m\u001b[43m:\u001b[49m\u001b[38;5;241;43m50\u001b[39;49m\u001b[43m]\u001b[49m)\n",
      "\u001b[0;31mTypeError\u001b[0m: 'set' object is not subscriptable"
     ]
    }
   ],
   "source": [
    "print(corpus_find_pattern(lgg_tokens, re_pattern))"
   ]
  },
  {
   "cell_type": "markdown",
   "id": "62ab21be",
   "metadata": {},
   "source": [
    "Aaaaaand this was the point at which I figured out what is going on with these weird sequences. \n",
    "\n",
    "I did a bit of detective work on it, and it turns out these sequences are UTF-8 characters, incorrectly decoded in 'latin1', the character encoding we used when we first read the data from the directory. For instance, in UTF-8 an open double curly quote `“` is encoded as `\\xe2\\x80\\x9b`. This encoding uses three binary bytes to encode the character. The `\\x` is an escape sequence that indicates the following two characters are a binary byte written in hexidecimal - that is, base 16. So, `e2` is 226, which in latin1 is 'â'. `\\x80\\x9b` isn't anything in latin1, so it isn't decoded as anything.\n",
    "\n",
    "The sensible thing to do here, the thing that we would in fact do if this was a real project, rather than an exercise for a class, would be this:"
   ]
  },
  {
   "cell_type": "code",
   "execution_count": 30,
   "id": "1034d354",
   "metadata": {},
   "outputs": [],
   "source": [
    "\n",
    "wordlists_utf8 = PlaintextCorpusReader(data_directory, \"\\d.*\", encoding=\"utf-8\")"
   ]
  },
  {
   "cell_type": "code",
   "execution_count": 31,
   "id": "49cc641a",
   "metadata": {},
   "outputs": [
    {
     "name": "stdout",
     "output_type": "stream",
     "text": [
      "['R', ',', '17U', '\\\\(', 'o', 'First', 'journey', 'National', 'Library', 'of', 'Scotland', '‘', 'B000054136', '*', 'TIMBUCTOO', 'NIGER', 'BY', 'THE', 'SAME', 'AUTHOR', 'Novels', 'forming', 'the', 'trilogy', ',', 'A', 'Scots', 'Quair', 'Part', 'I', '.', 'Sunset', 'Song', '(', '1932', ')', 'Part', 'II', '.', 'Cloud', 'Howe', '(', '1933', ')', 'Part', 'III', '.', 'Grey', 'Granite', '(']\n"
     ]
    }
   ],
   "source": [
    "print(wordlists_utf8.words()[:50])"
   ]
  },
  {
   "cell_type": "markdown",
   "id": "dbe3907c",
   "metadata": {},
   "source": [
    "...And then we'd re-do the data processing we've done so far, and re-check it for any weird artefacts and OCR-errors. However, there is another point I'd like to make about this sort of data analysis, which is that, depending on what it is you are trying to find out, sometimes a time-consuming and painstaking data-cleaning isn't needed. If we want to do an analysis of Gibbon's lexicon, for instance, we might just toss out every malformed token, and do our analysis using the rest.\n",
    "\n",
    "So, let's make a function that goes through a corpus and removes every token that contains 'â', 'Â', or any non-alphabetic character: (note that `str.isapha()` considers 'â' and 'Â' to be alphabetic)"
   ]
  },
  {
   "cell_type": "code",
   "execution_count": 32,
   "id": "1becca2c",
   "metadata": {},
   "outputs": [
    {
     "name": "stdout",
     "output_type": "stream",
     "text": [
      "['R', 'o', 'First', 'journey', 'National', 'Library', 'of', 'Scotland', 'TIMBUCTOO', 'NIGER', 'BY', 'THE', 'SAME', 'AUTHOR', 'Novels', 'forming', 'the', 'trilogy', 'A', 'Scots', 'Quair', 'Part', 'Sunset', 'Song', 'Part', 'II', 'Cloud', 'Howe', 'Part', 'III', 'Grey', 'Granite', 'MUNCiO', 'PARK', 'NIGER', 'THE', 'LIFE', 'OF', 'MUNGO', 'PARK']\n"
     ]
    }
   ],
   "source": [
    "def filter_nonalphabetic(corpus):\n",
    "    # your code here\n",
    "    new_corpus = [token for token in corpus if token.isalpha()]\n",
    "    new_corpus = [token for token in new_corpus if 'â' not in token]\n",
    "    return [token for token in new_corpus if 'Â' not in token]\n",
    "    \n",
    "lgg_alpha = filter_nonalphabetic(lgg_tokens)\n",
    "print(lgg_alpha[:40])"
   ]
  },
  {
   "cell_type": "markdown",
   "id": "fd4abb94",
   "metadata": {},
   "source": [
    "There. Good enough."
   ]
  },
  {
   "cell_type": "markdown",
   "id": "functional-equation",
   "metadata": {},
   "source": [
    "Ta da!"
   ]
  },
  {
   "cell_type": "markdown",
   "id": "b5db2675",
   "metadata": {},
   "source": [
    "<a id=\"normalization\"></a>\n",
    "## III. Normalization"
   ]
  },
  {
   "cell_type": "markdown",
   "id": "5cd443fb",
   "metadata": {},
   "source": [
    "A bit more preprocessing before we start our analysis.\n",
    "\n",
    "Let's casefold to normalize so capitalized and lowercased versions of words are considered the same word:"
   ]
  },
  {
   "cell_type": "code",
   "execution_count": 33,
   "id": "75b7cd02",
   "metadata": {},
   "outputs": [
    {
     "name": "stdout",
     "output_type": "stream",
     "text": [
      "['r', 'o', 'first', 'journey', 'national', 'library', 'of', 'scotland', 'timbuctoo', 'niger', 'by', 'the', 'same', 'author', 'novels', 'forming', 'the', 'trilogy', 'a', 'scots']\n"
     ]
    }
   ],
   "source": [
    "# your code here\n",
    "def lowercase_all(words):\n",
    "    return [word.lower() for word in words]\n",
    "\n",
    "lgg_words_lower = lowercase_all(lgg_alpha)\n",
    "print(lgg_words_lower[:20])"
   ]
  },
  {
   "cell_type": "markdown",
   "id": "75409713",
   "metadata": {},
   "source": [
    "...and exclude stopwords using `stopwords.words(language)`:"
   ]
  },
  {
   "cell_type": "code",
   "execution_count": 34,
   "id": "2a1d4f48",
   "metadata": {},
   "outputs": [
    {
     "name": "stdout",
     "output_type": "stream",
     "text": [
      "1153844\n",
      "565658\n"
     ]
    }
   ],
   "source": [
    "# your code here\n",
    "def remove_stopwords(corpus: list[str], min_len: int, language: str) -> list[str]:\n",
    "    \"\"\"Iterates through a list of words and removes all words of length less\n",
    "    than min_len, and all words in `stopwords.words(language)`\n",
    "\n",
    "    Parameters\n",
    "    ----------\n",
    "        words (list of str):\n",
    "            the list of words to be filtered \n",
    "        min_len (int):\n",
    "            minimum length for words: words shorter than this should be \n",
    "            filtered out\n",
    "        language (str):\n",
    "            name of corpus language, in lower case. This is used to identify\n",
    "            the correct stopwords list\n",
    "    \"\"\"\n",
    "    # your code here\n",
    "    to_exclude = set(stopwords.words('english'))\n",
    "    return [w for w in corpus if (len(w) >= min_len and not w in to_exclude)]\n",
    "\n",
    "filtered_lower = remove_stopwords(lgg_words_lower, 3, 'english')\n",
    "print(len(lgg_words_lower))\n",
    "print(len(filtered_lower))"
   ]
  },
  {
   "cell_type": "markdown",
   "id": "c6c0a32f",
   "metadata": {},
   "source": [
    "Before we go on to analysis, here's a function that chains together all the processing we've done, in case we need to do it again for any reason..."
   ]
  },
  {
   "cell_type": "code",
   "execution_count": 79,
   "id": "85220beb",
   "metadata": {},
   "outputs": [],
   "source": [
    "def process_corpus(wordlist, min_len=3, language='english'):\n",
    "    processed = filter_nonalphabetic(wordlist)\n",
    "    processed = lowercase_all(processed)\n",
    "    return remove_stopwords(processed, min_len, language)\n",
    "\n",
    "wordlists2 = PlaintextCorpusReader(data_directory, \"\\d.*\", encoding=\"latin1\")\n",
    "corpus_tokens2, _ = get_words_sents(wordlists2)\n",
    "processed_corpus = process_corpus(corpus_tokens2)\n"
   ]
  },
  {
   "cell_type": "code",
   "execution_count": 80,
   "id": "675971ad",
   "metadata": {},
   "outputs": [
    {
     "name": "stdout",
     "output_type": "stream",
     "text": [
      "['preliminary', 'note', 'think', 'read', 'almost', 'everything', 'mungo', 'everything', 'still', 'survives', 'print', 'manuscript', 'two', 'interesting', 'letters', 'peebles', 'days', 'seem', 'found', 'way', 'america', 'though', 'tried', 'could', 'trail', 'definite', 'locality', 'exhausting', 'experience', 'reading', 'certain', 'private', 'collection', 'denied', 'right', 'either', 'quote', 'mention', 'name', 'incident']\n"
     ]
    }
   ],
   "source": [
    "print(processed_corpus[60:100])"
   ]
  },
  {
   "cell_type": "markdown",
   "id": "9e1cc781",
   "metadata": {},
   "source": [
    "<a id=\"analysis\"></a>\n",
    "## IV. Analysis"
   ]
  },
  {
   "cell_type": "markdown",
   "id": "b63226db",
   "metadata": {},
   "source": [
    "Let's calculate the frequency distribution again, now that we have cleaned and normalised our data:"
   ]
  },
  {
   "cell_type": "code",
   "execution_count": 75,
   "id": "9b1e653c",
   "metadata": {},
   "outputs": [
    {
     "name": "stdout",
     "output_type": "stream",
     "text": [
      "Total words after filtering: 596426\n",
      "50 most common words after filtering: [('would', 3240), ('said', 3142), ('came', 2885), ('like', 2861), ('one', 2599), ('great', 2217), ('back', 2098), ('little', 2085), ('went', 1903), ('looked', 1903), ('long', 1874), ('eyes', 1739), ('night', 1730), ('still', 1647), ('time', 1615), ('face', 1581), ('old', 1564), ('though', 1558), ('man', 1498), ('saw', 1493), ('come', 1481), ('well', 1472), ('two', 1428), ('day', 1423), ('could', 1413), ('men', 1385), ('chris', 1364), ('never', 1363), ('thought', 1339), ('last', 1265), ('heard', 1241), ('head', 1228), ('made', 1223), ('found', 1161), ('years', 1148), ('mungo', 1145), ('first', 1141), ('away', 1125), ('even', 1112), ('hand', 1088), ('life', 1075), ('far', 1071), ('upon', 1042), ('new', 1026), ('god', 1021), ('stood', 1015), ('three', 1003), ('see', 994), ('sat', 971), ('half', 965)]\n"
     ]
    }
   ],
   "source": [
    "fdist_filtered_lower = FreqDist(processed_corpus)\n",
    "print(\"Total words after filtering:\", fdist_filtered_lower.N())\n",
    "print(\"50 most common words after filtering:\", fdist_filtered_lower.most_common(50))"
   ]
  },
  {
   "cell_type": "markdown",
   "id": "5fa06f33",
   "metadata": {},
   "source": [
    "Happily, I don't see anything there that looks dubious.\n",
    "\n",
    "Let's plot the frequency distributions of the *n* most common words"
   ]
  },
  {
   "cell_type": "code",
   "execution_count": 77,
   "id": "3d5b6d84",
   "metadata": {},
   "outputs": [],
   "source": [
    "def freq_plot(corpus, n):\n",
    "    fdist_filtered_lower = FreqDist(filtered_lower)\n",
    "    plt.figure(figsize = (20, 8))\n",
    "    plt.rc('font', size=12)\n",
    "    fdist_filtered_lower.plot(n, title=f'Frequency Distribution for {n} Most Common Tokens in the Standardised LGG Dataset (excluding stop words)')\n",
    "    plt.show()"
   ]
  },
  {
   "cell_type": "code",
   "execution_count": 78,
   "id": "7e6e87af",
   "metadata": {},
   "outputs": [
    {
     "data": {
      "image/png": "[encoded data removed]",
      "text/plain": [
       "<Figure size 2000x800 with 1 Axes>"
      ]
     },
     "metadata": {},
     "output_type": "display_data"
    }
   ],
   "source": [
    "freq_plot(processed_corpus, 20) # Try increasing or decreasing this number to view more or fewer tokens in the visualization"
   ]
  },
  {
   "cell_type": "code",
   "execution_count": 82,
   "id": "4d9727f7",
   "metadata": {},
   "outputs": [],
   "source": [
    "# INPUT: wordlists and the fileid of the wordlist to be tokenised\n",
    "# OUTPUT: a list of word tokens (in String format) for the inputted fileid\n",
    "def get_words(plaintext_corpus_read_lists, fileid):\n",
    "    file_words = process_corpus(plaintext_corpus_read_lists.words(fileid))\n",
    "    str_words = [str(word) for word in file_words]    \n",
    "    return str_words"
   ]
  },
  {
   "cell_type": "code",
   "execution_count": 87,
   "id": "7ff6e835",
   "metadata": {},
   "outputs": [],
   "source": [
    "def get_all_words(fileids):\n",
    "    words_by_file = []\n",
    "    for file in fileids:\n",
    "        words_by_file += [get_words(wordlists, file)]\n",
    "    return words_by_file\n",
    "\n",
    "words_by_file = get_all_words(fileids)"
   ]
  },
  {
   "cell_type": "code",
   "execution_count": 88,
   "id": "e6837450",
   "metadata": {},
   "outputs": [],
   "source": [
    "# INPUT: a list of words in String format\n",
    "# OUTPUT: the number of unique words divided by\n",
    "#         the total words in the inputted list\n",
    "def lexical_diversity(str_words_list):\n",
    "    return len(set(str_words_list))/len(str_words_list)"
   ]
  },
  {
   "cell_type": "markdown",
   "id": "f5e3fcca",
   "metadata": {},
   "source": [
    "Add to the inventory..."
   ]
  },
  {
   "cell_type": "code",
   "execution_count": 89,
   "id": "e21cd1f9",
   "metadata": {},
   "outputs": [
    {
     "data": {
      "text/html": [
       "<div>\n",
       "<style scoped>\n",
       "    .dataframe tbody tr th:only-of-type {\n",
       "        vertical-align: middle;\n",
       "    }\n",
       "\n",
       "    .dataframe tbody tr th {\n",
       "        vertical-align: top;\n",
       "    }\n",
       "\n",
       "    .dataframe thead th {\n",
       "        text-align: right;\n",
       "    }\n",
       "</style>\n",
       "<table border=\"1\" class=\"dataframe\">\n",
       "  <thead>\n",
       "    <tr style=\"text-align: right;\">\n",
       "      <th></th>\n",
       "      <th>fileid</th>\n",
       "      <th>title</th>\n",
       "      <th>lexicaldiversity</th>\n",
       "    </tr>\n",
       "  </thead>\n",
       "  <tbody>\n",
       "    <tr>\n",
       "      <th>10</th>\n",
       "      <td>205174251.txt</td>\n",
       "      <td>Scots quair - Sunset song - NF.523.b.29</td>\n",
       "      <td>0.136252</td>\n",
       "    </tr>\n",
       "    <tr>\n",
       "      <th>8</th>\n",
       "      <td>205174249.txt</td>\n",
       "      <td>Scots quair - Cloud howe - NF.523.b.30</td>\n",
       "      <td>0.143998</td>\n",
       "    </tr>\n",
       "    <tr>\n",
       "      <th>6</th>\n",
       "      <td>205174247.txt</td>\n",
       "      <td>Spartacus - Vts.6.k.19</td>\n",
       "      <td>0.173469</td>\n",
       "    </tr>\n",
       "    <tr>\n",
       "      <th>9</th>\n",
       "      <td>205174250.txt</td>\n",
       "      <td>Scots quair - Grey granite - NF.523.b.31</td>\n",
       "      <td>0.178205</td>\n",
       "    </tr>\n",
       "    <tr>\n",
       "      <th>12</th>\n",
       "      <td>205174253.txt</td>\n",
       "      <td>Nine against the unknown - S.72.d.10</td>\n",
       "      <td>0.197000</td>\n",
       "    </tr>\n",
       "    <tr>\n",
       "      <th>2</th>\n",
       "      <td>205174243.txt</td>\n",
       "      <td>Three go back - Vts.152.f.22</td>\n",
       "      <td>0.210224</td>\n",
       "    </tr>\n",
       "    <tr>\n",
       "      <th>14</th>\n",
       "      <td>205174255.txt</td>\n",
       "      <td>Gay hunter - Vts.215.j.26</td>\n",
       "      <td>0.211580</td>\n",
       "    </tr>\n",
       "    <tr>\n",
       "      <th>13</th>\n",
       "      <td>205174254.txt</td>\n",
       "      <td>Conquest of the Maya - S.60.c</td>\n",
       "      <td>0.218136</td>\n",
       "    </tr>\n",
       "    <tr>\n",
       "      <th>5</th>\n",
       "      <td>205174246.txt</td>\n",
       "      <td>Image and superscription - Vts.118.l.16</td>\n",
       "      <td>0.221223</td>\n",
       "    </tr>\n",
       "    <tr>\n",
       "      <th>0</th>\n",
       "      <td>205174241.txt</td>\n",
       "      <td>Niger - R.176.i</td>\n",
       "      <td>0.224656</td>\n",
       "    </tr>\n",
       "    <tr>\n",
       "      <th>3</th>\n",
       "      <td>205174244.txt</td>\n",
       "      <td>Calends of Cairo - Vts.153.c.16</td>\n",
       "      <td>0.234137</td>\n",
       "    </tr>\n",
       "    <tr>\n",
       "      <th>4</th>\n",
       "      <td>205174245.txt</td>\n",
       "      <td>Lost trumpet - Vts.143.j.8</td>\n",
       "      <td>0.246121</td>\n",
       "    </tr>\n",
       "    <tr>\n",
       "      <th>15</th>\n",
       "      <td>205202834.txt</td>\n",
       "      <td>Stained radiance - T.204.f</td>\n",
       "      <td>0.247964</td>\n",
       "    </tr>\n",
       "    <tr>\n",
       "      <th>7</th>\n",
       "      <td>205174248.txt</td>\n",
       "      <td>Persian dawns, Egyptian nights - Vts.148.d.8</td>\n",
       "      <td>0.248061</td>\n",
       "    </tr>\n",
       "    <tr>\n",
       "      <th>1</th>\n",
       "      <td>205174242.txt</td>\n",
       "      <td>Thirteenth disciple - Vts.137.d</td>\n",
       "      <td>0.261473</td>\n",
       "    </tr>\n",
       "    <tr>\n",
       "      <th>11</th>\n",
       "      <td>205174252.txt</td>\n",
       "      <td>Hanno, or, The future of exploration - S.114.j.21</td>\n",
       "      <td>0.417439</td>\n",
       "    </tr>\n",
       "  </tbody>\n",
       "</table>\n",
       "</div>"
      ],
      "text/plain": [
       "           fileid                                              title  \\\n",
       "10  205174251.txt            Scots quair - Sunset song - NF.523.b.29   \n",
       "8   205174249.txt             Scots quair - Cloud howe - NF.523.b.30   \n",
       "6   205174247.txt                            Spartacus - Vts.6.k.19    \n",
       "9   205174250.txt           Scots quair - Grey granite - NF.523.b.31   \n",
       "12  205174253.txt               Nine against the unknown - S.72.d.10   \n",
       "2   205174243.txt                       Three go back - Vts.152.f.22   \n",
       "14  205174255.txt                          Gay hunter - Vts.215.j.26   \n",
       "13  205174254.txt                      Conquest of the Maya - S.60.c   \n",
       "5   205174246.txt            Image and superscription - Vts.118.l.16   \n",
       "0   205174241.txt                                    Niger - R.176.i   \n",
       "3   205174244.txt                    Calends of Cairo - Vts.153.c.16   \n",
       "4   205174245.txt                         Lost trumpet - Vts.143.j.8   \n",
       "15  205202834.txt                         Stained radiance - T.204.f   \n",
       "7   205174248.txt       Persian dawns, Egyptian nights - Vts.148.d.8   \n",
       "1   205174242.txt                    Thirteenth disciple - Vts.137.d   \n",
       "11  205174252.txt  Hanno, or, The future of exploration - S.114.j.21   \n",
       "\n",
       "    lexicaldiversity  \n",
       "10          0.136252  \n",
       "8           0.143998  \n",
       "6           0.173469  \n",
       "9           0.178205  \n",
       "12          0.197000  \n",
       "2           0.210224  \n",
       "14          0.211580  \n",
       "13          0.218136  \n",
       "5           0.221223  \n",
       "0           0.224656  \n",
       "3           0.234137  \n",
       "4           0.246121  \n",
       "15          0.247964  \n",
       "7           0.248061  \n",
       "1           0.261473  \n",
       "11          0.417439  "
      ]
     },
     "execution_count": 89,
     "metadata": {},
     "output_type": "execute_result"
    }
   ],
   "source": [
    "lexdiv_by_file = []\n",
    "for words in words_by_file:\n",
    "    lexdiv_by_file += [lexical_diversity(words)]\n",
    "\n",
    "df['lexicaldiversity'] = lexdiv_by_file\n",
    "df_lexdiv = df.sort_values(by=['lexicaldiversity', 'title'], inplace=False, ascending=True)\n",
    "df_lexdiv"
   ]
  },
  {
   "cell_type": "markdown",
   "id": "b83080b2",
   "metadata": {},
   "source": [
    "For the entire corpus:"
   ]
  },
  {
   "cell_type": "code",
   "execution_count": 90,
   "id": "5c06524a",
   "metadata": {},
   "outputs": [
    {
     "data": {
      "text/plain": [
       "0.062426855972073654"
      ]
     },
     "execution_count": 90,
     "metadata": {},
     "output_type": "execute_result"
    }
   ],
   "source": [
    "lexical_diversity(processed_corpus)"
   ]
  },
  {
   "cell_type": "markdown",
   "id": "7743dd02",
   "metadata": {},
   "source": [
    "The table isn't bad but charts can make it easier to compare calculations more quickly, so let's visualize the lexical diversity scores!"
   ]
  },
  {
   "cell_type": "code",
   "execution_count": 91,
   "id": "bf21f02c",
   "metadata": {},
   "outputs": [
    {
     "data": {
      "text/html": [
       "\n",
       "<style>\n",
       "  #altair-viz-f041694148f045f9a12c9affba6eeacf.vega-embed {\n",
       "    width: 100%;\n",
       "    display: flex;\n",
       "  }\n",
       "\n",
       "  #altair-viz-f041694148f045f9a12c9affba6eeacf.vega-embed details,\n",
       "  #altair-viz-f041694148f045f9a12c9affba6eeacf.vega-embed details summary {\n",
       "    position: relative;\n",
       "  }\n",
       "</style>\n",
       "<div id=\"altair-viz-f041694148f045f9a12c9affba6eeacf\"></div>\n",
       "<script type=\"text/javascript\">\n",
       "  var VEGA_DEBUG = (typeof VEGA_DEBUG == \"undefined\") ? {} : VEGA_DEBUG;\n",
       "  (function(spec, embedOpt){\n",
       "    let outputDiv = document.currentScript.previousElementSibling;\n",
       "    if (outputDiv.id !== \"altair-viz-f041694148f045f9a12c9affba6eeacf\") {\n",
       "      outputDiv = document.getElementById(\"altair-viz-f041694148f045f9a12c9affba6eeacf\");\n",
       "    }\n",
       "    const paths = {\n",
       "      \"vega\": \"https://cdn.jsdelivr.net/npm/vega@5?noext\",\n",
       "      \"vega-lib\": \"https://cdn.jsdelivr.net/npm/vega-lib?noext\",\n",
       "      \"vega-lite\": \"https://cdn.jsdelivr.net/npm/vega-lite@5.16.3?noext\",\n",
       "      \"vega-embed\": \"https://cdn.jsdelivr.net/npm/vega-embed@6?noext\",\n",
       "    };\n",
       "\n",
       "    function maybeLoadScript(lib, version) {\n",
       "      var key = `${lib.replace(\"-\", \"\")}_version`;\n",
       "      return (VEGA_DEBUG[key] == version) ?\n",
       "        Promise.resolve(paths[lib]) :\n",
       "        new Promise(function(resolve, reject) {\n",
       "          var s = document.createElement('script');\n",
       "          document.getElementsByTagName(\"head\")[0].appendChild(s);\n",
       "          s.async = true;\n",
       "          s.onload = () => {\n",
       "            VEGA_DEBUG[key] = version;\n",
       "            return resolve(paths[lib]);\n",
       "          };\n",
       "          s.onerror = () => reject(`Error loading script: ${paths[lib]}`);\n",
       "          s.src = paths[lib];\n",
       "        });\n",
       "    }\n",
       "\n",
       "    function showError(err) {\n",
       "      outputDiv.innerHTML = `<div class=\"error\" style=\"color:red;\">${err}</div>`;\n",
       "      throw err;\n",
       "    }\n",
       "\n",
       "    function displayChart(vegaEmbed) {\n",
       "      vegaEmbed(outputDiv, spec, embedOpt)\n",
       "        .catch(err => showError(`Javascript Error: ${err.message}<br>This usually means there's a typo in your chart specification. See the javascript console for the full traceback.`));\n",
       "    }\n",
       "\n",
       "    if(typeof define === \"function\" && define.amd) {\n",
       "      requirejs.config({paths});\n",
       "      require([\"vega-embed\"], displayChart, err => showError(`Error loading script: ${err.message}`));\n",
       "    } else {\n",
       "      maybeLoadScript(\"vega\", \"5\")\n",
       "        .then(() => maybeLoadScript(\"vega-lite\", \"5.16.3\"))\n",
       "        .then(() => maybeLoadScript(\"vega-embed\", \"6\"))\n",
       "        .catch(showError)\n",
       "        .then(() => displayChart(vegaEmbed));\n",
       "    }\n",
       "  })({\"config\": {\"view\": {\"continuousWidth\": 300, \"continuousHeight\": 300, \"strokeWidth\": 0}, \"axis\": {\"grid\": false}}, \"data\": {\"name\": \"data-76b7845ce8392192187ef405a25cd5e7\"}, \"mark\": {\"type\": \"bar\", \"size\": 30}, \"encoding\": {\"order\": {\"field\": \"Lexdiv\", \"sort\": \"ascending\", \"type\": \"quantitative\"}, \"x\": {\"axis\": {\"title\": \"Lewis Grassic Gibbon Work\"}, \"field\": \"Title\", \"sort\": null, \"type\": \"nominal\"}, \"y\": {\"axis\": {\"title\": \"Lexical Diversity\"}, \"field\": \"Lexdiv\", \"type\": \"quantitative\"}}, \"title\": \"Lexical Diversity of Gibbon's Works\", \"width\": 500, \"$schema\": \"https://vega.github.io/schema/vega-lite/v5.16.3.json\", \"datasets\": {\"data-76b7845ce8392192187ef405a25cd5e7\": [{\"Title\": \"Scots quair - Sunset song - NF.523.b.29\", \"Lexdiv\": 0.13625218914185638}, {\"Title\": \"Scots quair - Cloud howe - NF.523.b.30\", \"Lexdiv\": 0.14399846911926517}, {\"Title\": \"Spartacus - Vts.6.k.19 \", \"Lexdiv\": 0.17346884050198433}, {\"Title\": \"Scots quair - Grey granite - NF.523.b.31\", \"Lexdiv\": 0.1782050607606923}, {\"Title\": \"Nine against the unknown - S.72.d.10\", \"Lexdiv\": 0.19699955875864097}, {\"Title\": \"Three go back - Vts.152.f.22\", \"Lexdiv\": 0.21022421524663676}, {\"Title\": \"Gay hunter - Vts.215.j.26\", \"Lexdiv\": 0.21158005111737335}, {\"Title\": \"Conquest of the Maya - S.60.c\", \"Lexdiv\": 0.21813642804129277}, {\"Title\": \"Image and superscription - Vts.118.l.16\", \"Lexdiv\": 0.2212226709371954}, {\"Title\": \"Niger - R.176.i\", \"Lexdiv\": 0.22465623782219005}, {\"Title\": \"Calends of Cairo - Vts.153.c.16\", \"Lexdiv\": 0.2341373968575132}, {\"Title\": \"Lost trumpet - Vts.143.j.8\", \"Lexdiv\": 0.2461209026519519}, {\"Title\": \"Stained radiance - T.204.f\", \"Lexdiv\": 0.24796443249670433}, {\"Title\": \"Persian dawns, Egyptian nights - Vts.148.d.8\", \"Lexdiv\": 0.24806100501857525}, {\"Title\": \"Thirteenth disciple - Vts.137.d\", \"Lexdiv\": 0.2614732709295923}, {\"Title\": \"Hanno, or, The future of exploration - S.114.j.21\", \"Lexdiv\": 0.4174385180453529}]}}, {\"mode\": \"vega-lite\"});\n",
       "</script>"
      ],
      "text/plain": [
       "alt.Chart(...)"
      ]
     },
     "execution_count": 91,
     "metadata": {},
     "output_type": "execute_result"
    }
   ],
   "source": [
    "sorted_titles = list(df_lexdiv['title'])\n",
    "sorted_lexdiv = list(df_lexdiv['lexicaldiversity'])\n",
    "source = pd.DataFrame({\n",
    "    'Title': sorted_titles,\n",
    "    'Lexdiv': sorted_lexdiv\n",
    "})\n",
    "\n",
    "alt.Chart(source, title=\"Lexical Diversity of Gibbon's Works\").mark_bar(size=30).encode(\n",
    "    alt.X('Title', axis=alt.Axis(title='Lewis Grassic Gibbon Work'), type='nominal', sort=None),  # If sort unspecified, chart will sort x-axis values alphabetically\n",
    "    alt.Y('Lexdiv', axis=alt.Axis(title='Lexical Diversity')),\n",
    "    alt.Order(\n",
    "      # Sort the segments of the bars by this field\n",
    "      'Lexdiv',\n",
    "      sort='ascending'\n",
    "    )\n",
    ").configure_axis(\n",
    "    grid=False\n",
    ").configure_view(\n",
    "    strokeWidth=0\n",
    ").properties(\n",
    "    width=500\n",
    ")\n",
    "\n",
    "#     alt.Y('Lexdiv', axis=alt.Axis(format='%', title='Lexical Diversity')),"
   ]
  },
  {
   "cell_type": "markdown",
   "id": "1fe8e0d1",
   "metadata": {},
   "source": [
    "Could we sort these chronologically?\n",
    "\n",
    "We can add information available from the [digital.nls.uk](https://data.nls.uk/wp-content/uploads/2020/10/digital.nls.uk) website about the publication dates to our inventory..."
   ]
  },
  {
   "cell_type": "code",
   "execution_count": 92,
   "id": "450d0eb9",
   "metadata": {},
   "outputs": [
    {
     "data": {
      "text/html": [
       "<div>\n",
       "<style scoped>\n",
       "    .dataframe tbody tr th:only-of-type {\n",
       "        vertical-align: middle;\n",
       "    }\n",
       "\n",
       "    .dataframe tbody tr th {\n",
       "        vertical-align: top;\n",
       "    }\n",
       "\n",
       "    .dataframe thead th {\n",
       "        text-align: right;\n",
       "    }\n",
       "</style>\n",
       "<table border=\"1\" class=\"dataframe\">\n",
       "  <thead>\n",
       "    <tr style=\"text-align: right;\">\n",
       "      <th></th>\n",
       "      <th>fileid</th>\n",
       "      <th>title</th>\n",
       "      <th>lexicaldiversity</th>\n",
       "      <th>published</th>\n",
       "    </tr>\n",
       "  </thead>\n",
       "  <tbody>\n",
       "    <tr>\n",
       "      <th>11</th>\n",
       "      <td>205174252.txt</td>\n",
       "      <td>Hanno, or, The future of exploration - S.114.j.21</td>\n",
       "      <td>0.417439</td>\n",
       "      <td>1928</td>\n",
       "    </tr>\n",
       "    <tr>\n",
       "      <th>7</th>\n",
       "      <td>205174248.txt</td>\n",
       "      <td>Persian dawns, Egyptian nights - Vts.148.d.8</td>\n",
       "      <td>0.248061</td>\n",
       "      <td>1930</td>\n",
       "    </tr>\n",
       "    <tr>\n",
       "      <th>0</th>\n",
       "      <td>205174241.txt</td>\n",
       "      <td>Niger - R.176.i</td>\n",
       "      <td>0.224656</td>\n",
       "      <td>1931</td>\n",
       "    </tr>\n",
       "    <tr>\n",
       "      <th>1</th>\n",
       "      <td>205174242.txt</td>\n",
       "      <td>Thirteenth disciple - Vts.137.d</td>\n",
       "      <td>0.261473</td>\n",
       "      <td>1931</td>\n",
       "    </tr>\n",
       "    <tr>\n",
       "      <th>3</th>\n",
       "      <td>205174244.txt</td>\n",
       "      <td>Calends of Cairo - Vts.153.c.16</td>\n",
       "      <td>0.234137</td>\n",
       "      <td>1932</td>\n",
       "    </tr>\n",
       "  </tbody>\n",
       "</table>\n",
       "</div>"
      ],
      "text/plain": [
       "           fileid                                              title  \\\n",
       "11  205174252.txt  Hanno, or, The future of exploration - S.114.j.21   \n",
       "7   205174248.txt       Persian dawns, Egyptian nights - Vts.148.d.8   \n",
       "0   205174241.txt                                    Niger - R.176.i   \n",
       "1   205174242.txt                    Thirteenth disciple - Vts.137.d   \n",
       "3   205174244.txt                    Calends of Cairo - Vts.153.c.16   \n",
       "\n",
       "    lexicaldiversity  published  \n",
       "11          0.417439       1928  \n",
       "7           0.248061       1930  \n",
       "0           0.224656       1931  \n",
       "1           0.261473       1931  \n",
       "3           0.234137       1932  "
      ]
     },
     "execution_count": 92,
     "metadata": {},
     "output_type": "execute_result"
    }
   ],
   "source": [
    "published = [1932, 1933, 1933, 1934, 1933, 1932, 1934, 1934, 1934, 1931, 1932, 1934, 1932, 1930, 1931, 1928]\n",
    "df_lexdiv['published'] = published\n",
    "df_pub = df_lexdiv.sort_values(by=['published', 'title'], inplace=False, ascending=True)\n",
    "df_pub.head()"
   ]
  },
  {
   "cell_type": "markdown",
   "id": "eaf74063",
   "metadata": {},
   "source": [
    "Then we can recreate the bar chart with the bars (books) sorted by year of publication:"
   ]
  },
  {
   "cell_type": "code",
   "execution_count": 93,
   "id": "bef7c7ff",
   "metadata": {},
   "outputs": [
    {
     "data": {
      "text/html": [
       "\n",
       "<style>\n",
       "  #altair-viz-b756a3e49c2146fa8d9a383add91f32a.vega-embed {\n",
       "    width: 100%;\n",
       "    display: flex;\n",
       "  }\n",
       "\n",
       "  #altair-viz-b756a3e49c2146fa8d9a383add91f32a.vega-embed details,\n",
       "  #altair-viz-b756a3e49c2146fa8d9a383add91f32a.vega-embed details summary {\n",
       "    position: relative;\n",
       "  }\n",
       "</style>\n",
       "<div id=\"altair-viz-b756a3e49c2146fa8d9a383add91f32a\"></div>\n",
       "<script type=\"text/javascript\">\n",
       "  var VEGA_DEBUG = (typeof VEGA_DEBUG == \"undefined\") ? {} : VEGA_DEBUG;\n",
       "  (function(spec, embedOpt){\n",
       "    let outputDiv = document.currentScript.previousElementSibling;\n",
       "    if (outputDiv.id !== \"altair-viz-b756a3e49c2146fa8d9a383add91f32a\") {\n",
       "      outputDiv = document.getElementById(\"altair-viz-b756a3e49c2146fa8d9a383add91f32a\");\n",
       "    }\n",
       "    const paths = {\n",
       "      \"vega\": \"https://cdn.jsdelivr.net/npm/vega@5?noext\",\n",
       "      \"vega-lib\": \"https://cdn.jsdelivr.net/npm/vega-lib?noext\",\n",
       "      \"vega-lite\": \"https://cdn.jsdelivr.net/npm/vega-lite@5.16.3?noext\",\n",
       "      \"vega-embed\": \"https://cdn.jsdelivr.net/npm/vega-embed@6?noext\",\n",
       "    };\n",
       "\n",
       "    function maybeLoadScript(lib, version) {\n",
       "      var key = `${lib.replace(\"-\", \"\")}_version`;\n",
       "      return (VEGA_DEBUG[key] == version) ?\n",
       "        Promise.resolve(paths[lib]) :\n",
       "        new Promise(function(resolve, reject) {\n",
       "          var s = document.createElement('script');\n",
       "          document.getElementsByTagName(\"head\")[0].appendChild(s);\n",
       "          s.async = true;\n",
       "          s.onload = () => {\n",
       "            VEGA_DEBUG[key] = version;\n",
       "            return resolve(paths[lib]);\n",
       "          };\n",
       "          s.onerror = () => reject(`Error loading script: ${paths[lib]}`);\n",
       "          s.src = paths[lib];\n",
       "        });\n",
       "    }\n",
       "\n",
       "    function showError(err) {\n",
       "      outputDiv.innerHTML = `<div class=\"error\" style=\"color:red;\">${err}</div>`;\n",
       "      throw err;\n",
       "    }\n",
       "\n",
       "    function displayChart(vegaEmbed) {\n",
       "      vegaEmbed(outputDiv, spec, embedOpt)\n",
       "        .catch(err => showError(`Javascript Error: ${err.message}<br>This usually means there's a typo in your chart specification. See the javascript console for the full traceback.`));\n",
       "    }\n",
       "\n",
       "    if(typeof define === \"function\" && define.amd) {\n",
       "      requirejs.config({paths});\n",
       "      require([\"vega-embed\"], displayChart, err => showError(`Error loading script: ${err.message}`));\n",
       "    } else {\n",
       "      maybeLoadScript(\"vega\", \"5\")\n",
       "        .then(() => maybeLoadScript(\"vega-lite\", \"5.16.3\"))\n",
       "        .then(() => maybeLoadScript(\"vega-embed\", \"6\"))\n",
       "        .catch(showError)\n",
       "        .then(() => displayChart(vegaEmbed));\n",
       "    }\n",
       "  })({\"config\": {\"view\": {\"continuousWidth\": 300, \"continuousHeight\": 300, \"strokeWidth\": 0}, \"axis\": {\"grid\": false, \"labelAngle\": -45, \"labelFontSize\": 12, \"titleFontSize\": 12}, \"title\": {\"fontSize\": 14}}, \"data\": {\"name\": \"data-4b9ea95929f7139e522301088f6a7de2\"}, \"mark\": {\"type\": \"bar\", \"size\": 30}, \"encoding\": {\"color\": {\"field\": \"Published\", \"legend\": {\"title\": \"Date Published\"}, \"type\": \"ordinal\"}, \"order\": {\"field\": \"Lexdiv\", \"sort\": \"descending\", \"type\": \"quantitative\"}, \"tooltip\": {\"field\": \"Title\", \"type\": \"nominal\"}, \"x\": {\"axis\": {\"title\": \"Title of Lewis Grassic Gibbon Work\"}, \"field\": \"Title\", \"sort\": null, \"type\": \"nominal\"}, \"y\": {\"axis\": {\"title\": \"Lexical Diversity\"}, \"field\": \"Lexdiv\", \"type\": \"quantitative\"}}, \"title\": \"Lexical Diversity of Gibbon's Works\", \"width\": 500, \"$schema\": \"https://vega.github.io/schema/vega-lite/v5.16.3.json\", \"datasets\": {\"data-4b9ea95929f7139e522301088f6a7de2\": [{\"Title\": \"Hanno, or, The future of exploration - S.114.j.21\", \"Lexdiv\": 0.4174385180453529, \"Published\": 1928}, {\"Title\": \"Persian dawns, Egyptian nights - Vts.148.d.8\", \"Lexdiv\": 0.24806100501857525, \"Published\": 1930}, {\"Title\": \"Niger - R.176.i\", \"Lexdiv\": 0.22465623782219005, \"Published\": 1931}, {\"Title\": \"Thirteenth disciple - Vts.137.d\", \"Lexdiv\": 0.2614732709295923, \"Published\": 1931}, {\"Title\": \"Calends of Cairo - Vts.153.c.16\", \"Lexdiv\": 0.2341373968575132, \"Published\": 1932}, {\"Title\": \"Scots quair - Sunset song - NF.523.b.29\", \"Lexdiv\": 0.13625218914185638, \"Published\": 1932}, {\"Title\": \"Stained radiance - T.204.f\", \"Lexdiv\": 0.24796443249670433, \"Published\": 1932}, {\"Title\": \"Three go back - Vts.152.f.22\", \"Lexdiv\": 0.21022421524663676, \"Published\": 1932}, {\"Title\": \"Nine against the unknown - S.72.d.10\", \"Lexdiv\": 0.19699955875864097, \"Published\": 1933}, {\"Title\": \"Scots quair - Cloud howe - NF.523.b.30\", \"Lexdiv\": 0.14399846911926517, \"Published\": 1933}, {\"Title\": \"Spartacus - Vts.6.k.19 \", \"Lexdiv\": 0.17346884050198433, \"Published\": 1933}, {\"Title\": \"Conquest of the Maya - S.60.c\", \"Lexdiv\": 0.21813642804129277, \"Published\": 1934}, {\"Title\": \"Gay hunter - Vts.215.j.26\", \"Lexdiv\": 0.21158005111737335, \"Published\": 1934}, {\"Title\": \"Image and superscription - Vts.118.l.16\", \"Lexdiv\": 0.2212226709371954, \"Published\": 1934}, {\"Title\": \"Lost trumpet - Vts.143.j.8\", \"Lexdiv\": 0.2461209026519519, \"Published\": 1934}, {\"Title\": \"Scots quair - Grey granite - NF.523.b.31\", \"Lexdiv\": 0.1782050607606923, \"Published\": 1934}]}}, {\"mode\": \"vega-lite\"});\n",
       "</script>"
      ],
      "text/plain": [
       "alt.Chart(...)"
      ]
     },
     "execution_count": 93,
     "metadata": {},
     "output_type": "execute_result"
    }
   ],
   "source": [
    "sorted_titles = list(df_pub['title'])\n",
    "sorted_lexdiv = list(df_pub['lexicaldiversity'])\n",
    "sorted_published = list(df_pub['published'])\n",
    "source = pd.DataFrame({\n",
    "    'Title': sorted_titles,\n",
    "    'Lexdiv': sorted_lexdiv,\n",
    "    'Published': sorted_published\n",
    "})\n",
    "\n",
    "alt.Chart(source, title=\"Lexical Diversity of Gibbon's Works\").mark_bar(size=30).encode(\n",
    "    alt.X('Title', axis=alt.Axis(title='Title of Lewis Grassic Gibbon Work'), type='nominal', sort=None),  # If sort unspecified, chart will sort x-axis values alphabetically\n",
    "    alt.Y('Lexdiv', axis=alt.Axis(title='Lexical Diversity')),\n",
    "    alt.Order(\n",
    "      # Sort the segments of the bars by this field\n",
    "      'Lexdiv',\n",
    "      sort='descending'\n",
    "    ),\n",
    "    color=alt.Color('Published:O', legend = alt.Legend(title='Date Published')),\n",
    "    tooltip='Title:N'\n",
    ").configure_axis(\n",
    "    grid=False,\n",
    "    labelFontSize=12,\n",
    "    titleFontSize=12,\n",
    "    labelAngle=-45\n",
    ").configure_title(\n",
    "    fontSize=14,\n",
    ").configure_view(\n",
    "    strokeWidth=0\n",
    ").properties(\n",
    "    width=500\n",
    ")"
   ]
  },
  {
   "cell_type": "markdown",
   "id": "6444c99e",
   "metadata": {},
   "source": [
    "To get the lexical diversity per year..."
   ]
  },
  {
   "cell_type": "code",
   "execution_count": 48,
   "id": "5692db78",
   "metadata": {},
   "outputs": [
    {
     "name": "stdout",
     "output_type": "stream",
     "text": [
      "{1928: ['205174252.txt'], 1930: ['205174248.txt'], 1931: ['205174244.txt', '205174242.txt'], 1932: ['205174241.txt', '205174251.txt', '205202834.txt', '205174243.txt'], 1933: ['205174246.txt', '205174249.txt', '205174247.txt'], 1934: ['205174254.txt', '205174255.txt', '205174245.txt', '205174253.txt', '205174250.txt']}\n"
     ]
    },
    {
     "name": "stderr",
     "output_type": "stream",
     "text": [
      "/tmp/ipykernel_187788/2132253417.py:4: FutureWarning: Series.__getitem__ treating keys as positions is deprecated. In a future version, integer keys will always be treated as labels (consistent with DataFrame behavior). To access a value by position, use `ser.iloc[pos]`\n",
      "  pub_yr[row[3]] += [row[0]]\n"
     ]
    }
   ],
   "source": [
    "# dictionary associating works with year they were published\n",
    "pub_yr = {1928: [], 1930: [], 1931: [], 1932: [], 1933: [], 1934: []}\n",
    "for index,row in df_pub.iterrows():\n",
    "    pub_yr[row[3]] += [row[0]]\n",
    "print(pub_yr)"
   ]
  },
  {
   "cell_type": "code",
   "execution_count": 95,
   "id": "f8148191",
   "metadata": {},
   "outputs": [
    {
     "name": "stdout",
     "output_type": "stream",
     "text": [
      "[0.23601900972590628, 0.13157772585910785, 0.1292755998169271, 0.1069772992539837, 0.09077813517219867, 0.11185025739806571]\n"
     ]
    }
   ],
   "source": [
    "lexdiv_by_year = []\n",
    "for key,value in pub_yr.items():\n",
    "    lexdiv_by_file = []\n",
    "    for fileid in value:\n",
    "        file_words = wordlists.words(fileid)\n",
    "        str_words = [str(w.lower()) for w in file_words if w.isalpha()]\n",
    "        lexdiv_by_file += [lexical_diversity(str_words)]\n",
    "    lexdiv_by_year += [sum(lexdiv_by_file)/len(lexdiv_by_file)]\n",
    "print(lexdiv_by_year)"
   ]
  },
  {
   "cell_type": "code",
   "execution_count": 96,
   "id": "e39098fd",
   "metadata": {},
   "outputs": [
    {
     "data": {
      "text/plain": [
       "{1928: 0.23601900972590628,\n",
       " 1930: 0.13157772585910785,\n",
       " 1931: 0.1292755998169271,\n",
       " 1932: 0.1069772992539837,\n",
       " 1933: 0.09077813517219867,\n",
       " 1934: 0.11185025739806571}"
      ]
     },
     "execution_count": 96,
     "metadata": {},
     "output_type": "execute_result"
    }
   ],
   "source": [
    "pub_years = [1928, 1930, 1931, 1932, 1933, 1934]\n",
    "pub_lex = dict(zip(pub_years, lexdiv_by_year))\n",
    "pub_lex"
   ]
  },
  {
   "cell_type": "markdown",
   "id": "52d4f744",
   "metadata": {},
   "source": [
    "Now we can visualize the average lexical diversity score for each year Gibbon published in:"
   ]
  },
  {
   "cell_type": "code",
   "execution_count": 97,
   "id": "1597cb32",
   "metadata": {},
   "outputs": [
    {
     "data": {
      "text/html": [
       "\n",
       "<style>\n",
       "  #altair-viz-cf4e153f0f8b4ee4ae9f451d27d5f032.vega-embed {\n",
       "    width: 100%;\n",
       "    display: flex;\n",
       "  }\n",
       "\n",
       "  #altair-viz-cf4e153f0f8b4ee4ae9f451d27d5f032.vega-embed details,\n",
       "  #altair-viz-cf4e153f0f8b4ee4ae9f451d27d5f032.vega-embed details summary {\n",
       "    position: relative;\n",
       "  }\n",
       "</style>\n",
       "<div id=\"altair-viz-cf4e153f0f8b4ee4ae9f451d27d5f032\"></div>\n",
       "<script type=\"text/javascript\">\n",
       "  var VEGA_DEBUG = (typeof VEGA_DEBUG == \"undefined\") ? {} : VEGA_DEBUG;\n",
       "  (function(spec, embedOpt){\n",
       "    let outputDiv = document.currentScript.previousElementSibling;\n",
       "    if (outputDiv.id !== \"altair-viz-cf4e153f0f8b4ee4ae9f451d27d5f032\") {\n",
       "      outputDiv = document.getElementById(\"altair-viz-cf4e153f0f8b4ee4ae9f451d27d5f032\");\n",
       "    }\n",
       "    const paths = {\n",
       "      \"vega\": \"https://cdn.jsdelivr.net/npm/vega@5?noext\",\n",
       "      \"vega-lib\": \"https://cdn.jsdelivr.net/npm/vega-lib?noext\",\n",
       "      \"vega-lite\": \"https://cdn.jsdelivr.net/npm/vega-lite@5.16.3?noext\",\n",
       "      \"vega-embed\": \"https://cdn.jsdelivr.net/npm/vega-embed@6?noext\",\n",
       "    };\n",
       "\n",
       "    function maybeLoadScript(lib, version) {\n",
       "      var key = `${lib.replace(\"-\", \"\")}_version`;\n",
       "      return (VEGA_DEBUG[key] == version) ?\n",
       "        Promise.resolve(paths[lib]) :\n",
       "        new Promise(function(resolve, reject) {\n",
       "          var s = document.createElement('script');\n",
       "          document.getElementsByTagName(\"head\")[0].appendChild(s);\n",
       "          s.async = true;\n",
       "          s.onload = () => {\n",
       "            VEGA_DEBUG[key] = version;\n",
       "            return resolve(paths[lib]);\n",
       "          };\n",
       "          s.onerror = () => reject(`Error loading script: ${paths[lib]}`);\n",
       "          s.src = paths[lib];\n",
       "        });\n",
       "    }\n",
       "\n",
       "    function showError(err) {\n",
       "      outputDiv.innerHTML = `<div class=\"error\" style=\"color:red;\">${err}</div>`;\n",
       "      throw err;\n",
       "    }\n",
       "\n",
       "    function displayChart(vegaEmbed) {\n",
       "      vegaEmbed(outputDiv, spec, embedOpt)\n",
       "        .catch(err => showError(`Javascript Error: ${err.message}<br>This usually means there's a typo in your chart specification. See the javascript console for the full traceback.`));\n",
       "    }\n",
       "\n",
       "    if(typeof define === \"function\" && define.amd) {\n",
       "      requirejs.config({paths});\n",
       "      require([\"vega-embed\"], displayChart, err => showError(`Error loading script: ${err.message}`));\n",
       "    } else {\n",
       "      maybeLoadScript(\"vega\", \"5\")\n",
       "        .then(() => maybeLoadScript(\"vega-lite\", \"5.16.3\"))\n",
       "        .then(() => maybeLoadScript(\"vega-embed\", \"6\"))\n",
       "        .catch(showError)\n",
       "        .then(() => displayChart(vegaEmbed));\n",
       "    }\n",
       "  })({\"config\": {\"view\": {\"continuousWidth\": 300, \"continuousHeight\": 300, \"strokeWidth\": 0}, \"axis\": {\"grid\": false, \"labelAngle\": 0, \"labelFontSize\": 12, \"titleFontSize\": 12}, \"title\": {\"fontSize\": 14}}, \"data\": {\"name\": \"data-9dd0fe20390cf8ff6c3dbd82d7eb4a23\"}, \"mark\": {\"type\": \"bar\", \"size\": 60}, \"encoding\": {\"x\": {\"axis\": {\"title\": \"Year of Publication\"}, \"field\": \"Year\", \"type\": \"ordinal\"}, \"y\": {\"axis\": {\"title\": \"Average Lexical Diversity\"}, \"field\": \"Average Lexical Diversity\", \"type\": \"quantitative\"}}, \"title\": \"Average Yearly Lexical Diversity of Gibbon First Editions\", \"width\": 365, \"$schema\": \"https://vega.github.io/schema/vega-lite/v5.16.3.json\", \"datasets\": {\"data-9dd0fe20390cf8ff6c3dbd82d7eb4a23\": [{\"Year\": 1928, \"Average Lexical Diversity\": 0.23601900972590628}, {\"Year\": 1930, \"Average Lexical Diversity\": 0.13157772585910785}, {\"Year\": 1931, \"Average Lexical Diversity\": 0.1292755998169271}, {\"Year\": 1932, \"Average Lexical Diversity\": 0.1069772992539837}, {\"Year\": 1933, \"Average Lexical Diversity\": 0.09077813517219867}, {\"Year\": 1934, \"Average Lexical Diversity\": 0.11185025739806571}]}}, {\"mode\": \"vega-lite\"});\n",
       "</script>"
      ],
      "text/plain": [
       "alt.Chart(...)"
      ]
     },
     "execution_count": 97,
     "metadata": {},
     "output_type": "execute_result"
    }
   ],
   "source": [
    "\n",
    "\n",
    "source = pd.DataFrame({\n",
    "    'Year': pub_years,\n",
    "    'Average Lexical Diversity': lexdiv_by_year\n",
    "})\n",
    "\n",
    "alt.Chart(source, title=\"Average Yearly Lexical Diversity of Gibbon First Editions\").mark_bar(size=60).encode(\n",
    "    alt.X('Year', axis=alt.Axis(title='Year of Publication'), type='ordinal'),\n",
    "    alt.Y('Average Lexical Diversity', axis=alt.Axis(title='Average Lexical Diversity'))\n",
    ").configure_axis(\n",
    "    grid=False,\n",
    "    labelFontSize=12,\n",
    "    titleFontSize=12,\n",
    "    labelAngle=0\n",
    ").configure_title(\n",
    "    fontSize=14,\n",
    ").configure_view(\n",
    "    strokeWidth=0\n",
    ").properties(\n",
    "    width=365\n",
    ")"
   ]
  },
  {
   "cell_type": "markdown",
   "id": "f1e9e5ae",
   "metadata": {},
   "source": [
    "So Gibbon's lexical diversity does decrease over time, excepting a small increase in the last year he published, 1934!"
   ]
  }
 ],
 "metadata": {
  "kernelspec": {
   "display_name": "Python 3",
   "language": "python",
   "name": "python3"
  },
  "language_info": {
   "codemirror_mode": {
    "name": "ipython",
    "version": 3
   },
   "file_extension": ".py",
   "mimetype": "text/x-python",
   "name": "python",
   "nbconvert_exporter": "python",
   "pygments_lexer": "ipython3",
   "version": "3.11.5"
  }
 },
 "nbformat": 4,
 "nbformat_minor": 5
}
