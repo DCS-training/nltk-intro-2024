{
 "cells": [
  {
   "cell_type": "markdown",
   "id": "cdd705aa",
   "metadata": {},
   "source": [
    "# NLTK with Lewis Grassic Gibbon First Editions\n",
    "\n",
    "**Data Source:** [National Library of Scotland Data Foundry](https://data.nls.uk/data/digitised-collections/lewis-grassic-gibbon-first-editions/)\n",
    "\n",
    "**Code Reference:** \n",
    "National Library of Scotland. Exploring Lewis Grassic Gibbon First Editions. National Library of Scotland, 2020. https://doi.org/10.34812/gq6w-6e91\n",
    "\n",
    "**Date:** April 6, 2022\n",
    "\n",
    "**Course:** Text Analysis with NLTK (Week 2, Class 3); Centre for Data, Culture & Society"
   ]
  },
  {
   "cell_type": "markdown",
   "id": "3121b01a",
   "metadata": {},
   "source": [
    "***\n",
    "\n",
    "**Corpus Name:** Lewis Grassic Gibbon First Editions\n",
    "\n",
    "**Questions:**\n",
    "1. What are the most common words in the corpus?\n",
    "    * How many words are in the entire corpus?\n",
    "        * Create a list of all the alphabetic tokens (words)\n",
    "    * Calculate the frequency distribution (`FreqDist()`)\n",
    "    \n",
    "\n",
    "2. What are the most common words in one book from the corpus?\n",
    "    * Identify which files in the corpus are for which book\n",
    "        * Create a list of all the alphabetic tokens (words)\n",
    "    * Calculate the frequency distribution for individual files\n",
    "    \n",
    "\n",
    "3. How does the word choice of the author change from one book to another?\n",
    "    * How many words are in each book (each file in the corpus)?\n",
    "    * How many *unique* words are in each book?\n",
    "        * Normalize (standardize) the words by casefolding\n",
    "    * Lexical diversity = count of unique words / count of all words\n",
    "\n",
    "***\n",
    "\n",
    "## Table of Contents\n",
    "\n",
    "I. [Preparation](#preparation)\n",
    "\n",
    "II. [Normalization](#normalization)\n",
    "\n",
    "III. [Data Cleaning](#data_cleaning)\n",
    "\n",
    "IV. [Analysis](#analysis)\n",
    "\n",
    "***"
   ]
  },
  {
   "cell_type": "markdown",
   "id": "637cdd3f",
   "metadata": {},
   "source": [
    "<a id=\"preparation\"></a>\n",
    "## I. Preparation"
   ]
  },
  {
   "cell_type": "code",
   "execution_count": 1,
   "id": "b9402ca4",
   "metadata": {},
   "outputs": [
    {
     "name": "stdout",
     "output_type": "stream",
     "text": [
      "Requirement already satisfied: altair in /Users/xan/.pyenv/versions/3.12.2/envs/venv/lib/python3.12/site-packages (5.5.0)\n",
      "Requirement already satisfied: jinja2 in /Users/xan/.pyenv/versions/3.12.2/envs/venv/lib/python3.12/site-packages (from altair) (3.1.5)\n",
      "Requirement already satisfied: jsonschema>=3.0 in /Users/xan/.pyenv/versions/3.12.2/envs/venv/lib/python3.12/site-packages (from altair) (4.23.0)\n",
      "Requirement already satisfied: narwhals>=1.14.2 in /Users/xan/.pyenv/versions/3.12.2/envs/venv/lib/python3.12/site-packages (from altair) (1.26.0)\n",
      "Requirement already satisfied: packaging in /Users/xan/.pyenv/versions/3.12.2/envs/venv/lib/python3.12/site-packages (from altair) (24.0)\n",
      "Requirement already satisfied: typing-extensions>=4.10.0 in /Users/xan/.pyenv/versions/3.12.2/envs/venv/lib/python3.12/site-packages (from altair) (4.12.2)\n",
      "Requirement already satisfied: attrs>=22.2.0 in /Users/xan/.pyenv/versions/3.12.2/envs/venv/lib/python3.12/site-packages (from jsonschema>=3.0->altair) (25.1.0)\n",
      "Requirement already satisfied: jsonschema-specifications>=2023.03.6 in /Users/xan/.pyenv/versions/3.12.2/envs/venv/lib/python3.12/site-packages (from jsonschema>=3.0->altair) (2024.10.1)\n",
      "Requirement already satisfied: referencing>=0.28.4 in /Users/xan/.pyenv/versions/3.12.2/envs/venv/lib/python3.12/site-packages (from jsonschema>=3.0->altair) (0.36.2)\n",
      "Requirement already satisfied: rpds-py>=0.7.1 in /Users/xan/.pyenv/versions/3.12.2/envs/venv/lib/python3.12/site-packages (from jsonschema>=3.0->altair) (0.22.3)\n",
      "Requirement already satisfied: MarkupSafe>=2.0 in /Users/xan/.pyenv/versions/3.12.2/envs/venv/lib/python3.12/site-packages (from jinja2->altair) (3.0.2)\n",
      "\n",
      "\u001b[1m[\u001b[0m\u001b[34;49mnotice\u001b[0m\u001b[1;39;49m]\u001b[0m\u001b[39;49m A new release of pip is available: \u001b[0m\u001b[31;49m24.0\u001b[0m\u001b[39;49m -> \u001b[0m\u001b[32;49m25.0.1\u001b[0m\n",
      "\u001b[1m[\u001b[0m\u001b[34;49mnotice\u001b[0m\u001b[1;39;49m]\u001b[0m\u001b[39;49m To update, run: \u001b[0m\u001b[32;49mpip install --upgrade pip\u001b[0m\n"
     ]
    }
   ],
   "source": [
    "!pip install altair"
   ]
  },
  {
   "cell_type": "code",
   "execution_count": 2,
   "id": "c52a5768",
   "metadata": {},
   "outputs": [
    {
     "name": "stderr",
     "output_type": "stream",
     "text": [
      "[nltk_data] Downloading package punkt to /Users/xan/nltk_data...\n",
      "[nltk_data]   Package punkt is already up-to-date!\n",
      "[nltk_data] Downloading package punkt_tab to /Users/xan/nltk_data...\n",
      "[nltk_data]   Package punkt_tab is already up-to-date!\n",
      "[nltk_data] Downloading package wordnet to /Users/xan/nltk_data...\n",
      "[nltk_data]   Package wordnet is already up-to-date!\n",
      "[nltk_data] Downloading package stopwords to /Users/xan/nltk_data...\n",
      "[nltk_data]   Package stopwords is already up-to-date!\n",
      "/Users/xan/.pyenv/versions/venv/lib/python3.12/site-packages/nltk/draw/__init__.py:15: UserWarning: nltk.draw package not loaded (please install Tkinter library).\n",
      "  warnings.warn(\"nltk.draw package not loaded (please install Tkinter library).\")\n"
     ]
    }
   ],
   "source": [
    "# To load a CSV file with an inventory of the documents in the corpus\n",
    "import pandas as pd\n",
    "\n",
    "# To create data visualizations\n",
    "import altair as alt\n",
    "import matplotlib.pyplot as plt\n",
    "\n",
    "# To perform text analysis\n",
    "import nltk\n",
    "from nltk.tokenize import word_tokenize, sent_tokenize\n",
    "nltk.download('punkt')\n",
    "nltk.download('punkt_tab')\n",
    "from nltk.corpus import PlaintextCorpusReader\n",
    "nltk.download('wordnet')\n",
    "from nltk.corpus import wordnet\n",
    "nltk.download('stopwords')\n",
    "from nltk.corpus import stopwords\n",
    "from nltk.text import Text\n",
    "from nltk.probability import FreqDist\n",
    "from nltk.draw.dispersion import dispersion_plot as displt\n",
    "\n",
    "import re # Regular Expressions (RegEx)"
   ]
  },
  {
   "cell_type": "code",
   "execution_count": 3,
   "id": "4923086f",
   "metadata": {},
   "outputs": [
    {
     "name": "stdout",
     "output_type": "stream",
     "text": [
      "['R', ',', '17U', '\\\\(', 'o', 'First', 'journey', 'National', 'Library', 'of', 'Scotland', 'â', '\\x80\\x98', 'B000054136', '*', 'TIMBUCTOO', 'NIGER', 'BY', 'THE', 'SAME']\n"
     ]
    },
    {
     "name": "stderr",
     "output_type": "stream",
     "text": [
      "<>:2: SyntaxWarning: invalid escape sequence '\\d'\n",
      "<>:2: SyntaxWarning: invalid escape sequence '\\d'\n",
      "/var/folders/2s/vq2lnwx92y12_p32vv6jbzhr0000gn/T/ipykernel_15759/1822180582.py:2: SyntaxWarning: invalid escape sequence '\\d'\n",
      "  wordlists = PlaintextCorpusReader(data_directory, \"\\d.*\", encoding=\"latin1\")\n"
     ]
    }
   ],
   "source": [
    "data_directory = \"nls-text-gibbon\"\n",
    "wordlists = PlaintextCorpusReader(data_directory, \"\\d.*\", encoding=\"latin1\")\n",
    "corpus_tokens = wordlists.words()  # method for tokenization\n",
    "print(corpus_tokens[:20])"
   ]
  },
  {
   "cell_type": "markdown",
   "id": "5e75de13",
   "metadata": {},
   "source": [
    "To get a sense of the data we're working with, let's create a functions that tell us how many tokens, sentences, and files are in our corpus!"
   ]
  },
  {
   "cell_type": "code",
   "execution_count": 4,
   "id": "4530927d",
   "metadata": {},
   "outputs": [
    {
     "name": "stdout",
     "output_type": "stream",
     "text": [
      "Total words in Lewis Grassic Gibbon Corpus: 1506095\n",
      "Total sentences in Lewis Grassic Gibbon Corpus: 70826\n",
      "Total files in Lewis Grassic Gibbon Corpus: 16\n"
     ]
    }
   ],
   "source": [
    "def calculate_total_tokens(plaintext_corpus_read_lists):\n",
    "    total_tokens = 0\n",
    "    for fileid in plaintext_corpus_read_lists.fileids():\n",
    "        total_tokens += len(plaintext_corpus_read_lists.words(fileid))\n",
    "    return total_tokens\n",
    "\n",
    "def calculate_total_sents(plaintext_corpus_read_lists):\n",
    "    total_sents = 0\n",
    "    for fileid in plaintext_corpus_read_lists.fileids():\n",
    "        total_sents += len(plaintext_corpus_read_lists.sents(fileid))\n",
    "    return total_sents\n",
    "\n",
    "def calculate_total_files(plaintext_corpus_read_lists):\n",
    "    return len(plaintext_corpus_read_lists.fileids())\n",
    "\n",
    "def display_corpus_statistics(name, total_tokens, total_sents, total_files):\n",
    "    print(f\"Total words in {name}: {total_tokens}\")\n",
    "    print(f\"Total sentences in {name}: {total_sents}\")\n",
    "    print(f\"Total files in {name}: {total_files}\")\n",
    "\n",
    "display_corpus_statistics(\n",
    "    \"Lewis Grassic Gibbon Corpus\",\n",
    "    calculate_total_tokens(wordlists),\n",
    "    calculate_total_sents(wordlists),\n",
    "    calculate_total_files(wordlists)\n",
    ")"
   ]
  },
  {
   "cell_type": "code",
   "execution_count": 5,
   "id": "98374056",
   "metadata": {},
   "outputs": [
    {
     "name": "stdout",
     "output_type": "stream",
     "text": [
      "<class 'nltk.corpus.reader.plaintext.PlaintextCorpusReader'>\n"
     ]
    }
   ],
   "source": [
    "print(type(wordlists))"
   ]
  },
  {
   "cell_type": "code",
   "execution_count": 6,
   "id": "eadbfaf5",
   "metadata": {},
   "outputs": [
    {
     "name": "stdout",
     "output_type": "stream",
     "text": [
      "['205174241.txt', '205174242.txt', '205174243.txt', '205174244.txt', '205174245.txt', '205174246.txt', '205174247.txt', '205174248.txt', '205174249.txt', '205174250.txt', '205174251.txt', '205174252.txt', '205174253.txt', '205174254.txt', '205174255.txt', '205202834.txt']\n"
     ]
    }
   ],
   "source": [
    "print(wordlists.fileids())"
   ]
  },
  {
   "cell_type": "markdown",
   "id": "a97a281e",
   "metadata": {},
   "source": [
    "There is also a csv file which gives some metadata. Let's load this into a pandas DataFrame with `pd.read_csv`. It has no header row, so set the `header` parameter to `None` and use the `names` parameter to give it the column names `'fileid'` and `'title'`"
   ]
  },
  {
   "cell_type": "code",
   "execution_count": 7,
   "id": "3d421466",
   "metadata": {},
   "outputs": [
    {
     "data": {
      "text/html": [
       "<div>\n",
       "<style scoped>\n",
       "    .dataframe tbody tr th:only-of-type {\n",
       "        vertical-align: middle;\n",
       "    }\n",
       "\n",
       "    .dataframe tbody tr th {\n",
       "        vertical-align: top;\n",
       "    }\n",
       "\n",
       "    .dataframe thead th {\n",
       "        text-align: right;\n",
       "    }\n",
       "</style>\n",
       "<table border=\"1\" class=\"dataframe\">\n",
       "  <thead>\n",
       "    <tr style=\"text-align: right;\">\n",
       "      <th></th>\n",
       "      <th>fileid</th>\n",
       "      <th>title</th>\n",
       "    </tr>\n",
       "  </thead>\n",
       "  <tbody>\n",
       "    <tr>\n",
       "      <th>0</th>\n",
       "      <td>205174241.txt</td>\n",
       "      <td>Niger - R.176.i</td>\n",
       "    </tr>\n",
       "    <tr>\n",
       "      <th>1</th>\n",
       "      <td>205174242.txt</td>\n",
       "      <td>Thirteenth disciple - Vts.137.d</td>\n",
       "    </tr>\n",
       "    <tr>\n",
       "      <th>2</th>\n",
       "      <td>205174243.txt</td>\n",
       "      <td>Three go back - Vts.152.f.22</td>\n",
       "    </tr>\n",
       "    <tr>\n",
       "      <th>3</th>\n",
       "      <td>205174244.txt</td>\n",
       "      <td>Calends of Cairo - Vts.153.c.16</td>\n",
       "    </tr>\n",
       "    <tr>\n",
       "      <th>4</th>\n",
       "      <td>205174245.txt</td>\n",
       "      <td>Lost trumpet - Vts.143.j.8</td>\n",
       "    </tr>\n",
       "    <tr>\n",
       "      <th>5</th>\n",
       "      <td>205174246.txt</td>\n",
       "      <td>Image and superscription - Vts.118.l.16</td>\n",
       "    </tr>\n",
       "    <tr>\n",
       "      <th>6</th>\n",
       "      <td>205174247.txt</td>\n",
       "      <td>Spartacus - Vts.6.k.19</td>\n",
       "    </tr>\n",
       "    <tr>\n",
       "      <th>7</th>\n",
       "      <td>205174248.txt</td>\n",
       "      <td>Persian dawns, Egyptian nights - Vts.148.d.8</td>\n",
       "    </tr>\n",
       "    <tr>\n",
       "      <th>8</th>\n",
       "      <td>205174249.txt</td>\n",
       "      <td>Scots quair - Cloud howe - NF.523.b.30</td>\n",
       "    </tr>\n",
       "    <tr>\n",
       "      <th>9</th>\n",
       "      <td>205174250.txt</td>\n",
       "      <td>Scots quair - Grey granite - NF.523.b.31</td>\n",
       "    </tr>\n",
       "    <tr>\n",
       "      <th>10</th>\n",
       "      <td>205174251.txt</td>\n",
       "      <td>Scots quair - Sunset song - NF.523.b.29</td>\n",
       "    </tr>\n",
       "    <tr>\n",
       "      <th>11</th>\n",
       "      <td>205174252.txt</td>\n",
       "      <td>Hanno, or, The future of exploration - S.114.j.21</td>\n",
       "    </tr>\n",
       "    <tr>\n",
       "      <th>12</th>\n",
       "      <td>205174253.txt</td>\n",
       "      <td>Nine against the unknown - S.72.d.10</td>\n",
       "    </tr>\n",
       "    <tr>\n",
       "      <th>13</th>\n",
       "      <td>205174254.txt</td>\n",
       "      <td>Conquest of the Maya - S.60.c</td>\n",
       "    </tr>\n",
       "    <tr>\n",
       "      <th>14</th>\n",
       "      <td>205174255.txt</td>\n",
       "      <td>Gay hunter - Vts.215.j.26</td>\n",
       "    </tr>\n",
       "    <tr>\n",
       "      <th>15</th>\n",
       "      <td>205202834.txt</td>\n",
       "      <td>Stained radiance - T.204.f</td>\n",
       "    </tr>\n",
       "  </tbody>\n",
       "</table>\n",
       "</div>"
      ],
      "text/plain": [
       "           fileid                                              title\n",
       "0   205174241.txt                                    Niger - R.176.i\n",
       "1   205174242.txt                    Thirteenth disciple - Vts.137.d\n",
       "2   205174243.txt                       Three go back - Vts.152.f.22\n",
       "3   205174244.txt                    Calends of Cairo - Vts.153.c.16\n",
       "4   205174245.txt                         Lost trumpet - Vts.143.j.8\n",
       "5   205174246.txt            Image and superscription - Vts.118.l.16\n",
       "6   205174247.txt                            Spartacus - Vts.6.k.19 \n",
       "7   205174248.txt       Persian dawns, Egyptian nights - Vts.148.d.8\n",
       "8   205174249.txt             Scots quair - Cloud howe - NF.523.b.30\n",
       "9   205174250.txt           Scots quair - Grey granite - NF.523.b.31\n",
       "10  205174251.txt            Scots quair - Sunset song - NF.523.b.29\n",
       "11  205174252.txt  Hanno, or, The future of exploration - S.114.j.21\n",
       "12  205174253.txt               Nine against the unknown - S.72.d.10\n",
       "13  205174254.txt                      Conquest of the Maya - S.60.c\n",
       "14  205174255.txt                          Gay hunter - Vts.215.j.26\n",
       "15  205202834.txt                         Stained radiance - T.204.f"
      ]
     },
     "execution_count": 7,
     "metadata": {},
     "output_type": "execute_result"
    }
   ],
   "source": [
    "# Your code here\n",
    "df = pd.read_csv('nls-text-gibbon/gibbon-inventory.csv', header=None, names=['fileid', 'title'])\n",
    "df"
   ]
  },
  {
   "cell_type": "markdown",
   "id": "7ee14061",
   "metadata": {},
   "source": [
    "Let's create a **dictionary**, one of the Python data types, that associates each `fileid` with each `title`.  That way we can quickly determine from our text analysis with NLTK what book we are looking at, since NLTK uses the fileids (the names of the files in our data directory, a.k.a. folder)."
   ]
  },
  {
   "cell_type": "code",
   "execution_count": 8,
   "id": "a825c427",
   "metadata": {},
   "outputs": [
    {
     "name": "stdout",
     "output_type": "stream",
     "text": [
      "List of file IDs:\n",
      "['205174241.txt', '205174242.txt', '205174243.txt', '205174244.txt', '205174245.txt', '205174246.txt', '205174247.txt', '205174248.txt', '205174249.txt', '205174250.txt', '205174251.txt', '205174252.txt', '205174253.txt', '205174254.txt', '205174255.txt', '205202834.txt']\n",
      "\n",
      "List of titles:\n",
      "['Niger - R.176.i', 'Thirteenth disciple - Vts.137.d', 'Three go back - Vts.152.f.22', 'Calends of Cairo - Vts.153.c.16', 'Lost trumpet - Vts.143.j.8', 'Image and superscription - Vts.118.l.16', 'Spartacus - Vts.6.k.19 ', 'Persian dawns, Egyptian nights - Vts.148.d.8', 'Scots quair - Cloud howe - NF.523.b.30', 'Scots quair - Grey granite - NF.523.b.31', 'Scots quair - Sunset song - NF.523.b.29', 'Hanno, or, The future of exploration - S.114.j.21', 'Nine against the unknown - S.72.d.10', 'Conquest of the Maya - S.60.c', 'Gay hunter - Vts.215.j.26', 'Stained radiance - T.204.f']\n",
      "\n",
      "Dictionary of file IDs and titles:\n",
      "{'205174241.txt': 'Niger - R.176.i', '205174242.txt': 'Thirteenth disciple - Vts.137.d', '205174243.txt': 'Three go back - Vts.152.f.22', '205174244.txt': 'Calends of Cairo - Vts.153.c.16', '205174245.txt': 'Lost trumpet - Vts.143.j.8', '205174246.txt': 'Image and superscription - Vts.118.l.16', '205174247.txt': 'Spartacus - Vts.6.k.19 ', '205174248.txt': 'Persian dawns, Egyptian nights - Vts.148.d.8', '205174249.txt': 'Scots quair - Cloud howe - NF.523.b.30', '205174250.txt': 'Scots quair - Grey granite - NF.523.b.31', '205174251.txt': 'Scots quair - Sunset song - NF.523.b.29', '205174252.txt': 'Hanno, or, The future of exploration - S.114.j.21', '205174253.txt': 'Nine against the unknown - S.72.d.10', '205174254.txt': 'Conquest of the Maya - S.60.c', '205174255.txt': 'Gay hunter - Vts.215.j.26', '205202834.txt': 'Stained radiance - T.204.f'}\n",
      "\n"
     ]
    }
   ],
   "source": [
    "# obtain a list of all file IDs\n",
    "# your code here\n",
    "fileids = list(df[\"fileid\"])\n",
    "print(f\"List of file IDs:\\n{fileids}\\n\")\n",
    "\n",
    "# obtain a list of all titles\n",
    "# your code here\n",
    "titles = list(df[\"title\"])\n",
    "print(f\"List of titles:\\n{titles}\\n\")\n",
    "\n",
    "# create a dictionary where the keys are file IDs and the values are titles\n",
    "# your code here\n",
    "lgg_dict = dict(zip(fileids, titles))\n",
    "print(f\"Dictionary of file IDs and titles:\\n{lgg_dict}\\n\")"
   ]
  },
  {
   "cell_type": "code",
   "execution_count": 9,
   "id": "8617570d",
   "metadata": {},
   "outputs": [
    {
     "data": {
      "text/plain": [
       "'Scots quair - Sunset song - NF.523.b.29'"
      ]
     },
     "execution_count": 9,
     "metadata": {},
     "output_type": "execute_result"
    }
   ],
   "source": [
    "# Now we can say...\n",
    "a_file_id = fileids[10]\n",
    "lgg_dict[a_file_id]"
   ]
  },
  {
   "cell_type": "code",
   "execution_count": 10,
   "id": "646bec40",
   "metadata": {},
   "outputs": [
    {
     "data": {
      "text/plain": [
       "'Scots quair - Sunset song - NF.523.b.29'"
      ]
     },
     "execution_count": 10,
     "metadata": {},
     "output_type": "execute_result"
    }
   ],
   "source": [
    "# ...or simply...\n",
    "lgg_dict['205174251.txt']"
   ]
  },
  {
   "cell_type": "markdown",
   "id": "9f35b5dd",
   "metadata": {},
   "source": [
    "Let's create lists of all the words (alphabetic tokens) and sentences in the LGG corpus."
   ]
  },
  {
   "cell_type": "code",
   "execution_count": 11,
   "id": "3aa52f82",
   "metadata": {},
   "outputs": [],
   "source": [
    "# your code here\n",
    "def get_words_sents (plaintext_corpus_read_lists):\n",
    "    \"\"\"Creates lists of all words and all tokens in a given corpus.\n",
    "    I've added this docstring because docstrings are good practice,\n",
    "    and I can show you one of the standard formats for Python \n",
    "    docstrings\n",
    "    \n",
    "    Parameters\n",
    "    ----------\n",
    "        plaintext_corpus_read_lists (PlaintextCorpusReader):\n",
    "            corpus generated from a collection of plantext files\n",
    "\n",
    "    Returns\n",
    "    -------\n",
    "        all_words (list):\n",
    "            list of all words: that is, all tokens consisting of alphabetical\n",
    "            characters only\n",
    "        all_sents (list)\n",
    "            list of all sentences\n",
    "    \"\"\"\n",
    "    # your code here\n",
    "    all_words = []\n",
    "    all_sents = []\n",
    "    for fileid in plaintext_corpus_read_lists.fileids():\n",
    "        \n",
    "        file_words = plaintext_corpus_read_lists.words(fileid)\n",
    "        all_words += [str(word) for word in file_words]\n",
    "        \n",
    "        file_sents = sent_tokenize(plaintext_corpus_read_lists.raw(fileid))\n",
    "        all_sents += [str(sent) for sent in file_sents]\n",
    "        \n",
    "    return all_words, all_sents"
   ]
  },
  {
   "cell_type": "code",
   "execution_count": 12,
   "id": "4d43cdab",
   "metadata": {},
   "outputs": [
    {
     "name": "stdout",
     "output_type": "stream",
     "text": [
      "['R', ',', '17U', '\\\\(', 'o', 'First', 'journey', 'National', 'Library', 'of', 'Scotland', 'â', '\\x80\\x98', 'B000054136', '*', 'TIMBUCTOO', 'NIGER', 'BY', 'THE', 'SAME']\n",
      "['R, 17U \\\\(o\\r\\nFirst journey\\r\\nNational Library of Scotland\\r\\nâ\\x80\\x98B000054136*\\r\\nTIMBUCTOO\\r\\nNIGER\\r\\nBY THE SAME AUTHOR\\r\\nNovels forming the trilogy, A Scots Quair\\r\\nPart I. Sunset Song (1932)\\r\\nPart II.', 'Cloud Howe (1933)\\r\\nPart III.', 'Grey Granite (1934)\\r\\nMUNCiO PARK\\r\\nNIGER\\r\\nTHE LIFE OF MUNGO PARK\\r\\nBY\\r\\nLEWIS GRASSIC GIBBON\\r\\nEDINBURGH\\r\\nTHE PORPOISE PRESS\\r\\nFIRST PUBLISHED IN 1034\\r\\nBY THE PORPOISE PRESS\\r\\nI33A GEORGE STREET, EDINBURGH\\r\\nLONDON *.']\n"
     ]
    }
   ],
   "source": [
    "lgg_words, lgg_sents = get_words_sents(wordlists)\n",
    "print(lgg_words[:20])\n",
    "print(lgg_sents[:3])"
   ]
  },
  {
   "cell_type": "markdown",
   "id": "109d0e4e",
   "metadata": {},
   "source": [
    "<a id=\"data_cleaning\"></a>\n",
    "## II. Data Cleaning with RegEx and NLTK"
   ]
  },
  {
   "cell_type": "markdown",
   "id": "42680cb2",
   "metadata": {},
   "source": [
    "Let's calculate the frequency distribution, or the count of occurrences of each word across the entire corpus:"
   ]
  },
  {
   "cell_type": "code",
   "execution_count": 13,
   "id": "2c027e5a",
   "metadata": {},
   "outputs": [
    {
     "name": "stdout",
     "output_type": "stream",
     "text": [
      "Total words after filtering: 1506095\n",
      "50 most common words after filtering: [(',', 86225), ('the', 82215), ('.', 69949), ('and', 49686), ('of', 40160), ('a', 27930), ('to', 24359), ('in', 22692), ('\\x80\\x99', 21483), ('â', 19943), ('that', 15065), ('was', 14704), ('-', 13435), ('his', 11708), ('he', 11433), ('had', 11078), ('with', 10261), ('it', 9070), ('at', 8320), ('her', 8319), ('on', 7965), ('as', 7831), ('\\x80\\x94', 6779), ('for', 6755), ('s', 6752), ('I', 6569), ('from', 6293), ('she', 6062), ('?', 6033), ('they', 5610), ('The', 5354), ('him', 5346), ('you', 5264), ('\\x80\\x98', 4920), ('¬', 4700), ('\\x80\\x9c', 4619), ('were', 4596), ('And', 4470), ('He', 4444), ('\\x80\\x9d', 4229), ('by', 4086), ('up', 4066), ('out', 3758), ('their', 3710), ('but', 3535), ('them', 3503), ('t', 3421), ('not', 3402), ('all', 3381), ('But', 3356)]\n"
     ]
    }
   ],
   "source": [
    "fdist_lgg = FreqDist(lgg_words)\n",
    "print(\"Total words after filtering:\", fdist_lgg.N())\n",
    "print(\"50 most common words after filtering:\", fdist_lgg.most_common(50))"
   ]
  },
  {
   "cell_type": "markdown",
   "id": "ed032bd1",
   "metadata": {},
   "source": [
    "Uh-oh! Note the 'â' and the '\\x80\\x99' - those don't look like they're meant to be there! The NLS Gibbon corpus is, after all, the result of scanning and running OCR (Optical Character Recognition), which is not totally reliable. Before doing our analysis, let's do some data cleaning, with ..."
   ]
  },
  {
   "cell_type": "markdown",
   "id": "instant-latex",
   "metadata": {},
   "source": [
    "### Regular Expresssions (RegEx)\n",
    "\n",
    "* **WHAT? Pattern matching strings in Python**\n",
    "* **WHY? To find specific words or phrases, or variations of a particular word or phrase**\n",
    "    * Once found, they can be replaced, so this is useful for cleaning text with digitization errors.  Optical Character Recognition (OCR) and Handwriting Recognition (HWT or HRT) technologies are imperfect, so you will find errors in digitized text corpora (unless of course they've been manually reviewed and corrected).\n",
    "* **HOW? Combinations of special characters with a RegEx compiler**\n",
    "    * In programming, a *compiler* translates code from one programming language to another.  In a sense, RegEx is a language that can sit on top of Python.  RegEx works with Python data types and syntax but it also has its own special characters and methods that plain Python doesn't use.\n",
    "    \n",
    "My favorite resource for practice with and testing Regular Expressions is  is [Regex101.com](https://regex101.com): also check out [Pythex.org](https://pythex.org) for the cheat sheet it provides!"
   ]
  },
  {
   "cell_type": "code",
   "execution_count": 14,
   "id": "complex-questionnaire",
   "metadata": {},
   "outputs": [],
   "source": [
    "# # To use Regular Expressions (RegEx)\n",
    "# import re\n",
    "\n",
    "# # To perform text analysis\n",
    "# import nltk\n",
    "# from nltk.tokenize import word_tokenize, sent_tokenize\n",
    "# nltk.download('punkt')\n",
    "# from nltk.corpus import PlaintextCorpusReader\n",
    "# nltk.download('wordnet')\n",
    "# from nltk.corpus import wordnet\n",
    "# nltk.download('stopwords')\n",
    "# from nltk.corpus import stopwords\n",
    "# from nltk.text import Text"
   ]
  },
  {
   "cell_type": "code",
   "execution_count": 15,
   "id": "opened-element",
   "metadata": {},
   "outputs": [
    {
     "name": "stdout",
     "output_type": "stream",
     "text": [
      "['R', ',', '17U', '\\\\(', 'o', 'First', 'journey', 'National', 'Library', 'of', 'Scotland', 'â', '\\x80\\x98', 'B000054136', '*', 'TIMBUCTOO', 'NIGER', 'BY', 'THE', 'SAME', 'AUTHOR', 'Novels', 'forming', 'the', 'trilogy', ',', 'A', 'Scots', 'Quair', 'Part', 'I', '.', 'Sunset', 'Song', '(', '1932', ')', 'Part', 'II', '.', 'Cloud', 'Howe', '(', '1933', ')', 'Part', 'III', '.', 'Grey', 'Granite', '(', '1934', ')', 'MUNCiO', 'PARK', 'NIGER', 'THE', 'LIFE', 'OF', 'MUNGO', 'PARK', 'BY', 'LEWIS', 'GRASSIC', 'GIBBON', 'EDINBURGH', 'THE', 'PORPOISE', 'PRESS', 'FIRST', 'PUBLISHED', 'IN', '1034', 'BY', 'THE', 'PORPOISE', 'PRESS', 'I33A', 'GEORGE', 'STREET', ',', 'EDINBURGH', 'LONDON', '*.', 'FABER', 'AND', 'FABER', 'LIMITED', '24', 'RUSSELL', 'SQUARE', ',', 'W', '.', 'G', '.', 'I', 'PRINTED', 'IN', 'SCOTLAND']\n"
     ]
    }
   ],
   "source": [
    "lgg = nltk.Text(lgg_words)\n",
    "print(lgg[:100])"
   ]
  },
  {
   "cell_type": "code",
   "execution_count": 16,
   "id": "shared-defensive",
   "metadata": {},
   "outputs": [
    {
     "name": "stdout",
     "output_type": "stream",
     "text": [
      "Displaying 25 of 4920 matches:\n",
      "ourney National Library of Scotland â  B000054136 * TIMBUCTOO NIGER BY THE S\n",
      "h biography . A much better book is â  H . B . â  s â  Life of Mungo Par\n",
      " the room , and Mungo himÂ ¬ self . â  Youâ  re destroying the book , â \n",
      "ight of all his bio - 14 graphers , â  Ay , you , or somebody else , will on\n",
      "racÂ ¬ teristic , it was national : â  You poor useless thing , do you think\n",
      "surrounding hills , he went often , â  to read poetry â . This was mostly \n",
      "upon the record the affirÂ ¬ mation â  Some sparks of latent spirit which oc\n",
      " ¬ ously qualified by ( yet again ) â  the gravity and steady decorum of his\n",
      "o study medicine . ! 9 3His gravity â  not altogether thrown awayâ , he wa\n",
      "thematics , in both of which he was â  very apt . For the rest he no doubt p\n",
      "e a letter to Anderson in Selkirk : â  I have now got upon the first step of\n",
      " just before the Worcester sailed : â  I wish you may be able to look upon t\n",
      "e Great River , crocodile - laden , â  dividing Africa as the Danube does Eu\n",
      ", are no more than Chestertonâ  s â  small , dark , cloud , where the tort\n",
      "n , having come into collision with â  revolting Arabs 5 ( he referred to th\n",
      "s since his return from Bencoolen . â  I had a passionate desire to examine \n",
      "in authority . Jillifree lay in the â  kingdom â  of Barra , and the Emir \n",
      "trate of Jillifreeâ  el caid , or â  the Alkaid â  as Mungo somewhat stu\n",
      " ¬ tracted from the kernel of a nut â  and an admirable substitute for butte\n",
      "ses for the use of the two blacks . â  Thus I had no less than six attendant\n",
      "while , in Mungoâ  s phrase , the â  beef was preparing â , Jemaffoo and\n",
      "e at the lion through the rafters . â  This proposition was approved and ado\n",
      "mall caravan . They were now in the â  kingdom â  of Walli and these were \n",
      "d in considerable puzzlement upon a â  sort of masquerade habit â  made fr\n",
      "fled from the village . Even so , a â  body of these harpies â  followed h\n"
     ]
    }
   ],
   "source": [
    "lgg.concordance(\"\\x80\\x98\")"
   ]
  },
  {
   "cell_type": "markdown",
   "id": "3e3a0691",
   "metadata": {},
   "source": [
    "Looks like \"\\x80\\x98\" is the [UTF-8](https://en.wikipedia.org/wiki/UTF-8) encoding for the em-dash character."
   ]
  },
  {
   "cell_type": "code",
   "execution_count": 17,
   "id": "tamil-blackberry",
   "metadata": {},
   "outputs": [
    {
     "name": "stdout",
     "output_type": "stream",
     "text": [
      "Displaying 25 of 20332 matches:\n",
      "t journey National Library of Scotland â  B000054136 * TIMBUCTOO NIGER BY THE\n",
      "ngth biography . A much better book is â  H . B . â  s â  Life of Mungo P\n",
      "y . A much better book is â  H . B . â  s â  Life of Mungo Park ( 1835 ),\n",
      "uch better book is â  H . B . â  s â  Life of Mungo Park ( 1835 ), sincer\n",
      " a i woman of great prudence and sense â , â  else indeed she would not hav\n",
      "oman of great prudence and sense â , â  else indeed she would not have surv\n",
      " in the room , and Mungo himÂ ¬ self . â  Youâ  re destroying the book , â \n",
      " â  Youâ  re destroying the book , â  Mungo proÂ ¬ tested . The servant t\n",
      " 4 Theyâ  re only old Flavelâ  s . â  To which the dark - faced boy retor\n",
      "delight of all his bio - 14 graphers , â  Ay , you , or somebody else , will \n",
      "characÂ ¬ teristic , it was national : â  You poor useless thing , do you thi\n",
      "think that you will ever write books ? â  Mungoâ  s retort is not recorded \n",
      "he surrounding hills , he went often , â  to read poetry â . This was mostl\n",
      " , he went often , â  to read poetry â . This was mostly collections of son\n",
      "ms upon the record the affirÂ ¬ mation â  Some sparks of latent spirit which \n",
      "e part of his noisy school - fellows . â  But rather , one can hear their how\n",
      "viÂ ¬ ously qualified by ( yet again ) â  the gravity and steady decorum of h\n",
      "avity and steady decorum of his manner â . And , just as it was the ambition \n",
      "d to study medicine . ! 9 3His gravity â  not altogether thrown awayâ , he \n",
      " mathematics , in both of which he was â  very apt . For the rest he no doubt\n",
      "rote a letter to Anderson in Selkirk : â  I have now got upon the first step \n",
      "the author and finisher of his faith . â  Perhaps teasing Ailie would read th\n",
      "n , just before the Worcester sailed : â  I wish you may be able to look upon\n",
      "han see you anything but a Christian . â  It is almost the most appalling exa\n",
      " the Great River , crocodile - laden , â  dividing Africa as the Danube does \n"
     ]
    }
   ],
   "source": [
    "lgg.concordance(\"â\")"
   ]
  },
  {
   "cell_type": "markdown",
   "id": "ranging-significance",
   "metadata": {},
   "source": [
    "In addition to the â's, we can also see above some oddities with 'Â' - examples being:\n",
    "\n",
    "- `'himÂ ¬ self'`\n",
    "- `'proÂ ¬ tested'`\n",
    "- `'affirÂ ¬ mation'`"
   ]
  },
  {
   "cell_type": "code",
   "execution_count": 18,
   "id": "fundamental-pillow",
   "metadata": {},
   "outputs": [
    {
     "name": "stdout",
     "output_type": "stream",
     "text": [
      "Displaying 25 of 4700 matches:\n",
      "n in mind and disregarding it as unimÂ ¬ portant . I followed the latter course\n",
      "f Africa in 1805 , by Mungo Park ; toÂ ¬ gether with other documents , official\n",
      "riodâ  even if economic fact had deÂ ¬ signed a more enduring costume . The p\n",
      "on for educationâ  that passion comÂ ¬ pounded of a belief that education mea\n",
      "an argument . It had , and has , someÂ ¬ thing of the same quality , this Scots\n",
      "â  s biographers make of her a handÂ ¬ some personage , as they do of her con\n",
      "which produced their family . They reÂ ¬ garded each other , no doubt , with th\n",
      " was quiet , restrained , grave of deÂ ¬ meanour , proper and shyâ  a fit sub\n",
      "alysts as yet inapparent upon that unÂ ¬ happy era . No child should be any of \n",
      "abbath , of the hearty eating of tireÂ ¬ some food , of conventionality of expr\n",
      " of outward demeanour to hide the burÂ ¬ geon of his soul beneath . He was a ha\n",
      "handsome boy , as later a man , brownÂ ¬ haired , tall for his age , with finel\n",
      " of childhood and adolescence by modiÂ ¬ fying the well - known portrait and ga\n",
      "other was in the room , and Mungo himÂ ¬ self . â  Youâ  re destroying the \n",
      " destroying the book , â  Mungo proÂ ¬ tested . The servant tossed her head :\n",
      "erâ  s comment was more than characÂ ¬ teristic , it was national : â  You \n",
      "tion of the farmyard down to the drumÂ ¬ ming Yarrow banks , still happily unsu\n",
      "banks , still happily unsung by WordsÂ ¬ worth . There , and to the surrounding\n",
      "y were those oddly constipated pseudoÂ ¬ religious tracts beloved of his time .\n",
      " and smarms upon the record the affirÂ ¬ mation â  Some sparks of latent spir\n",
      "me sparks of latent spirit which occaÂ ¬ sionally flashed forth protected him f\n",
      "ing in some playground corner a brownÂ ¬ faced silent boy . His schoolmaster in\n",
      " that he was exceedingly fond of readÂ ¬ ing and 4 always the head of his class\n",
      "s schoolmates and the fatuous expectaÂ ¬ tions of Fowlshiels . But at last in h\n",
      "the Kirk of Scotland . He was so obviÂ ¬ ously qualified by ( yet again ) â  \n"
     ]
    }
   ],
   "source": [
    "lgg.concordance(\"¬\")"
   ]
  },
  {
   "cell_type": "markdown",
   "id": "facial-snowboard",
   "metadata": {},
   "source": [
    "To remove a substring (a selection of characters in a string), we can use an empty string (either `\"\"` or `''`) as the second input for the `replace()` method.  Just remember to set the Text object followed by this method to a variable, otherwise your changes won't be saved!"
   ]
  },
  {
   "cell_type": "code",
   "execution_count": 19,
   "id": "demographic-allen",
   "metadata": {},
   "outputs": [],
   "source": [
    "# .replace() must be used on a string object, not a Text object\n",
    "lgg_str = wordlists.raw()\n",
    "# your code here\n",
    "lgg_str = lgg_str.replace(\"Â ¬ \",\"\")"
   ]
  },
  {
   "cell_type": "code",
   "execution_count": 20,
   "id": "humanitarian-throw",
   "metadata": {},
   "outputs": [
    {
     "name": "stdout",
     "output_type": "stream",
     "text": [
      "no matches\n"
     ]
    }
   ],
   "source": [
    "# .concordance() must be used on a Text object, not a string object\n",
    "corpus_tokens = word_tokenize(lgg_str)\n",
    "lgg = nltk.Text(corpus_tokens)\n",
    "lgg.concordance(\"¬\")"
   ]
  },
  {
   "cell_type": "markdown",
   "id": "minimal-primary",
   "metadata": {},
   "source": [
    "It worked!\n",
    "\n",
    "Let's try using RegEx to clean the text now. Write a regular expression which finds seqences consisting of one or more alphabetic characters, followed by 'â' or 'Â'"
   ]
  },
  {
   "cell_type": "code",
   "execution_count": 21,
   "id": "developed-athens",
   "metadata": {},
   "outputs": [],
   "source": [
    "sequence = \"[a-zA-Z]+[âÂ]\" # your code here\n",
    "re_pattern = re.compile(sequence)"
   ]
  },
  {
   "cell_type": "code",
   "execution_count": 22,
   "id": "coastal-frame",
   "metadata": {},
   "outputs": [],
   "source": [
    "digit_errors = re_pattern.findall(lgg_str)"
   ]
  },
  {
   "cell_type": "code",
   "execution_count": 23,
   "id": "accepting-avenue",
   "metadata": {},
   "outputs": [
    {
     "data": {
      "text/plain": [
       "27456"
      ]
     },
     "execution_count": 23,
     "metadata": {},
     "output_type": "execute_result"
    }
   ],
   "source": [
    "len(digit_errors)"
   ]
  },
  {
   "cell_type": "code",
   "execution_count": 24,
   "id": "dramatic-sheriff",
   "metadata": {},
   "outputs": [
    {
     "data": {
      "text/plain": [
       "6559"
      ]
     },
     "execution_count": 24,
     "metadata": {},
     "output_type": "execute_result"
    }
   ],
   "source": [
    "unique_errors = list(set(digit_errors))\n",
    "len(unique_errors)"
   ]
  },
  {
   "cell_type": "code",
   "execution_count": 25,
   "id": "rural-airplane",
   "metadata": {},
   "outputs": [
    {
     "name": "stdout",
     "output_type": "stream",
     "text": [
      "['stayÂ', 'glimÂ', 'inhumanâ', 'suitÂ', 'superÂ', 'Metapontumâ', 'Mollyâ', 'wheatâ', 'Seddehâ', 'eveningâ', 'borÂ', 'Gabrielâ', 'airsâ', 'publishersâ', 'eraâ', 'imaginedâ', 'Pootyâ', 'stairsâ', 'antiÂ', 'inspirationâ', 'Monboddoâ', 'Nineâ', 'interiorâ', 'aluminÂ', 'ladâ', 'Churchillâ', 'glowÂ', 'latchÂ', 'Wahhabiâ', 'examinationsâ', 'inscrutablyâ', 'gÂ', 'wickedâ', 'howlingâ', 'indeedâ', 'summerÂ', 'overlookerâ', 'apÂ', 'CapÂ', 'halfÂ', 'Kalaunâ', 'Isabelâ', 'InnumerÂ', 'beggarsâ', 'Sennacheribâ', 'wonÂ', 'briochesâ', 'ungraciousâ', 'killâ', 'adornÂ', 'contraÂ', 'posteriorâ', 'standÂ', 'formâ', 'Onceâ', 'agriÂ', 'boundâ', 'taleâ', 'changeâ', 'Ereâ', 'handiÂ', 'attainedâ', 'Pharaohâ', 'appreciaÂ', 'proÂ', 'musÂ', 'longerâ', 'bookieâ', 'euphemÂ', 'EmÂ', 'Iliadâ', 'aliveâ', 'Kirstyâ', 'charactersâ', 'fertilisÂ', 'asideâ', 'Geordieâ', 'classâ', 'Lemnosâ', 'boarâ', 'Generationâ', 'laughterâ', 'cultsâ', 'battalionsâ', 'tradesâ', 'guardâ', 'mistressâ', 'Draytonâ', 'copperâ', 'travellerâ', 'Yorkâ', 'Hasnâ', 'askâ', 'commingledâ', 'capriciÂ', 'archaeologyâ', 'religionsâ', 'generÂ', 'loudlyâ', 'Landâ']\n"
     ]
    }
   ],
   "source": [
    "print(unique_errors[:100])"
   ]
  },
  {
   "cell_type": "markdown",
   "id": "empty-closing",
   "metadata": {},
   "source": [
    "Since the `â` character keeps appearing at the end of tokens, let's first re-tokenise `lgg_str`, then create use `strip()` to remove them for practice with that method!"
   ]
  },
  {
   "cell_type": "code",
   "execution_count": 26,
   "id": "collaborative-christmas",
   "metadata": {},
   "outputs": [
    {
     "name": "stdout",
     "output_type": "stream",
     "text": [
      "['R', ',', '17U', '\\\\', '(', 'o', 'First', 'journey', 'National', 'Library', 'of', 'Scotland', 'â\\x80\\x98B000054136', '*', 'TIMBUCTOO', 'NIGER', 'BY', 'THE', 'SAME', 'AUTHOR', 'Novels', 'forming', 'the', 'trilogy', ',', 'A', 'Scots', 'Quair', 'Part', 'I.', 'Sunset', 'Song', '(', '1932', ')', 'Part', 'II', '.', 'Cloud', 'Howe', '(', '1933', ')', 'Part', 'III', '.', 'Grey', 'Granite', '(', '1934', ')', 'MUNCiO', 'PARK', 'NIGER', 'THE', 'LIFE', 'OF', 'MUNGO', 'PARK', 'BY', 'LEWIS', 'GRASSIC', 'GIBBON', 'EDINBURGH', 'THE', 'PORPOISE', 'PRESS', 'FIRST', 'PUBLISHED', 'IN', '1034', 'BY', 'THE', 'PORPOISE', 'PRESS', 'I33A', 'GEORGE', 'STREET', ',', 'EDINBURGH', 'LONDON', '*', '.', 'FABER', 'AND', 'FABER', 'LIMITED', '24', 'RUSSELL', 'SQUARE', ',', 'W.G', '.', 'I', 'PRINTED', 'IN', 'SCOTLAND', 'BY', 'ROBERT', 'MACLEHOSE']\n"
     ]
    }
   ],
   "source": [
    "# first, re-tokenise\n",
    "lgg_tokens = word_tokenize(lgg_str)\n",
    "print(lgg_tokens[:100])"
   ]
  },
  {
   "cell_type": "markdown",
   "id": "aeae620e",
   "metadata": {},
   "source": [
    "Let's make a function that strips 'â' from our tokens"
   ]
  },
  {
   "cell_type": "code",
   "execution_count": 27,
   "id": "straight-ebony",
   "metadata": {
    "scrolled": false
   },
   "outputs": [
    {
     "name": "stdout",
     "output_type": "stream",
     "text": [
      "['R', ',', '17U', '\\\\', '(', 'o', 'First', 'journey', 'National', 'Library', 'of', 'Scotland', '\\x80\\x98B000054136', '*', 'TIMBUCTOO', 'NIGER', 'BY', 'THE', 'SAME', 'AUTHOR', 'Novels', 'forming', 'the', 'trilogy', ',', 'A', 'Scots', 'Quair', 'Part', 'I.', 'Sunset', 'Song', '(', '1932', ')', 'Part', 'II', '.', 'Cloud', 'Howe', '(', '1933', ')', 'Part', 'III', '.', 'Grey', 'Granite', '(', '1934', ')', 'MUNCiO', 'PARK', 'NIGER', 'THE', 'LIFE', 'OF', 'MUNGO', 'PARK', 'BY', 'LEWIS', 'GRASSIC', 'GIBBON', 'EDINBURGH', 'THE', 'PORPOISE', 'PRESS', 'FIRST', 'PUBLISHED', 'IN', '1034', 'BY', 'THE', 'PORPOISE', 'PRESS', 'I33A', 'GEORGE', 'STREET', ',', 'EDINBURGH', 'LONDON', '*', '.', 'FABER', 'AND', 'FABER', 'LIMITED', '24', 'RUSSELL', 'SQUARE', ',', 'W.G', '.', 'I', 'PRINTED', 'IN', 'SCOTLAND', 'BY', 'ROBERT', 'MACLEHOSE']\n"
     ]
    }
   ],
   "source": [
    "\n",
    "# Let's try it first with a sample subcorpus\n",
    "subcorpus = lgg_tokens[:1000]\n",
    "# your code here\n",
    "def strip_in_corpus(corpus, characters):\n",
    "    clean_corpus = []\n",
    "    for t in corpus:\n",
    "        new_t = t.strip(characters)\n",
    "        clean_corpus += [new_t]\n",
    "    return clean_corpus\n",
    "\n",
    "clean_subcorpus = strip_in_corpus(subcorpus, 'âÂ')\n",
    "print(clean_subcorpus[:100])\n"
   ]
  },
  {
   "cell_type": "markdown",
   "id": "f0518f6c",
   "metadata": {},
   "source": [
    "I've made a function to check exactly what is being changed in the subcorpus. Has this solved our â-problem?"
   ]
  },
  {
   "cell_type": "code",
   "execution_count": 28,
   "id": "888d4a76",
   "metadata": {},
   "outputs": [
    {
     "name": "stdout",
     "output_type": "stream",
     "text": [
      "{12: ('â\\x80\\x98B000054136', '\\x80\\x98B000054136'), 460: ('â\\x80\\x98', '\\x80\\x98'), 463: ('â\\x80\\x99', '\\x80\\x99'), 977: ('â\\x80\\x99', '\\x80\\x99'), 979: ('â\\x80\\x94else', '\\x80\\x94else')}\n"
     ]
    }
   ],
   "source": [
    "def compare_tokens(tokens1, tokens2):\n",
    "    diffs = {}\n",
    "    for i, pair in enumerate(zip(tokens1, tokens2)):\n",
    "        a, b = pair\n",
    "        if a!=b:\n",
    "            diffs[i] = (a, b)\n",
    "    return diffs\n",
    "\n",
    "print(compare_tokens(subcorpus, clean_subcorpus))"
   ]
  },
  {
   "cell_type": "markdown",
   "id": "eca001d0",
   "metadata": {},
   "source": [
    "It would appear not. OK, let's try making a function to show us all the tokens that contain the pattern matched by the regular expression we created earlier, `re_pattern`."
   ]
  },
  {
   "cell_type": "code",
   "execution_count": 29,
   "id": "518a91cc",
   "metadata": {},
   "outputs": [],
   "source": [
    "def corpus_find_pattern(corpus, pattern):\n",
    "    # your code here\n",
    "    problems = set()\n",
    "    for t in corpus:\n",
    "        if pattern.search(t):\n",
    "            problems.add(t)\n",
    "    return problems"
   ]
  },
  {
   "cell_type": "code",
   "execution_count": 30,
   "id": "be451e70",
   "metadata": {},
   "outputs": [
    {
     "name": "stdout",
     "output_type": "stream",
     "text": [
      "{'capriciÂ¬', 'Iâ\\x80\\x99ll', 'fellow-riderâ\\x80\\x94a', 'valueâ\\x80\\x94', 'hunterâ\\x80\\x94some', 'Cairoâ\\x80\\x9d', 'commercialismâ\\x80\\x94in', 'manâ\\x80\\x94had', 'travellerâ\\x80\\x94', 'Anarchistâ\\x80\\x94and', 'purseâ\\x80\\x94was', 'ploughÂ¬', 'lagoonâ\\x80\\x99s', 'paâ\\x84¢in', 'thinkâ\\x80\\x94oh', 'literaÂ¬', 'Westâ\\x80\\x94they', 'beforeâ\\x80\\x94there', 'Haeckelâ\\x80\\x99s', 'archaeologistâ\\x80\\x99s', 'awayâ\\x80\\x94a', 'roomsâ\\x80\\x94those', 'skeletonsâ\\x80\\x94all', 'noticeâ\\x80\\x94inexplicable', 'knowâ\\x80\\x94Iâ\\x80\\x99m', 'EnÂ¬', 'eyesâ\\x80\\x94Och', 'relativeâ\\x80\\x99s', 'seeksâ\\x80\\x94it', 'saidâ\\x80\\x94from', 'hillâ\\x80\\x94but', 'Irishmanâ\\x80\\x94were', 'catâ\\x80\\x99s', 'beâ\\x80\\x94', 'Mullinsâ\\x80\\x99s', 'horizonâ\\x80\\x94villages', 'Metaxaâ\\x80\\x94it', 'Denikenâ\\x80\\x99s', 'attainedâ\\x80\\x94that', 'typistâ\\x80\\x99s', 'Blasterâ\\x80\\x99s', 'wayâ\\x80\\x94and', 'likeâ\\x80\\x94', 'countrysideâ\\x80\\x94â\\x80\\x9cwide', 'Songsâ\\x80\\x94except', 'yâ\\x80\\x99know', 'Hierarchsâ\\x80\\x94they', 'braceÂ¬', 'Londosâ\\x80\\x99s', 'Lifeâ\\x80\\x94any', 'northâ\\x80\\x94her', 'sleepâ\\x80\\x94the', 'whistlingâ\\x80\\x94and', 'lanÂ¬', 'lifeâ\\x80\\x9d', 'atheistsâ\\x80\\x99', 'restÂ¬', 'Robertâ\\x80\\x94never', 'strikeâ\\x80\\x94', 'â\\x80\\x98ismâ\\x80\\x99', 'Coatâ\\x80\\x99s', '.tâ\\x80\\x9e', 'settlementâ\\x80\\x94', 'roofÂ¬', 'Stillâ\\x80\\x94she', 'inventorâ\\x80\\x99s', 'residenceâ\\x80\\x94it', 'sheâ\\x80\\x94she', 'airÂ¬', 'childrenâ\\x80\\x94sometimeâ\\x80\\x94just', 'parÂ¬', 'changÂ¬', 'susÂ¬', 'PracÂ¬', 'surgeonâ\\x80\\x99s', 'journeyingsâ\\x80\\x94sleeping', 'Kylandâ\\x80\\x99s', 'willâ\\x80\\x94if', 'Meantimeâ\\x80\\x94one', 'DECORAÂ¬', 'culminatÂ¬', 'menâ\\x80\\x94as', 'stupeÂ¬', 'wide-scatÂ¬', 'orâ\\x80\\x94which', 'placesâ\\x80\\x94', 'womenâ\\x80\\x94man', 'onceâ\\x80\\x94nor', 'un-friarâ\\x80\\x99ed', 'shoulder-bandâ\\x80\\x94whom', 'kirkâ\\x80\\x99s', 'followÂ¬', 'knowâ\\x80\\x94yet', 'fetchedâ\\x80\\x94a', 'civilisationâ\\x80\\x94the', 'â\\x80\\x9cButâ\\x80\\x94Iâ\\x80\\x99ve', 'itâ\\x80\\x94over', 'Landwardâ\\x80\\x99s', 'engageÂ¬', 'boredomâ\\x80\\x94unceasingly', 'cleanâ\\x80\\x94when', 'â\\x80\\x9cdeath-godâ\\x80\\x9d', 'particuÂ¬', 'Stranlayâ\\x80\\x94', 'ledâ\\x80\\x94where', 'â\\x80\\x98Donâ\\x80\\x99t', 'tâ\\x80\\x9d', 'Bronxâ\\x80\\x94and', 'Montejoâ\\x80\\x99s', 'Lakeâ\\x80\\x94', 'â\\x80\\x98Thatâ\\x80\\x99s', 'bachelorsâ\\x80\\x99', 'awayâ\\x80\\x94or', 'heroesâ\\x80\\x99', 'Haeckelâ\\x80\\x94all', 'Pitmanâ\\x80\\x99s', 'wineâ\\x80\\x94except', 'becauseâ\\x80\\x94because', 'summerâ\\x80\\x94daft', 'combinaÂ¬', 'denyÂ¬', 'astonishÂ¬', 'plainÂ¬', 'TriÂ¬', 'reasonÂ¬', 'Steynâ\\x80\\x94where', 'worshipÂ¬', 'endâ\\x80\\x9d', 'beastÂ¬', 'oâ\\x80\\x99er', 'doubtâ\\x80\\x94Sicily', 'ofâ\\x80\\x94a', 'Beastsâ\\x80\\x94', 'Roadâ\\x80\\x9d', 'dawn-menâ\\x80\\x94godless', 'nightâ\\x80\\x94he', 'speculaÂ¬', 'hereâ\\x80\\x9dâ\\x80\\x94his', 'colÂ¬', 'Whoâ\\x80\\x99d', 'madameâ\\x80\\x94like', 'Huhâ\\x80\\x94immacuÂ¬', 'Peopleâ\\x80\\x99s', 'sucÂ¬', 'deadâ\\x80\\x94murdered', 'Mondayâ\\x80\\x94and', 'worldâ\\x80\\x94that', 'watcherâ\\x80\\x94it', 'tailÂ¬', 'â\\x80\\x9cbendâ\\x80\\x9d', 'searchÂ¬', 'Conquerorsâ\\x80\\x99', 'diviÂ¬', 'sawâ\\x80\\x94saw', 'condiÂ¬', 'Outâ\\x80\\x9d', 'banksâ\\x80\\x99ll', 'Jewsâ\\x80\\x94the', 'quesÂ¬', 'Thingâ\\x80\\x94and', 'ruleâ\\x80\\x94great', 'IndeÂ¬', 'satisÂ¬', 'Crixusâ\\x80\\x94that', 'Nealeeâ\\x80\\x99s', 'junglesâ\\x80\\x94they', 'lifeâ\\x80\\x94and', 'companionshipâ\\x80\\x94comÂ¬', 'herâ\\x80\\x94when', 'Kiplingâ\\x80\\x99s', 'turnÂ¬', 'horribleâ\\x80\\x94like', 'Impartialityâ\\x80\\x99s', 'awayâ\\x80\\x99', 'themâ\\x80\\x94look', 'Warâ\\x80\\x94armiesâ\\x80\\x94treks', 'Mowatâ\\x80\\x94', 'Tyrantâ\\x80\\x9d', 'toffâ\\x80\\x99s', 'mountÂ¬', 'Warâ\\x80\\x94for', 'beerÂ¬', 'seenâ\\x80\\x94tall', 'ThompÂ¬', 'ice-hailâ\\x80\\x94at', 'scarletâ\\x80\\x99â\\x80\\x94I', 'daysâ\\x80\\x99', 'threeâ\\x80\\x94one', 'appearÂ¬', 'â\\x80\\x98Fatherâ\\x80\\x94we', 'secondÂ¬', 'longâ\\x80\\x94or', 'keepÂ¬', 'Englandâ\\x80\\x94', 'juldiâ\\x80\\x99sâ\\x80\\x94with', 'praetorâ\\x80\\x99s.â\\x80\\x99', 'taleâ\\x80\\x94but', 'prognosticatÂ¬', 'Iâ\\x80\\x99ve', 'dawn-windâ\\x80\\x94that', 'Stillâ\\x80\\x94perhaps', 'endâ\\x80\\x94of', 'instrucÂ¬', 'Clairâ\\x80\\x94', 'memoriesâ\\x80\\x94her', 'rulerâ\\x80\\x99s', 'Gamaâ\\x80\\x94the', 'Dâ\\x80\\x99Albe', 'whyâ\\x80\\x94unless', 'insurrecÂ¬', 'herâ\\x80\\x94stiflingly', 'mannerâ\\x80\\x94breath-taking', 'communiÂ¬', 'yetâ\\x80\\x94one', 'â\\x80\\x98GoodÂ¬', 'heartlessÂ¬', 'wordsâ\\x80\\x94a', 'Mariaâ\\x80\\x99s', 'Robertâ\\x80\\x94had', 'Quiriguaâ\\x80\\x99s', 'Aliensâ\\x80\\x99', 'nonÂ¬', 'historiesâ\\x80\\x94oh', 'Soâ\\x80\\x94and', 'hobbleÂ¬', 'idleceitâ\\x80\\x99s', 'blueâ\\x80\\x94an', 'thingsâ\\x80\\x94why', 'docuÂ¬', 'Laidleyâ\\x80\\x99s', 'lean-toâ\\x80\\x99s', 'appreciaÂ¬', 'WhatÂ¬', 'fallâ\\x80\\x9d', 'Onlyâ\\x80\\x94Iâ\\x80\\x99ve', 'notâ\\x80\\x9dâ\\x80\\x94grimly', 'bÂ', 'bloodÂ¬', 'MalaÂ¬', 'singerâ\\x80\\x99s', 'animalsâ\\x80\\x94beasts', 'Kaartansâ\\x80\\x99', 'Brassâ\\x80\\x9d', 'Armourâ\\x80\\x9d', 'tinglingâ\\x80\\x94Blawearieâ\\x80\\x99s', 'combatantsâ\\x80\\x94the', 'Kirstyâ\\x80\\x99s', 'Beatsonâ\\x80\\x99s', 'placesâ\\x80\\x94Scotland', 'immeÂ¬', 'Rogerâ\\x80\\x94a', 'rainâ\\x80\\x99s', 'meâ\\x80\\x94at', 'coverÂ¬', 'quiltâ\\x80\\x94', 'knowâ\\x80\\x94whatever', 'goatÂ¬', 'gersâ\\x80\\x94succeeded', 'stonemasonâ\\x80\\x99s', 'Cubaâ\\x80\\x94how', 'changeâ\\x80\\x94and', 'WhereÂ¬', 'Belshazzarâ\\x80\\x99s.â\\x80\\x9d', 'menâ\\x80\\x94poor', 'SaturÂ¬', 'Alickâ\\x80\\x99s', 'â\\x80\\x9cEskimoâ\\x80\\x9d', 'mystiÂ¬', 'â\\x80\\x98Remâ\\x80\\x94weâ\\x80\\x99ve', 'twitterÂ¬', 'Oâ\\x80\\x99Donnell.â\\x80\\x99', 'Romeâ\\x80\\x94how', 'wasâ\\x80\\x94those', 'RingÂ¬', 'stomach-woundâ\\x80\\x94war-relic', 'mudâ\\x80\\x94oh', 'hereâ\\x80\\x99ll', 'ploughmenâ\\x80\\x99s', 'braveâ\\x80\\x94that', 'excuseâ\\x80\\x94or', 'sailorâ\\x80\\x99s', 'faintlyâ\\x80\\x94on', 'Janeâ\\x80\\x94somewhere', 'anotherâ\\x80\\x94but', 'Brownâ\\x80\\x99s', 'streetâ\\x80\\x94the', 'chokerâ\\x80\\x99s', 'wherÂ¬', 'Burtonâ\\x80\\x99s', 'boysâ\\x80\\x99', 'secretaryâ\\x80\\x99s', 'explorerâ\\x80\\x99s', 'sufferÂ¬', 'Thalesâ\\x80\\x99s', 'tionsâ\\x80\\x94funny', 'unfreÂ¬', 'studentâ\\x80\\x94a', 'wasâ\\x80\\x94damnâ\\x80\\x99t', 'ConÂ¬', 'Womanâ\\x80\\x99s', 'Hebrewâ\\x80\\x94this', 'yoursâ\\x80\\x94about', 'NarÂ¬', 'Ellisonâ\\x80\\x99d', 'crimsonâ\\x80\\x94splashed', 'monkeyâ\\x80\\x94damnâ\\x80\\x99t', 'Adolfâ\\x80\\x99s', 'curiosiÂ¬', 'byâ\\x80\\x94one', 'brideâ\\x80\\x99s', 'architectâ\\x80\\x94a', 'Youâ\\x80\\x99reâ\\x80\\x94oh', 'Remâ\\x80\\x94', 'triumÂ¬', 'street-crawlÂ¬', 'Lordâ\\x80\\x99s', 'inspirationâ\\x80\\x94this', 'hairâ\\x80\\x94you', 'Accentâ\\x80\\x94intonationâ\\x80\\x94some', 'surgeryâ\\x80\\x94dental', 'pampasâ\\x80\\x94and', 'Butâ\\x80\\x94oh', 'spermatozoonâ\\x80\\x94rather', 'onâ\\x80\\x94I', 'nightâ\\x80\\x94never', 'intelÂ¬', 'Glasgowâ\\x80\\x94that', 'nowâ\\x80\\x94John', 'workâ\\x80\\x94an', 'mistressâ\\x80\\x94should', 'clothesâ\\x80\\x94', 'Houseâ\\x80\\x94and', 'â\\x80\\x9cneurasÂ¬', 'himâ\\x80\\x94mental', 'rock-cakesâ\\x80\\x94do', 'bettersâ\\x80\\x94well', 'Ellenâ\\x80\\x99s', 'sortâ\\x80\\x94so', 'unceremoniÂ¬', 'basmâ\\x80\\x94this', 'Carlyleâ\\x80\\x99s', 'entertainÂ¬', 'matterâ\\x80\\x94daft', 'notâ\\x80\\x94he', 'archwayâ\\x80\\x94', 'HowÂ¬', 'feltâ\\x80\\x94or', 'Yorkâ\\x80\\x94itâ\\x80\\x99s', 'contentmentâ\\x80\\x94and', 'theyâ\\x80\\x94to', 'Beringâ\\x80\\x99s', 'galleryâ\\x80\\x94^pictures', 'anachronismâ\\x80\\x99s', 'detailsâ\\x80\\x94you', 'Kuchikâ\\x80\\x99s', 'â\\x80\\x9cpriestâ\\x80\\x9d', 'disemÂ¬', 'TigerSâ\\x80\\x99', 'Thisâ\\x80\\x94itâ\\x80\\x99s', 'itselfâ\\x80\\x94and', 'â\\x80\\x98saltingâ\\x80\\x99', 'blockâ\\x80\\x94rollers', 'exampleâ\\x80\\x94show', 'tipÂ¬', 'Godsâ\\x80\\x9d', 'walkedâ\\x80\\x94he', 'approachÂ¬', 'Isabellaâ\\x80\\x94for', 'tarÂ¬', 'carÂ¬', 'wonâ\\x80\\x99tâ\\x80\\x94no', 'thoughtâ\\x80\\x94albeit', 'somnoÂ¬', 'beingâ\\x80\\x94the', 'discâ\\x80\\x99â\\x80\\x94she', 'ChristÂ¬', 'bayâ\\x80\\x9d', 'hellâ\\x80\\x94a', 'undisÂ¬', 'Archieâ\\x80\\x99s', 'aliveâ\\x80\\x94calling', 'oâ\\x80\\x99clock.â\\x80\\x9d', 'Parryâ\\x80\\x99s', 'Backâ\\x80\\x94she', 'toÂ¬', 'chanceâ\\x80\\x94more', 'islandsâ\\x80\\x9d', 'yearsâ\\x80\\x94living', 'Onlyâ\\x80\\x94eâ\\x80\\x99s', 'Princessâ\\x80\\x99s', 'Hunhunahpuâ\\x80\\x99s', 'hogâ\\x80\\x99s', 'travel-booksâ\\x80\\x94reÂ¬', 'agoâ\\x80\\x94a', 'meâ\\x80\\x94and', 'animalsâ\\x80\\x94it', 'Christâ\\x80\\x94and', 'twoâ\\x80\\x94promise', 'likeÂ¬', 'Iâ\\x80\\x94decant.â\\x80\\x99', 'Hierarchiesâ\\x80\\x94they', 'grinÂ¬', 'outâ\\x80\\x94itâ\\x80\\x99s', 'expeditionâ\\x80\\x94or', 'Cityâ\\x80\\x94all', 'daysâ\\x80\\x94though', 'anarchistâ\\x80\\x94he', 'lieâ\\x80\\x94or', 'Yesâ\\x80\\x94I', 'friendâ\\x80\\x9d', 'yoursâ\\x80\\x94not', 'Youâ\\x80\\x99re', 'Rossettiâ\\x80\\x99s', 'Andersonâ\\x80\\x94this', 'Saharaâ\\x80\\x94', 'Englishâ\\x80\\x94', 'EgyptolÂ¬', 'groveâ\\x80\\x99s', 'teneÂ¬', 'polecatâ\\x80\\x99s', 'pettiÂ¬', 'appropriateâ\\x80\\x94to', 'lifeâ\\x80\\x94is', 'Spenglerâ\\x80\\x94him', 'Nationsâ\\x80\\x9d', 'Peteliaâ\\x80\\x94he', 'inscripÂ¬', 'Kaartaâ\\x80\\x99s', 'â\\x80\\x98sirâ\\x80\\x99', 'manâ\\x80\\x99d', 'dayâ\\x80\\x9d', 'bellâ\\x80\\x94', 'againâ\\x80\\x94a', 'inconÂ¬', 'Yearsâ\\x80\\x99', 'wordsâ\\x80\\x94', 'amusementâ\\x80\\x94a', 'Seasâ\\x80\\x94Terra', 'coldÂ¬', 'mountainsâ\\x80\\x94I', 'Dayâ\\x80\\x94', 'lizardâ\\x80\\x99s', 'Sednaouiâ\\x80\\x99s', 'Hondiusâ\\x80\\x99s', 'wildÂ¬', 'mathematicianâ\\x80\\x99s', 'Helmutâ\\x80\\x94â\\x80\\x99', 'glisÂ¬', 'plantÂ¬', 'Bâ\\x80\\x99God', 'Scotlandâ\\x80\\x99s', 'blowÂ¬', 'centuryâ\\x80\\x94he', 'BamÂ¬', 'thenâ\\x80\\x94they', 'capeâ\\x80\\x9d', 'workerâ\\x80\\x99s', 'GuateÂ¬', 'hunterâ\\x80\\x94his', 'stillâ\\x80\\x94we', 'Giveâ\\x80\\x99s', 'braeâ\\x80\\x99s', 'Warrensâ\\x80\\x94that', 'MesoÂ¬', 'horrifiedâ\\x80\\x94and', 'togetherâ\\x80\\x94a', 'littleâ\\x80\\x94or', \"'UÂ\", 'Atlanticâ\\x80\\x94and', 'statesmanÂ¬', 'strangerâ\\x80\\x99s', 'Andersonâ\\x80\\x99s', 'nightâ\\x80\\x94â\\x80\\x94â\\x80\\x99', 'skiesâ\\x80\\x94pylons', 'sand-productâ\\x80\\x94and', 'ArchiÂ¬', 'slavesâ\\x80\\x99', 'Somethingâ\\x80\\x94some', 'flummeryâ\\x80\\x99s', 'lookedâ\\x80\\x94not', 'unexÂ¬', 'â\\x80\\x98Heâ\\x80\\x99d', 'granite-masonâ\\x80\\x99s', 'encountersâ\\x80\\x94from', 'maybeâ\\x80\\x99d', 'Dembaâ\\x80\\x99s', 'Mâ\\x80\\x99m', 'novelâ\\x80\\x99s', 'Ramsayâ\\x80\\x99s', 'effulÂ¬', 'hisâ\\x80\\x94', 'wontâ\\x80\\x94', 'beeâ\\x80\\x94Iâ\\x80\\x99d', 'yearâ\\x80\\x94about', 'incidentâ\\x80\\x94Kalaun', 'leggingâ\\x80\\x99d', 'Chirikovâ\\x80\\x99s', 'consolaÂ¬', 'Calvinistâ\\x80\\x99s', 'donâ\\x80\\x99t-touch-me', 'bootsâ\\x80\\x94juldi', 'Havenâ\\x80\\x99t', 'CrocÂ¬', 'watchÂ¬', 'blackâ\\x80\\x94much', 'brandyâ\\x80\\x94I', 'meâ\\x80\\x9d', 'agoâ\\x80\\x94or', 'euphemÂ¬', 'Guthrieâ\\x80\\x99s', 'funnyâ\\x80\\x94even', 'heardâ\\x80\\x99s', 'opinionsâ\\x80\\x94what', 'Rashidaâ\\x80\\x9d', 'teachÂ¬', 'armâ\\x80\\x94Come', 'withoutâ\\x80\\x94', 'lightâ\\x80\\x94probably', 'andâ\\x80\\x94shot-guns.â\\x80\\x99', 'islandsâ\\x80\\x94the', 'presentlyâ\\x80\\x94else', 'forâ\\x80\\x99t', 'shouldersâ\\x80\\x9d', 'disablementâ\\x80\\x94firing', 'Butâ\\x80\\x94all', 'journeyâ\\x80\\x94Londos', 'cavernÂ¬', 'Partyâ\\x80\\x94like', 'Iâ\\x80\\x94God', 'effiÂ¬', 'bloodâ\\x80\\x947iothing', 'â\\x80\\x9cYouâ\\x80\\x99ve', 'treesâ\\x80\\x94she', 'relationâ\\x80\\x94remains', 'Dunnottarâ\\x80\\x99s', 'tendernessâ\\x80\\x94the', 'scholarsâ\\x80\\x99', 'mouthÂ¬', 'beyondâ\\x80\\x94', 'stateÂ¬', 'exigÂ¬', 'idiomsâ\\x80\\x94untranslatable', 'cannilyâ\\x80\\x94and', 'Drumâ\\x80\\x99.ithie', 'premoniÂ¬', 'lookedâ\\x80\\x94fey', 'yearsâ\\x80\\x9d', 'Almaniâ\\x80\\x99s', 'metâ\\x80\\x94oh', 'earth-conÂ¬', 'itâ\\x80\\x94donâ\\x80\\x99t', 'Tauraâ\\x80\\x99s', 'shipâ\\x80\\x94never', 'Dembaâ\\x80\\x94yet', 'Baqubahâ\\x80\\x94still', 'Kleonâ\\x80\\x99s', 'Mainsâ\\x80\\x94theyâ\\x80\\x99d', 'heartâ\\x80\\x94that', 'crystalÂ¬', 'trueâ\\x80\\x94there', 'handâ\\x80\\x94on', 'timeâ\\x80\\x94London', 'Mayasâ\\x80\\x94Mayas', 'countryâ\\x80\\x94except', 'Hulaguâ\\x80\\x99s', 'byâ\\x80\\x94and', 'sanctifiedâ\\x80\\x94or', 'monthâ\\x80\\x94freedom', 'roanâ\\x80\\x99s', 'coronaâ\\x80\\x99ed', 'leaveâ\\x80\\x94a', 'morningâ\\x80\\x94the', 'politeÂ¬', 'eitherâ\\x80\\x94Marrot', 'zestâ\\x80\\x94â\\x80\\x98', 'tounsâ\\x80\\x94and', 'prevailedâ\\x80\\x94so-called', 'pipeÂ¬', 'kitchenâ\\x80\\x94awful', 'Morningâ\\x80\\x94the', 'Guineaâ\\x80\\x9d', 'itâ\\x80\\x94â\\x80\\x99', 'Remâ\\x80\\x99s', 'beliefsâ\\x80\\x94a', 'thereâ\\x80\\x94oh', 'straightÂ¬', 'ampliÂ¬', 'pigâ\\x80\\x99s', 'canâ\\x80\\x99t.â\\x80\\x9d', 'daysâ\\x80\\x94', 'twenty-eightâ\\x80\\x94at', 'Smithieâ\\x80\\x99s', 'astrayâ\\x80\\x94And', 'settleÂ¬', 'supperâ\\x80\\x94young', 'likeâ\\x80\\x94your', 'fableâ\\x80\\x94visions', 'sardonicÂ¬', 'calendarâ\\x80\\x94not', 'formâ\\x80\\x94', 'wifeâ\\x80\\x99s', 'Folkâ\\x80\\x99â\\x80\\x94he', 'Nansenâ\\x80\\x99s', 'whenXâ\\x80\\x99d', 'Admiralâ\\x80\\x99s', 'admirerâ\\x80\\x94possibly', 'posiÂ¬', 'syncopationâ\\x80\\x94it', 'â\\x80\\x9cFloodsâ\\x80\\x94itâ\\x80\\x99s', 'wantedâ\\x80\\x94after', 'layâ\\x80\\x94it', 'himselfâ\\x80\\x94or', 'thereâ\\x80\\x94the', 'Treaseâ\\x80\\x99s', 'minuteâ\\x80\\x94oh', 'againâ\\x80\\x94', 'hadâ\\x80\\x94how', 'starsâ\\x80\\x94it', 'Robertâ\\x80\\x94Robert', 'supposedâ\\x80\\x94For', 'statuetteâ\\x80\\x94and', 'preachingâ\\x80\\x94he', 'untrustÂ¬', 'mistressâ\\x80\\x94oh', 'impresÂ¬', 'centuryâ\\x80\\x94Akhnaton', 'voluntaryâ\\x80\\x94which', 'socialÂ¬', 'itâ\\x80\\x94it', 'hosÂ¬', 'â\\x80\\x9cVerdiâ\\x80\\x9d', 'offeredâ\\x80\\x94in', 'achedâ\\x80\\x94she', 'Narvaezâ\\x80\\x99', 'speakÂ¬', 'nightsâ\\x80\\x94his', 'Mollieâ\\x80\\x99s', 'wellâ\\x80\\x94an', 'comprehendâ\\x80\\x94symbolized', 'newsâ\\x80\\x94to', 'strikerâ\\x80\\x99s', 'upâ\\x80\\x94at', 'admitÂ¬', 'moorâ\\x80\\x94Get', 'dâ\\x80\\x99Abrei', 'Murrayâ\\x80\\x99s', 'bedsâ\\x80\\x94hide', 'worldâ\\x80\\x94a', 'MacDonaldâ\\x80\\x99s', 'DarkÂ¬', 'â\\x80\\x9cHowâ\\x80\\x99d', 'lookâ\\x80\\x94as', 'mountainsâ\\x80\\x94', 'rocksâ\\x80\\x94it', 'thatâ\\x80\\x94it', 'sexâ\\x80\\x94when', 'heatâ\\x80\\x94Christ', 'workâ\\x80\\x94for', 'cusÂ¬', 'swordsâ\\x80\\x94and', 'dreamsâ\\x80\\x94collapse', 'rasÂ¬', 'publicaÂ¬', 'courtyardâ\\x80\\x94and', 'ploysâ\\x80\\x94blowing', 'thatâ\\x80\\x94in', 'Iâ\\x80\\x94Gerryâ\\x80\\x94Bill.â\\x80\\x99', 'theyâ\\x80\\x94what', 'pyramidÂ¬', 'horseâ\\x80\\x94a', 'smithâ\\x80\\x99s', 'â\\x80\\x9cjungle-leechâ\\x80\\x9d', 'peacefulâ\\x80\\x94the', 'Manâ\\x80\\x94who', 'EnglishÂ¬', 'salesmanâ\\x80\\x94', 'righteousnessâ\\x80\\x94passing', 'wifeâ\\x80\\x94he', 'careÂ¬', 'frockâ\\x80\\x94would', 'thatâ\\x80\\x94faith', 'historyâ\\x80\\x94', 'citiesâ\\x80\\x94the', 'ghettoâ\\x80\\x94if', 'deadÂ¬', 'â\\x80\\x94theyâ\\x80\\x99d', 'Civilizationâ\\x80\\x94that', 'floorÂ¬', 'Colquohounâ\\x80\\x94shame', 'spearâ\\x80\\x94one', 'strangersâ\\x80\\x94so', 'manipuÂ¬', 'Expeditionâ\\x80\\x99s', 'Smyrnaâ\\x80\\x94Smyrna', 'lessâ\\x80\\x94trek', 'agoâ\\x80\\x94that', 'curiosityâ\\x80\\x94a', 'mullahâ\\x80\\x99s', 'worthâ\\x80\\x99s', 'sureâ\\x80\\x94he', 'Rectorâ\\x80\\x99s', 'Antonâ\\x80\\x94and', 'complicationâ\\x80\\x94', 'manufacturerâ\\x80\\x94surely', 'powerlessâ\\x80\\x94all', 'Gemadiosâ\\x80\\x99s', 'enheartenedâ\\x80\\x94till', 'â\\x80\\x94Iâ\\x80\\x99ll', 'fleshâ\\x80\\x94', 'imperaÂ¬', 'generationâ\\x80\\x99s', 'compensaÂ¬', 'quashedâ\\x80\\x94Ake', 'storyâ\\x80\\x94than', 'chairâ\\x80\\x94it', 'Iâ\\x80\\x99mâ\\x80\\x94', 'week-endâ\\x80\\x94somebody', 'Thenâ\\x80\\x94a', 'middenâ\\x80\\x94if', 'Esterâ\\x80\\x99s', 'floundÂ¬', 'acquaintanceâ\\x80\\x94myselfâ\\x80\\x94were', 'infinityâ\\x80\\x94', 'â\\x80\\x9cWhatâ\\x80\\x99s', 'Stoddartâ\\x80\\x99s', 'accepÂ¬', 'welcomeâ\\x80\\x94the', 'emergÂ¬', 'weepâ\\x80\\x94to', 'Onlyâ\\x80\\x94â\\x80\\x99', 'figuresâ\\x80\\x94', 'FalÂ¬', 'Menâ\\x80\\x94the', 'relucÂ¬', 'sergeantâ\\x80\\x99s', 'Voicesâ\\x80\\x94â\\x80\\x98of', 'chooseâ\\x80\\x94yet', 'Londonâ\\x80\\x94or', 'damsâ\\x80\\x94the', 'â\\x80\\x98presentâ\\x80\\x99', 'backÂ¬', 'companionsâ\\x80\\x94indeed', 'Spaniardsâ\\x80\\x94they', 'marrowÂ¬', 'reawakenÂ¬', 'doorwayâ\\x80\\x94and', 'Iâ\\x80\\x94Anton', 'shimÂ¬', 'to-dayâ\\x80\\x94', 'callyâ\\x80\\x94a', 'explanÂ¬', 'whatÂ¬', 'saidâ\\x80\\x94but', 'drunkâ\\x80\\x94', 'nameâ\\x80\\x94Suzanna', 'swordsâ\\x80\\x9d', 'Armsâ\\x80\\x94or', 'Songâ\\x80\\x9d', 'seaÂ¬', 'desolationâ\\x80\\x94the', 'themâ\\x80\\x94the', 'â\\x80\\x9comnibusâ\\x80\\x9d', 'Theyâ\\x80\\x99ve', 'messenÂ¬', 'sermonâ\\x80\\x94fair', 'animalsâ\\x80\\x94and', 'allâ\\x80\\x94stuff', 'kirkyardâ\\x80\\x94what', 'upâ\\x80\\x94Feeling', 'folÂ¬', 'designâ\\x80\\x94of', 'unbuttonÂ¬', 'sâ\\x80\\x99pose.â\\x80\\x99', 'drum-stickâ\\x80\\x94things', 'Jonasâ\\x80\\x99s', 'Registrarâ\\x80\\x99s', 'nightâ\\x80\\x99â\\x80\\x94I', 'rainsâ\\x80\\x94land', 'bell-flowersâ\\x80\\x94From', 'Englandâ\\x80\\x94God', 'Nebuchadnezzarâ\\x80\\x99s', 'Alwaysâ\\x80\\x94haunting', 'easyâ\\x80\\x94easy', 'templeâ\\x80\\x94it', 'fourâ\\x80\\x94one', 'Parkâ\\x80\\x99s', 'thereâ\\x80\\x94it', 'seriouslyâ\\x80\\x94the', 'fulfilÂ¬', 'chapsâ\\x80\\x94', 'writeâ\\x80\\x94I', 'Metaxaâ\\x80\\x94Robert', 'bedÂ¬', 'courseâ\\x80\\x94with', 'crowdedâ\\x80\\x94mostly', 'merchantsâ\\x80\\x99', 'tusksâ\\x80\\x94a', 'Willâ\\x80\\x99s', 'Manseâ\\x80\\x94a', 'conjurerâ\\x80\\x99s', 'nothingâ\\x80\\x94and', 'onâ\\x80\\x94that', 'astronomÂ¬', 'frightâ\\x80\\x9d', 'handleÂ¬', 'shinÂ¬', 'caravanâ\\x80\\x94it', 'keekÂ¬', 'onâ\\x80\\x94on', 'LonÂ¬', 'chamÂ¬', 'Lucaniaâ\\x80\\x94what', 'InstituÂ¬', 'raceâ\\x80\\x9d', 'lustsâ\\x80\\x94in', 'Lâ\\x80\\x99Amerique', 'flukesâ\\x80\\x94especially', 'itâ\\x80\\x94like', 'snarÂ¬', 'â\\x80\\x98MyÂ¬', 'agnosticâ\\x80\\x94him', 'knownâ\\x80\\x94except', 'reÂ¬', 'sunâ\\x80\\x99s', 'asâ\\x80\\x94grey', 'orchardâ\\x80\\x94pears', 'expensesâ\\x80\\x99', 'painÂ¬', 'bowelsâ\\x80\\x94a', 'cleverâ\\x80\\x94at', 'lohannesâ\\x80\\x99', 'diffusionâ\\x80\\x94to', 'Murgatroydâ\\x80\\x99s', 'sorcerersâ\\x80\\x94the', 'predominÂ¬', 'Ewanâ\\x80\\x99s', 'dumbÂ¬', 'nowâ\\x80\\x94better', 'smellâ\\x80\\x94you', 'idealisaÂ¬', 'wheepâ\\x80\\x94', 'againâ\\x80\\x94all', 'scientistâ\\x80\\x94', 'burÂ¬', 'Stanleyâ\\x80\\x99s', 'themselvesâ\\x80\\x94not', 'Wildeâ\\x80\\x99s', 'Testamentâ\\x80\\x94complete', 'liveâ\\x80\\x94now', 'bamÂ¬', 'Houghtonâ\\x80\\x94Mungo', 'cruelâ\\x80\\x94cruel', 'Shawâ\\x80\\x99s', 'askedâ\\x80\\x94but', 'changeâ\\x80\\x94sparrows', 'desertedâ\\x80\\x94', 'descendÂ¬', 'footnoteâ\\x80\\x94two', 'Indiaâ\\x80\\x9d', 'â\\x80\\x98realismâ\\x80\\x99', 'mind-obscuringâ\\x80\\x94the', 'unheardâ\\x80\\x94never', 'lastâ\\x80\\x9d', 'â\\x80\\x9ccyclesâ\\x80\\x9d', 'interiorâ\\x80\\x94captives', 'beâ\\x80\\x94all', 'stitchâ\\x80\\x94he', 'repreÂ¬', 'saidâ\\x80\\x94Eidon', 'Whateverâ\\x80\\x99s', 'mammieâ\\x80\\x99s', 'meantâ\\x80\\x94', 'themâ\\x80\\x9d', 'Mollyâ\\x80\\x99s', 'Cowgateâ\\x80\\x99s', 'alÂ¬', 'isâ\\x80\\x94or', 'fogâ\\x80\\x9d', 'thâ\\x84¢uSh', 'Touâ\\x80\\x99re', 'hierÂ¬', 'happenÂ¬', 'Redleafeâ\\x80\\x94a', 'controÂ¬', 'gullâ\\x80\\x94', 'thenâ\\x80\\x94that', 'Connanâ\\x80\\x94', 'maizeÂ¬', 'â\\x80\\x9cWhoâ\\x80\\x99s', 'cabin-boysâ\\x80\\x94on', 'DartÂ¬', 'cityâ\\x80\\x94each', 'thatâ\\x80\\x99ll', 'popuÂ¬', 'Ravelstonâ\\x80\\x99s', 'desiringâ\\x80\\x94those', 'deepâ\\x80\\x94a', 'Australisâ\\x80\\x94that', 'wellâ\\x80\\x94all', 'loopÂ¬', 'mathematÂ¬', 'remoteâ\\x80\\x94so', 'skillâ\\x80\\x94', 'trueâ\\x80\\x94what', 'towelsâ\\x80\\x94or', 'boyâ\\x80\\x94too', 'treatÂ¬', 'companyâ\\x80\\x94explorers', 'â\\x80\\x9cweâ\\x80\\x9d', 'safeâ\\x80\\x94', 'excelÂ¬', 'wasâ\\x80\\x94in', 'suggesÂ¬', 'pillowâ\\x80\\x99s', 'Spaniardâ\\x80\\x99s', 'nightâ\\x80\\x94two', 'advisableâ\\x80\\x94if', 'dâ\\x80\\x99Eirik', 'enduredâ\\x80\\x94at', 'excursionsâ\\x80\\x94to', 'Clareâ\\x80\\x99s', 'explorerâ\\x80\\x9d', 'guestâ\\x80\\x99s', 'indifferenceâ\\x80\\x94he', 'villageâ\\x80\\x94cotton-', 'malÂ¬', 'Wrightâ\\x80\\x94had', 'himâ\\x80\\x94hystericallyâ\\x80\\x94and', 'formerâ\\x80\\x99s', 'PerÂ¬', 'batsâ\\x80\\x99', '33Aâ\\x80\\x99s', 'questionsâ\\x80\\x94especially', 'Xibalbaâ\\x80\\x99s', 'blackâ\\x80\\x94they', 'Persephoneâ\\x80\\x99s', 'Ulyssesâ\\x80\\x99â\\x80\\x94if', 'peopleâ\\x80\\x9d', 'â\\x80\\x98Soâ\\x80\\x99ve', 'horsemanâ\\x80\\x99s', 'appearanceâ\\x80\\x94sheâ\\x80\\x99d', 'Eidonâ\\x80\\x99s', 'accumuÂ¬', 'nameâ\\x80\\x94the', 'hersâ\\x80\\x94doubt', 'renaisÂ¬', 'fisher-wivesâ\\x80\\x99', 'inadverÂ¬', 'Mullaghanâ\\x80\\x94discovered', 'Friedrichâ\\x80\\x94what', 'kirkâ\\x80\\x94damn', 'speciesâ\\x80\\x94in', 'noseâ\\x80\\x94feuch', 'to-nightâ\\x80\\x94', 'pantedâ\\x80\\x99', 'recognisableâ\\x80\\x94I', 'yearsâ\\x80\\x94taking', 'scissorsâ\\x80\\x94and', 'handâ\\x80\\x94a', 'Varinusâ\\x80\\x99s', 'immoÂ¬', 'happenâ\\x80\\x94if', 'wivesâ\\x80\\x99', 'KinÂ¬', 'goldâ\\x80\\x94a', 'naâ\\x80\\x99â\\x80\\x99', 'â\\x80\\x9cOhâ\\x80\\x94â\\x80\\x9d', 'Wyattâ\\x80\\x99s', 'yesterdayâ\\x80\\x99s', 'experiÂ¬', 'school-maâ\\x80\\x99am', 'Diteâ\\x80\\x99s', 'majorâ\\x80\\x99s', 'expeditionsâ\\x80\\x94', 'ColumÂ¬', 'Instituteâ\\x80\\x99ll', 'landâ\\x80\\x9d', 'nightâ\\x80\\x94they', 'daftâ\\x80\\x94as', 'ArgenÂ¬', 'unrealâ\\x80\\x94and', 'Ohâ\\x80\\x94WASH', 'callousÂ¬', 'beforeâ\\x80\\x94that', 'contemptÂ¬', 'Byronâ\\x80\\x99s', 'aliveâ\\x80\\x94viz.', 'daysâ\\x80\\x94God', 'Tâ\\x80\\x99d', 'Sundayâ\\x80\\x94come', 'fringeâ\\x80\\x94great', 'Talkiesâ\\x80\\x94though', 'erupÂ¬', 'Ratsâ\\x80\\x94a', 'Jerusalemâ\\x80\\x94more', 'Himselfâ\\x80\\x94naked', 'ListenÂ¬', 'threwâ\\x80\\x94ay', 'Sogomon-barchanâ\\x80\\x94a', 'onâ\\x80\\x94long', 'madeâ\\x80\\x9d', 'Jewâ\\x80\\x94or', 'miasmasâ\\x80\\x94nor', 'Fiddleâ\\x80\\x99s', 'farmerâ\\x80\\x99s', 'Peterâ\\x80\\x94â\\x80\\x9cIvan', 'conseÂ¬', 'achieveâ\\x80\\x94a', 'villageâ\\x80\\x94', 'downÂ¬', 'skyâ\\x80\\x94it', 'gateâ\\x80\\x94far', 'bodiesâ\\x80\\x94their', 'terrorâ\\x80\\x94or', 'riverâ\\x80\\x94days', 'returnÂ¬', 'landâ\\x80\\x94cotton-clad', 'dwelÂ¬', 'FeraÂ¬', 'Titulâ\\x80\\x99s', 'tourâ\\x80\\x94The', 'ceasingâ\\x80\\x94again', 'pygmiesâ\\x80\\x94a', 'Thenâ\\x80\\x94weâ\\x80\\x99re', 'hourâ\\x80\\x94before', 'foulâ\\x80\\x99', 'shrilledâ\\x80\\x94', 'life-qualityâ\\x80\\x94an', 'corner-postsâ\\x80\\x94would', 'Iâ\\x80\\x94without', 'wayâ\\x80\\x94it', 'Parkâ\\x80\\x99s.5', 'Georgeâ\\x80\\x99ll', 'â\\x80\\x9cYouâ\\x80\\x99d', 'landâ\\x80\\x94mummification', 'wâ\\x80\\x99ana', 'Andrewâ\\x80\\x99s', 'Legionâ\\x80\\x99s', 'menâ\\x80\\x94stolid', 'exhaustionâ\\x80\\x94an', 'exhausÂ¬', 'suchÂ¬', 'geniusâ\\x80\\x94flickering', 'vanishedâ\\x80\\x94all', 'femaleâ\\x80\\x99s', 'Lookâ\\x80\\x94the', 'yearâ\\x80\\x94', 'gaveâ\\x80\\x94herself', 'WanderÂ¬', 'culturÂ¬', 'â\\x80\\x98Youâ\\x80\\x99ve', 'wallâ\\x80\\x94and', 'Tennysonâ\\x80\\x99s', 'â\\x80\\x9cTantalusâ\\x80\\x9dy', 'mankindâ\\x80\\x94', 'Bagradianâ\\x80\\x94who', 'nowâ\\x80\\x99', 'moronâ\\x80\\x94following', 'SparÂ¬', 'litterÂ¬', 'dayâ\\x80\\x99s', 'bloodâ\\x80\\x94red', 'wantâ\\x80\\x94oh', 'himâ\\x80\\x94a', 'â\\x80\\x9cCouldnâ\\x80\\x99t', 'relationsâ\\x80\\x94our', 'arcâ\\x80\\x99ed', 'islandsâ\\x80\\x94were', 'rainâ\\x80\\x94crude', 'Netherhillâ\\x80\\x99s', 'Paradiseâ\\x80\\x9d', 'Navidadâ\\x80\\x99s', 'placeâ\\x80\\x9d', 'excuseâ\\x80\\x94except', 'centuriesâ\\x80\\x99', 'policeÂ¬', 'MysÂ¬', 'hisâ\\x80\\x94it', 'aboutâ\\x80\\x94your', 'enoughâ\\x80\\x94inhabited', 'Polychromataâ\\x80\\x94brown', 'kissedâ\\x80\\x94or', 'weâ\\x80\\x99ll', 'menâ\\x80\\x94With', 'Hoardâ\\x80\\x9d', 'Noyanâ\\x80\\x99s', 'preponderÂ¬', 'beastâ\\x80\\x99', 'autobioÂ¬', 'Iâ\\x80\\x94and', 'Chiliâ\\x80\\x94the', 'askâ\\x80\\x94had', 'â\\x80\\x9cMozartâ\\x80\\x99s', 'saidâ\\x80\\x94about', 'Greeksâ\\x80\\x94some', 'camelsâ\\x80\\x94an', 'babyâ\\x80\\x94or', 'aurochsenâ\\x80\\x94except', 'privaÂ¬', 'senseÂ¬', 'windâ\\x80\\x99s', 'thereâ\\x80\\x94what', 'slainâ\\x80\\x94skulls', 'Railwayâ\\x80\\x94that', 'areâ\\x80\\x94or', 'inquiryâ\\x80\\x94the', 'bentangâ\\x80\\x94a', 'figuresâ\\x80\\x94with', 'negroâ\\x80\\x99s', 'Whereâ\\x80\\x99s', 'theseâ\\x80\\x94instead', 'seducÂ¬', 'favouriteâ\\x80\\x99s', 'shiverÂ¬', 'determinaÂ¬', 'calculaÂ¬', 'useâ\\x80\\x94an', 'magnifiÂ¬', 'survivedâ\\x80\\x94only', 'Ghaziâ\\x80\\x99s', 'KamÂ¬', 'actingÂ¬', 'Constantinopleâ\\x80\\x94a', 'Stoicâ\\x80\\x99s', 'half-breedâ\\x80\\x99s', 'peaceâ\\x80\\x94and', 'eveningsâ\\x80\\x94silences', 'identifiedâ\\x80\\x94as', 'youâ\\x80\\x94a', 'surroundÂ¬', 'Mevrâ\\x80\\x94', 'peopleâ\\x80\\x94the', 'seemedâ\\x80\\x94that', 'hoplitaiâ\\x80\\x94embryo', 'origiÂ¬', 'oâ\\x80\\x99clock.â\\x80\\x99', 'nightâ\\x80\\x94were', 'naturalizaÂ¬', 'juiceâ\\x80\\x94by', 'thatâ\\x80\\x99s', 'leftâ\\x80\\x94unless', 'tionâ\\x80\\x94with', 'Historyâ\\x80\\x99s', 'privateâ\\x80\\x99s', 'Bibleâ\\x80\\x94â\\x80\\x9c', 'Regentâ\\x80\\x99s', 'lovesâ\\x80\\x94oh', 'laughâ\\x80\\x94faith', 'ministerâ\\x80\\x94wife', 'uncruelâ\\x80\\x94who', 'oppoÂ¬', 'Jewsâ\\x80\\x94Egyptian', 'Kleonâ\\x80\\x99s.â\\x80\\x99', 'daysâ\\x80\\x94and', 'Castleâ\\x80\\x9d', 'LORDâ\\x80\\x99S', 'unslaveÂ¬', 'managerâ\\x80\\x94', 'afternoonâ\\x80\\x94the', 'nightâ\\x80\\x94these', 'calfâ\\x80\\x94a', 'shamefacedlyâ\\x80\\x94the', 'Jerusalemâ\\x80\\x94the', 'booksâ\\x80\\x94being', 'crossâ\\x80\\x94a', 'â\\x80\\x9cBabyloniansâ\\x80\\x9d', 'lieuÂ¬', 'Balaamâ\\x80\\x94the', 'Whenâ\\x80\\x99ll', 'madameâ\\x80\\x94so', 'â\\x80\\x9cFrightÂ¬', 'Inâ\\x80\\x94by', 'Glassâ\\x80\\x9d', 'everybodyâ\\x80\\x99s', 'AccordÂ¬', 'Mansaâ\\x80\\x99s', 'shoulderâ\\x80\\x99s', 'Dentâ\\x80\\x99s', 'Gladiatorâ\\x80\\x99s', 'ploughmanâ\\x80\\x99s', 'muckerâ\\x80\\x99s', 'clamourâ\\x80\\x94', 'dungÂ¬', 'daysâ\\x80\\x94four', 'gutterâ\\x80\\x94games', 'toilâ\\x80\\x94they', 'muchâ\\x80\\x94and', 'othersâ\\x80\\x94Never', 'Naconâ\\x80\\x99s', 'garretâ\\x80\\x94as', 'invadersâ\\x80\\x99', 'Olafâ\\x80\\x99s', 'AlexanÂ¬', 'glyphsâ\\x80\\x94those', 'murderersâ\\x80\\x99', 'groundâ\\x80\\x94ghosts', 'coastâ\\x80\\x94-', 'fightâ\\x80\\x94that', 'law-studentâ\\x80\\x99s', 'toâ\\x80\\x94think', 'sometimeâ\\x80\\x94not', 'workâ\\x80\\x94there', 'carryÂ¬', 'Sidiâ\\x80\\x99s', 'roomâ\\x80\\x94as', 'thoroughÂ¬', 'plansâ\\x80\\x94summers', 'hunterâ\\x80\\x99s', 'worksâ\\x80\\x94And', 'Tolstoyâ\\x80\\x99s', 'myselfâ\\x80\\x94in', 'tatorsâ\\x80\\x94whom', 'monsterâ\\x80\\x99s', 'othersâ\\x80\\x94where', 'cenÂ¬', 'Criminalâ\\x80\\x99s', 'madameâ\\x80\\x94â\\x80\\x98', 'togetherâ\\x80\\x94that', 'Swinburneâ\\x80\\x99s', 'cockâ\\x80\\x94', 'doctorâ\\x80\\x94as', 'Thereâ\\x80\\x99s', 'comâ\\x80\\x99s', 'sculpturesâ\\x80\\x94the', 'comeâ\\x80\\x94almost', 'paperâ\\x80\\x94even', 'reaperâ\\x80\\x99s', 'Stranlayâ\\x80\\x99s', 'Christiansâ\\x80\\x94', 'rotâ\\x80\\x94rot', 'Gayâ\\x80\\x99s', 'Lieutenant-Colonelâ\\x80\\x94he', 'countryâ\\x80\\x99s', 'folksâ\\x80\\x99', 'timesâ\\x80\\x94of', 'Khaligâ\\x80\\x99sâ\\x80\\x94the', 'readâ\\x80\\x94oh', 'mindsâ\\x80\\x94loyalty', 'Lieutenant-Colonelâ\\x80\\x94became', 'beggedâ\\x80\\x94to', 'ballÂ¬', 'computationâ\\x80\\x94', 'longâ\\x80\\x94his', 'Khalilâ\\x80\\x94', 'elseâ\\x80\\x94some', 'Lyonâ\\x80\\x99s', 'Africaâ\\x80\\x94unorthodox', 'PortuÂ¬', 'onlyâ\\x80\\x94a', 'nightâ\\x80\\x94itâ\\x80\\x99s', 'ExÂ¬', 'camÂ©', 'eyesâ\\x80\\x94sombre', 'minerâ\\x80\\x99s', 'unbornâ\\x80\\x94', 'bayâ\\x80\\x94swooped', 'Realâ\\x80\\x94this', 'Bickertonâ\\x80\\x9d', 'tentedâ\\x80\\x94the', 'shameâ\\x80\\x94but', 'yesâ\\x80\\x94yes', 'dreamsâ\\x80\\x94the', 'meâ\\x80\\x94dimlyâ\\x80\\x94all', 'youâ\\x80\\x94if', 'collegeÂ¬', 'Stormanâ\\x80\\x94', 'andâ\\x80\\x94who', 'fortÂ¬', 'wasâ\\x80\\x94wildest', 'findingâ\\x80\\x94I', 'slave-womanâ\\x80\\x94the', 'noonâ\\x80\\x99s', 'EgypÂ¬', 'teachersâ\\x80\\x94a', 'reckÂ¬', 'Marrotâ\\x80\\x94he', 'Chaeâ\\x80\\x94Chae', 'affairâ\\x80\\x9d', 'enthuÂ¬', 'Iâ\\x80\\x99mâ\\x80\\x94Iâ\\x80\\x99m', 'isterâ\\x80\\x99s', 'Bootyâ\\x80\\x99s', 'bestialiÂ¬', 'Frostâ\\x80\\x94â\\x80\\x99', 'hadnâ\\x80\\x99t', 'placeâ\\x80\\x94another', 'dugâ\\x80\\x94you', 'lovelinessâ\\x80\\x94lanes', 'blindâ\\x80\\x94as', 'selfâ\\x80\\x99ll', 'Michâ\\x80\\x99.â\\x80\\x99', 'faceâ\\x80\\x94that', 'itâ\\x80\\x94â\\x80\\x98wet', 'lifeâ\\x80\\x94in', 'doâ\\x80\\x94if', 'Khanâ\\x80\\x94the', 'beÂ¬', 'heâ\\x80\\x94he', 'windowâ\\x80\\x94the', 'advancesâ\\x80\\x99', 'Moctezhuomaâ\\x80\\x99s', 'dependÂ¬', 'mayâ\\x80\\x94who', 'croftâ\\x80\\x94a', 'Bondouâ\\x80\\x99s', 'excepÂ¬', 'â\\x80\\x9cCHEIROâ\\x80\\x9d', 'beenâ\\x80\\x94quite', 'womenâ\\x80\\x94no', 'itâ\\x80\\x94by', 'homeÂ¬', 'flowsâ\\x80\\x94or', 'meâ\\x80\\x94', 'manâ\\x80\\x99s', 'â\\x80\\x9cAntonâ\\x80\\x94youâ\\x80\\x99re', 'landâ\\x80\\x94Antilia', 'uncerÂ¬', 'futureâ\\x80\\x99s', 'thereinâ\\x80\\x94', 'grandfatherâ\\x80\\x99s', 'maidâ\\x80\\x94Oh', 'Indusâ\\x80\\x9d', 'intoxiÂ¬', 'monthsâ\\x80\\x94they', 'singleÂ¬', 'voyagingsâ\\x80\\x94and', 'fireâ\\x80\\x94strange', 'ScotsÂ¬', 'falseâ\\x80\\x94now', 'corralâ\\x80\\x94or', 'wellâ\\x80\\x94he', 'screamÂ¬', 'daftâ\\x80\\x94that', 'skyâ\\x80\\x94they', 'floristâ\\x80\\x99s', 'bearâ\\x80\\x94the', 'â\\x80\\x9cKotaâ\\x80\\x94itâ\\x80\\x99s', 'â\\x80\\x99Nâ\\x80\\x99', 'themselvesâ\\x80\\x94immoderately', 'womenâ\\x80\\x94I', 'Cabotsâ\\x80\\x94voyages', 'argotsâ\\x80\\x94still', 'tearsâ\\x80\\x94the', 'Serranoâ\\x80\\x99s', 'frogâ\\x80\\x99s', 'forestâ\\x80\\x94she', 'joinâ\\x80\\x94och', 'outâ\\x80\\x94something', 'Youâ\\x80\\x99ve', 'â\\x80\\x9cMoorsâ\\x80\\x9d', 'fjordâ\\x80\\x99', 'Empireâ\\x80\\x94not', 'thereâ\\x80\\x94call', 'oursâ\\x80\\x94the', 'maraÂ¬', 'breadÂ¬', 'manÂ¬', 'thereâ\\x80\\x99d', 'sectionâ\\x80\\x94such', 'escapeâ\\x80\\x94my', 'timeâ\\x80\\x99â\\x80\\x94she', 'axeâ\\x80\\x94so', 'creatureâ\\x80\\x99s', 'Gallowgateâ\\x80\\x99s', 'tribuÂ¬', 'formulaeâ\\x80\\x94and', 'bareÂ¬', 'organizerâ\\x80\\x94right', 'EÂ°n', 'convincedâ\\x80\\x94', 'themâ\\x80\\x99s', 'fertilisÂ¬', 'awayâ\\x80\\x94â\\x80\\x98', 'â\\x80\\x9cItâ\\x80\\x94itâ\\x80\\x99s', 'shariaâ\\x80\\x99s', 'itâ\\x80\\x94here', 'sciousnessâ\\x80\\x94blessedly', 'Muâ\\x80\\x99adhan', 'explainedâ\\x80\\x94he', 'Iâ\\x80\\x94', 'statuetteâ\\x80\\x94aw', 'futureâ\\x80\\x94project', 'Dâ\\x80\\x99ye', 'Egyptianâ\\x80\\x94appearances', 'wolfâ\\x80\\x94real', 'lovedâ\\x80\\x94more', 'assesâ\\x80\\x99', 'HalfÂ¬', 'premonitionâ\\x80\\x94the', 'haltâ\\x80\\x94some', 'itâ\\x80\\x94a', 'builderâ\\x80\\x99s', 'shouldersâ\\x80\\x94and', 'Profâ\\x80\\x94', 'planetâ\\x80\\x94and', 'chimÂ¬', 'runÂ¬', 'rhythmicâ\\x80\\x94the', 'â\\x80\\x9cItâ\\x80\\x99ll', 'vetâ\\x80\\x9d', 'expeditionâ\\x80\\x94the', 'Lâ\\x80\\x99Envoi', 'Strangeâ\\x80\\x94that', 'Hereâ\\x80\\x99s', 'seeâ\\x80\\x94^frightening', 'roomâ\\x80\\x94', 'whisÂ¬', 'Antonâ\\x80\\x94no', 'ASANOVAâ\\x80\\x99S', 'himâ\\x80\\x94heads', 'MonasÂ¬', 'wayâ\\x80\\x94ay', 'â\\x80\\x9cPrincessâ\\x80\\x94exactly', 'Andyâ\\x80\\x9d', 'reflecÂ¬', 'defeatâ\\x80\\x94thrilled', 'Nightâ\\x80\\x9d', 'Noahâ\\x80\\x94a', 'Countâ\\x80\\x94are', 'retroÂ¬', 'loversâ\\x80\\x99', 'attractiveÂ¬', 'â\\x80\\x98Legateâ\\x80\\x94SPARTACUS', 'Bobâ\\x80\\x99s', 'rainâ\\x80\\x94boiling', 'eraâ\\x80\\x94', 'stumbÂ¬', 'Peterâ\\x80\\x99s', 'quiverÂ¬', 'Mevrâ\\x80\\x99s', 'loglightâ\\x80\\x99s', 'dreamâ\\x80\\x94a', 'â\\x80\\x9cMatronâ\\x80\\x99ll', 'Solomonâ\\x80\\x99s', 'Officersâ\\x80\\x99', 'criticsâ\\x80\\x94', 'reasonâ\\x80\\x99s', 'Â°PPâ\\x84¢te', 'andâ\\x80\\x94heart-breakingâ\\x80\\x94a', 'illuÂ¬', 'Iâ\\x80\\x94weâ\\x80\\x99re', 'fictionâ\\x80\\x94J', 'Micohâ\\x80\\x99', 'relationÂ¬', 'Godsâ\\x80\\x94the', 'itâ\\x80\\x94hirpling', 'figureâ\\x80\\x94in', 'Perezâ\\x80\\x99', 'plateauâ\\x80\\x99s', 'Groveâ\\x80\\x94a', 'Bennachieâ\\x80\\x99s', 'shineâ\\x80\\x94the', 'blow-pipesâ\\x80\\x94either', 'thereâ\\x80\\x94bring', 'Andâ\\x80\\x94a', 'worseâ\\x80\\x94women', 'educatingâ\\x80\\x94she', 'wereâ\\x80\\x94of', 'onâ\\x80\\x94what', 'sculptorâ\\x80\\x99s', 'itselfâ\\x80\\x94from', 'pipeâ\\x80\\x94Ay', 'sowâ\\x80\\x99s', 'Trumpetâ\\x80\\x94where', 'Stokesâ\\x80\\x99', 'legateâ\\x80\\x99s', 'Ajalonâ\\x80\\x9d', 'mountsâ\\x80\\x94Italiot', 'Allâ\\x80\\x99s', 'Colquohounâ\\x80\\x99s', 'belÂ¬', 'MethodiÂ¬', 'Ericâ\\x80\\x94sons', 'performâ\\x80\\x94a', 'itselfâ\\x80\\x94that', 'Marcoâ\\x80\\x99s', 'Yarrowâ\\x80\\x94white', 'courtÂ¬', 'beastsâ\\x80\\x9d', 'Maâ\\x80\\x99com', 'leadÂ¬', 'Chrisâ\\x80\\x99s', 'wakeâ\\x80\\x94despairingly', 'thinÂ¬', 'peniÂ¬', 'Longâ\\x80\\x99s', 'himâ\\x80\\x94here', 'itâ\\x80\\x94the', 'Clothesâ\\x80\\x94some', 'onlyâ\\x80\\x94and', 'neednâ\\x80\\x99t', 'Shanâ\\x80\\x99t', 'Milioneâ\\x80\\x94â\\x80\\x9cthe', 'Hareâ\\x80\\x94and', 'itâ\\x80\\x94War', 'Freligrathâ\\x80\\x99s', 'endedâ\\x80\\x94that', 'chiefsâ\\x80\\x99', 'Necessityâ\\x80\\x99s', 'â\\x80\\x99Ereâ\\x80\\x99s', 'slavesâ\\x80\\x94be', 'termaÂ¬', 'sightedâ\\x80\\x94and', 'sinsâ\\x80\\x94how', 'signâ\\x80\\x94the', 'exploringâ\\x80\\x94', 'andâ\\x80\\x94thing', 'momentâ\\x80\\x94such', 'mentallyâ\\x80\\x94coddled', 'wordsâ\\x80\\x94I', 'childÂ¬', 'pagesâ\\x80\\x94Domina', 'woodsâ\\x80\\x94she', 'knewâ\\x80\\x94it', 'materialsâ\\x80\\x94mostly', 'futureâ\\x80\\x94into', 'yetâ\\x80\\x94thereâ\\x80\\x99s', 'thatâ\\x80\\x94', 'Mayanâ\\x80\\x94', 'loosenÂ¬', 'Americaâ\\x80\\x99s', 'beetleÂ¬', 'magaÂ¬', 'cowâ\\x80\\x99s', 'nightmareâ\\x80\\x94Oh', 'dealâ\\x80\\x94Lady', 'empireâ\\x80\\x94again', 'arisÂ¬', 'basinâ\\x80\\x94civilization', 'unwedâ\\x80\\x94lived', 'seedsÂ¬', 'to-nightâ\\x80\\x94that', 'Empireâ\\x80\\x94a', 'theyâ\\x80\\x99re', 'swordsâ\\x80\\x94the', 'Religionâ\\x80\\x99s', 'â\\x80\\x9cMoorishâ\\x80\\x9d', 'up-countryâ\\x80\\x94', 'wagesâ\\x80\\x94with', 'Teepleâ\\x80\\x99s', 'Memâ\\x80\\x94and', 'Sempleâ\\x80\\x99s', 'barÂ¬', 'Brennusâ\\x80\\x99', 'â\\x80\\x98itâ\\x80\\x99', 'memberÂ¬', 'uncoveredâ\\x80\\x94love', 'fearâ\\x80\\x94fear', 'Chrisâ\\x80\\x94four', 'Helenâ\\x80\\x99s', 'sceneâ\\x80\\x94the', 'headÂ¬', 'Versaillesâ\\x80\\x94the', 'seasonsâ\\x80\\x94if', 'saidâ\\x80\\x94a', 'â\\x80\\x98pureâ\\x80\\x99', 'objectsâ\\x80\\x94', 'vouchÂ¬', 'folkâ\\x80\\x941', 'spiritâ\\x80\\x94a', 'shipsâ\\x80\\x94desolate', 'constableâ\\x80\\x99s', 'Skraelingrâ\\x80\\x94a', 'â\\x80\\x94wasnâ\\x80\\x99t', 'onâ\\x80\\x94she', 'successionâ\\x80\\x94he', 'coastâ\\x80\\x94the', 'Thousanderâ\\x80\\x9dâ\\x80\\x94', 'displeasedâ\\x80\\x99', 'dogâ\\x80\\x94somewhere', 'jobâ\\x80\\x94now', 'mightâ\\x80\\x94perhaps', 'illâ\\x80\\x94with', 'â\\x80\\x99splolinâ\\x80\\x99', 'Companyâ\\x80\\x99s', 'mindâ\\x80\\x94an', 'Platoâ\\x80\\x99s', 'nothÂ¬', 'forestâ\\x80\\x94', 'Republicâ\\x80\\x94but', 'toâ\\x80\\x94till', 'serveâ\\x80\\x94refuse', 'bullâ\\x80\\x99s', 'wifeâ\\x80\\x94That', 'eveningâ\\x80\\x94raise', 'dress-makerâ\\x80\\x99s', 'againâ\\x80\\x94senselessly', 'talesâ\\x80\\x94Biarni', 'buriedâ\\x80\\x94back', 'attiÂ¬', 'constiÂ¬', 'includÂ¬', 'itâ\\x80\\x94women', 'wellâ\\x80\\x94normal', 'â\\x80\\x9cAâ\\x80\\x94what', 'wasâ\\x80\\x94oh', 'giveâ\\x80\\x94he', 'Manâ\\x80\\x94once', 'notâ\\x80\\x94that', 'rumourâ\\x80\\x94of', 'venturesâ\\x80\\x94as', 'Itâ\\x80\\x99ll', 'ideaâ\\x80\\x94weâ\\x80\\x99ve', 'foresterâ\\x80\\x99s', 'Englishâ\\x80\\x94that', 'cornerâ\\x80\\x94there', 'ateâ\\x80\\x94Chris', 'â\\x80\\x98Sicilyâ\\x80\\x99', 'ShakeÂ¬', 'amusementâ\\x80\\x94the', 'clerkâ\\x80\\x99s', 'mountainsâ\\x80\\x94the', 'fishermenâ\\x80\\x99s', 'itâ\\x80\\x94say', 'economyâ\\x80\\x94the', 'thinkâ\\x80\\x94of', 'civilizationâ\\x80\\x94grew', 'Pewseyâ\\x80\\x94playing', 'ridgeâ\\x80\\x94the', 'yetâ\\x80\\x94I', 'enÂ¬', 'remotegenerationsâ\\x80\\x94as', 'seeâ\\x80\\x94we', 'reinforceÂ¬', 'pacifyÂ¬', 'negroesâ\\x80\\x99', 'manurÂ¬', 'Weâ\\x80\\x99ll', 'tramwaymenâ\\x80\\x99s', 'marryÂ¬', 'Cairoâ\\x80\\x94and', 'youngnessâ\\x80\\x94oh', 'moonâ\\x80\\x94both', 'stonâ\\x80\\x99s', 'drenchÂ¬', 'voyÂ¬', 'bloodâ\\x80\\x94who', 'thingsâ\\x80\\x94basket', 'Cargoâ\\x80\\x9d', 'continentsâ\\x80\\x94indeed', 'fireÂ¬', 'humankindâ\\x80\\x94so', 'sillyâ\\x80\\x94that', 'lastâ\\x80\\x94in', 'damâ\\x80\\x99s', 'fatherÂ¬', 'syneâ\\x80\\x94you', 'finishedâ\\x80\\x94faith', 'childâ\\x80\\x94or', 'archiÂ¬', 'Thereâ\\x80\\x99d', 'readâ\\x80\\x94except', 'stillâ\\x80\\x94though', 'Quibiaâ\\x80\\x94perhaps', 'SunÂ¬', 'DistinÂ¬', 'machineâ\\x80\\x94a', 'cogâ\\x80\\x99s', 'allâ\\x80\\x94as', 'Rogerâ\\x80\\x99s', 'sixÂ¬', 'wardsâ\\x80\\x94â\\x80\\x98and', 'musÂ¬', 'carefully-garÂ¬', 'unavailableâ\\x80\\x94would', 'spokenâ\\x80\\x94the', 'himâ\\x80\\x94such', 'autobiÂ¬', 'illimiÂ¬', 'Snooksâ\\x80\\x99s', 'matriÂ¬', 'bâ\\x80\\x99God', 'pupilsâ\\x80\\x94Malcom', 'eyesâ\\x80\\x94came', 'headâ\\x80\\x94och', 'portâ\\x80\\x94perhaps', 'Dawnâ\\x80\\x94', 'ownâ\\x80\\x94ages', 'paralleloÂ¬', 'Olympusâ\\x80\\x94for', 'allâ\\x80\\x94Sous-officier', 'whoâ\\x80\\x99re', 'sceneâ\\x80\\x94this', 'manâ\\x80\\x94an', 'dwarfÂ¬', 'cellarâ\\x80\\x99s', 'bed-chamberâ\\x80\\x9d', 'Mineâ\\x80\\x9d', 'fairyâ\\x80\\x99s', 'sixâ\\x80\\x94slight', 'lifetimeâ\\x80\\x99s', 'laughterâ\\x80\\x94for', 'blanketâ\\x80\\x94and', 'thingsâ\\x80\\x9dâ\\x80\\x94says', 'Julyâ\\x80\\x94he', 'exasperaÂ¬', 'â\\x80\\x9ccityâ\\x80\\x9d', 'riotingâ\\x80\\x99s', 'onâ\\x80\\x94to', 'Ferapontâ\\x80\\x99s', 'personÂ¬', 'â\\x80\\x99twonâ\\x80\\x99t', 'forâ\\x80\\x94â\\x80¢â\\x80\\x94', 'portentousâ\\x80\\x94Sammy', 'marÂ¬', 'Soâ\\x80\\x99s', 'nightâ\\x80\\x94this', 'huntsâ\\x80\\x94far', 'beenâ\\x80\\x94that', 'thatâ\\x80\\x94they', 'Lawtonâ\\x80\\x99s', 'strugÂ¬', 'â\\x80\\x94Bâ\\x80\\x99God', 'saidâ\\x80\\x94quite', 'Autumnâ\\x80\\x94and', 'Kingâ\\x80\\x99s', 'ioooâ\\x80\\x94desire', 'ingâ\\x80\\x94what', 'SupÂ¬', 'roadâ\\x80\\x94and', 'regardÂ¬', 'to-dayâ\\x80\\x94which', 'diseaseâ\\x80\\x94men', 'â\\x80\\x9cMâ\\x80\\x99sieuâ\\x80\\x99', 'metaphorâ\\x80\\x94that', 'attitudesâ\\x80\\x94to', 'beastsâ\\x80\\x94or', 'appliÂ¬', 'recurÂ¬', 'otherâ\\x80\\x99s', 'Guildsmenâ\\x80\\x99s', 'quotationâ\\x80\\x94a', 'aboutâ\\x80\\x94about', 'undreamtÂ¬', 'Inâ\\x80\\x99sh', 'preparationsâ\\x80\\x94including', 'pointâ\\x80\\x94the', 'doorsâ\\x80\\x94long', 'eyesâ\\x80\\x94The', 'indictÂ¬', 'dreadÂ¬', 'EasterÂ¬', 'sketchâ\\x80\\x9dâ\\x80\\x94you', 'tenâ\\x80\\x99s', 'timeâ\\x80\\x94it', 'pubâ\\x80\\x94a', 'bookieâ\\x80\\x99s', 'misinterÂ¬', 'treesâ\\x80\\x94â\\x80\\x98are', 'exclusiveÂ¬', 'mistâ\\x80\\x99ll', 'Becauseâ\\x80\\x94Good', 'â\\x80\\x9cbreakdownâ\\x80\\x9d', 'herâ\\x80\\x94paid', 'springâ\\x80\\x99s', 'unaccountablyâ\\x80\\x94', 'nobleÂ¬', 'himâ\\x80\\x94the', 'tormentsâ\\x80\\x94slain', 'Consulateâ\\x80\\x94the', 'ariseâ\\x80\\x94that', 'Khaligâ\\x80\\x94the', 'witsâ\\x80\\x94or', 'Englandâ\\x80\\x99s', 'hisâ\\x80\\x94if', 'dolichoÂ¬', 'seeâ\\x80\\x94the', 'uneasyâ\\x80\\x94giggling', 'bloatedâ\\x80\\x94rock', 'â\\x80\\x9cPilgrimsâ\\x80\\x9d', 'ITâ\\x80\\x99S', 'Lustâ\\x80\\x94Lust', 'Haldaneâ\\x80\\x99s', 'doâ\\x80\\x94-for', 'nowâ\\x80\\x94it', 'mealâ\\x80\\x9d', 'Graysonâ\\x80\\x99s', 'rattleÂ¬', 'boardâ\\x80\\x9d', 'didâ\\x80\\x94probably', 'gardenÂ¬', 'glyphsâ\\x80\\x94hieratic', 'Regularsâ\\x80\\x94especially', 'seasonâ\\x80\\x99s', 'princesseâ\\x80\\x94she', 'Butâ\\x80\\x94if', 'wakenÂ¬', 'negroesâ\\x80\\x94sleeping', 'Gulfâ\\x80\\x94a', 'Vaucluseâ\\x80\\x9d', \"'Gannicusâ\\x80\\x99ll\", 'Harunâ\\x80\\x94found', 'southâ\\x80\\x94for', 'questionâ\\x80\\x94years', 'gluttonâ\\x80\\x99s', 'outâ\\x80\\x94get', 'homoÂ¬', 'gentryâ\\x80\\x99s', 'mountainÂ¬', 'torchâ\\x80\\x94had', 'dustâ\\x80\\x94lay', 'adultsâ\\x80\\x94generally', 'bookâ\\x80\\x94', 'ourselvesâ\\x80\\x94are', 'heartâ\\x80\\x99s', 'helpÂ¬', 'potentateâ\\x80\\x99s', 'factorâ\\x80\\x94the', 'somewhereâ\\x80\\x94perhaps', 'PosÂ¬', 'Berkaâ\\x80\\x94in', 'fasÂ¬', 'horseâ\\x80\\x9d', 'historyâ\\x80\\x94to', 'eastâ\\x80\\x94', 'gentleÂ¬', 'ownâ\\x80\\x94the', 'Natashaâ\\x80\\x99s', 'Georgeâ\\x80\\x99s', 'doubtâ\\x80\\x94', 'teaâ\\x80\\x94', 'conquerorsâ\\x80\\x94', 'childâ\\x80\\x94born', 'qualitiesâ\\x80\\x94the', 'follyâ\\x80\\x99', 'fireâ\\x80\\x94burning', 'moneyâ\\x80\\x94Iâ\\x80\\x99ve', 'moanÂ¬', 'Warâ\\x80\\x94but', 'CharlesÂ¬', 'silenceâ\\x80\\x94of', 'dayâ\\x80\\x94at', 'hemiÂ¬', 'institutionâ\\x80\\x94no', 'timeâ\\x80\\x94and', 'thatâ\\x80\\x94how', 'Duncairnâ\\x80\\x99s', 'thereâ\\x80\\x94damn', 'VACAâ\\x80\\x99S', 'he-menâ\\x80\\x94', 'sandsâ\\x80\\x94Cairoâ\\x80\\x94Egyptâ\\x80\\x94the', 'themâ\\x80\\x94wished', 'dreamtâ\\x80\\x99', 'landlordâ\\x80\\x99s', 'symÂ¬', 'Cordillerasâ\\x80\\x99', 'uniteâ\\x80\\x94', 'maidâ\\x80\\x99s', 'natureâ\\x80\\x94inheritance', 'thouÂ¬', 'justâ\\x80\\x94oh', 'thingâ\\x80\\x99s', 'kirkâ\\x80\\x94did', 'activeâ\\x80\\x94this', 'seasonÂ¬', 'heavenâ\\x80\\x94mixed', 'newsâ\\x80\\x94infernal', 'Pâ\\x80\\x94Cartaphilus', 'hinterlandsâ\\x80\\x94', 'onâ\\x80\\x99y', 'monthsâ\\x80\\x99', 'callÂ¬', 'hisÂ¬', 'Sanchezâ\\x80\\x99', 'skyscraperÂ¬', 'controversyâ\\x80\\x94', 'carenaâ\\x80\\x99', 'queerÂ¬', 'passer-byâ\\x80\\x94the', 'carbineâ\\x80\\x94it', 'Gillinghamâ\\x80\\x99s', 'Burnsâ\\x80\\x99s', 'humÂ¬', 'surviveâ\\x80\\x94far', 'graveâ\\x80\\x94carryin', 'Perfumeâ\\x80\\x94what', 'sunâ\\x80\\x94silver', 'Ivyâ\\x80\\x9d', 'Maxwellâ\\x80\\x94knows', 'parsangsâ\\x80\\x94those', 'Miltiadesâ\\x80\\x99s', 'Ghoulâ\\x80\\x9d', 'himâ\\x80\\x94you', 'dominatÂ¬', 'impressedâ\\x80\\x94', 'ofâ\\x80\\x94he', 'promptÂ¬', 'Gipsiesâ\\x80\\x94the', 'wantonÂ¬', 'â\\x80\\x98itâ\\x80\\x99s', 'givingâ\\x80\\x94and', 'himselfâ\\x80\\x94perhaps', 'Alarluâ\\x80\\x99s', 'â\\x80\\x9cMachaerodusâ\\x80\\x9d', 'Nersesâ\\x80\\x99', 'Lawrenceâ\\x80\\x99s', 'hinterÂ¬', 'seatedâ\\x80\\x94to', 'corpseâ\\x80\\x99s', 'Nechoâ\\x80\\x99s', 'â\\x80\\x9cTurpsâ\\x80\\x9d', 'bootsâ\\x80\\x94', 'Grindâ\\x80\\x99s', 'youâ\\x80\\x94and', 'Pauâ\\x80\\x94marched', 'Countreeâ\\x80\\x94', 'abandonÂ¬', 'routeâ\\x80\\x94if', 'morningâ\\x80\\x94no', 'systemâ\\x80\\x94and', 'fatherâ\\x80\\x94', 'boysâ\\x80\\x94they', 'plentyâ\\x80\\x94they', 'thatâ\\x80\\x94the', 'butcherâ\\x80\\x99s', 'Scotchâ\\x80\\x94or', 'fragÂ¬', 'probableâ\\x80\\x94that', 'Saudâ\\x80\\x99s', 'vomitoriaâ\\x80\\x94a', '-godâ\\x80\\x94and', 'mistakeâ\\x80\\x94no', 'inscrutÂ¬', 'north-northÂ¬', 'Whitakerâ\\x80\\x99s', 'meâ\\x80\\x94thatâ\\x80\\x99s', 'gladÂ¬', 'doesâ\\x80\\x94sayâ\\x80\\x94', 'priestÂ¬', 'bidÂ¬', 'statesâ\\x80\\x94lands', 'powerÂ¬', 'coldâ\\x80\\x99s', 'temperaturesâ\\x80\\x94except', 'brother-in-lawâ\\x80\\x94', 'courseâ\\x80\\x94weâ\\x80\\x99ve', 'â\\x80\\x9cYouâ\\x80\\x99re', 'Baberâ\\x80\\x94', 'Wellsâ\\x80\\x99', 'boilsâ\\x80\\x94pushed', 'Guyâ\\x80\\x99s', 'attackedâ\\x80\\x94principally', 'indifÂ¬', 'romanticâ\\x80\\x94both', 'uninfuriÂ¬', 'joyÂ¬', 'faceâ\\x80\\x94suddenly', 'Archâ\\x80\\x9d', 'farmsâ\\x80\\x94kind', 'sea-raidsâ\\x80\\x94then', 'scytheâ\\x80\\x99s', 'rediscoveredâ\\x80\\x94by-', 'Ianâ\\x80\\x99s', 'thisâ\\x80\\x94this', 'rainâ\\x80\\x94^because', 'Arabsâ\\x80\\x944', 'expeditionâ\\x80\\x94all', 'shameÂ¬', 'historyâ\\x80\\x94that', 'Chichenâ\\x80\\x94or', 'Marujaâ\\x80\\x99s', 'songsâ\\x80\\x94And', 'elephantâ\\x80\\x94at', 'childrenâ\\x80\\x94whateverâ\\x80\\x99ll', 'coatsâ\\x80\\x94soldiers', 'channelÂ¬', 'trackâ\\x80\\x94or', 'pyramidsâ\\x80\\x94pyramids', 'lostâ\\x80\\x94lost', 'IceÂ¬', 'lampâ\\x80\\x94', 'Leiriaâ\\x80\\x99s', 'indicatedâ\\x80\\x94that', 'spinnersâ\\x80\\x94and', 'itâ\\x80\\x99d', 'goneâ\\x80\\x94without', 'routeâ\\x80\\x94to', 'dinnerÂ¬', 'diffusionismâ\\x80\\x94well', 'classesâ\\x80\\x94and', 'Duncairnâ\\x80\\x94that', 'Spekeâ\\x80\\x94rejoined', 'himâ\\x80\\x94much', 'dearâ\\x80\\x94^0', 'slaveâ\\x80\\x94albeit', 'Trumpetâ\\x80\\x94', 'pseudo-savantâ\\x80\\x94that', 'abbotâ\\x80\\x99s', 'southâ\\x80\\x94though', 'Whoâ\\x80\\x99s', 'moonsheenâ\\x80\\x94what', 'mekinâ\\x80\\x99s', 'drÂ°Wsing', 'landâ\\x80\\x94oh', 'roomsâ\\x80\\x94but', 'mindâ\\x80\\x99s', 'pouredâ\\x80\\x94beyond', 'menâ\\x80\\x94ease', 'Coleridgeâ\\x80\\x99s', 'ringâ\\x80\\x99s', 'immeasurÂ¬', 'himâ\\x80\\x94â\\x80¢', 'crackÂ¬', 'justice-courtsâ\\x80\\x94a', 'Dreepâ\\x80\\x94a', 'Stevenâ\\x80\\x99s', 'Kalaunâ\\x80\\x99s', 'â\\x80\\x9cWeâ\\x80\\x99ll', 'smoÂ¬', 'thereâ\\x80\\x99s', 'chaplainâ\\x80\\x99s', 'tellsâ\\x80\\x94Gods', 'geoÂ¬', 'Whatâ\\x80\\x99s', 'firstâ\\x80\\x94the', 'bumbleÂ¬', 'LibÂ¬', 'Marrotâ\\x80\\x94but', 'execuÂ¬', 'Mastersâ\\x80\\x94these', 'manâ\\x80\\x94the', 'stopÂ¬', 'Bulgarâ\\x80\\x99s', 'investiÂ¬', 'tobacconistâ\\x80\\x99s', 'Billâ\\x80\\x99s', 'Iceâ\\x80\\x94the', 'relativesâ\\x80\\x94the', 'moreâ\\x80\\x94that', 'artâ\\x80\\x94I', 'doâ\\x80\\x94', 'mechaniÂ¬', 'sunâ\\x80\\x94an', 'â\\x80\\x98Peacockâ\\x80\\x99', 'beerâ\\x80\\x94great', 'heardâ\\x80\\x94and', 'queanâ\\x80\\x94you', 'Deathâ\\x80\\x94the', 'belliesâ\\x80\\x94ah', 'Sheâ\\x80\\x94she', 'sonâ\\x80\\x94his', 'excavaÂ¬', 'roÂ¬', 'comingâ\\x80\\x94there', 'landscapeâ\\x80\\x94bleak', 'gazetteâ\\x80\\x94', 'visitorsâ\\x80\\x94they', 'goldâ\\x80\\x94', 'hillSâ\\x80\\x99and', 'Redâ\\x80\\x99s', 'ownerâ\\x80\\x99s', 'teaÂ¬', 'Andyâ\\x80\\x99s', 'himâ\\x80\\x94to', 'â\\x80\\x94arenâ\\x80\\x99t', 'sabreÂ¬', 'unknownâ\\x80\\x94geographical', 'Lugdenâ\\x80\\x99s', 'bulletsâ\\x80\\x94Malcom', 'pulpitâ\\x80\\x94she', 'ViceÂ¬', 'Hennikerâ\\x80\\x9d', 'â\\x80\\x9cOhâ\\x80\\x94do', 'commanderâ\\x80\\x94the', 'Masterâ\\x80\\x99s', 'Stoneâ\\x80\\x94a', 'thenâ\\x80\\x94for', 'donâ\\x80\\x99t-tell', 'Sinclairâ\\x80\\x94abruptly', 'Simonâ\\x80\\x94', 'faceâ\\x80\\x94and', 'moreâ\\x80\\x94no', 'liarsâ\\x80\\x94was', 'charactersâ\\x80\\x94Corporal', 'texÂ¬', 'peasantsâ\\x80\\x94', 'hisâ\\x80\\x94about', 'Mailapurâ\\x80\\x94a', 'stone-masonâ\\x80\\x99s', 'himâ\\x80\\x94Ragheb', 'MisÂ¬', 'GovernÂ¬', 'temÂ¬', 'dawnâ\\x80\\x99s', 'wallâ\\x80\\x94well', 'mysteryâ\\x80\\x94a', 'questioningsâ\\x80\\x94and', 'beast-manâ\\x80\\x99s', 'â\\x80\\x98Couldnâ\\x80\\x99t', 'laughedâ\\x80\\x94ay', 'himâ\\x80\\x94though', 'TurkÂ¬', 'earthâ\\x80\\x94Eskimo', 'resiÂ¬', 'kindnessâ\\x80\\x94that', 'sickâ\\x80\\x94sick', 'nationsâ\\x80\\x94painted', 'fearâ\\x80\\x94', 'Feetâ\\x80\\x94Christ', 'Africaâ\\x80\\x94this', 'mesÂ¬', 'stillâ\\x80\\x94there.â\\x80\\x99', 'himselfâ\\x80\\x94there', 'forestÂ¬', 'aboutâ\\x80\\x94the', 'moonbeamâ\\x80\\x99s', 'Flagsâ\\x80\\x9d', 'MeikleÂ¬', 'endâ\\x80\\x94and', 'â\\x80\\x9cHistoryâ\\x80\\x94the', 'Tanglehaâ\\x80\\x99', 'â\\x80\\x9cSorelâ\\x80\\x99s', 'sunâ\\x80\\x94some', 'UNFORTUÂ¬', 'areâ\\x80\\x94from', 'refugeesâ\\x80\\x94soldiers', 'Orionâ\\x80\\x99s', 'manâ\\x80\\x94rather', 'toâ\\x80\\x94', 'menâ\\x80\\x94or', 'giftâ\\x80\\x94appreciation', 'worshipâ\\x80\\x94he', 'outsideâ\\x80\\x94the', 'incidentâ\\x80\\x94even', 'tyrannyâ\\x80\\x94what', 'classâ\\x80\\x94that', 'purposeâ\\x80\\x94it', \"M'Askillâ\\x80\\x99s\", 'hapÂ¬', 'dependantâ\\x80\\x99s', '^Canâ\\x80\\x99t', 'blockÂ¬', 'harlotsâ\\x80\\x99', 'â\\x80\\x98workingâ\\x80\\x99', 'Lâ\\x80\\x99ENVOI', 'Middleâ\\x80\\x94English', 'girlâ\\x80\\x99s', 'culturesâ\\x80\\x94the', 'willâ\\x80\\x94yet', 'nativesâ\\x80\\x94a', 'Duncairnâ\\x80\\x94', 'myselfâ\\x80\\x94Newman', 'vigorÂ¬', 'swalÂ¬', 'encampmentâ\\x80\\x94they', 'barbarianâ\\x80\\x94an', 'yâ\\x80\\x99know.â\\x80\\x99', 'yourselfâ\\x80\\x94and', 'anthroÂ¬', 'capÂ¬', 'volunÂ¬', 'hopâ\\x80\\x94she', 'wolvesâ\\x80\\x94beasts', 'groomsâ\\x80\\x99', 'CÂ°meS', 'wotâ\\x80\\x99s', 'unÂ¬', 'livesâ\\x80\\x94playing', 'loudlyâ\\x80\\x9d', 'placesâ\\x80\\x9d', 'chairâ\\x80\\x94that', 'Strategosâ\\x80\\x99s', 'thereâ\\x80\\x94theyâ\\x80\\x99re', 'workâ\\x80\\x99ll', 'contemÂ¬', 'areâ\\x80\\x94men', 'enoughâ\\x80\\x94while', 'XibalÂ¬', 'seaâ\\x80\\x94the', 'purseâ\\x80\\x94a', 'â\\x80\\x9cLochaâ\\x80\\x9d', 'Provostâ\\x80\\x94', 'artâ\\x80\\x94Mâ\\x80\\x99sieuâ\\x80\\x99', 'Generalâ\\x80\\x94if', 'houseÂ¬', 'worldâ\\x80\\x94before', 'doubtÂ¬', 'latiÂ¬', 'maleâ\\x80\\x94wasnâ\\x80\\x99t', 'mouthâ\\x80\\x94wide', 'oâ\\x80\\x99', 'summerÂ¬', 'Geijerstamâ\\x80\\x99sâ\\x80\\x99ll', 'circumÂ¬', 'yoursâ\\x80\\x94it', 'worldâ\\x80\\x94every', 'Scottâ\\x80\\x99s', 'pictureÂ¬', 'Gabrielâ\\x80\\x99s', 'masterâ\\x80\\x94all', 'self-satisÂ¬', 'hunterâ\\x80\\x94one', 'hersâ\\x80\\x94we', 'claimantâ\\x80\\x94amused', 'laymanâ\\x80\\x99s', 'routeâ\\x80\\x94but', 'outâ\\x80\\x94a', 'Youâ\\x80\\x99reâ\\x80\\x94Goodness', 'Iâ\\x80\\x99officier', 'teaâ\\x80\\x94to', 'nurseâ\\x80\\x99s', 'casualÂ¬', 'encampÂ¬', 'Londonâ\\x80\\x99s', 'secretaryâ\\x80\\x94the', 'lostâ\\x80\\x94even', 'townâ\\x80\\x99s', 'Maudslayâ\\x80\\x99s', 'toâ\\x80\\x94perhaps', 'antunâ\\x80\\x99s', 'meantâ\\x80\\x94themselves', 'lawnâ\\x80\\x94the', 'Kolocrotoniâ\\x80\\x99s', 'farmersâ\\x80\\x99', 'patchâ\\x80\\x94its', 'meetÂ¬', 'Mexicoâ\\x80\\x99s', 'crumbÂ¬', 'reoccupaÂ¬', 'Anahâ\\x80\\x94those', 'thunderÂ¬', 'tremendÂ¬', 'occaÂ¬', 'Karfaâ\\x80\\x99s', 'sweirtyâ\\x80\\x94and', 'Horribleâ\\x80\\x94but', 'metâ\\x80\\x94or', 'newÂ¬', 'Gawpusâ\\x80\\x99s', 'prospectâ\\x80\\x94Good', 'Beltsâ\\x80\\x94our', 'allâ\\x80\\x94he', 'â\\x80\\x9cVitusâ\\x80\\x9d', 'fruitÂ¬', 'Americaâ\\x80\\x94America', 'ComÂ¬', 'chanÂ¬', 'understandÂ¬', 'chairâ\\x80\\x94they', 'bringingâ\\x80\\x94', 'Weâ\\x80\\x99ve', 'accordÂ¬', 'hikerâ\\x80\\x99s', 'Sibityâ\\x80\\x99s', 'musedâ\\x80\\x94on', 'sweepÂ¬', 'â\\x80\\x9cmiraclesâ\\x80\\x9d', 'plentyâ\\x80\\x94but', 'dearâ\\x80\\x94though', 'â\\x80\\x9cDoctorâ\\x80\\x94if', 'wellâ\\x80\\x94and', 'BeastliÂ¬', 'explorersâ\\x80\\x94and', 'Kajaagaâ\\x80\\x99s', 'columnâ\\x80\\x94saw', 'techÂ¬', 'diploÂ¬', 'sorryâ\\x80\\x94damnably', 'Pusilhaâ\\x80\\x99s', 'khansâ\\x80\\x94I', 'Speechâ\\x80\\x94these', 'quietâ\\x80\\x94that', 'altoÂ¬', 'WEâ\\x80\\x99D', 'Cortesâ\\x80\\x99', 'seasonâ\\x80\\x94unless', 'attainedâ\\x80\\x94why', 'experimenterâ\\x80\\x99s', 'gynaecolatristâ\\x80\\x94in', 'divisionâ\\x80\\x94unless', 'moreâ\\x80\\x99n', 'acceptÂ¬', 'battalionâ\\x80\\x99s', 'Christiansâ\\x80\\x99', 'priestsâ\\x80\\x94an', 'Ropsteinâ\\x80\\x99s', 'whenâ\\x80\\x94when', 'moonriseâ\\x80\\x94or', 'orâ\\x80\\x94anything', 'Coincidenceâ\\x80\\x94or', 'multiÂ¬', 'Auntieâ\\x80\\x99s', 'reproÂ¬', 'countryâ\\x80\\x94', 'â\\x80\\x9cHavenâ\\x80\\x99t', 'glimÂ¬', 'Hassanâ\\x80\\x99s', 'sleepâ\\x80\\x94yet', 'attemptÂ¬', 'Amimaâ\\x80\\x99s', 'Kindnessâ\\x80\\x99s', 'applicantsâ\\x80\\x94that', 'life-essenceâ\\x80\\x94but', 'waterâ\\x80\\x94tepid', 'awayâ\\x80\\x94down', 'Moluccasâ\\x80\\x9d', 'gruousâ\\x80\\x94the', 'anythingâ\\x80\\x99s', 'obeyedâ\\x80\\x94ay', 'imaginÂ¬', 'trawÂ¬', 'joinÂ¬', 'foundedâ\\x80\\x94on', 'bedsâ\\x80\\x94brown', 'Vercingetorixâ\\x80\\x99', 'new-bathedâ\\x80\\x94oh', 'crueltyâ\\x80\\x94the', 'ForÂ¬', 'eatÂ¬', 'â\\x80\\x9cIâ\\x80\\x99d', 'youâ\\x80\\x94but', 'suitÂ¬', 'Elseâ\\x80\\x99s', 'Zenoâ\\x80\\x99s', 'boatÂ¬', 'cobbleÂ¬', 'wearâ\\x80\\x94God', 'Rashidaâ\\x80\\x94by', 'dâ\\x80\\x99Or', 'countryâ\\x80\\x94â\\x96', 'bedâ\\x80\\x94he', 'Isâ\\x80\\x99t', 'Willâ\\x80\\x94what', 'â\\x80\\x94Youâ\\x80\\x99re', 'Norahâ\\x80\\x99s', 'packâ\\x80\\x94and', 'pÂ®', 'Goodâ\\x80\\x94', 'serÂ¬', 'greyÂ¬', 'â\\x80\\x9cScotlandâ\\x80\\x99s', 'Islesâ\\x80\\x94in', 'dieâ\\x80\\x94among', 'Buxworthâ\\x80\\x99s', 'circumnaviÂ¬', 'frontÂ¬', 'Germansâ\\x80\\x94the', 'Miriamâ\\x80\\x94they', 'delightâ\\x80\\x94she', 'thatâ\\x80\\x94a', 'Cairoâ\\x80\\x94starvation', 'EleÂ¬', 'pilgrimageâ\\x80\\x9dâ\\x80\\x94to', 'wayâ\\x80\\x94a', 'seemedâ\\x80\\x94or', 'noseâ\\x80\\x94where', 'chipsâ\\x80\\x94Ay', 'beenâ\\x80\\x94the', 'Csesarâ\\x80\\x94the', 'interestâ\\x80\\x94he', 'herâ\\x80\\x94who', 'â\\x80\\x94heâ\\x80\\x99d', 'weepingâ\\x80\\x94desolately', 'itâ\\x80\\x94in', 'bairnâ\\x80\\x99s', 'letterâ\\x80\\x94a', 'byâ\\x80\\x94content', 'whyâ\\x80\\x94why', 'horrorsâ\\x80\\x94thank', 'plantâ\\x80\\x94a', 'sureâ\\x80\\x94so', 'meanÂ¬', 'happenedâ\\x80\\x94what', 'abruptÂ¬', 'impossibleâ\\x80\\x94would', 'acÂ¬', 'Blackbirdsâ\\x80\\x9d', 'ocÂ¬', 'groupâ\\x80\\x94has', 'articuÂ¬', 'mullahsâ\\x80\\x94the', 'nearâ\\x80\\x94or', 'agoâ\\x80\\x94', 'Beyâ\\x80\\x99s', 'Womenâ\\x80\\x9d', 'yearsâ\\x80\\x94from', 'SudanÂ¬', 'Garlanâ\\x80\\x99s', 'RememÂ¬', 'aggresÂ¬', 'wandÂ¬', 'implicaÂ¬', 'entrenchÂ¬', 'Morrisâ\\x80\\x99s', 'Butâ\\x80\\x94how', 'EspeciÂ¬', 'Geddesâ\\x80\\x99', 'thingsâ\\x80\\x94nights', 'observaÂ¬', 'animalâ\\x80\\x94who', 'millionâ\\x80\\x94and', 'adventurersâ\\x80\\x94Cruttenden', 'Tavendaleâ\\x80\\x94', 'chanceâ\\x80\\x94alien', 'nowâ\\x80\\x94what', 'wantedâ\\x80\\x94I', 'measurementsâ\\x80\\x94the', 'originallyâ\\x80\\x94around', 'plateauâ\\x80\\x94', 'feetâ\\x80\\x94that', 'quarrellingâ\\x80\\x94and', '0ATiÂ', 'himâ\\x80\\x94instead', 'gatheringâ\\x80\\x94a', 'ageâ\\x80\\x94strengthened', 'daysâ\\x80\\x94to', 'Cheshireâ\\x80\\x94â\\x80\\x9c', 'differenÂ¬', 'fateâ\\x80\\x94was', 'thatâ\\x80\\x94not', 'â\\x80\\x94Irelandâ\\x80\\x94America', 'mail-bagâ\\x80\\x94', 'mattedâ\\x80\\x94they', 'spinnersâ\\x80\\x99', 'Kwanâ\\x80\\x94he', 'Friedlanderâ\\x80\\x94', 'Wonâ\\x80\\x99t', 'ramâ\\x80\\x99s', 'Polesâ\\x80\\x94has', 'Marrotâ\\x80\\x94a', 'millsâ\\x80\\x94the', 'Scotsmanâ\\x80\\x99s', 'comâ\\x84¢g', 'thisâ\\x80\\x94the', 'warâ\\x80\\x94', 'beastâ\\x80\\x94a', 'Hellâ\\x80\\x99', 'necromanÂ¬', 'Thinkâ\\x80\\x94have', 'chamberâ\\x80\\x94a', 'ProbÂ¬', 'Riteâ\\x80\\x94only', 'wayÂ¬', 'towersâ\\x80\\x94these', 'merÂ¬', 'godlessâ\\x80\\x94fine', 'râ\\x80\\x99', 'rightâ\\x80\\x94the', 'soâ\\x80\\x94â\\x80\\x98', 'morningâ\\x80\\x94they', 'cheeksâ\\x80\\x94oh', 'ditionâ\\x80\\x99s', 'thoughtâ\\x80\\x94Chae', 'siroccoâ\\x80\\x99s', 'amâ\\x80\\x94', 'monÂ¬', 'blackâ\\x80\\x99s', 'R.opeâ\\x80\\x9d', 'lâ\\x80\\x9d', 'Kublaiâ\\x80\\x99s', 'staggerÂ¬', 'trustworthyâ\\x80\\x9dâ\\x80\\x94to', 'cheerâ\\x80\\x94himselfâ\\x80\\x94well', 'fashionâ\\x80\\x94in', 'â\\x80\\x98Arenâ\\x80\\x99t', 'shepherdsâ\\x80\\x99', 'singÂ¬', 'Khanâ\\x80\\x99s', 'monotoÂ¬', 'Marrotâ\\x80\\x99s', 'forestâ\\x80\\x94they', 'picturesâ\\x80\\x94all', 'hurriÂ¬', 'Jâ\\x80\\x94he', 'Japanâ\\x80\\x99s', 'hisâ\\x80\\x94that', 'indifferÂ¬', 'nooâ\\x80\\x94found', 'futureâ\\x80\\x94and', 'youâ\\x80\\x94quick', 'generalâ\\x80\\x99s', 'preparÂ¬', 'â\\x80\\x9cSwanâ\\x80\\x9d', 'tolerÂ¬', 'housekeeperâ\\x80\\x99s', 'summerâ\\x80\\x99s', 'Blawearieâ\\x80\\x94without', 'diseaseâ\\x80\\x94youâ\\x80\\x99d', 'yearsâ\\x80\\x94by', 'Suezâ\\x80\\x94a', 'myselfâ\\x80\\x94about', 'mercenaryâ\\x80\\x99s', 'ruinsâ\\x80\\x94almost', 'betterâ\\x80\\x94if', 'PaciÂ¬', 'labourersâ\\x80\\x94Egyptian', 'flare-illuÂ¬', 'becauseâ\\x80\\x94already', 'Daisyâ\\x80\\x99s', 'yetâ\\x80\\x94she', 'â\\x80\\x9cCrainquebilleâ\\x80\\x9d', 'Godâ\\x80\\x94â\\x80\\x99Unless', 'wasâ\\x80\\x94from', 'socialâ\\x80\\x94that', 'money-mattersâ\\x80\\x94at', 'savageâ\\x80\\x9d', 'Decemberâ\\x80\\x94an', 'dawnâ\\x80\\x94to', 'Saloneyâ\\x80\\x94and', 'Ishamâ\\x80\\x94a', 'howâ\\x80\\x94had', 'phenomenaâ\\x80\\x94even', 'circulaÂ¬', 'towerÂ¬', 'finishedâ\\x80\\x94', 'Cospatricâ\\x80\\x99s', 'Atlanticâ\\x80\\x94attaining', 'Allalalakaâ\\x80\\x94insisted', 'scepticâ\\x80\\x94come', 'â\\x80\\x9ckingdomsâ\\x80\\x9d', 'Hilmarâ\\x80\\x99s', 'persuadedâ\\x80\\x94with', 'Perlakâ\\x80\\x94Mohammedans', 'dustâ\\x80\\x94hearing', 'thenicâ\\x80\\x9d', 'acquaintÂ¬', 'Wilsomâ\\x80\\x99s', 'Eastâ\\x80\\x94of', 'paperâ\\x80\\x94', 'LookÂ¬', 'shoeÂ¬', 'Rhizosâ\\x80\\x94whoever', 'eterÂ¬', 'pioneersâ\\x80\\x94', 'elecÂ¬', 'coastÂ¬', 'thenâ\\x80\\x94Chris', 'Mametzâ\\x80\\x94he', 'lifeâ\\x80\\x94if', 'girlâ\\x80\\x94', 'awayâ\\x80\\x9d', 'indeedâ\\x80\\x94the', 'rainsâ\\x80\\x94the', 'dayâ\\x80\\x94shouted', 'Eyonâ\\x80\\x94everything', 'unmarriedâ\\x80\\x94moved', 'futureâ\\x80\\x94books', 'hairâ\\x80\\x99s-breadth', 'safeâ\\x80\\x94or', 'shopÂ¬', 'somethingâ\\x80\\x94as', 'chanceâ\\x80\\x94supplies', 'introÂ¬', 'fussâ\\x80\\x94now', 'kinâ\\x80\\x94', 'nightâ\\x80\\x94it', 'Erâ\\x80\\x94good', 'declaredâ\\x80\\x94', 'unexpectedâ\\x80\\x94the', 'delayâ\\x80\\x94they', 'babyâ\\x80\\x94when', 'natureâ\\x80\\x94or', 'partâ\\x80\\x94â\\x80\\x99', 'Fattecondaâ\\x80\\x99', 'â\\x80\\x9cStaviskyâ\\x80\\x9d', 'himâ\\x80\\x94swarmed', 'documentâ\\x80\\x9d', 'faceâ\\x80\\x94foul', 'sculptureâ\\x80\\x94either', 'Clellandâ\\x80\\x99s', 'queansâ\\x80\\x94any', 'sirâ\\x80\\x94Aslaug', 'enoughâ\\x80\\x94so', 'magÂ¬', 'citiesâ\\x80\\x94had', 'againâ\\x80\\x94after', 'fashionâ\\x80\\x94it', 'ladyâ\\x80\\x99s', 'wellÂ¬', 'Onlyâ\\x80\\x94he', 'moralistsâ\\x80\\x94especially', 'symbolizedâ\\x80\\x94the', 'cupÂ¬', 'â\\x80\\x98Makeâ\\x80\\x94love', 'thingsâ\\x80\\x94civilization', 'jokeâ\\x80\\x94and', 'countryâ\\x80\\x94undoubtedly', 'dâ\\x80\\x99Annunzioâ\\x80\\x94and', 'ramÂ¬', 'outÂ¬', 'Stillâ\\x80\\x94sing', 'Freydisâ\\x80\\x99', 'fullâ\\x80\\x94for', 'Butâ\\x80\\x94it', 'nightâ\\x80\\x94when', 'Alsoâ\\x80\\x99â\\x80\\x94as', 'civilizedâ\\x80\\x9d', 'Windâ\\x80\\x9d', 'somewhereâ\\x80\\x94our', 'extraordiÂ¬', 'toeâ\\x80\\x9d', 'beâ\\x80\\x94a', 'Howâ\\x80\\x99s', 'pastorâ\\x80\\x99s', 'truthâ\\x80\\x94dimlyâ\\x80\\x94and', 'Tamiâ\\x80\\x99s', 'Wisconsinâ\\x80\\x94wherever', 'reconciliaÂ¬', 'voicesâ\\x80\\x94', 'Canadaâ\\x80\\x99s', 'Egyptâ\\x80\\x94such', 'soldierâ\\x80\\x94the', 'whatâ\\x80\\x99ll', 'haveâ\\x80\\x94that', 'Tâ\\x80\\x99m', 'itâ\\x80\\x94dropped', 'waterâ\\x80\\x94water', 'generationâ\\x80\\x94white', 'minutesâ\\x80\\x94he', 'mountainsâ\\x80\\x94he', 'majestyâ\\x80\\x99s', 'soulâ\\x80\\x94of', 'palacioâ\\x80\\x99s', 'Mullaghanâ\\x80\\x94less', 'orderâ\\x80\\x94and', 'demonologyâ\\x80\\x94and', 'asideâ\\x80\\x94or', 'sheâ\\x80\\x99d', 'Peace-Scarerâ\\x80\\x99s', 'â\\x80\\x9cBâ\\x80\\x99Ged', 'wasâ\\x80\\x94an', 'powerâ\\x80\\x94a', 'aboutâ\\x80\\x94them', 'Whatâ\\x80\\x94what', 'Foolâ\\x80\\x9d', 'dressâ\\x80\\x94a', 'animalâ\\x80\\x94', 'timeâ\\x80\\x94-long', 'doneâ\\x80\\x94eating', 'YOUâ\\x80\\x99RE', 'drinkÂ¬', 'Sinclairâ\\x80\\x99s', 'nextâ\\x80\\x94oh', 'carniÂ¬', 'Prophetâ\\x80\\x99s', 'monthâ\\x80\\x94he', 'Revolutionâ\\x80\\x94the', 'collectorâ\\x80\\x99s', 'Lionsâ\\x80\\x94surely', 'Savagesâ\\x80\\x94and', 'messengerâ\\x80\\x94Gaultâ\\x80\\x99s', 'obÂ¬', 'thereâ\\x80\\x94immediately.â\\x80\\x99', 'findÂ¬', 'Adrianâ\\x80\\x94', 'millenniumâ\\x80\\x94or', 'policemanâ\\x80\\x99s', 'victimâ\\x80\\x94a', 'knewâ\\x80\\x94though', 'lieutenÂ¬', 'universeâ\\x80\\x94it', 'doneâ\\x80\\x94nothing', 'Nicoloâ\\x80\\x99s', 'Tentmakerâ\\x80\\x99s', 'ancientâ\\x80\\x99s', 'bodyâ\\x80\\x94a', 'seenâ\\x80\\x94Rita', 'impingeÂ¬', 'Keithâ\\x80\\x94remember', 'silÂ¬', 'mascuÂ¬', 'Sourockâ\\x80\\x99s', 'Hannaâ\\x80\\x94land', 'â\\x80\\x98Weâ\\x80\\x99d', 'OtherÂ¬', 'aliveâ\\x80\\x94these', 'Empireâ\\x80\\x94', 'Saharaâ\\x80\\x9d', 'skyÂ¬', 'sawâ\\x80\\x94even', 'Manâ\\x80\\x99s', 'maidâ\\x80\\x94remember', 'thoughtâ\\x80\\x94absently', 'achievementâ\\x80\\x94the', 'usâ\\x80\\x94came', 'quencesâ\\x80\\x94another', 'SHEâ\\x80\\x99D', 'ConserÂ¬', 'ImperturbÂ¬', 'Iâ\\x80\\x94Iâ\\x80\\x99ll', 'â\\x80\\x98Iâ\\x80\\x99ve', 'rigâ\\x80\\x94unless', 'forenoonâ\\x80\\x99s', 'â\\x80\\x9cPrincessâ\\x80\\x94you', 'â\\x80\\x9cGawdâ\\x80\\x99slife', 'Gellionâ\\x80\\x99s', 'â\\x80\\x9cdiscoverersâ\\x80\\x9d', 'Martinâ\\x80\\x99s', 'geographyâ\\x80\\x99s', 'kindâ\\x80\\x94ROBERT', 'largerâ\\x80\\x94or', 'expeditionâ\\x80\\x94providing', 'hideousÂ¬', 'figuresâ\\x80\\x94bearded', 'Englandâ\\x80\\x94it', 'Barricadesâ\\x80\\x9d', 'Airteâ\\x80\\x94my', 'considerationsâ\\x80\\x94doubts', 'Elspethâ\\x80\\x99s', 'Chrisâ\\x80\\x94my', 'seemliÂ¬', 'Mastersâ\\x80\\x99', 'youâ\\x80\\x94except', 'observedâ\\x80\\x94as', 'playâ\\x80\\x94the', 'venÂ¬', 'momentâ\\x80\\x94the', 'houseâ\\x80\\x94he', 'deadâ\\x80\\x94as', 'mightnâ\\x80\\x99t', 'nearâ\\x80\\x94pepper', 'holdersâ\\x80\\x94his', 'â\\x80\\x9cIdolatersâ\\x80\\x9d', 'sinâ\\x80\\x94of', 'placeâ\\x80\\x94astronomical', 'generaÂ¬', 'cirÂ¬', 'absoÂ¬', 'headâ\\x80\\x94ay', 'sideâ\\x80\\x94here', 'situationâ\\x80\\x99s', 'dayâ\\x80\\x94ladies', 'to-morrowâ\\x80\\x99s', 'techniqueâ\\x80\\x94poems', 'Bularâ\\x80\\x99s', 'breastâ\\x80\\x94', 'processioningâ\\x80\\x94those', 'Bulgarsâ\\x80\\x99ll', 'thereÂ¬', 'roofsâ\\x80\\x94but', 'yesâ\\x80\\x94but', 'moreâ\\x80\\x94', 'unionsâ\\x80\\x94the', 'rememÂ¬', 'lawâ\\x80\\x99s', 'yearâ\\x80\\x99s', 'civiliÂ¬', 'thenÂ', 'Conferenceâ\\x80\\x99s', 'hikersâ\\x80\\x99', 'assumpÂ¬', 'manâ\\x80\\x94that', 'diestounâ\\x80\\x99s', 'Sevilleâ\\x80\\x94tales', 'birdâ\\x80\\x99s', 'Joshuaâ\\x80\\x99s', 'productâ\\x80\\x94was', 'Northâ\\x80\\x94perhaps', 'praisesâ\\x80\\x94Mme', 'roadmanâ\\x80\\x99s', 'yoursâ\\x80\\x94or', 'childhoodâ\\x80\\x94the', 'turnipÂ¬', 'Churchâ\\x80\\x99s', 'Jamesâ\\x80\\x99s', 'interpretaÂ¬', 'moveâ\\x80\\x94possibly', 'dismissedâ\\x80\\x94renegade', 'â\\x80\\x9cSomeÂ¬', 'sleepÂ¬', 'kingÂ¬', 'thingâ\\x80\\x94fair', 'COCHETâ\\x80\\x99S', 'Godâ\\x80\\x94in', 'societyâ\\x80\\x94we', 'thatâ\\x80\\x94assaulting', 'Civilisationâ\\x80\\x94the', 'markâ\\x80\\x94was', 'Batiatesâ\\x80\\x99', 'â\\x80\\x9cThereâ\\x80\\x99s', 'Akeâ\\x80\\x94and', 'islandsâ\\x80\\x94such', 'onceâ\\x80\\x94sickening', 'Mowatâ\\x80\\x99s', 'Cossinusâ\\x80\\x99', 'darkâ\\x80\\x94â\\x80\\x99nâ\\x80\\x99', 'pursuÂ¬', 'deadâ\\x80\\x94even', 'nothingâ\\x80\\x94nothing', 'Lewisâ\\x80\\x99s', 'togetherâ\\x80\\x94alone', 'importÂ¬', 'Normanâ\\x80\\x99s', 'Goldâ\\x80\\x9d', 'deadâ\\x80\\x94had', 'forâ\\x80\\x94what', 'billyâ\\x80\\x99s', 'practiÂ¬', 'cinematoÂ¬', 'mineâ\\x80\\x94for', 'caseâ\\x80\\x94thatâ\\x80\\x99s', 'â\\x80\\x9cHereâ\\x80\\x99s', 'Fordounâ\\x80\\x94the', 'chapsâ\\x80\\x94less', 'conclusionâ\\x80\\x94correctly', 'proleÂ¬', 'himselfâ\\x80\\x94what', 'surelyâ\\x80\\x94but', 'waterâ\\x80\\x99s', 'takeâ\\x80\\x94through', 'â\\x80\\x9cAndâ\\x80\\x94', 'exceptâ\\x80\\x94', 'misproÂ¬', 'ponyâ\\x80\\x99s', 'Klondikeâ\\x80\\x9d', 'Amundsenâ\\x80\\x99s', 'hairâ\\x80\\x94grey', 'Bensonâ\\x80\\x99s', 'islandâ\\x80\\x99s', 'huntersâ\\x80\\x94we', 'Avenâ\\x80\\x99t', 'corroÂ¬', 'songâ\\x80\\x99s', 'Hauseâ\\x80\\x94now', 'romanticâ\\x80\\x99s', 'Mabelâ\\x80\\x94by', 'chantâ\\x80\\x99s', 'IÂ°8', 'Platounâ\\x80\\x99s', 'favoursâ\\x80\\x94allowed', 'BushÂ¬', 'hypoÂ¬', 'Rizqâ\\x80\\x94how', 'Generalâ\\x80\\x99s', 'heavensâ\\x80\\x94as', 'squeamÂ¬', 'rateâ\\x80\\x94slipping', 'comingâ\\x80\\x94slowly', 'incalculÂ¬', 'deleÂ¬', 'panelsâ\\x80\\x94separating', 'righteousÂ¬', 'realityâ\\x80\\x94nothing', 'Feetâ\\x80\\x99s', 'consulsâ\\x80\\x94the', 'Brennusâ\\x80\\x99s', 'appraiseÂ¬', 'proÂ¬', 'comradesâ\\x80\\x99', 'devilâ\\x80\\x94whereâ\\x80\\x99d', 'Spainâ\\x80\\x94lay', 'shavingâ\\x80\\x94â\\x80\\x9c', 'incognitaâ\\x80\\x9d', 'Dukeâ\\x80\\x99s', 'aroseâ\\x80\\x94that', 'peasantâ\\x80\\x99s', 'MiddleÂ¬', 'threeâ\\x80\\x94Metaxa', 'Onlyâ\\x80\\x94', 'â\\x80\\x9cDeath-Godâ\\x80\\x9d', 'Ishoâ\\x80\\x94who', 'laughedâ\\x80\\x94a', 'feastÂ¬', 'wereâ\\x80\\x94old', 'suddenâ\\x80\\x94but', 'butâ\\x80\\x94Miss', 'soifâ\\x80\\x9d', 'caravelâ\\x80\\x99s', 'knowâ\\x80\\x94name', 'inspirationâ\\x80\\x94he', 'thoughtâ\\x80\\x94oh', 'ratherâ\\x80\\x94undraped.â\\x80\\x99', 'poundsâ\\x80\\x99ll', 'Leslieâ\\x80\\x94donâ\\x80\\x99t', 'Moslemâ\\x80\\x94a', 'newspapersâ\\x80\\x9d', 'canâ\\x80\\x99t', 'nightÂ¬', 'Basqueâ\\x80\\x94', 'Questionâ\\x80\\x9d', 'Italyâ\\x80\\x94not', 'mythoÂ¬', 'feverâ\\x80\\x99s', 'blasÂ¬', 'AlÂ¬', 'opponentâ\\x80\\x99s', 'whereâ\\x80\\x99ll', 'surÂ¬', 'sehorâ\\x80\\x99s', 'nothingâ\\x80\\x94Remâ\\x80\\x99s', 'IndusÂ¬', 'Shoemakersâ\\x80\\x99', 'Galaxyâ\\x80\\x99s', 'jobâ\\x80\\x94he', 'ooâ\\x80\\x94ah', 'nameâ\\x80\\x94he', 'friendsâ\\x80\\x94', 'surprisedâ\\x80\\x94they', 'laughâ\\x80\\x94laughter', 'pictureâ\\x80\\x99s', 'passionÂ¬', 'whatâ\\x80\\x99s', 'menâ\\x80\\x94allowed', 'smokeÂ¬', 'gallantâ\\x80\\x9d', 'Shookâ\\x80\\x99â\\x80\\x99', 'Childâ\\x80\\x9d', 'riverÂ¬', 'burnÂ¬', 'oldâ\\x80\\x94even', 'romanticsâ\\x80\\x99', 'gas-casesâ\\x80\\x94well', 'Danteâ\\x80\\x99s', 'houndâ\\x80\\x99s', 'Flavelâ\\x80\\x99s.â\\x80\\x99', 'printersâ\\x80\\x99', 'Isabellaâ\\x80\\x99s', 'sunlightâ\\x80\\x94but', 'cleanâ\\x80\\x94uninfested', 'wheatâ\\x80\\x94not', 'Deathâ\\x80\\x9d', 'Lawâ\\x80\\x94of', 'coldâ\\x80\\x94the', 'allâ\\x80\\x94how', 'faceâ\\x80\\x94his', 'Songâ\\x80\\x94but', 'liftâ\\x80\\x94the', 'deadâ\\x80\\x94or', 'weekâ\\x80\\x94thank', 'craftsmenâ\\x80\\x94reÂ¬', 'Andâ\\x80\\x94English', 'ministersâ\\x80\\x99', 'nowâ\\x80\\x94We', 'Anthonyâ\\x80\\x99s', 'learnedâ\\x80\\x94centuries', 'tongueâ\\x80\\x94or', 'â\\x80\\x9cOhâ\\x80\\x94I', 'eveningâ\\x80\\x94when', 'hersâ\\x80\\x94ay', 'leftâ\\x80\\x94not', 'descentâ\\x80\\x94for', 'hatesâ\\x80\\x94hate', 'gaspâ\\x80\\x94smothered', 'Janeâ\\x80\\x99sâ\\x80\\x94not', 'excaÂ¬', 'Jeanâ\\x80\\x94', 'ageâ\\x80\\x9dâ\\x80\\x94the', 'apporÂ¬', 'Placeâ\\x80\\x94they', 'brightÂ¬', 'cryâ\\x80\\x94', 'Malayaâ\\x80\\x99s', 'wasâ\\x80\\x94to', 'archaeologistsâ\\x80\\x94to-morrow', 'mediÂ¬', 'mouthâ\\x80\\x94as', 'Thatâ\\x80\\x99s', 'despairinglyâ\\x80\\x94about', 'jockeyâ\\x80\\x99s', 'ministerâ\\x80\\x99ll', 'slavesâ\\x80\\x94dripping', 'heâ\\x80\\x94and', 'Dominieâ\\x80\\x99s', 'accomÂ¬', 'employÂ¬', 'reasonsâ\\x80\\x94urgent.â\\x80\\x99', 'minÂ¬', 'saidâ\\x80\\x94an', 'readiÂ¬', 'andâ\\x80\\x94pif', 'againâ\\x80\\x94if', 'chapÂ¬', 'co-respondentsâ\\x80\\x94into', 'tain-wallâ\\x80\\x94one', 'humanÂ¬', 'Sansandingâ\\x80\\x99s', 'Serpentâ\\x80\\x99s', 'herâ\\x80\\x94Ewan', 'tundraâ\\x80\\x94a', 'Magnardsâ\\x80\\x99', 'longerâ\\x80\\x94and', 'ideaâ\\x80\\x94unless', 'unknownâ\\x80\\x9d', 'motherâ\\x80\\x99s', 'Wahhabiâ\\x80\\x94to', 'damnedâ\\x80\\x94And', 'Landâ\\x80\\x94Bering', 'didâ\\x80\\x94after', 'beenâ\\x80\\x94there', 'thenâ\\x80\\x94overmuch', 'starâ\\x80\\x94so', 'muchâ\\x80\\x94for', 'himâ\\x80\\x94how', 'longâ\\x80\\x99s', 'race-memoriesâ\\x80\\x94or', 'gressâ\\x80\\x94of', 'leversâ\\x80\\x94they', 'orderâ\\x80\\x94of', 'bullockâ\\x80\\x99s', 'himâ\\x80\\x94his', 'torchâ\\x80\\x94', 'Jeanâ\\x80\\x94Jean', 'effluviumâ\\x80\\x94yet', 'foundâ\\x80\\x94that', 'plunÂ¬', 'toilâ\\x80\\x94his', 'visitorsâ\\x80\\x94a', 'thinkâ\\x80\\x94at', 'thenâ\\x80\\x94why', 'thatâ\\x80\\x94aye', 'itâ\\x80\\x94that', 'menâ\\x80\\x94to', 'sarÂ¬', 'conditionsâ\\x80\\x9d', 'Letâ\\x80\\x99s', 'islandâ\\x80\\x94that', 'carnivoresâ\\x80\\x94panthers', 'Burtonsâ\\x80\\x94who', 'workâ\\x80\\x94', 'accountâ\\x80\\x94name', 'nunciationâ\\x80\\x94or', 'letâ\\x80\\x99s', 'toesâ\\x80\\x94and', 'hadnâ\\x80\\x99tâ\\x80\\x94', 'magniÂ¬', 'Beachâ\\x80\\x94what', 'antelopeâ\\x80\\x99s', 'sonâ\\x80\\x94sometimes', 'Babyâ\\x80\\x99s', 'unbelievablyâ\\x80\\x94and', 'firstâ\\x80\\x94', 'malaccreditedâ\\x80\\x94', 'boyâ\\x80\\x94a', 'perhapsâ\\x80\\x94will', 'dismayedâ\\x80\\x94Pinzon', 'quizziÂ¬', 'Greenlandâ\\x80\\x94South', 'Robberâ\\x80\\x94a', 'hellâ\\x80\\x99s', 'sangâ\\x80\\x94thousands', 'otherâ\\x80\\x94my', 'pleasÂ¬', 'sinceâ\\x80\\x94since', 'copseâ\\x80\\x94a', 'unreasonÂ¬', 'Cisâ\\x80\\x99s', 'tremenÂ¬', 'heâ\\x80\\x99d', 'agoâ\\x80\\x94hut', 'Brigsonâ\\x80\\x99s', 'countryâ\\x80\\x99', 'MacDougallâ\\x80\\x99s', 'Onlyâ\\x80\\x94a', 'Romleyâ\\x80\\x99s', 'dreadfulâ\\x80\\x94and', 'employedâ\\x80\\x94or', 'Sargonâ\\x80\\x99s', 'Jeanâ\\x80\\x94God', 'darkÂ¬', 'elseâ\\x80\\x99s', 'existedâ\\x80\\x94it', 'repressionsâ\\x80\\x99ll', 'leastâ\\x80\\x94we', 'earthâ\\x80\\x94clouds', 'repentÂ¬', 'folkâ\\x80\\x94our', 'Kamchatkaâ\\x80\\x99s', 'exÂ¬', 'yetâ\\x80\\x94even', 'Windsorâ\\x80\\x94that', 'comfortâ\\x80\\x94she', 'Jennyâ\\x80\\x99s', 'fâ\\x80\\x98', 'maligÂ¬', 'charmÂ¬', 'childhoodâ\\x80\\x99s', 'Antonâ\\x80\\x94can', 'difÂ¬', 'Manninâ\\x80\\x99s', 'Colonelâ\\x80\\x94a', 'Owlâ\\x80\\x9d', 'Lemnosâ\\x80\\x94he', 'Carlâ\\x80\\x99s', 'Catochâ\\x80\\x94^', 'passÂ¬', 'lovedâ\\x80\\x94as', 'dayâ\\x80\\x94surely', 'JErteâ\\x80\\x94heâ\\x80\\x99s', 'characterâ\\x80\\x94', 'equivÂ¬', 'Spyâ\\x80\\x9d', 'half-casteâ\\x80\\x94an', 'screamedâ\\x80\\x94shrilly', 'fieldâ\\x80\\x94unless', 'suddenlyâ\\x80\\x94', 'lifeâ\\x80\\x94they', 'jungleâ\\x80\\x94and', 'cornerâ\\x80\\x94and', 'culÂ¬', 'Werfelâ\\x80\\x99s', 'ThreadÂ¬', 'euphonÂ¬', 'themâ\\x80\\x94', 'admiralsâ\\x80\\x94the', 'exportersâ\\x80\\x99', 'Didnâ\\x80\\x99t', 'quiltâ\\x80\\x99s', 'Mollieâ\\x80\\x94they', 'Balâ\\x80\\x99mont', 'Russiaâ\\x80\\x94make', 'thingsâ\\x80\\x94Pelagueya', 'remedyâ\\x80\\x99s', 'â\\x80\\x9cLoveâ\\x80\\x99s', 'winterâ\\x80\\x94or', 'debatesâ\\x80\\x94he', 'hairâ\\x80\\x94more', 'reorganÂ¬', 'Buxworthsâ\\x80\\x99', 'doveâ\\x80\\x99s', 'Antonâ\\x80\\x94sometimes', 'mixedâ\\x80\\x94he', 'merchantâ\\x80\\x94no', 'decoraÂ¬', 'purposeÂ¬', 'mutineersâ\\x80\\x94unfortunately', 'pervertsâ\\x80\\x99poet', 'story-bookâ\\x80\\x94a', 'outstretchedâ\\x80\\x94Tie', 'poiluâ\\x80\\x99s', 'ecstaÂ¬', 'settlementâ\\x80\\x94Kolocrotoni', 'borÂ¬', 'omniÂ¬', 'routesâ\\x80\\x94a', 'extinÂ¬', 'Huebschâ\\x80\\x99s', 'nuisanceâ\\x80\\x94in', 'Tavendaleâ\\x80\\x99s', 'witÂ¬', 'wentâ\\x80\\x94damnâ\\x80\\x99t', 'Nileâ\\x80\\x99s', 'dâ\\x80\\x99Albe', 'lifeâ\\x80\\x99s', 'oneâ\\x80\\x94how', 'Sundayâ\\x80\\x99s', 'onceâ\\x80\\x94was', 'thinkâ\\x80\\x94Christâ\\x80\\x94youâ\\x80\\x94Iâ\\x80\\x94weâ\\x80\\x99re', 'fossilÂ¬', 'Arabsâ\\x80\\x94â\\x80\\x9cMoorsâ\\x80\\x9d', 'motifsâ\\x80\\x94not', 'forgetâ\\x80\\x94anything', 'â\\x80\\x9cThenâ\\x80\\x94but', 'artistâ\\x80\\x94but', 'marchâ\\x80\\x94and', 'itâ\\x80\\x94some', 'roarÂ¬', 'thingâ\\x80\\x94dug', 'Imageâ\\x80\\x94that', 'Musicâ\\x80\\x94it', 'stoneâ\\x80\\x94worse', 'â\\x80\\x9cStony-Faceâ\\x80\\x9d', 'tracksâ\\x80\\x94for', 'gladnessâ\\x80\\x94', 'vaudeÂ¬', 'jpÂ£Â£SSÂ', 'ladâ\\x80\\x99s', 'houseâ\\x80\\x94sheâ\\x80\\x99s', 'lochâ\\x80\\x99s', 'â\\x80\\x9cKeithâ\\x80\\x94oh', 'bairnâ\\x80\\x94a', 'GlenÂ¬', 'Aslaugâ\\x80\\x99s', 'Coastâ\\x80\\x94Zanzibar', 'suicideâ\\x80\\x94developed', 'succeedâ\\x80\\x94now', 'wonâ\\x80\\x99t', 'wellâ\\x80\\x94like', 'Woolworthâ\\x80\\x99s', 'urgeâ\\x80\\x94a', 'AberdeenÂ¬', 'inhosÂ¬', 'Wonderâ\\x80\\x94the', 'immortalsâ\\x80\\x94', 'Fowlerâ\\x80\\x9d', 'Thatâ\\x80\\x94then', 'stodgiÂ¬', 'didâ\\x80\\x94', 'yetâ\\x80\\x94the', 'rose-leafâ\\x80\\x99s', 'thatâ\\x80\\x94â\\x80\\x99nâ\\x80\\x99en', 'vividâ\\x80\\x94he', 'earnestÂ¬', 'printerâ\\x80\\x99s', 'wool-carderâ\\x80\\x99s', 'ownâ\\x80\\x94â\\x80\\x9cwhere', 'Giâ\\x80\\x99me', 'thereâ\\x80\\x94hardly', 'coronerâ\\x80\\x99s', 'belly-acheâ\\x80\\x94the', 'upâ\\x80\\x94but', 'arebelâ\\x80\\x9d', 'dustâ\\x80\\x94towards', 'Damâ\\x80\\x94a', 'sameâ\\x80\\x94as', 'holidayÂ¬', 'SightÂ¬', 'menÂ¬', 'especiÂ¬', 'herâ\\x80\\x94', 'Devilâ\\x80\\x94for', 'fulÂ¬', 'Reginaldâ\\x80\\x99s', 'Minersâ\\x80\\x99', 'swimÂ¬', 'wivesâ\\x80\\x94one', 'reasonâ\\x80\\x94if', 'Lâ\\x80\\x99Isle', 'savageâ\\x80\\x99s', 'aâ\\x80\\x99', 'prospecÂ¬', 'Thenâ\\x80\\x94already', 'propagandaâ\\x80\\x99ed', 'encourageÂ¬', 'beâ\\x80\\x94and', 'settledâ\\x80\\x94', 'momentâ\\x80\\x99s', 'RevoluÂ¬', 'anâ\\x80\\x99', 'browsâ\\x80\\x94a', 'HeliÂ¬', 'wereâ\\x80\\x94', 'patricianâ\\x80\\x94not', 'morningâ\\x80\\x94a', 'Hedworthâ\\x80\\x99s', 'tableâ\\x80\\x99s', 'fledâ\\x80\\x94fled', 'kinsmenâ\\x80\\x99s', 'Augustineâ\\x80\\x99s', 'Dorantesâ\\x80\\x99', 'kitchenâ\\x80\\x99s', 'Robberâ\\x80\\x94', 'dullyâ\\x80\\x94a', 'convalescentsâ\\x80\\x99', 'hearâ\\x80\\x94oh', 'Anianâ\\x80\\x94a', 'SubÂ¬', 'Pewseyâ\\x80\\x94apart', 'jestâ\\x80\\x94if', 'kingâ\\x80\\x94she', 'togetherâ\\x80\\x94', 'husbandâ\\x80\\x99s', 'Ironistâ\\x80\\x99', 'waterâ\\x80\\x94perhaps', 'purseâ\\x80\\x94at', 'thisâ\\x80\\x99s', 'Amadiâ\\x80\\x99s', 'oneâ\\x80\\x94wasnâ\\x80\\x99t', 'Shen-soâ\\x80\\x94', 'graveâ\\x80\\x99s', 'sheâ\\x80\\x99ll', 'questionÂ¬', 'Isabelâ\\x80\\x94she', 'Caesarâ\\x80\\x99s', 'asâ\\x80\\x94God', 'gentryâ\\x80\\x9d', 'andâ\\x80\\x94persisting', 'jÂ£6o', 'ChecteÂ¬', 'romanticâ\\x80\\x94a', 'alcaldeâ\\x80\\x99s', 'manufacÂ¬', 'civilizationâ\\x80\\x94the', 'earthenÂ¬', 'harbourâ\\x80\\x94at', 'dayâ\\x80\\x94followers', 'seaâ\\x80\\x99s', 'notaryâ\\x80\\x99s', 'journeyâ\\x80\\x94as', 'sexâ\\x80\\x94the', 'peasantsâ\\x80\\x99', 'folkâ\\x80\\x99ll', 'Columbusâ\\x80\\x99s', 'phraseÂ¬', 'wereâ\\x80\\x94yesterday.â\\x80\\x99', 'unshadowedâ\\x80\\x94those', 'caseâ\\x80\\x94had', 'thoughtâ\\x80\\x94far', 'gynaeÂ¬', 'peopleâ\\x80\\x94and', 'prefetoâ\\x80\\x99s', 'soulsâ\\x80\\x9d', 'woeÂ¬', 'Pigafettaâ\\x80\\x99s', 'YOUâ\\x80\\x99LL', 'nostrilâ\\x80\\x94a', 'Donâ\\x80\\x99t-Worker', 'beyondâ\\x80\\x94Ceylon', 'to-nightâ\\x80\\x94Mahel', 'harvestâ\\x80\\x94oh', 'Binyonâ\\x80\\x99s', 'SepÂ¬', 'volcanoesâ\\x80\\x99', 'Cityâ\\x80\\x94and', 'cookâ\\x80\\x94providing', 'houseâ\\x80\\x94a', 'Biarniâ\\x80\\x99s', 'starrâ\\x80\\x99d', 'â\\x80\\x99Tisnâ\\x80\\x99t', 'unassimiÂ¬', 'virginityâ\\x80\\x94', 'Marthaâ\\x80\\x99s', 'Butâ\\x80\\x94she', 'indiÂ¬', 'earlyâ\\x80\\x94blast', 'sitÂ¬', 'Peesieâ\\x80\\x99s', 'pâ\\x80\\x94-half', 'posmeyatâ\\x80\\x99ciaâ\\x80\\x94to', 'bedâ\\x80\\x94and', 'ArgyllÂ¬', 'fortunateÂ¬', 'mindâ\\x80\\x94developed', 'thingsâ\\x80\\x94only', 'convictionâ\\x80\\x94and', 'authoriÂ¬', 'didâ\\x80\\x94just', 'fireâ\\x80\\x99s', 'grinnedâ\\x80\\x94a', 'civilizingâ\\x80\\x94itâ\\x80\\x99s', 'earthâ\\x80\\x94I', 'â\\x80\\x98Heâ\\x80\\x99ll', 'LochÂ£', 'liveâ\\x80\\x94if', 'Rainierâ\\x80\\x94the', 'timeâ\\x80\\x94no', 'Shimâ\\x80\\x99un/', 'otherâ\\x80\\x94tattered', 'murderâ\\x80\\x94and', 'â\\x80\\x98Wonâ\\x80\\x99t', 'permaÂ¬', 'shooting-bootsâ\\x80\\x94these', 'â\\x80\\x9cRestorÂ¬', 'themâ\\x80\\x94great', 'troubleÂ¬', 'Rhizosâ\\x80\\x94you', 'naviÂ¬', 'explanationâ\\x80\\x94and', 'Girlâ\\x80\\x9d', 'uncleâ\\x80\\x94the', 'themâ\\x80\\x94you', 'timeâ\\x80\\x94', 'thereâ\\x80\\x94I', 'compactâ\\x80\\x94so', 'girlâ\\x80\\x94her', 'pseudoÂ¬', 'ordnanceâ\\x80\\x9d', 'someâ\\x80\\x94as', 'selfâ\\x80\\x94as', 'Laviniaâ\\x80\\x94every', 'tâ\\x80\\x99other.â\\x80\\x99', 'miserÂ¬', 'Theaâ\\x80\\x99s', 'dumbâ\\x80\\x94some', 'idleâ\\x80\\x94reading', 'upâ\\x80\\x94well', 'menâ\\x80\\x94by', 'Heirâ\\x80\\x9d', 'precauÂ¬', 'â\\x80\\x9cNocturneâ\\x80\\x9d', 'forgottenâ\\x80\\x94', 'Empireâ\\x80\\x94more', 'noteÂ¬', 'lionâ\\x80\\x94', 'stairâ\\x80\\x99s', 'donâ\\x80\\x99t/', 'meatâ\\x80\\x94finished', 'commemorÂ¬', 'wonderâ\\x80\\x94these', 'letÂ¬', 'humaÂ¬', 'prayerâ\\x80\\x94he', 'tounâ\\x80\\x94to', 'Nordenskioldâ\\x80\\x99s', 'observationsâ\\x80\\x94if', 'Castusâ\\x80\\x99', 'appearedâ\\x80\\x94and', 'Oneâ\\x80\\x94it', 'sunâ\\x80\\x94a', 'flÂ£NHOLjAÂ£', 'roomâ\\x80\\x94the', 'Ainâ\\x80\\x99t', 'dreamâ\\x80\\x94the', 'fameâ\\x80\\x94â\\x80\\x98', 'someâ\\x80\\x94true', 'delusionâ\\x80\\x94Eh', 'Wrenchâ\\x80\\x99s', 'eatâ\\x80\\x94his', 'questsâ\\x80\\x94the', 'armsâ\\x80\\x94', 'confinesâ\\x80\\x94marsh', 'bothâ\\x80\\x94the', 'earthâ\\x80\\x94till', 'Gaultâ\\x80\\x94those', 'Gerhardiâ\\x80\\x99s', 'meaningâ\\x80\\x94somewhere^in', 'Oâ\\x80\\x99GORMAN', 'founÂ¬', 'Londonâ\\x80\\x94London', 'eyesâ\\x80\\x94they', 'Towserâ\\x80\\x99s', 'shipsâ\\x80\\x9d', 'artâ\\x80\\x94procure', 'againâ\\x80\\x94on', 'bedevilledâ\\x80\\x94his', 'spearÂ¬', 'quicklyâ\\x80\\x94decide', 'Summerâ\\x80\\x99s', 'â\\x80\\x9cKeithâ\\x80\\x94send', 'Seggetâ\\x80\\x94waiting', 'arrivedâ\\x80\\x94two', 'doctorâ\\x80\\x99s', 'worldâ\\x80\\x94in', 'possessionâ\\x80\\x94satiety', 'menâ\\x80\\x94including', 'culs-de-sacâ\\x80\\x94and', 'expectaÂ¬', 'Sverdrupâ\\x80\\x94the', 'gangâ\\x80\\x94with', 'â\\x80\\x9cYouâ\\x80\\x99ll', 'playedâ\\x80\\x94was', 'againâ\\x80\\x94stark', 'embankÂ¬', 'Wallâ\\x80\\x94the', 'desertsâ\\x80\\x94though', 'WarÂ¬', 'historianâ\\x80\\x99s', 'â\\x80\\x9cIâ\\x80\\x9d', 'streetâ\\x80\\x94where', 'uncertainâ\\x80\\x94uncertain', 'Iâ\\x80\\x99m', 'Rainierâ\\x80\\x99s.â\\x80\\x99', 'DONâ\\x80\\x99T', 'painstakÂ¬', 'Valleyâ\\x80\\x94so', 'liveâ\\x80\\x94youâ\\x80\\x99d', 'sweetsâ\\x80\\x94not', 'ImperÂ¬', 'prominenceâ\\x80\\x94the', 'unhamÂ¬', 'contactâ\\x80\\x94the', 'shereefâ\\x80\\x99', 'bergâ\\x80\\x94a', 'inscrutablyâ\\x80\\x94she', 'utterÂ¬', 'Eastâ\\x80\\x94if', 'bookâ\\x80\\x94deserves', 'Themâ\\x80\\x94forty', 'Geddesâ\\x80\\x94', 'unemoÂ¬', 'itâ\\x80\\x94still', 'branchesâ\\x80\\x94yet', 'â\\x80\\x9cscienceâ\\x80\\x9d', 'toÂ°Hte', 'crowâ\\x80\\x99s', 'weepsâ\\x80\\x94never', 'postÂ¬', 'friendsâ\\x80\\x94the', 'nightâ\\x80\\x94Images', 'steepâ\\x80\\x94at', 'FreliÂ¬', 'hillsâ\\x80\\x94a', 'overâ\\x80\\x94what', 'lastâ\\x80\\x94ay', 'diedâ\\x80\\x94all', 'knowâ\\x80\\x94maybe', 'Tonyâ\\x80\\x99s', 'Huaxtecâ\\x80\\x94the', 'aheadâ\\x80\\x94see', 'sinkÂ¬', 'leafÂ¬', 'cherishÂ¬', 'barefootâ\\x80\\x94we', 'limbâ\\x80\\x94but', 'HisÂ¬', 'departÂ¬', 'menâ\\x80\\x94if', 'prostituteâ\\x80\\x94and', 'botherâ\\x80\\x94oh', 'Mayasâ\\x80\\x94unless', 'itâ\\x80\\x94an', 'rightÂ¬', 'deathâ\\x80\\x94haunted', 'wasteâ\\x80\\x94the', 'Placeâ\\x80\\x94we', 'bowlsâ\\x80\\x94heads', 'Karfaâ\\x80\\x94he', 'Pelagueyaâ\\x80\\x94memory', 'shyÂ¬', 'thoughtâ\\x80\\x94the', 'sameâ\\x80\\x99s', 'andâ\\x80\\x94and', 'Hormi^dâ\\x80\\x99s', 'weeksâ\\x80\\x99', 'Selitsaâ\\x80\\x94oyer', 'adventurerâ\\x80\\x99s', 'â\\x80\\x9cTtoâ\\x80\\x9d', 'outâ\\x80\\x94heâ\\x80\\x99s', 'â\\x80\\x9ccaidâ\\x80\\x9d', 'toâ\\x80\\x94them', 'Saloneyâ\\x80\\x94oh', 'evenâ\\x80\\x94those', 'UnemÂ¬', 'calledâ\\x80\\x94came', 'prosÂ¬', 'uncleâ\\x80\\x99s', 'successâ\\x80\\x94somewhere', 'upâ\\x80\\x94you', 'incombustibleâ\\x80\\x9d', 'Jumboâ\\x80\\x99s', 'ThousÂ¬', 'memoryâ\\x80\\x94oh', 'peasantâ\\x80\\x94some', 'isâ\\x80\\x99t', 'onâ\\x80\\x94you', 'VineÂ¬', 'repuÂ¬', 'untramÂ¬', 'droppedâ\\x80\\x94a', 'ridÂ¬', 'onceâ\\x80\\x94greatest', 'HonÂ¬', 'Blawearieâ\\x80\\x94no', 'coastâ\\x80\\x94as', 'heartâ\\x80\\x9d', 'mysteryâ\\x80\\x94warfare', 'chairÂ¬', 'Garganusâ\\x80\\x94the', 'Callsâ\\x80\\x9d', 'Soâ\\x80\\x99m', 'fineâ\\x80\\x94maybe', 'loanâ\\x80\\x94only', 'thenâ\\x80\\x94and', 'rÂ°rj~', 'â\\x80\\x9cSTAVISKYâ\\x80\\x9d', 'broochâ\\x80\\x94old', 'selflessnessâ\\x80\\x94and', 'wailingâ\\x80\\x94like', 'Singerâ\\x80\\x94as', 'eyesâ\\x80\\x9d', 'undergroundâ\\x80\\x94â\\x80\\x9d', 'himâ\\x80\\x94sick', 'star-gazerâ\\x80\\x94', 'thereâ\\x80\\x94if', 'aliveâ\\x80\\x94instead', 'didâ\\x80\\x94weâ\\x80\\x99ll', 'acknowledgÂ¬', 'happeningsâ\\x80\\x94other', 'mustâ\\x80\\x94Robert', 'hairâ\\x80\\x94a', 'likeâ\\x80\\x94when', 'lassieâ\\x80\\x99s', 'dearâ\\x80\\x94sleep', 'millenniaâ\\x80\\x94or', 'Insteadâ\\x80\\x94well', 'Janeâ\\x80\\x94some', 'Buxworthâ\\x80\\x94knows', 'rememberâ\\x80\\x94Heaven', 'pleasedâ\\x80\\x94if', 'herâ\\x80\\x94in', 'dreamtâ\\x80\\x94of', 'thingâ\\x80\\x94especially', 'SurprisÂ¬', 'Newmanâ\\x80\\x99s', 'shipÂ¬', 'doâ\\x80\\x94oh', 'daysâ\\x80\\x94their', 'imitaÂ¬', 'empireâ\\x80\\x94it', 'SHAPEâ\\x80\\x94', 'soundâ\\x80\\x94a', 'weâ\\x80\\x94we', 'hollowâ\\x80\\x94she', 'pleasantÂ¬', 'staffedâ\\x80\\x94to', 'time-unÂ¬', 'legionÂ¬', 'allâ\\x80\\x94', 'Ironistâ\\x80\\x9d', 'joinâ\\x80\\x94God', 'Venetianâ\\x80\\x99s', 'KÂ', 'Arabsâ\\x80\\x9d', 'beautyâ\\x80\\x94oh', 'shepherdâ\\x80\\x99s', 'imÂ¬', 'tendreichâ\\x80\\x99s', 'noâ\\x80\\x94she', 'milÂ¬', 'â\\x80\\x9cBoyâ\\x80\\x99s', 'Americaâ\\x80\\x94or', 'intenÂ¬', 'guardsâ\\x80\\x99', 'Kinraddieâ\\x80\\x99s', 'Simonâ\\x80\\x99s', 'Butâ\\x80\\x94these', 'sayâ\\x80\\x94that', 'henâ\\x80\\x99s', 'self-destructionâ\\x80\\x9d', 'yoursâ\\x80\\x94and', 'nightâ\\x80\\x99s', 'ofâ\\x80\\x94lust', 'Adventureâ\\x80\\x94the', 'StrateÂ¬', 'saddleÂ¬', 'Peckhamâ\\x80\\x94the', 'Crassusâ\\x80\\x99s', 'needâ\\x80\\x94and', 'mistreatedâ\\x80\\x94though', 'wereâ\\x80\\x94so', 'hierarchyâ\\x80\\x94the', 'he-heâ\\x80\\x99ing', 'speakingâ\\x80\\x94but', 'themâ\\x80\\x94youâ\\x80\\x99ve', 'Motherâ\\x80\\x99s', 'Asiaâ\\x80\\x9d', 'Septemberâ\\x80\\x99s', 'soâ\\x80\\x94it', 'bayonetâ\\x80\\x94and', 'ratherâ\\x80\\x94across', 'Liberaâ\\x80\\x94the', 'giveâ\\x80\\x99s', 'Bâ\\x80\\x99Gob', 'realityâ\\x80\\x94here', 'graipâ\\x80\\x99s', 'Connanâ\\x80\\x99s', 'roomâ\\x80\\x94once', 'domestiÂ¬', 'Songsâ\\x80\\x94this', 'allâ\\x80\\x94brooding', 'forgoneâ\\x80\\x94the', 'universeâ\\x80\\x94an', 'namesâ\\x80\\x94and', 'whyâ\\x80\\x94Simon', 'â\\x80\\x94Ohâ\\x80\\x94-just', 'remonÂ¬', 'Munsterâ\\x80\\x99s', 'otherâ\\x80\\x94spoken', 'Codexâ\\x80\\x94one', 'numberâ\\x80\\x94the', 'peopleâ\\x80\\x99â\\x80\\x94she', 'dreamedâ\\x80\\x94might', 'onceâ\\x80\\x94aftenvards', 'legionsâ\\x80\\x99ll', 'asleepâ\\x80\\x94and', 'indetermiÂ¬', 'Arenâ\\x80\\x99t', 'yoursâ\\x80\\x94you', 'cottarâ\\x80\\x99s', 'lookâ\\x80\\x94Are', 'notableâ\\x80\\x94had', 'â\\x80\\x98SeeÂ¬', 'oldâ\\x80\\x94Gama', 'jungleâ\\x80\\x99s', 'nieceâ\\x80\\x94made', 'whenÂ¬', 'leadersâ\\x80\\x94', 'dreamâ\\x80\\x99', 'strikersâ\\x80\\x99', 'hesiÂ¬', 'waitÂ¬', 'Hoggâ\\x80\\x99s', 'ofâ\\x80\\x9cKon', 'waistÂ¬', 'hystericsâ\\x80\\x94angry', 'wayâ\\x80\\x94monomaniacs', 'comingâ\\x80\\x94it', 'Prussiansâ\\x80\\x94and', 'angerâ\\x80\\x94anger', 'BuckingÂ¬', 'legionariesâ\\x80\\x99', 'earth-conquerorâ\\x80\\x99s', 'ornaÂ¬', 'foreheadÂ¬', 'Ohâ\\x80\\x94when', 'labourerâ\\x80\\x94Christ', 'mustnâ\\x80\\x99t.â\\x80\\x99', 'ofâ\\x80\\x94or', 'universeâ\\x80\\x94and', 'Gayâ\\x80\\x94so', 'advertiseÂ¬', 'newsâ\\x80\\x94', 'togetherâ\\x80\\x94an', 'Ellisonâ\\x80\\x99s', 're-orientaÂ¬', 'hareâ\\x80\\x94a', 'noonÂ¬', 'cookâ\\x80\\x94for', 'Voiceâ\\x80\\x94had', 'feedâ\\x80\\x94the', 'tribuneâ\\x80\\x94if', 'oaksâ\\x80\\x94young-looking', 'interÂ¬', 'â\\x80\\x9cThenâ\\x80\\x94the', 'salvationâ\\x80\\x94â\\x80\\x94', 'timeâ\\x80\\x94oh', 'Incaicâ\\x80\\x94-grass', 'Adamâ\\x80\\x94this', 'hateâ\\x80\\x94hate', 'payinâ\\x80\\x99', 'Godâ\\x80\\x94that', 'Plinyâ\\x80\\x99s', 'plentiÂ¬', 'Freemanâ\\x80\\x99s', 'â\\x80\\x99nâ\\x80\\x99en', 'proto-Cro-Magnardsâ\\x80\\x94', 'itselfâ\\x80\\x94as', 'lipsâ\\x80\\x94this', 'parentsâ\\x80\\x94if', 'Johnsâ\\x80\\x94Ewan', 'nowâ\\x80\\x94â\\x80\\x9d', 'guardâ\\x80\\x99s', 'Sunsetâ\\x80\\x9d', 'pracÂ¬', 'decencyâ\\x80\\x94especially', 'FreeÂ¬', 'Cairoâ\\x80\\x94a', 'rejectedâ\\x80\\x94the', 'causesâ\\x80\\x94of', 'Malcomâ\\x80\\x94all', 'Juneâ\\x80\\x99s', 'Cuddiestounâ\\x80\\x99s', 'starsâ\\x80\\x94â\\x80\\x9d', 'northernÂ¬', 'myselfâ\\x80\\x94for', 'findâ\\x80\\x94heâ\\x80\\x99d', 'nowâ\\x80\\x94bees', 'Morleyâ\\x80\\x99s', 'minersâ\\x80\\x99', 'nationâ\\x80\\x94that', 'livingâ\\x80\\x94living', 'interestÂ¬', 'Neanderthalersâ\\x80\\x94the', 'breakfastâ\\x80\\x94though', 'clutchÂ¬', 'bakerâ\\x80\\x99s', 'lateâ\\x80\\x94the', 'TehuanÂ¬', 'exisÂ¬', 'anythingâ\\x80\\x94almost', 'trueâ\\x80\\x94', 'olivesâ\\x80\\x94a', 'wereâ\\x80\\x94a', 'lookinâ\\x80\\x99', 'safeÂ¬', 'bonÂ¬', 'onâ\\x80\\x94even', 'To-morrowâ\\x80\\x99s', 'disÂ¬', 'corporalâ\\x80\\x99s', 'breakfastâ\\x80\\x94', 'thingâ\\x80\\x94that', 'allâ\\x80\\x94had', 'heldâ\\x80\\x94He-he', 'daurnaâ\\x80\\x99', 'disciplesâ\\x80\\x94the', 'labourersâ\\x80\\x99', 'â\\x80\\x9cPicaroâ\\x80\\x9d', 'GlasÂ¬', 'Elizabethâ\\x80\\x99s', 'Queenâ\\x80\\x94Ay', 'singâ\\x80\\x94', 'villageâ\\x80\\x94didnâ\\x80\\x99t', 'Zeiaâ\\x80\\x99s', 'Worldâ\\x80\\x94which', 'allowÂ¬', 'Mungoâ\\x80\\x99s', 'usâ\\x80\\x94up', 'DenÂ¬', 'bookâ\\x80\\x94not', 'Dienekesâ\\x80\\x99', 'thrillâ\\x80\\x94what', 'correÂ¬', 'Phaseâ\\x80\\x9d', 'prayerâ\\x80\\x94with', 'explorersâ\\x80\\x94descendants', 'â\\x80\\x98Howâ\\x80\\x99s', 'yoursâ\\x80\\x94I', 'coldâ\\x80\\x94her', 'attainÂ¬', 'insouciÂ¬', 'sheepÂ¬', 'rootsâ\\x80\\x94an', 'nieceâ\\x80\\x94the', 'Augustâ\\x80\\x99s', 'Chapelâ\\x80\\x94mind', 'peninÂ¬', 'himâ\\x80\\x94him', 'carvedâ\\x80\\x94Maison', 'leafeâ\\x80\\x99s', 'affectionâ\\x80\\x94that', 'gallantâ\\x80\\x9dâ\\x80\\x94which', 'grandÂ¬', 'relicâ\\x80\\x94', 'metiÂ¬', 'happenâ\\x80\\x94there', 'disturbÂ¬', 'womenâ\\x80\\x94the', 'fastâ\\x80\\x99s', 'eastâ\\x80\\x94if', 'weekâ\\x80\\x94your', 'saltÂ¬', 'BabbittÂ¬', 'Greeksâ\\x80\\x94thirteen', 'senseâ\\x80\\x94the', 'Steynâ\\x80\\x99s', 'Shookâ\\x80\\x9d', 'twoâ\\x80\\x94', 'prospectÂ¬', 'theseâ\\x80\\x94and', 'statuaryâ\\x80\\x94a', 'â\\x80\\x98Iâ\\x80\\x99ll', 'Sheâ\\x80\\x99ll', 'nieceâ\\x80\\x99s', 'ffrenchâ\\x80\\x99s', 'Baghdadâ\\x80\\x99s', 'oaksâ\\x80\\x94grew', 'doneâ\\x80\\x94she', 'othersâ\\x80\\x94because', 'Masterâ\\x80\\x94Rejeb', 'Onceâ\\x80\\x94if', 'bruteâ\\x80\\x99s', 'discovererâ\\x80\\x94that', 'reluctÂ¬', 'Caldonâ\\x80\\x99s', 'Finellaâ\\x80\\x99s', 'Yaholanâ\\x80\\x99s', 'multitudiÂ¬', 'pastâ\\x80\\x94though', 'earthâ\\x80\\x99s', 'Societyâ\\x80\\x94-and', 'ancestorsâ\\x80\\x94', 'huntersâ\\x80\\x94', 'realityâ\\x80\\x94', 'frigateâ\\x80\\x94future', 'astonishmentâ\\x80\\x94to', 'mindâ\\x80\\x94the', 'ObtainÂ¬', 'sureâ\\x80\\x94believed', 'detestsâ\\x80\\x94', 'identiÂ¬', 'Stopâ\\x80\\x94I', 'hateâ\\x80\\x94being', 'self-retaliationâ\\x80\\x94flung', 'eitherâ\\x80\\x94a', 'Arnoldâ\\x80\\x99s', 'datesâ\\x80\\x94exact', 'doâ\\x80\\x94with', 'peopleâ\\x80\\x94men', 'â\\x80\\x9ccharmingâ\\x80\\x9d', 'bathingâ\\x80\\x94ay', 'enemiesâ\\x80\\x99', 'Indiaâ\\x80\\x94Javaâ\\x80\\x94Sumatra', 'probÂ¬', 'areâ\\x80\\x94Man', 'Damnâ\\x80\\x99t', 'invisibleâ\\x80\\x94even', 'worldâ\\x80\\x94he', 'lifeâ\\x80\\x94or', 'breakfastâ\\x80\\x94it', 'Rhizosâ\\x80\\x94he', 'meansâ\\x80\\x94heâ\\x80\\x99s', 'mentionâ\\x80\\x9d', 'centuryâ\\x80\\x94a', 'lovesâ\\x80\\x94the', 'Stopesâ\\x80\\x99', 'donâ\\x80\\x99t', 'Noelâ\\x80\\x99s', 'Homelyâ\\x80\\x94God', 'novelâ\\x80\\x94being', 'Itâ\\x80\\x99sâ\\x80\\x94oh', 'trackâ\\x80\\x94no', 'shiftÂ¬', 'disgustâ\\x80\\x9d', 'cowâ\\x80\\x94a', 'beerâ\\x80\\x94English', 'shalÂ¬', 'UnexÂ¬', 'Balâ\\x80\\x99montâ\\x80\\x94oh', 'consideraÂ¬', 'Brasseurâ\\x80\\x99s', 'chirpÂ¬', 'no-manâ\\x80\\x99s-land', 'itâ\\x80\\x94except', 'soapÂ¬', 'authorâ\\x80\\x99s', 'backâ\\x80\\x94surprised', 'hateâ\\x80\\x94or', 'commingledâ\\x80\\x94correct', 'Canâ\\x80\\x99t', 'wereâ\\x80\\x94all', 'placeâ\\x80\\x94were', 'faunâ\\x80\\x99sâ\\x80\\x94', 'Borneoâ\\x80\\x94of', 'Swinburneâ\\x80\\x94or', 'Cityâ\\x80\\x9d', 'disapÂ¬', 'Insteadâ\\x80\\x94insteadâ\\x80\\x94you', 'regionsâ\\x80\\x94perhaps', 'ceaseâ\\x80\\x94Oh', 'potentateâ\\x80\\x94one', 'weepingâ\\x80\\x94suddenly', 'dressesâ\\x80\\x94both', 'nephewâ\\x80\\x99s', 'Watsonâ\\x80\\x99s', 'downâ\\x80\\x94', 'Nileâ\\x80\\x94such', 'Stellerâ\\x80\\x99s', 'itâ\\x80\\x94back', 'nonsenseâ\\x80\\x94the', 'dogâ\\x80\\x94canâ\\x80\\x99t', 'hersâ\\x80\\x94she', 'typeâ\\x80\\x94they', 'townâ\\x80\\x94a', 'snowâ\\x80\\x99d', 'Smokeâ\\x80\\x9d', 'hoosekeeperâ\\x80\\x99s', 'loonâ\\x80\\x94she', 'figureâ\\x80\\x94', 'asÂ¬', 'piastreÂ¬', 'â\\x80\\x9cButâ\\x80\\x94oh', 'valleyâ\\x80\\x94south', 'Gantryâ\\x80\\x99s', 'fearÂ¬', 'Romiâ\\x80\\x94the', 'beggarâ\\x80\\x99s', 'nameâ\\x80\\x94', 'Germanyâ\\x80\\x99s', 'purÂ¬', 'wintersâ\\x80\\x99', 'obediÂ¬', 'jamÂ¬', 'yellowâ\\x80\\x99s', 'Ewanâ\\x80\\x94Oh', 'goodâ\\x80\\x94or', 'Trumpetâ\\x80\\x94that', 'tribuneâ\\x80\\x99s', 'starveâ\\x80\\x94thatâ\\x80\\x99s', 'rhinoceroiâ\\x80\\x94the', 'Weptâ\\x80\\x94', 'dreamâ\\x80\\x94I', 'peopleâ\\x80\\x99s', 'Whereâ\\x80\\x99ve', 'settlementâ\\x80\\x99s', 'movingâ\\x80\\x94a', 'snailâ\\x80\\x99s', 'desertedâ\\x80\\x94but', 'alarmâ\\x80\\x94a', 'HernÂ¬', 'Lettersâ\\x80\\x9d', 'grMeAâ\\x80\\x947', 'cereÂ¬', 'gramoÂ¬', 'nightingaleâ\\x80\\x99sâ\\x80\\x94if', 'extenÂ¬', 'seasâ\\x80\\x94for', 'saddlerâ\\x80\\x99s', 'occuÂ¬', 'vengeanceâ\\x80\\x94^without', 'wireâ\\x80\\x94sick', 'Rajaâ\\x80\\x99s', 'warrantedâ\\x80\\x94perhaps', 'celeÂ¬', 'loveâ\\x80\\x94Goodness', 'againâ\\x80\\x94no', 'yeâ\\x80\\x99d', 'Mexicoâ\\x80\\x94in', 'hourâ\\x80\\x99s', 'thatâ\\x80\\x94Ay', 'chiefsâ\\x80\\x94the', 'Americanâ\\x80\\x99s', 'individualismâ\\x80\\x94they', 'otherâ\\x80\\x9d', 'imaginaÂ¬', 'pantÂ¬', 'awayâ\\x80\\x94as', 'justâ\\x80\\x94Lord', 'situationâ\\x80\\x94Kajaaga', 'Jarraâ\\x80\\x94', 'Oâ\\x80\\x99Donnellâ\\x80\\x94the', 'beenâ\\x80\\x94after', 'queerâ\\x80\\x94WALKING', 'Octoberâ\\x80\\x94', 'didâ\\x80\\x94the', 'Novemberâ\\x80\\x99s', 'BrainÂ¬', 'concoctionâ\\x80\\x94the', 'mishewâ\\x80\\x94â\\x80\\x99', 'understoodâ\\x80\\x94albeit', 'Godâ\\x80\\x94the', 'andâ\\x80\\x94for', 'FebruÂ¬', 'childrenâ\\x80\\x94can', 'Koupaâ\\x80\\x99s', 'Metaxaâ\\x80\\x99s', 'lawsâ\\x80\\x94and', 'disillusionÂ¬', 'â\\x80\\x9cGoodnessâ\\x80\\x94Iâ\\x80\\x94I', 'assistÂ¬', 'onceâ\\x80\\x94but', 'Huebschâ\\x80\\x94', 'collarsâ\\x80\\x94them', 'deâ\\x80\\x99', 'savageâ\\x80\\x94a', 'wteâ\\x80\\x99d', 'reneÂ¬', 'experimentsâ\\x80\\x94and', 'Amanullahâ\\x80\\x99s', 'Mayaâ\\x80\\x94half', 'breakfastâ\\x80\\x94to', 'hadâ\\x80\\x94not', 'serpentâ\\x80\\x99s', 'â\\x80\\x9cButâ\\x80\\x94it', 'â\\x80\\x9cwâ\\x80\\x9d', 'Thraciansâ\\x80\\x99', 'thereâ\\x80\\x94â\\x80\\x9c', 'stairÂ¬', 'onâ\\x80\\x94theyâ\\x80\\x99re', 'CroyÂ£re', 'readâ\\x80\\x94you', 'developÂ¬', 'inspiraÂ¬', 'kissesâ\\x80\\x94they', 'Edwardsâ\\x80\\x94well', 'gullsâ\\x80\\x99', 'Youâ\\x80\\x99d', 'minuteâ\\x80\\x99s', 'crowdÂ¬', 'pyramidsâ\\x80\\x94more', 's^vlvâ\\x80\\x9c', 'northâ\\x80\\x94and', 'godÂ¬', 'hellâ\\x80\\x94aloud', 'handâ\\x80\\x94could', 'mapâ\\x80\\x94', 'Americasâ\\x80\\x94and', 'Gezirâ\\x80\\x99s', 'workâ\\x80\\x94they', 'cheeryâ\\x80\\x94theyâ\\x80\\x99d', 'trembÂ¬', 'whitenÂ¬', 'StripÂ¬', 'â\\x80\\x98Weâ\\x80\\x99re', 'moronâ\\x80\\x94if', 'staredâ\\x80\\x94stared', 'nunneryâ\\x80\\x94that', 'characterÂ¬', 'ownâ\\x80\\x94indeed', 'dangerâ\\x80\\x94he', 'branchâ\\x80\\x94', 'Sullaâ\\x80\\x99s', 'lastâ\\x80\\x94it', 'sayâ\\x80\\x94civilizationâ\\x80\\x99s', 'scounÂ¬', 'noseâ\\x80\\x94you', 'pagesâ\\x80\\x94the', 'awareâ\\x80\\x94that', 'Butâ\\x80\\x94what', 'bustsâ\\x80\\x94especially', 'businessâ\\x80\\x94he', 'rebusÂ¬', 'Butâ\\x80\\x94have', 'Morganâ\\x80\\x99s', 'Magellanâ\\x80\\x99s', 'companionedâ\\x80\\x94the', 'itâ\\x80\\x94you', 'Falihâ\\x80\\x99s', 'goatsâ\\x80\\x94I', 'contemporariesâ\\x80\\x94whom', 'impleÂ¬', 'Beyâ\\x80\\x94he', 'secondâ\\x80\\x94oh', 'timesâ\\x80\\x94at', 'cupâ\\x80\\x94the', 'curiÂ¬', 'Hatounâ\\x80\\x99s', 'grassÂ¬', 'threeâ\\x80\\x94a', 'foolÂ¬', 'countryÂ¬', 'friendÂ¬', 'keeperâ\\x80\\x99s', 'scriptâ\\x80\\x94it', 'hourâ\\x80\\x94though', 'evenâ\\x80\\x94that', 'Seddelâ\\x80\\x94they', 'â\\x80\\x9cButâ\\x80\\x94is', 'raddieâ\\x80\\x99s', 'giantâ\\x80\\x99s', 'leaderâ\\x80\\x94may', 'impliÂ¬', 'supposeâ\\x80\\x94even', 'backâ\\x80\\x94as', 'Wingsâ\\x80\\x9d', 'busiÂ¬', 'centuriesâ\\x80\\x94at', 'outletâ\\x80\\x94either', 'themâ\\x80\\x94until', 'ellâ\\x80\\x99s', 'Remâ\\x80\\x94what', 'Fascismâ\\x80\\x99s', 'coatÂ¬', 'fatherâ\\x80\\x99s', 'Argusâ\\x80\\x99s', 'SeptemÂ¬', 'Meiklebogsâ\\x80\\x94he', 'popularâ\\x80\\x94and', 'peakâ\\x80\\x94hold', 'pheasantâ\\x80\\x99s', 'feelÂ¬', 'sleepâ\\x80\\x94without', 'dyesâ\\x80\\x94', 'orâ\\x80\\x94more', 'helTâ\\x80\\x94sometime', 'pulpitâ\\x80\\x94folk', 'acciÂ¬', 'skyâ\\x80\\x94food-filled', 'â\\x80\\x9cNeednâ\\x80\\x99t', 'northâ\\x80\\x94apparently', 'complexiÂ¬', 'discoveredâ\\x80\\x94or', 'Sergeantâ\\x80\\x99s', 'Schroterâ\\x80\\x99s', 'Iâ\\x80\\x94I', 'finger-printsâ\\x80\\x94one', 'geograÂ¬', 'landsâ\\x80\\x94here', 'war-timeâ\\x80\\x94while', 'blindâ\\x80\\x94with', 'forbidâ\\x80\\x94or', 'roosterâ\\x80\\x99s', 'whereâ\\x80\\x94in', 'Besidesâ\\x80\\x94â\\x80\\x99', 'Pimpâ\\x80\\x94a', 'theseâ\\x80\\x94people', 'companionsâ\\x80\\x99', 'wistÂ¬', 'Meiklebogsâ\\x80\\x99', 'toilÂ¬', 'daylightâ\\x80\\x94as', 'areaâ\\x80\\x94at', 'meâ\\x80\\x94or', 'Forbesâ\\x80\\x99s', 'woundedâ\\x80\\x94once', 'Voiceâ\\x80\\x94what', 'arabÂ¬', 'watersâ\\x80\\x94fresh', 'sensaÂ¬', 'Crawleyâ\\x80\\x94littcr-picking', 'Budenniâ\\x80\\x99s', 'elseâ\\x80\\x94least', 'hareâ\\x80\\x94it', 'starsâ\\x80\\x94', 'tattooistsâ\\x80\\x94', 'reasonsâ\\x80\\x94that', 'writeâ\\x80\\x94', 'Gamaâ\\x80\\x99s', 'â\\x80\\x9cislandsâ\\x80\\x9d', 'Thraciansâ\\x80\\x94a', 'AntiÂ¬', 'saidâ\\x80\\x94', 'notedâ\\x80\\x94as', 'comprehenÂ¬', 'terrace-agriÂ¬', 'breathÂ¬', 'tremuÂ¬', 'princeâ\\x80\\x9d', 'Godâ\\x80\\x99', 'toldâ\\x80\\x94passed', 'countrymenâ\\x80\\x94he', 'hollowâ\\x80\\x94mills', 'himselfâ\\x80\\x94alien', 'byâ\\x80\\x94a', 'Manâ\\x80\\x94', 'Maloryâ\\x80\\x94oh', 'outâ\\x80\\x94all', 'flatâ\\x80\\x94an', 'Stevensonâ\\x80\\x99s', 'cloverâ\\x80\\x94a', 'luckâ\\x80\\x99s', 'lingerÂ¬', 'landâ\\x80\\x94voiceless', 'magisÂ¬', 'prostituteâ\\x80\\x99s', 'moonâ\\x80\\x94oh', 'barrack-hutâ\\x80\\x94that', 'Clubâ\\x80\\x99s', 'imperturbÂ¬', 'classesâ\\x80\\x94Ellen', 'boyâ\\x80\\x94jacket', 'Sleepâ\\x80\\x94she', 'nÂ°ise', 'bellâ\\x80\\x94no', 'Floreâ\\x80\\x99s', 'repowderÂ¬', 'whereâ\\x80\\x99s', 'thinkâ\\x80\\x94who', 'supposÂ¬', 'psychoÂ¬', 'menâ\\x80\\x94How', 'thenâ\\x80\\x94in', 'rainsâ\\x80\\x94came', 'Greeceâ\\x80\\x94^witness', 'toleraÂ¬', 'Everywhereâ\\x80\\x94starving', 'travellersâ\\x80\\x99', 'disreÂ¬', 'burtonâ\\x80\\x99s', 'birdsâ\\x80\\x94â\\x80\\x98', 'philoÂ¬', 'doâ\\x80\\x94to', 'honeyÂ¬', 'centuryâ\\x80\\x94twenty', 'operaÂ¬', 'kingâ\\x80\\x9d', 'handkerchiefâ\\x80\\x94', 'hillsâ\\x80\\x94perhaps', 'Englishmanâ\\x80\\x99s', 'surviÂ¬', 'seamanâ\\x80\\x9dâ\\x80\\x94which', 'trueâ\\x80\\x94that', 'assâ\\x80\\x94go', 'keeliesâ\\x80\\x94find', 'abanÂ¬', 'mÂ£tcli6', 'generÂ¬', 'outâ\\x80\\x94taking', 'curateâ\\x80\\x99s', 'palmsâ\\x80\\x94when', 'meaningâ\\x80\\x94that', 'companionÂ¬', 'Nahâ\\x80\\x94old', 'abroadâ\\x80\\x94we', 'frightenedâ\\x80\\x94for', 'youthÂ¬', 'sitesâ\\x80\\x94to', 'Scotsmanâ\\x80\\x94Mr', 'RevaluÂ¬', 'handâ\\x80\\x94almost', 'foolâ\\x80\\x94the', 'kissâ\\x80\\x94she', 'partsâ\\x80\\x9d', 'oursâ\\x80\\x94our', 'vanityâ\\x80\\x99s', 'war-cryâ\\x80\\x94staring', 'windowâ\\x80\\x94stewing', 'blokeâ\\x80\\x99s', 'themÂ¬', 'Dustâ\\x80\\x9d', 'countÂ¬', 'himâ\\x80\\x94only', 'necesÂ¬', 'Godâ\\x80\\x99s', 'seenâ\\x80\\x94a', 'horrorâ\\x80\\x94but', 'ownâ\\x80\\x94sheâ\\x80\\x99d', 'â\\x80\\x9cCheiroâ\\x80\\x9d', 'fancyâ\\x80\\x94', 'myselfâ\\x80\\x94I', 'easyâ\\x80\\x94when', 'saidâ\\x80\\x94and', 'talkâ\\x80\\x94talk', 'sumÂ¬', 'lookâ\\x80\\x94God', 'backâ\\x80\\x94robbed', 'Houseâ\\x80\\x94considerably', 'mummiÂ¬', 'likeâ\\x80\\x94like', 'virginâ\\x80\\x94a', 'modifiÂ¬', 'inextinguishableâ\\x80\\x94the', 'afraidâ\\x80\\x94she', 'chilanâ\\x80\\x94the', 'Dreaichieâ\\x80\\x99s', 'wallsâ\\x80\\x94and', 'lashesâ\\x80\\x94sheâ\\x80\\x99d', 'Leifâ\\x80\\x99s', 'patronÂ¬', 'Lairdâ\\x80\\x9d', 'onâ\\x80\\x94if', 'thingsâ\\x80\\x94love', 'Elseâ\\x80\\x94was', 'Leagueâ\\x80\\x99s', 'thatâ\\x80\\x94itâ\\x80\\x99s', 'Swinburneâ\\x80\\x94whom', 'Janissariesâ\\x80\\x99', 'hcveâ\\x80\\x99s', 'monkâ\\x80\\x94an', 'vomitâ\\x80\\x94â\\x80\\x98but', 'queanâ\\x80\\x99s', 'byâ\\x80\\x94all', 'boyarsâ\\x80\\x94', 'ourÂ¬', 'Antonâ\\x80\\x94hadnâ\\x80\\x99t', 'professionâ\\x80\\x94his', 'Mamelukeâ\\x80\\x99s', 'Marriageâ\\x80\\x94the', 'midÂ¬', 'stubÂ¬', 'nineÂ¬', 'eviÂ¬', 'Bessâ\\x80\\x99s', 'unbeÂ¬', 'areâ\\x80\\x94but', 'Seddehâ\\x80\\x99', 'unreÂ¬', 'brainsâ\\x80\\x94if', 'herselfâ\\x80\\x94each', 'leastâ\\x80\\x94religions', 'Manâ\\x80\\x94fulfilled', 'knewâ\\x80\\x94the', 'Ishayâ\\x80\\x94the', 'uncomÂ¬', 'Millionaireâ\\x80\\x9d', 'bathâ\\x80\\x94could', 'heightâ\\x80\\x94the', 'Ursuaâ\\x80\\x94those', 'Nickâ\\x80\\x99s', 'ramsâ\\x80\\x99', 'bodyÂ¬', 'â\\x80\\x9cGarlandâ\\x80\\x99s', 'bedroomâ\\x80\\x94a', 'responsibleâ\\x80\\x94', 'enthusiasmâ\\x80\\x94archaeology', 'repriÂ¬', 'Mayasâ\\x80\\x99', 'â\\x80\\x9cDonâ\\x80\\x99t', 'dawnâ\\x80\\x94of', 'daintiÂ¬', 'antiquesâ\\x80\\x94bronzes', 'InÂ¬', 'Gorgonâ\\x80\\x99s', 'Moslemsâ\\x80\\x94remained', 'invadersâ\\x80\\x94had', 'yetâ\\x80\\x94', 'takeâ\\x80\\x94it', 'MurgaÂ¬', 'Forthieâ\\x80\\x99s', 'Scotlandâ\\x80\\x94and', 'Chanceâ\\x80\\x94now', 'sensesâ\\x80\\x94understanding', 'perspiraÂ¬', 'Wellâ\\x80\\x94Matron', 'Cosmopolisâ\\x80\\x94of', 'Streetâ\\x80\\x94why', 'tribunesâ\\x80\\x94a', 'Hispaniolaâ\\x80\\x94unless', 'cowshedsâ\\x80\\x94doffed', 'mindâ\\x80\\x94to', \"theâ\\x80\\x98'un-\", 'Paperâ\\x80\\x94The', 'Dicksonâ\\x80\\x99s', 'forgottenâ\\x80\\x94yes', 'sillyâ\\x80\\x94or', 'delightsâ\\x80\\x94he', 'slumÂ¬', 'planetâ\\x80\\x99s', 'grievÂ¬', 'Carsonâ\\x80\\x99s', 'actâ\\x80\\x94stripped', 'Magellanâ\\x80\\x94and', 'knock-kneeâ\\x80\\x99d', 'EratosÂ¬', 'EnSlâ\\x80\\x98Sh', 'acknowÂ¬', 'invenÂ¬', 'fringeâ\\x80\\x94Christ', 'Bwanâ\\x80\\x99s', 'â\\x80\\x94Iâ\\x80\\x99m', 'wrongâ\\x80\\x94nothing', 'seduÂ¬', 'Pelagueyaâ\\x80\\x99s', 'sheâ\\x80\\x94who', 'feetâ\\x80\\x99ll', 'Chavesâ\\x80\\x99s', 'desperateâ\\x80\\x94without', 'Ogilvieâ\\x80\\x99s', 'calledâ\\x80\\x94', 'grainsacksâ\\x80\\x94', 'SomeÂ¬', 'fesusâ\\x80\\x94thatâ\\x80\\x99s', 'sportsmanâ\\x80\\x99s', 'governÂ¬', 'handâ\\x80\\x94someone', 'someoneâ\\x80\\x99s', 'dayÂ¬', 'hadâ\\x80\\x94to', 'Spiceâ\\x80\\x94that', 'moonâ\\x80\\x94she', 'marchâ\\x80\\x94to', 'Gannicusâ\\x80\\x99s', 'attractiveâ\\x80\\x94the', 'extincÂ¬', 'breastÂ¬', 'Mâ\\x80\\x99sieuâ\\x80\\x99.â\\x80\\x9d', 'shanâ\\x80\\x99t', 'UncomprehendÂ¬', 'ofâ\\x80\\x94the', 'cameâ\\x80\\x9d', 'altersâ\\x80\\x94and', 'foolâ\\x80\\x94they', 'Jezreelâ\\x80\\x94not', 'codicesâ\\x80\\x94the', 'â\\x80\\x9cDryadâ\\x80\\x9d', 'hillsâ\\x80\\x94golden', 'Imageâ\\x80\\x94in', 'lawnâ\\x80\\x94Robert', 'Bokharaâ\\x80\\x94a', 'â\\x80\\x98Iâ\\x80\\x99m', 'muchâ\\x80\\x94lice', 'Dawnâ\\x80\\x94a', 'concentraÂ¬', 'indeÂ¬', 'brickÂ¬', 'night-timeâ\\x80\\x99s', 'permisÂ¬', 'taskâ\\x80\\x94', 'novelâ\\x80\\x99ll', 'braeâ\\x80\\x94that', 'endâ\\x80\\x94oh', 'thisâ\\x80\\x94hours', 'â\\x80\\x9csubversiveâ\\x80\\x9d', 'boredomâ\\x80\\x94', 'telephoneâ\\x80\\x94an', 'pussyÂ¬', 'Mungoâ\\x80\\x94very', 'soldierâ\\x80\\x99s', 'Mongolâ\\x80\\x99s', 'ladyâ\\x80\\x94perhaps', 'lingÂ¬', 'truthfullyâ\\x80\\x94that', 'folkâ\\x80\\x94like', 'butâ\\x80\\x94need', 'businessâ\\x80\\x94is', 'Conflictâ\\x80\\x94was', 'Lifeâ\\x80\\x94but', 'unfathomÂ¬', 'untrainedâ\\x80\\x94every', 'â\\x80\\x9cWhatâ\\x80\\x94to', 'freeÂ¬', 'camelâ\\x80\\x99s', 'didâ\\x80\\x94a', 'â\\x80\\x9cTheyâ\\x80\\x99re', 'bandagesâ\\x80\\x99', 'headâ\\x80\\x94and', 'WordsÂ¬', 'lastâ\\x80\\x94though', 'generalÂ¬', 'NovelÂ¬', 'Aâ\\x80\\x98Yes', 'picnicâ\\x80\\x94it', 'bairnâ\\x80\\x94over', 'Youâ\\x80\\x99ll', 'readâ\\x80\\x94a', 'Somethingâ\\x80\\x94like', 'ThoughtÂ¬', 'latterâ\\x80\\x99s', 'grotesqueÂ¬', 'pencilâ\\x80\\x94an', 'wifeâ\\x80\\x94Maryâ\\x80\\x94and', 'â\\x80\\x99nâ\\x80\\x99', 'shortâ\\x80\\x94', 'Mercatorâ\\x80\\x99s', 'Yesâ\\x80\\x94right', 'Oâ\\x80\\x99Casey', 'lnguthÂ¥r0und-', 'Moorsâ\\x80\\x94captured', 'Engineersâ\\x80\\x99', 'shiveredâ\\x80\\x94Whatâ\\x80\\x99s', 'â\\x80\\x9ccharmâ\\x80\\x9d', 'throngâ\\x80\\x94men', 'knowâ\\x80\\x94', 'redâ\\x80\\x94the', 'Gibbonâ\\x80\\x99s', 'Edinburghâ\\x80\\x94faintly', 'Hebronâ\\x80\\x94to', 'hereâ\\x80\\x94young', 'eyesâ\\x80\\x94the', 'isâ\\x80\\x94oh', 'â\\x80\\x98yesâ\\x80\\x99', 'seaweedâ\\x80\\x94though', 'mustnâ\\x80\\x99t', 'Gambiaâ\\x80\\x94a', 'mineâ\\x80\\x94our', 'waterâ\\x80\\x94had', 'watchfulâ\\x80\\x94and', 'Baldurâ\\x80\\x99s', 'longâ\\x80\\x94â\\x80\\x99nâ\\x80\\x99', 'clothâ\\x80\\x94apparently', 'practiseâ\\x80\\x94there', 'sodsâ\\x80\\x99', 'manâ\\x80\\x99sâ\\x80\\x94somewhere', 'khawagaâ\\x80\\x9d', 'nearâ\\x80\\x94toÂ¬', 'accountâ\\x80\\x94to', 'frightenÂ¬', 'Popeâ\\x80\\x99s', 'sing-songâ\\x80\\x94', 'discoveredâ\\x80\\x94was', 'seasonsâ\\x80\\x99', 'Malcomâ\\x80\\x94', 'foodâ\\x80\\x94steaming', 'liberalityâ\\x80\\x94these', 'talkedâ\\x80\\x94about', 'Manâ\\x80\\x94obvious', 'Gerryâ\\x80\\x99s', 'â\\x80\\x98Tâ\\x80\\x99m', 'inspirationâ\\x80\\x94leant', 'Atlantisâ\\x80\\x94perhaps', 'Listenâ\\x80\\x9d', 'carbineâ\\x80\\x99d', 'eâ\\x80\\x99e', 'delightâ\\x80\\x94far', 'fighterâ\\x80\\x94heard', 'millerâ\\x80\\x99s', 'wardÂ¬', 'battleâ\\x80\\x94children', 'entangleÂ¬', 'lowâ\\x80\\x94or', 'chamberÂ¬', 'mâ\\x80\\x99sieuâ\\x80\\x99.â\\x80\\x9d', 'bombardâ\\x80\\x99s', 'rainâ\\x80\\x94itâ\\x80\\x99s', 'Browne-Lovittâ\\x80\\x99s', 'â\\x80\\x9cWorkedâ\\x80\\x94God', 'ornithopterâ\\x80\\x94the', 'justiceâ\\x80\\x9d', 'nitratesâ\\x80\\x94', 'lateâ\\x80\\x94faith', 'millionÂ¬', 'suggestâ\\x80\\x94as', 'frailâ\\x80\\x94she', 'awaâ\\x80\\x99', 'anyâ\\x80\\x94worksâ\\x80\\x94of', 'labourersâ\\x80\\x94', 'Boulâ\\x80\\x99', 'decÂ°ratl', 'Chilternsâ\\x80\\x94â\\x80\\x98are', 'freshnessâ\\x80\\x94even', 'civilizationâ\\x80\\x99s', 'dictatedâ\\x80\\x94the', 'religionâ\\x80\\x94', 'deadâ\\x80\\x94he', 'outâ\\x80\\x94down', 'justiÂ¬', 'deadâ\\x80\\x94after', 'horizonâ\\x80\\x99s', 'prisonersâ\\x80\\x94but', 'moonlightâ\\x80\\x99s', 'kenâ\\x80\\x94the', 'excavatÂ¬', 'conjuncÂ¬', 'Empireâ\\x80\\x9d', 'giftsâ\\x80\\x94for', 'dangerâ\\x80\\x94much.â\\x80\\x9d', 'herâ\\x80\\x94och', 'thisâ\\x80\\x9dâ\\x80\\x94he', 'itâ\\x80\\x94Iâ\\x80\\x99m', 'Hunterâ\\x80\\x94behind', 'debatÂ¬', 'autumnâ\\x80\\x94the', 'friendâ\\x80\\x94the', 'Druidâ\\x80\\x99s', 'aurochsâ\\x80\\x99', 'Colonelâ\\x80\\x99s', 'worstâ\\x80\\x94were', 'duskâ\\x80\\x94and', 'detailsâ\\x80\\x94MeanÂ¬', 'PleasurÂ¬', 'Spitzbergenâ\\x80\\x94', 'periodicityâ\\x80\\x94', 'truthâ\\x80\\x94and', 'lipsâ\\x80\\x94daftness', 'Clayâ\\x80\\x9d', 'armyâ\\x80\\x94not', 'Chrisâ\\x80\\x94hate', 'Dickâ\\x80\\x99s', 'DisÂ¬', 'childrenâ\\x80\\x94what', 'expediÂ¬', 'Fatherâ\\x80\\x99s', 'signalÂ¬', 'supperâ\\x80\\x94no', 'BrightÂ¬', 'SplenÂ¬', 'settlersâ\\x80\\x94an', 'estabÂ¬', 'JudgeÂ¬', 'Germanâ\\x80\\x94a', 'sexâ\\x80\\x94or', 'civilizationâ\\x80\\x94Wars', 'Saloneyâ\\x80\\x94Mr', 'grumÂ¬', 'unenterÂ¬', 'Guerreroâ\\x80\\x99s', 'professorâ\\x80\\x94he', 'markedâ\\x80\\x94the', 'Romeâ\\x80\\x94a', 'Mâ\\x80\\x99sieuâ\\x80\\x99', 'buildâ\\x80\\x99h', 'flowedâ\\x80\\x94in', 'horseâ\\x80\\x99s', 'Hillâ\\x80\\x9d', 'Magellanâ\\x80\\x94', 'possibleâ\\x80\\x94live', 'Valleyâ\\x80\\x94', 'themâ\\x80\\x94and', 'ornithoptersâ\\x80\\x94never', 'PresbyÂ¬', 'roomâ\\x80\\x99s', 'cameâ\\x80\\x94for', 'petrolâ\\x80\\x94I', 'bleatÂ¬', 'ledâ\\x80\\x94â\\x80¢', 'waysâ\\x80\\x94so', 'FurÂ¬', 'sheâ\\x80\\x99s', 'spotâ\\x80\\x94and', 'Kateâ\\x80\\x99d', 'proporÂ¬', 'plantaÂ¬', 'agoâ\\x80\\x94brings', 'Fatimaâ\\x80\\x99s', 'sculpÂ¬', 'learnâ\\x80\\x94so', 'costumeâ\\x80\\x99', 'archaeoÂ¬', 'astonishmentâ\\x80\\x94he', 'threshingâ\\x80\\x94they', 'Pariaâ\\x80\\x94entering', 'viewâ\\x80\\x94probably', 'againâ\\x80\\x94the', 'sightsâ\\x80\\x94a', 'NeanÂ¬', 'indeedâ\\x80\\x9dâ\\x80\\x94and', 'goldâ\\x80\\x9d', 'scrunchÂ¬', 'compeersâ\\x80\\x94the', 'womanâ\\x80\\x94a', 'islandâ\\x80\\x94', 'loneÂ¬', 'preachedâ\\x80\\x94just', 'oneÂ¬', 'somethingâ\\x80\\x99ll', 'hateâ\\x80\\x9d', 'whichâ\\x80\\x94which', 'southÂ¬', 'â\\x80\\x9cYouâ\\x80\\x94any', 'swimâ\\x80\\x94and', 'refusalâ\\x80\\x94these', 'RunÂ¬', 'friendliÂ¬', 'yesterÂ¬', 'resÂ¬', 'thingsâ\\x80\\x94pity', 'yâ\\x80\\x99understand.â\\x80\\x9d', 'tractionâ\\x80\\x94lewdness', 'programmeâ\\x80\\x94the', 'Sergeiâ\\x80\\x99s', 'SagitÂ¬', 'sprawledâ\\x80\\x94he', 'dribÂ¬', 'doubtâ\\x80\\x94the', 'illusionâ\\x80\\x94a', 'somehowâ\\x80\\x94some', 'merchantâ\\x80\\x99s', 'devastatÂ¬', 'â\\x80\\x9clong-housesâ\\x80\\x9d', 'periodsâ\\x80\\x94the', 'mornÂ¬', 'kindlinessâ\\x80\\x9d', 'Communistsâ\\x80\\x94or', 'enduredâ\\x80\\x94though', 'expeditionâ\\x80\\x94Â£25,000', 'corpseÂ¬', 'tailorâ\\x80\\x99s', 'mâ\\x80\\x9cTdonâ\\x80\\x99t', 'school-childâ\\x80\\x99s', 'Josephâ\\x80\\x99s', 'doâ\\x80\\x94that', 'Riverâ\\x80\\x94and', 'terraceâ\\x80\\x94a', 'novelÂ¬', 'riseâ\\x80\\x99s', 'astronoÂ¬', 'Nowâ\\x80\\x99s', 'onâ\\x80\\x94or', 'roomâ\\x80\\x94desperately', 'picÂ¬', 'Kentâ\\x80\\x99s', 'Ewanâ\\x80\\x94what', 'Heâ\\x80\\x99d', 'unknownâ\\x80\\x94they', 'Stormanâ\\x80\\x99s', 'Leekanâ\\x80\\x99s', 'arenâ\\x80\\x99t.â\\x80\\x99', 'championingsâ\\x80\\x94', 'cloverâ\\x80\\x99ll', 'earthâ\\x80\\x94-', 'Strachanâ\\x80\\x94far', 'KootaÂ¬', 'coffeeâ\\x80\\x94coffee', 'Lisbonâ\\x80\\x94Perestrello', 'uninhabitedâ\\x80\\x94couldnâ\\x80\\x99t', 'believeâ\\x80\\x94that', 'usâ\\x80\\x94', 'exploringsâ\\x80\\x94the', 'singingâ\\x80\\x94with', 'andâ\\x80\\x94oh', 'â\\x80\\x9cfindâ\\x80\\x9d', 'abductedâ\\x80\\x94somewhere', 'shÂ°ggled', 'amityâ\\x80\\x94words', 'cultiÂ¬', 'ARCHâ\\x80\\x9d', 'hereâ\\x80\\x94if', 'noseâ\\x80\\x94and', 'Turkeyâ\\x80\\x94and', 'boarâ\\x80\\x99s', 'wombâ\\x80\\x94silent', 'allâ\\x80\\x94â\\x80\\x99', 'faceâ\\x80\\x94were', 'battalionsâ\\x80\\x94all', 'Onlyâ\\x80\\x94Pfuu', 'sayâ\\x80\\x94you', 'desireâ\\x80\\x94how', 'reappearÂ¬', 'companionâ\\x80\\x99s', 'UnforÂ¬', 'â\\x80\\x9cCosmopolisâ\\x80\\x9d', 'hereÂ¬', 'handsâ\\x80\\x94kind', 'sandÂ¬', 'leafâ\\x80\\x94a', 'givenâ\\x80\\x94to', 'Menâ\\x80\\x94neither', 'Adrianâ\\x80\\x99s', 'Wasnâ\\x80\\x99t', 'futureâ\\x80\\x94the', 'Priscianâ\\x80\\x99s', 'Declavesâ\\x80\\x99', 'handyÂ¬', 'Tenâ\\x80\\x99s', 'meztizosâ\\x80\\x94one', 'machinery.â\\x80\\x9dâ\\x80\\x94Architectsâ\\x80\\x99', 'potaÂ¬', 'Scavengingâ\\x80\\x99s', 'Thatâ\\x80\\x99ll', 'diminuÂ¬', 'Dykeâ\\x80\\x99s', 'growÂ¬', 'Butâ\\x80\\x94is', 'bedâ\\x80\\x94', 'deepâ\\x80\\x94but', 'upâ\\x80\\x94When', 'boyâ\\x80\\x9d', 'gamesâ\\x80\\x94forming', 'Islesâ\\x80\\x94that', 'luminÂ¬', 'cookingâ\\x80\\x94it', 'Clareâ\\x80\\x94we', 'Fontanarossaâ\\x80\\x94though', 'replenÂ¬', 'seaâ\\x80\\x94even', 'usâ\\x80\\x94with', 'â\\x80\\x9cButâ\\x80\\x94theories', 'alleyâ\\x80\\x94oh', 'weepÂ¬', 'thenâ\\x80\\x94whatever', 'necessitiesâ\\x80\\x94with', 'Blawearieâ\\x80\\x99s', 'byâ\\x80\\x94ready', 'Sarahâ\\x80\\x9d', 'Garlandâ\\x80\\x99s', 'Bruynâ\\x80\\x99s', 'singuÂ¬', 'shiverâ\\x80\\x94no', 'tryÂ¬', 'Valhallaâ\\x80\\x99', 'longâ\\x80\\x9d', 'enrapÂ¬', 'Mayaâ\\x80\\x94the', 'thickÂ¬', 'Dostoievskyâ\\x80\\x94I', 'bushâ\\x80\\x94a', 'forâ\\x80\\x94â\\x80\\x98copyâ\\x80\\x99', 'assistantâ\\x80\\x94granted', 'Folkâ\\x80\\x94and', 'Poemsâ\\x80\\x9d', 'immorÂ¬', 'courseâ\\x80\\x94there', 'Worksâ\\x80\\x94hell', 'Fowlshielsâ\\x80\\x99', 'entirelyâ\\x80\\x94unexplored', 'treesâ\\x80\\x94quick-growing', 'civilizaÂ¬', 'stingÂ¬', 'defianceâ\\x80\\x94would', 'ramâ\\x80\\x94', 'WanÂ¬', 'slaveryâ\\x80\\x94worship', 'helpedâ\\x80\\x94', 'knownâ\\x80\\x94I', 'Oâ\\x80\\x99DonÂ¬', 'Armentieresâ\\x80\\x94', 'detachmentâ\\x80\\x99s', 'Impressionsâ\\x80\\x9d', 'reminisÂ¬', 'diedâ\\x80\\x94two', 'commentaryâ\\x80\\x94at', 'Empireâ\\x80\\x99s', 'gerÂ¬', 'coolÂ¬', 'wâ\\x80\\x99eâ\\x80\\x99ll', 'partiÂ¬', 'missionâ\\x80\\x99s', 'againâ\\x80\\x94exploration', 'runningâ\\x80\\x94a', 'laterâ\\x80\\x94Look', 'strengthâ\\x80\\x9d', 'bathingâ\\x80\\x94again', 'Whereâ\\x80\\x99ll', 'Cogolludoâ\\x80\\x99s', 'unlessâ\\x80\\x94unless', 'menâ\\x80\\x99s', 'Publishersâ\\x80\\x99', 'worshippersâ\\x80\\x94in', 'Alexanderâ\\x80\\x99s', 'sâ\\x80\\x99pose', 'wellâ\\x80\\x94were', 'GillyÂ¬', 'Sheâ\\x80\\x94', 'knockÂ¬', 'acheâ\\x80\\x94', 'muckerâ\\x80\\x94', 'Cognitaâ\\x80\\x94his', 'modÂ¬', 'misÂ¬', 'oneâ\\x80\\x99s', 'sunsetâ\\x80\\x94or', 'suffoÂ¬', 'Sheâ\\x80\\x99s', 'notâ\\x80\\x94as', 'confiÂ¬', 'inexÂ¬', 'Vuhâ\\x80\\x94The', 'throat-cuttingâ\\x80\\x94all', 'sailorsâ\\x80\\x99', 'adverÂ¬', 'Zorzaniaâ\\x80\\x9d', 'thereâ\\x80\\x94she', 'calcuÂ¬', 'himâ\\x80\\x94never', 'Livingâ\\x80\\x94since', 'keelieâ\\x80\\x99s', 'mÂ', 'morningâ\\x80\\x99s', 'boughtâ\\x80\\x94he', 'dawnâ\\x80\\x94how', 'meâ\\x80\\x94I', 'withÂ¬', 'Windmillsâ\\x80\\x9d', 'Daddyâ\\x80\\x94I', 'soldiersâ\\x80\\x99', 'unconquerÂ¬', 'GenÂ¬', 'primitiveâ\\x80\\x94', 'accoladeâ\\x80\\x94with', 'Craiganâ\\x80\\x99s', 'fineâ\\x80\\x94no', 'isâ\\x80\\x94raving', 'â\\x80\\x98Investigateâ\\x80\\x99', 'estiÂ¬', 'goldÂ¬', 'parchÂ¬', 'lawyerâ\\x80\\x99s', 'expectsâ\\x80\\x94or', 'delibÂ¬', 'tortoiseÂ¬', 'valuesâ\\x80\\x94the', 'Livingstoneâ\\x80\\x99s', 'revoluÂ¬', 'amazeÂ¬', 'worldâ\\x80\\x99s', 'Perhapsâ\\x80\\x94perhaps', 'theoriesâ\\x80\\x94all', 'fearâ\\x80\\x94they', 'schoolÂ¬', 'Yetâ\\x80\\x94and', 'soughtâ\\x80\\x94a', 'andâ\\x80\\x94more', 'againâ\\x80\\x94not', 'remarkÂ¬', 'youâ\\x80\\x94', 'interiorâ\\x80\\x94that', 'Caliphâ\\x80\\x99sâ\\x80\\x99', 'peopleâ\\x80\\x9dâ\\x80\\x94he', 'preferÂ¬', 'Milanâ\\x80\\x94or', 'shouldnâ\\x80\\x99t.â\\x80\\x99', 'marchÂ¬', 'isâ\\x80\\x94no', 'Nightsâ\\x80\\x9d', 'Blenheimâ\\x80\\x9d', 'newsÂ¬', 'hennaâ\\x80\\x99ed', 'Seddelâ\\x80\\x99s', 'bonnyâ\\x80\\x94was', 'comeâ\\x80\\x94the', 'Lubowâ\\x80\\x94', 'LandÂ¬', 'mysteriousÂ¬', 'toldâ\\x80\\x94horrible', 'perhapsâ\\x80\\x94and', 'saidâ\\x80\\x94â\\x80\\x9call', 'virginâ\\x80\\x99s', 'thingsâ\\x80\\x94that', 'trapperâ\\x80\\x99s', 'finÂ¬', '\\\\ouâ\\x80\\x99ll', 'wayâ\\x80\\x94for', 'NevertheÂ¬', 'agriÂ¬', 'madeâ\\x80\\x94by', 'onâ\\x80\\x94were', 'Sicilyâ\\x80\\x99s', 'sudÂ¬', 'signiÂ¬', 'clamorÂ¬', 'allâ\\x80\\x94that', 'â\\x80\\x9coverlookerâ\\x80\\x9d', 'gymÂ¬', 'impediÂ¬', 'matheÂ¬', 'cityâ\\x80\\x94no', 'depopuÂ¬', 'Cairoâ\\x80\\x94so', 'Bâ\\x80\\x99s', 'differÂ¬', 'rankersâ\\x80\\x94eh', 'yardâ\\x80\\x94', 'Agâ\\x80\\x99s', 'wastesâ\\x80\\x94the', 'passagâ\\x80\\x99', 'interviewâ\\x80\\x99s', 'lipâ\\x80\\x94Come', 'continentâ\\x80\\x94a', 'nightâ\\x80\\x94or', 'awokeâ\\x80\\x94awoke', 'â\\x80\\x94youâ\\x80\\x99re', 'Springâ\\x80\\x94thinking', 'wantedâ\\x80\\x94Boil', 'â\\x80\\x9cCrescendoâ\\x80\\x9d', 'tenantsâ\\x80\\x94prinÂ¬', 'scandalousâ\\x80\\x94', 'religionsâ\\x80\\x94first', 'reasonsâ\\x80\\x94became', 'â\\x80\\x9cCollegeâ\\x80\\x9d', 'glimmerÂ¬', 'DropÂ¬', 'messengersâ\\x80\\x94Government', 'teethâ\\x80\\x94â\\x80\\x98', 'Tomâ\\x80\\x99s', 'blushingâ\\x80\\x94obvious', 'peuhâ\\x80\\x99s', 'aboardâ\\x80\\x94death', 'Friedrichâ\\x80\\x99s', 'Gaulsâ\\x80\\x99', 'husbandÂ¬', 'â\\x80\\x9cThatâ\\x80\\x99ll', 'elseÂ¬', 'waterÂ¬', 'hymnsâ\\x80\\x94the', 'mosaicâ\\x80\\x99d', 'asâ\\x80\\x94in', 'Crainquebilleâ\\x80\\x9d', 'AmeriÂ¬', 'intoâ\\x80\\x94', 'Smithâ\\x80\\x99s', 'followâ\\x80\\x94', 'speakerâ\\x80\\x99s', 'â\\x80\\x9cTheyâ\\x80\\x99ve', 'doinâ\\x80\\x99s', 'saidâ\\x80\\x94old', 'pointâ\\x80\\x94', 'yetâ\\x80\\x94quite', 'wasâ\\x80\\x94Hitler', 'charactersâ\\x80\\x94itâ\\x80\\x99s', 'Attenâ\\x80\\x9d', 'remainÂ¬', 'roadâ\\x80\\x94Oh', 'kindâ\\x80\\x94yes', 'prisonerâ\\x80\\x99s', 'whichâ\\x80\\x99', 'hereâ\\x80\\x94and', 'foolishÂ¬', 'spring-cleanÂ¬', 'ivoryâ\\x80\\x9d', 'affirÂ¬', 'goingâ\\x80\\x94', 'raidâ\\x80\\x94', 'enigÂ¬', 'stelÂ£e', 'Whatâ\\x80\\x99ll', 'idleâ\\x80\\x94he', 'nightâ\\x80\\x94in', 'advisÂ¬', 'Floreâ\\x80\\x94there', 'Communismâ\\x80\\x99s', 'Oceanâ\\x80\\x94as', 'clownishâ\\x80\\x94she', 'willâ\\x80\\x94our', 'tupÂ¬', 'marchesâ\\x80\\x94', 'Lilyâ\\x80\\x9d', 'Huefferâ\\x80\\x99s', 'Varinusâ\\x80\\x99', 'splenÂ¬', 'Ladiesâ\\x80\\x94it', 'unrestingâ\\x80\\x94where', 'fire-burningâ\\x80\\x94a', 'armyâ\\x80\\x94into', 'stillâ\\x80\\x94a', 'Discipleâ\\x80\\x94the', 'labourâ\\x80\\x99s', 'accomplishesâ\\x80\\x94he', 'Janeâ\\x80\\x99s', 'landsâ\\x80\\x94the', 'Khaligâ\\x80\\x99s', 'Metapontumâ\\x80\\x94not', 'speedâ\\x80\\x94as', 'whereÂ¬', 'thingsâ\\x80\\x94oh', 'anewâ\\x80\\x94a', 'agentâ\\x80\\x99s', 'carnelianâ\\x80\\x94', 'disappointÂ¬', 'differentiaÂ¬', 'realityâ\\x80\\x94for', 'wonderâ\\x80\\x94as', 'alikeâ\\x80\\x94past', 'Voicesâ\\x80\\x94beginning', 'bobbyâ\\x80\\x99s', 'ragtimeÂ¬', 'LoveÂ¬', 'pelissesâ\\x80\\x9d', 'â\\x80\\x9cArenâ\\x80\\x99t', 'Londonâ\\x80\\x94was', 'muleâ\\x80\\x94it', 'figureâ\\x80\\x94intriguing', 'godâ\\x80\\x99s', 'Casadaâ\\x80\\x99s', 'ruling-classâ\\x80\\x94the', 'trayâ\\x80\\x94Jock', 'Sansandingâ\\x80\\x94a', 'Dragonâ\\x80\\x99s', 'allâ\\x80\\x94though', 'unawakÂ¬', 'beaconsâ\\x80\\x99', 'islandsâ\\x80\\x94â\\x80\\x9cAntiliaâ\\x80\\x9d', 'horseâ\\x80\\x94only', 'shipsâ\\x80\\x94a', 'bloodyâ\\x80\\x94oh', 'monthsâ\\x80\\x94four', 'neverÂ¬', 'lowÂ¬', 'Avallaireâ\\x80\\x94a', 'CountryÂ¬', 'pyjamasâ\\x80\\x94green-striped', 'tintâ\\x80\\x94like', 'shamefulâ\\x80\\x9d', 'eggsâ\\x80\\x94', 'Gymnasiumâ\\x80\\x94if', 'elephantâ\\x80\\x99s', 'Aliâ\\x80\\x99s', 'Zuriaâ\\x80\\x94', 'enoughâ\\x80\\x94That', 'exquiÂ¬', 'Jobsonâ\\x80\\x99s', 'padÂ¬', 'Womenâ\\x80\\x94theyâ\\x80\\x99ve', 'Chazan-Khanâ\\x80\\x99s', 'IVhoâ\\x80\\x99s', 'wardâ\\x80\\x99s', 'fastenersâ\\x80\\x94â\\x80\\x98', 'Schoolhouseâ\\x80\\x99ll', 'himâ\\x80\\x94Oh', 'gesticuÂ¬', 'usâ\\x80\\x94ever', 'obstetricsâ\\x80\\x94probably', 'Guizotâ\\x80\\x99s', 'razorâ\\x80\\x94and', 'lotâ\\x80\\x94ay', 'organiÂ¬', 'Caldonâ\\x80\\x94never', 'seekÂ¬', 'â\\x80\\x9cWeâ\\x80\\x99re', 'babyâ\\x80\\x94will', 'morningâ\\x80\\x94only', 'Haithonâ\\x80\\x99s', 'Withinâ\\x80\\x9d', 'quarrelâ\\x80\\x94the', 'ownâ\\x80\\x94I', 'Caliphâ\\x80\\x99s', 'Indianâ\\x80\\x99s', 'mosquitoesâ\\x80\\x94insects', 'â\\x80\\x9cHadnâ\\x80\\x99t', 'doneâ\\x80\\x94apart', 'legÂ¬', 'aliveâ\\x80\\x94I', 'wereâ\\x80\\x94sleepy', 'livingâ\\x80\\x94oh', 'silenceâ\\x80\\x94an', 'Eveâ\\x80\\x9d', 'deepÂ¬', 'Dangerousâ\\x80\\x94at', 'Strategosâ\\x80\\x99â\\x80\\x94he', 'wayâ\\x80\\x94if', 'thirÂ¬', 'doneâ\\x80\\x94who', 'awayâ\\x80\\x94it', 'businessâ\\x80\\x94except', 'itâ\\x80\\x94and', 'friendâ\\x80\\x94think', 'pocmesyaietcâ\\x80\\x99ie', 'Syracuseâ\\x80\\x94if', 'Koubbahâ\\x80\\x94and', 'traderâ\\x80\\x99s', 'soldierâ\\x80\\x94', 'handâ\\x80\\x94', 'possibleâ\\x80\\x94and', 'midwifeâ\\x80\\x94he', 'herâ\\x80\\x94had', 'wreckâ\\x80\\x9d', 'ricketsâ\\x80\\x94sat', 'Cipanguâ\\x80\\x94had', 'againâ\\x80\\x94Ewan', 'chorusÂ¬', 'mousÂ¬', 'skyâ\\x80\\x94the', 'Citadelâ\\x80\\x94the', 'delightÂ¬', 'LesdiguiÂ£res', 'silenceâ\\x80\\x94Oh', 'obligÂ¬', 'novelistâ\\x80\\x99s', 'stationâ\\x80\\x94close', 'Kushâ\\x80\\x94of', 'doesnâ\\x80\\x99tâ\\x80\\x94heâ\\x80\\x99s', 'Southcoteâ\\x80\\x94unconsciously', 'myselfâ\\x80\\x94had', 'coffeeâ\\x80\\x94the', 'oppresÂ¬', 'goodâ\\x80\\x94yet', 'jokingâ\\x80\\x94they', 'Keithâ\\x80\\x94help', 'â\\x80\\x9cdelivererâ\\x80\\x9d', 'KnowÂ¬', 'mosaicâ\\x80\\x99ed', 'Lookâ\\x80\\x94I', 'thatâ\\x80\\x94ay', 'beforeâ\\x80\\x94', 'clickâ\\x80\\x94and', 'oneâ\\x80\\x94next', 'Stephensâ\\x80\\x99', 'Modibooâ\\x80\\x99s', 'souâ\\x80\\x94', 'sameâ\\x80\\x94if', 'yourselfâ\\x80\\x94a', 'Blawearieâ\\x80\\x94look', 'Chrisâ\\x80\\x94be', 'contorÂ¬', 'BroadÂ¬', 'riotersâ\\x80\\x94', 'Machinesâ\\x80\\x94it', 'islandâ\\x80\\x94the', 'wellâ\\x80\\x94chaps', 'Brieuxâ\\x80\\x99s', 'Vitusâ\\x80\\x99s', 'fatherâ\\x80\\x94and', 'drinkâ\\x80\\x94it', 'grainâ\\x80\\x94', 'generationsâ\\x80\\x94of', 'â\\x80\\x98Thenâ\\x80\\x94oh', 'civilizationâ\\x80\\x94they', 'nose-breathingâ\\x80\\x94agon', 'â\\x80\\x9cIâ\\x80\\x99m', 'court-roomâ\\x80\\x94some', 'nativeâ\\x80\\x94he', 'themâ\\x80\\x94though', 'searchâ\\x80\\x94to', 'Iâ\\x80\\x94knocked', 'Londonâ\\x80\\x94is', 'illâ\\x80\\x94in', 'Trueâ\\x80\\x94never', 'trainâ\\x80\\x99s', 'cavesâ\\x80\\x94purple-growing', 'CharÂ¬', 'togetherâ\\x80\\x94so', 'sideâ\\x80\\x94from', 'Empireâ\\x80\\x94evidently', 'relicâ\\x80\\x94the', 'muskeÂ¬', 'stationâ\\x80\\x94try', 'preparaÂ¬', 'Ewanâ\\x80\\x94', 'Hadnâ\\x80\\x99t', 'Diariesâ\\x80\\x9d', 'gardenâ\\x80\\x9d', 'mayÂ¬', 'twoâ\\x80\\x94that', 'floodâ\\x80\\x94it', 'â\\x80\\x98Filthâ\\x80\\x94I', 'Jerichoâ\\x80\\x99s', 'lionâ\\x80\\x99s', 'awaitÂ¬', 'cattleâ\\x80\\x94lowing', 'contrivancesâ\\x80\\x94and', 'offendedâ\\x80\\x94one', 'folkâ\\x80\\x9d', 'metaÂ¬', 'Judasâ\\x80\\x99s', 'gratiÂ¬', 'knownâ\\x80\\x94a', 'childâ\\x80\\x99s', 'yearsâ\\x80\\x94among', 'wereâ\\x80\\x94Sina', 'Parkâ\\x80\\x94whom', 'pantingâ\\x80\\x94', 'antidoteâ\\x80\\x94a', 'asideâ\\x80\\x94on', 'carbinesâ\\x80\\x94and', 'outâ\\x80\\x94not', 'acquiesÂ¬', 'warÂ¬', 'footpadsâ\\x80\\x94or', 'citizenâ\\x80\\x99s', 'mistâ\\x80\\x94we', 'maizeâ\\x80\\x9d', 'Pootyâ\\x80\\x99s', 'stupidityâ\\x80\\x94the', 'unaccompaniedâ\\x80\\x94neither', 'theseâ\\x80\\x94so', 'wonderâ\\x80\\x94Gerry', 'recognizabilityâ\\x80\\x94Kambaia', 'alienâ\\x80\\x94a', 'miserâ\\x80\\x99s', 'â\\x80\\x9cWhatâ\\x80\\x94with', 'courseâ\\x80\\x94â\\x80\\x9d', 'rigidâ\\x80\\x94you', 'caterÂ¬', 'Wayâ\\x80\\x94that', 'forâ\\x80\\x94herds', 'Cairoâ\\x80\\x94it', 'voicesâ\\x80\\x94had', 'remoteâ\\x80\\x94will', 'eyfâ\\x80\\x99', 'miÂ§rations', 'jobâ\\x80\\x94that', 'â\\x80\\x9cStoreâ\\x80\\x9d', 'ill-taâ\\x80\\x99en', 'Nâ\\x80\\x99York', 'folkâ\\x80\\x94her', 'eiÂ§ht', 'thisâ\\x80\\x99ll', 'publisherâ\\x80\\x99s', 'worldâ\\x80\\x94the', 'goodnessâ\\x80\\x99', 'NewÂ¬', 'eleÂ¬', 'alienâ\\x80\\x94in', 'misterâ\\x80\\x94wrecking', 'ski-ingâ\\x80\\x94might', 'knowâ\\x80\\x94oh', 'compreÂ¬', 'lookedâ\\x80\\x94', 'herâ\\x80\\x94dying', 'pitifulâ\\x80\\x94', 'assertionsâ\\x80\\x94', 'meâ\\x80\\x94oh', 'commanderâ\\x80\\x99s', 'slavesâ\\x80\\x94', 'Cookingâ\\x80\\x94Mâ\\x80\\x99sieuâ\\x80\\x99', 'Plongeonâ\\x80\\x99s', 'cTâ\\x80\\x99ve', 'sirâ\\x80\\x94and', 'spotâ\\x80\\x94prohibitionists', 'memÂ¬', 'aloneâ\\x80\\x94commenced', 'somethingâ\\x80\\x94she', 'queerâ\\x80\\x94as', 'wheatâ\\x80\\x9d', 'clodhopperâ\\x80\\x99s', 'Babylonâ\\x80\\x99s', 'occurrenceâ\\x80\\x94the', 'treeÂ¬', 'beenâ\\x80\\x94those', 'gigÂ§-', 'Ishamâ\\x80\\x99s', 'recitaÂ¬', 'Theaâ\\x80\\x947to', 'destituteâ\\x80\\x94I', 'beenâ\\x80\\x94only', 'carryâ\\x80\\x94', 'queansâ\\x80\\x94well', 'parentsâ\\x80\\x99', 'imagineâ\\x80\\x94theyâ\\x80\\x99re', 'kitchenâ\\x80\\x94the', 'overÂ¬', 'weâ\\x80\\x99ve', 'Hunterâ\\x80\\x99s', 'bananasâ\\x80\\x94â\\x80\\x9ca', 'Templarsâ\\x80\\x99', 'Paradiseâ\\x80\\x94there', 'wellâ\\x80\\x94this', 'stillâ\\x80\\x94other', 'wilderÂ¬', 'Euphratesâ\\x80\\x99', 'Itzasâ\\x80\\x99', 'livedâ\\x80\\x94', 'followersâ\\x80\\x94especially', 'secureâ\\x80\\x94if', 'doesâ\\x80\\x94for', 'stickâ\\x80\\x94', 'kaleidoÂ¬', 'sayÂ¬', 'usâ\\x80\\x94even', 'gladâ\\x80\\x94almostâ\\x80\\x94when', 'saidâ\\x80\\x94then', 'byâ\\x80\\x94boyar', 'wereâ\\x80\\x94made', 'encounteredâ\\x80\\x94tall', 'moorâ\\x80\\x94', 'Hunterâ\\x80\\x94decided', 'notâ\\x80\\x94â\\x80\\x99', 'sistersâ\\x80\\x94who', 'smileâ\\x80\\x94amusement', 'recomÂ¬', 'lungsâ\\x80\\x94oh', 'spellâ\\x80\\x94that', 'thereâ\\x80\\x94', 'extraÂ¬', 'stupefacÂ¬', 'cookâ\\x80\\x94while', 'Lizairâ\\x80\\x99s', 'public-housesâ\\x80\\x94at', 'didâ\\x80\\x94if', 'centuryâ\\x80\\x99s', 'jewÂ¬', 'suppleÂ¬', 'booksâ\\x80\\x94they', 'manâ\\x80\\x94he', 'reelingâ\\x80\\x94maybe', 'Cairoâ\\x80\\x94', 'strikeÂ¬', 'firesideâ\\x80\\x94the', 'skipperâ\\x80\\x99s', 'fingersâ\\x80\\x94Oh', 'assâ\\x80\\x99s', 'outâ\\x80\\x94at', 'warriorsâ\\x80\\x94unpleasantly', 'beâ\\x80\\x94some', 'Mindâ\\x80\\x99st', 'Picenumâ\\x80\\x94not', 'afterÂ¬', 'Monboddoâ\\x80\\x94he', 'sunÂ¬', 'thoughtâ\\x80\\x94', 'dredgÂ¬', 'Charlieâ\\x80\\x99s', 'confabulaÂ¬', 'GladiÂ¬', 'â\\x80\\x9ckingÂ¬', 'rememberâ\\x80\\x94alone', 'Hasnâ\\x80\\x99t', 'styleâ\\x80\\x94almost', 'lersâ\\x80\\x99', 'lookâ\\x80\\x94the', 'gladâ\\x80\\x94really', 'redisÂ¬', 'scrimÂ¬', 'stillâ\\x80\\x94an', 'bodyâ\\x80\\x99s', 'monarchâ\\x80\\x99s', 'worldâ\\x80\\x94perhaps', 'coughÂ¬', 'Malaâ\\x80\\x99s', 'listenÂ¬', 'timorÂ¬', 'arrestÂ¬', 'Cyoninâ\\x80\\x94', 'wonâ\\x80\\x99tâ\\x80\\x94you', 'driversâ\\x80\\x94had', 'ooeâ\\x80\\x9d', 'â\\x80\\x9cIâ\\x80\\x94Iâ\\x80\\x99m', 'architecÂ¬', 'droopÂ¬', 'bullsâ\\x80\\x94even', 'howledâ\\x80\\x94', 'exploitaÂ¬', 'screamâ\\x80\\x94I', 'tornâ\\x80\\x94but', 'butâ\\x80\\x99s', 'unpremediÂ¬', 'youâ\\x80\\x94you', 'Spanishâ\\x80\\x94â\\x80\\x9c', 'resoluÂ¬', 'six-monthsâ\\x80\\x99', 'exertionsâ\\x80\\x94hips', 'â\\x80\\x9cButâ\\x80\\x94she', 'Asiaâ\\x80\\x94Persia', 'syllableâ\\x80\\x94it', 'inâ\\x80\\x94in', 'wantedâ\\x80\\x94though', 'Mastersâ\\x80\\x94they', 'nowâ\\x80\\x94those', 'graveÂ¬', 'justâ\\x80\\x94are', 'Simonssenâ\\x80\\x94Titans', 'backâ\\x80\\x94for', 'Gardensâ\\x80\\x99', 'soulâ\\x80\\x94to', 'otherâ\\x80\\x94-for', 'irritabilityâ\\x80\\x94oh', 'Possiblyâ\\x80\\x94', 'himâ\\x80\\x94or', 'angerâ\\x80\\x94the', 'hearÂ¬', 'Tent-makersâ\\x80\\x99', 'dragomanâ\\x80\\x99s', 'spreadÂ¬', 'lookâ\\x80\\x94', 'Cannaeâ\\x80\\x99s', 'operatorâ\\x80\\x99s', 'knowâ\\x80\\x94we', 'FortuÂ¬', 'themâ\\x80\\x94tales', 'Insteadâ\\x80\\x94instead', 'courageousâ\\x80\\x94a', 'cloudsâ\\x80\\x94was', 'pearlâ\\x80\\x9d', 'procuredâ\\x80\\x94spades', 'meantimeâ\\x80\\x94rotting', 'royaltyâ\\x80\\x99s', 'foodsâ\\x80\\x99', 'Ginchyâ\\x80\\x94', 'mothersâ\\x80\\x99', 'Collegeâ\\x80\\x94a', 'impeneÂ¬', 'Gambiaâ\\x80\\x94the', 'chapsâ\\x80\\x94a', 'widowâ\\x80\\x99s', 'Strachanâ\\x80\\x99s', 'butchersâ\\x80\\x99', 'crematoriumâ\\x80\\x94the', 'â\\x80\\x98DisÂ¬', 'youâ\\x80\\x94just', \"shoemaker'sâ\\x80\\x94HOGG\", 'doâ\\x80\\x94the', 'bridgeâ\\x80\\x99s', 'â\\x80\\x98Wasnâ\\x80\\x99t', 'snipersâ\\x80\\x99', 'Howâ\\x80\\x94things', 'narrativeâ\\x80\\x94an', 'Waldeckâ\\x80\\x99s', 'smileâ\\x80\\x94for', 'GeijerÂ¬', 'fireâ\\x80\\x94the', 'reportedâ\\x80\\x94await', 'Armeniaâ\\x80\\x94â\\x80¢', 'cobÂ¬', 'thoughtâ\\x80\\x94Robert', 'deparÂ¬', 'crueltiesâ\\x80\\x94it', 'promptiÂ¬', 'UnderÂ¬', 'Antichristâ\\x80\\x99s', 'treesâ\\x80\\x94the', 'wellâ\\x80\\x94one', 'waveâ\\x80\\x9d', 'herâ\\x80\\x94attracted', 'matchâ\\x80\\x94and', 'flintsâ\\x80\\x94Muir', 'belowâ\\x80\\x94as', 'likeâ\\x80\\x94and', 'Andâ\\x80\\x94unterrifying', 'dimÂ¬', 'MENCHEâ\\x80\\x94YAXCHILAN', 'commandâ\\x80\\x94not', 'itâ\\x80\\x94paying', 'himâ\\x80\\x94yet', 'Megâ\\x80\\x99s', 'funâ\\x80\\x94the', 'Nordâ\\x80\\x94quite', 'â\\x80\\x98make-believeâ\\x80\\x99', 'lapwingâ\\x80\\x99s', 'scratchÂ¬', 'glanceâ\\x80\\x94from', 'thoughtâ\\x80\\x94she', 'kiltingâ\\x80\\x94and', 'youâ\\x80\\x94what', 'adventâ\\x80\\x94had', 'youâ\\x80\\x99ll', 'courseâ\\x80\\x94or', 'dreamingâ\\x80\\x94that', 'agoâ\\x80\\x94slunk', 'trustâ\\x80\\x94a', 'hatedâ\\x80\\x94for', 'partyâ\\x80\\x99s', 'Bambarraâ\\x80\\x9d', 'circulatÂ¬', 'areâ\\x80\\x94in', 'agreeÂ¬', 'herselfâ\\x80\\x94or', 'themâ\\x80\\x94â\\x80\\x99nâ\\x80\\x99', 'livedâ\\x80\\x94I', 'adÂ¬', 'Pelagueyaâ\\x80\\x94only', 'nationâ\\x80\\x9d', 'huntersâ\\x80\\x94or', 'dockÂ¬', 'carbonizaÂ¬', 'Schoolâ\\x80\\x94sways', 'farewellâ\\x80\\x94me', 'thereâ\\x80\\x94then', 'Guacanagariâ\\x80\\x99s', 'faintedâ\\x80\\x94incompletely', 'Godmanâ\\x80\\x94the', 'stamÂ¬', 'gardenerâ\\x80\\x99s', 'possesÂ¬', 'eyeÂ¬', 'cityÂ¬', 'Yesâ\\x80\\x94', 'Ganeshaâ\\x80\\x99s', 'Theaâ\\x80\\x94there', 'Funingkedyâ\\x80\\x99s', 'music-hallâ\\x80\\x94to', 'unbreakÂ¬', 'Hillierâ\\x80\\x9d', 'lastâ\\x80\\x94â\\x80\\x99', 'booksâ\\x80\\x94at', 'journaleseâ\\x80\\x94Glaswegian', 'yelpedâ\\x80\\x94no', 'ministerâ\\x80\\x99s', 'stonemasonâ\\x80\\x94not', 'abstractÂ¬', 'oneâ\\x80\\x94she', 'ChamÂ¬', 'lengthâ\\x80\\x94projected', 'Huthâ\\x80\\x99ll', 'Pandoraâ\\x80\\x94complete', 'AmerÂ¬', 'ring-doveâ\\x80\\x99s', 'Londonâ\\x80\\x94a', 'moonâ\\x80\\x99s', 'anchorÂ¬', 'songâ\\x80\\x94some', 'grandmotherâ\\x80\\x99s', 'geantâ\\x80\\x99s', 'Shawnâ\\x80\\x9d', 'Backâ\\x80\\x9d', \"W'ereâ\\x80\\x99m\", 'spectatorâ\\x80\\x94-to', 'yetâ\\x80\\x94and', 'PictÂ¬', 'loomsâ\\x80\\x94tumbled', 'herâ\\x80\\x94made', 'dreamÂ¬', 'sirâ\\x80\\x94', 'coldâ\\x80\\x94how', 'onceâ\\x80\\x94too', 'wasnâ\\x80\\x99t.â\\x80\\x9d', 'atedâ\\x80\\x94to', 'wellâ\\x80\\x94in', 'searchâ\\x80\\x94potentially', 'youâ\\x80\\x94there', 'gryphonâ\\x80\\x99s', 'Franciscoâ\\x80\\x94was', 'meâ\\x80\\x94me', 'limbsâ\\x80\\x94and', 'heavenâ\\x80\\x99s', 'othersâ\\x80\\x99', 'Andâ\\x80\\x94did', 'unwaveringâ\\x80\\x94for', 'â\\x80\\x9cmodernsâ\\x80\\x9d', 'slaveÂ¬', 'Morganâ\\x80\\x9d', 'explorationâ\\x80\\x94so', 'COASTâ\\x80\\x94the', 'characÂ¬', 'BaghÂ¬', 'allâ\\x80\\x94in', 'Yetâ\\x80\\x94it', 'Copanâ\\x80\\x94the', 'schoolâ\\x80\\x94and', 'starvationâ\\x80\\x99s', 'supposedâ\\x80\\x94in', 'masterâ\\x80\\x99s', 'â\\x80\\x9cIâ\\x80\\x94I', 'sonâ\\x80\\x94he', 'onâ\\x80\\x94of', \"'Itâ\\x80\\x99s\", 'clawÂ¬', 'fireâ\\x80\\x94and', 'imaginedâ\\x80\\x94the', 'rememberÂ¬', 'coreâ\\x80\\x94and', 'Groupâ\\x80\\x99ll', 'frightÂ¬', 'groupâ\\x80\\x99s', 'wereâ\\x80\\x94the', 'clearÂ¬', 'tabuâ\\x80\\x94perhaps', 'Buzzardâ\\x80\\x99s', 'to-dayâ\\x80\\x94the', 'bloodâ\\x80\\x94John', 'wifeâ\\x80\\x94or', 'Londonâ\\x80\\x94presently', 'pulsaÂ¬', 'realityâ\\x80\\x94the', 'beliefâ\\x80\\x94that', 'Forstemannâ\\x80\\x99s', 'superiorsâ\\x80\\x94cheerful', 'Nileâ\\x80\\x94entered', 'EngÂ¬', 'moneyâ\\x80\\x99s', 'subÂ¬', 'â\\x80\\x9cMagpieâ\\x80\\x99s', 'herâ\\x80\\x94that', 'charÂ¬', 'westâ\\x80\\x94firing', 'wasâ\\x80\\x94â\\x80\\x9c', 'Kirkâ\\x80\\x99s', 'childâ\\x80\\x94', 'dietâ\\x80\\x94', 'Woolliâ\\x80\\x99s', 'hungerâ\\x80\\x94', 'ManiÂ¬', 'touristâ\\x80\\x99s', 'glamourâ\\x80\\x94than', 'grocerâ\\x80\\x99s', 'themâ\\x80\\x94to', 'thenâ\\x80\\x94he', 'sacredlyâ\\x80\\x94they', 'AirÂ¬', 'Ritaâ\\x80\\x99s', 'mysteriÂ¬', 'Governorâ\\x80\\x99s', 'accusÂ¬', 'drain-pipeâ\\x80\\x94he', 'throughÂ¬', 'appalÂ¬', 'hairnâ\\x80\\x94Iâ\\x80\\x99m', 'ArchaeoÂ¬', 'LongÂ¬', 'â\\x80\\x98Thereâ\\x80\\x99s', 'concenÂ¬', 'donâ\\x80\\x99t-', 'womenâ\\x80\\x94we', 'fellâ\\x80\\x94he', 'Gannicusâ\\x80\\x99', 'cruelâ\\x80\\x94', 'onâ\\x80\\x9d', 'NineÂ¬', 'himâ\\x80\\x94some', 'actionâ\\x80\\x94God', 'faithâ\\x80\\x94yet', 'daughterâ\\x80\\x94if', 'visionsâ\\x80\\x94for', 'Ahrimanâ\\x80\\x94â\\x80\\x9d', 'booksâ\\x80\\x94written', 'historyâ\\x80\\x94the', 'illuminatingâ\\x80\\x94the', 'leftâ\\x80\\x94Forward', 'Trumpetâ\\x80\\x9d', 'hourâ\\x80\\x94', 'aweâ\\x80\\x94abandoned', 'womanâ\\x80\\x94she', 'enemiesâ\\x80\\x94', 'disgustâ\\x80\\x94', 'stuffâ\\x80\\x99s', 'unintentionallyâ\\x80\\x94rather', 'thingsâ\\x80\\x94a', 'othersâ\\x80\\x94Marrot', 'strainâ\\x80\\x94', 'yearsâ\\x80\\x99', 'sharpâ\\x80\\x94reverent', 'Jezreelâ\\x80\\x99s', 'recommendaÂ¬', 'caravanâ\\x80\\x99s', 'lifeâ\\x80\\x94his', 'airshipâ\\x80\\x99s', 'tonguesâ\\x80\\x94never', 'liceâ\\x80\\x94who', 'Kalaithaâ\\x80\\x99s', 'Aslaugâ\\x80\\x94catch', 'awfulâ\\x80\\x94The', 'himâ\\x80\\x94she', 'Palenqueâ\\x80\\x99s', 'Yearâ\\x80\\x99s', 'hobbyâ\\x80\\x94though', 'deadâ\\x80\\x94what', 'obedienceâ\\x80\\x9d', 'amâ\\x80\\x94immoral', 'cKjalarnesâ\\x80\\x99', 'Munroâ\\x80\\x99s', 'deferÂ¬', 'nowâ\\x80\\x94itâ\\x80\\x99s', 'famineâ\\x80\\x94and', 'rheumatismâ\\x80\\x94the', 'beastâ\\x80\\x99s', 'prelimiÂ¬', 'prinÂ¬', 'knownâ\\x80\\x94Henry', 'sacrificeâ\\x80\\x94the', 'countryâ\\x80\\x94most', 'lampsâ\\x80\\x94faces', 'elephantsâ\\x80\\x94in', 'itâ\\x80\\x94came', 'houseâ\\x80\\x94She', 'gypsyâ\\x80\\x99s', 'architectureâ\\x80\\x94', 'chanceâ\\x80\\x94even', 'beâ\\x80\\x94oh', 'nowâ\\x80\\x94Good', 'spokeâ\\x80\\x94nothing', 'supposiÂ¬', 'serviceÂ¬', 'Sisâ\\x80\\x94and', 'vocabuÂ¬', 'half-legionâ\\x80\\x94at', 'wallsâ\\x80\\x94for', 'EducaÂ¬', 'booksâ\\x80\\x94the', 'Papaâ\\x80\\x99s', 'aliveâ\\x80\\x94in', 'Redâ\\x80\\x94just', 'cowardÂ¬', 'tradiÂ¬', 'lodgersâ\\x80\\x99', 'ploversâ\\x80\\x99', 'whateverâ\\x80\\x99s', 'LesdiÂ¬', 'pennedâ\\x80\\x94in', 'himâ\\x80\\x94', 'CairÂ¬', 'fightâ\\x80\\x94fell', 'Figureâ\\x80\\x94God', 'lastâ\\x80\\x94an', 'provisionÂ¬', 'Cummingsâ\\x80\\x99', 'teethâ\\x80\\x94funny', 'Blankety-Dashâ\\x80\\x99s', 'speechâ\\x80\\x94Evid', 'feeâ\\x80\\x99d', 'trampÂ¬', 'nowhitherâ\\x80\\x94', 'Youâ\\x80\\x94you', 'lotâ\\x80\\x94especially', 'fireâ\\x80\\x94they', 'lecturerâ\\x80\\x99s', 'sunâ\\x80\\x94not', 'helpâ\\x80\\x94oh', 'Couldnâ\\x80\\x99t', 'â\\x80\\x9cWeâ\\x80\\x99ve', 'Oâ\\x80\\x99Connor', 'Indiaâ\\x80\\x94a', 'nowadaysâ\\x80\\x94Iâ\\x80\\x99ve', 'Nuovaâ\\x80\\x99', 'art-for-artâ\\x80\\x99s-sakeism', 'palisadesâ\\x80\\x94even', 'streamÂ¬', 'Euriquitoâ\\x80\\x99s', 'roundÂ¬', 'Mencheâ\\x80\\x94Yaxchilan', 'ElephantÂ¬', 'kowÂ¬', 'oâ\\x80\\x99clock', 'Robertâ\\x80\\x94his', 'winÂ¬', 'refreshÂ¬', 'yeâ\\x80\\x99re', 'complicationâ\\x80\\x94the', 'comeâ\\x80\\x94it', 'peltastsâ\\x80\\x94', 'childrenâ\\x80\\x94under', 'Draytonâ\\x80\\x99s', 'wouldnâ\\x80\\x99t.â\\x80\\x9d', 'Labourâ\\x80\\x99s', 'duskâ\\x80\\x94the', 'hairâ\\x80\\x9d', 'feareâ\\x80\\x99s', 'Stroyanâ\\x80\\x99s', 'givingâ\\x80\\x94greenness', 'nightsâ\\x80\\x94the', 'palaversâ\\x80\\x9dâ\\x80\\x94a', 'puppetsâ\\x80\\x94if', 'thatâ\\x80\\x94out', 'Ivanovitchâ\\x80\\x9d', 'will-oâ\\x80\\x99-the-wisps', 'faithâ\\x80\\x94winning', 'portâ\\x80\\x94flat', 'Spartacusâ\\x80\\x99s', 'Reasonâ\\x80\\x99s', 'Lightâ\\x80\\x94God', 'Oâ\\x80\\x99Donnell', 'boyâ\\x80\\x94sprang', 'folkâ\\x80\\x94who', 'congreÂ¬', 'twitterâ\\x80\\x94who', 'stepsâ\\x80\\x94anywhere', 'NeanderÂ¬', 'wanderedâ\\x80\\x94lanes', 'lostâ\\x80\\x94oh', 'Iâ\\x80\\x99dâ\\x80\\x94Iâ\\x80\\x99d', 'seaâ\\x80\\x9d', 'towneâ\\x80\\x9d', 'HorÂ¬', 'doubtâ\\x80\\x94as', 'risksâ\\x80\\x9d', 'Howeâ\\x80\\x9d', 'Croninâ\\x80\\x99s', 'Ranaldâ\\x80\\x99s', 'landâ\\x80\\x94far', 'InterÂ¬', 'trawlersâ\\x80\\x99', 'xaâ\\x80\\x94s-rtiâ\\x80\\x9d', 'lessâ\\x80\\x99n', 'GODâ\\x80\\x94that', 'didâ\\x80\\x94oh', 'piastreâ\\x80\\x94though', 'seaâ\\x80\\x94much', 'yearâ\\x80\\x9d', 'shambÂ¬', 'knowâ\\x80\\x94poplars', 'Andâ\\x80\\x94oh', 'uncompreÂ¬', 'Chrisâ\\x80\\x94a', 'â\\x80\\x99Nâ\\x80\\x99â\\x80\\x94Gerry', 'naturalistâ\\x80\\x99s', 'Berkaâ\\x80\\x99s', 'herâ\\x80\\x94she', 'Sinclairâ\\x80\\x94he', 'handkerÂ¬', 'dreamingsâ\\x80\\x94a', 'licâ\\x80\\x94a', 'youâ\\x80\\x94for', 'bangâ\\x80\\x94I', 'enchantÂ¬', 'attenÂ¬', 'bloodâ\\x80\\x99s', 'innumerÂ¬', 'Stanleyâ\\x80\\x94thirty-three', 'â\\x80\\x9cloveâ\\x80\\x9d', 'Gayâ\\x80\\x94damn', 'hearsayâ\\x80\\x94', 'wasâ\\x80\\x94the', 'voteâ\\x80\\x94those', 'orderâ\\x80\\x94sit', 'Tlachicatzinâ\\x80\\x94identified', 'priceâ\\x80\\x94I', 'breakÂ¬', 'â\\x80\\x98Itâ\\x80\\x99s', 'thenâ\\x80\\x94the', 'starÂ¬', 'â\\x80\\x9cWhyâ\\x80\\x94itâ\\x80\\x99s', 'sixtyâ\\x80\\x94why', 'monthâ\\x80\\x99s', 'gabblinâ\\x80\\x99', 'senseâ\\x80\\x94whoâ\\x80\\x99d', 'â\\x80\\x98Sheâ\\x80\\x99s', 'deadâ\\x80\\x94one', 'dayâ\\x80\\x94to', 'herâ\\x80\\x94what', 'freeâ\\x80\\x94and', 'associatedâ\\x80\\x94', 'anarchistâ\\x80\\x94haunted', 'â\\x80\\x99Splolinâ\\x80\\x99', 'greatnessâ\\x80\\x9dâ\\x80\\x94', 'hersâ\\x80\\x94when', 'enemyâ\\x80\\x99s', 'blanketâ\\x80\\x94it', 'poolâ\\x80\\x94the', 'andâ\\x80\\x94though', 'rockâ\\x80\\x94granite', 'smiledâ\\x80\\x94they', 'to-nightâ\\x80\\x94they', 'strucÂ¬', 'shudderÂ¬', 'Blindsâ\\x80\\x9d', 'Davidâ\\x80\\x99s', 'changingsâ\\x80\\x94from', 'groupsâ\\x80\\x94surely', 'tomberongsâ\\x80\\x94they', 'â\\x80\\x9cLifeâ\\x80\\x99s', 'playÂ¬', 'ceaseÂ¬', 'rainâ\\x80\\x94adrift', 'motionÂ¬', 'StoneÂ¬', 'Yucatanâ\\x80\\x99s', 'occasionâ\\x80\\x94a', 'seaâ\\x80\\x94what', 'nonsenseâ\\x80\\x94Gay', 'soâ\\x80\\x99s', 'Cityâ\\x80\\x99s', 'wearinessâ\\x80\\x94or', 'Siberiaâ\\x80\\x94whence', 'Hâ\\x80\\x99mâ\\x80\\x94left', 'phenomenaâ\\x80\\x94earthquake', 'againâ\\x80\\x94track', 'andâ\\x80\\x94cowardly', 'firsâ\\x80\\x94', 'starsâ\\x80\\x9d', 'handsâ\\x80\\x94hereâ\\x80\\x99s', 'fellâ\\x80\\x94ay', 'â\\x80\\x9cHeâ\\x80\\x99d', 'Fahlaminâ\\x80\\x94where', 'probablyâ\\x80\\x94there', 'appreÂ¬', 'messieursâ\\x80\\x94and', 'canâ\\x80\\x94and', 'tennis-doâ\\x80\\x99s', 'fThatâ\\x80\\x94and', 'uncertainâ\\x80\\x94it', 'cropsâ\\x80\\x94they', 'boatâ\\x80\\x94', 'â\\x80\\x9cwickedâ\\x80\\x9d', 'enoughâ\\x80\\x94to', 'â\\x80\\x9ccastleâ\\x80\\x9d', 'naturaÂ¬', 'Tabajangâ\\x80\\x99s', 'eastâ\\x80\\x94it', 'Adventureâ\\x80\\x94He', 'Tumbalaâ\\x80\\x99s', 'tearsâ\\x80\\x94theyâ\\x80\\x99re', 'lastâ\\x80\\x94Now', 'tracksâ\\x80\\x94the', 'whinÂ¬', 'runningâ\\x80\\x94in', 'beingâ\\x80\\x94endÂ¬', 'abroadâ\\x80\\x94or', 'forestâ\\x80\\x94and', 'thingsâ\\x80\\x94wild', 'AntÂ¬', 'mineâ\\x80\\x94the', 'babyâ\\x80\\x94Good', 'Breakfastâ\\x80\\x99s', 'StreseÂ¬', 'Russiaâ\\x80\\x94we', 'Spanishâ\\x80\\x94along', 'wellâ\\x80\\x94for', 'pedestalâ\\x80\\x99d', 'dâ\\x80\\x99Azur', 'movementâ\\x80\\x94quickly', 'bardâ\\x80\\x99s', 'Houdiniâ\\x80\\x9d', 'adeÂ¬', 'himâ\\x80\\x94perhaps', 'Christâ\\x80\\x94logicians', 'behindâ\\x80\\x94Christ', 'promiseâ\\x80\\x94not', 'teryâ\\x80\\x9d', 'aâ\\x80\\x94admirer', 'preÂ¬', 'moneyâ\\x80\\x94for', 'wasâ\\x80\\x94Come', 'wanderÂ¬', 'gunÂ¬', 'forestâ\\x80\\x94it', 'PalaeoÂ¬', 'Universityâ\\x80\\x94she', 'Andreiâ\\x80\\x99s', 'everâ\\x80\\x94it', 'littlâ\\x80\\x99un', 'housesâ\\x80\\x94but', 'Sashkaâ\\x80\\x99s', 'aliveâ\\x80\\x94dying', 'Leanderâ\\x80\\x94dust', 'EightÂ¬', 'wishâ\\x80\\x94I', 'remainsâ\\x80\\x94a', 'strangersâ\\x80\\x94kindly', 'Farâ\\x80\\x9d', 'Silenceâ\\x80\\x94', 'senseâ\\x80\\x94these', 'explorationâ\\x80\\x94but', 'mercilesslyâ\\x80\\x94they', 'iâ\\x80\\x99faith', 'eyesâ\\x80\\x94every', 'decorÂ¬', 'weeâ\\x80\\x99s', 'thingsâ\\x80\\x9d', 'shipwrightâ\\x80\\x99s', 'wastesâ\\x80\\x94an', 'distanceâ\\x80\\x94for', 'eraâ\\x80\\x94typical', 'beenâ\\x80\\x94cleanâ\\x80\\x94', 'discoveryâ\\x80\\x94books', 'taxiÂ¬', 'bandâ\\x80\\x94heâ\\x80\\x99d', 'unsymÂ¬', 'phraseâ\\x80\\x94live', 'fellow-citizensâ\\x80\\x94they', 'saintsâ\\x80\\x94a', 'wonderâ\\x80\\x94awoke', 'overâ\\x80\\x94down', 'Seggetâ\\x80\\x94whoâ\\x80\\x99ll', 'iErteâ\\x80\\x99s', 'physiologyâ\\x80\\x94as', 'riderâ\\x80\\x94both', 'anotherâ\\x80\\x99s', 'Maqueneâ\\x80\\x99s', 'fineâ\\x80\\x94good', 'looksâ\\x80\\x94livable', 'thatâ\\x80\\x94adolescence', 'Cairoâ\\x80\\x94as', 'Gowansâ\\x80\\x99', 'Villagutierreâ\\x80\\x99s', 'powerâ\\x80\\x94the', 'likeâ\\x80\\x94did', 'Owâ\\x80\\x99s', 'Englishmanâ\\x80\\x94though', 'continentâ\\x80\\x94undoubtedly', 'Liuâ\\x80\\x99s', 'sensiÂ¬', 'cameâ\\x80\\x94', 'half-articuÂ¬', 'Burnettâ\\x80\\x99s.â\\x80\\x94Piddle', 'maaâ\\x80\\x99ing', 'steelÂ¬', 'allâ\\x80\\x94even', 'womenâ\\x80\\x99s', 'faithâ\\x80\\x94with', 'paralÂ¬', 'potterâ\\x80\\x94possibly', 'Alickâ\\x80\\x99d', 'Lifeâ\\x80\\x94she', 'citiesâ\\x80\\x94dividing', 'Hheyâ\\x80\\x99ll', 'himâ\\x80\\x94in', 'easyÂ¬', 'Georgeâ\\x80\\x94so', 'policemanâ\\x80\\x94â\\x80\\x9cYouâ\\x80\\x99ll', 'yourÂ¬', 'hereâ\\x80\\x99s', 'proveâ\\x80\\x94it', 'Maâ\\x80\\x99d', 'porcupinesâ\\x80\\x94beasts', 'naturalÂ¬', 'herâ\\x80\\x94played', 'Negrasâ\\x80\\x99', 'wornâ\\x80\\x94it', 'zÂ£rte', 'civilizationâ\\x80\\x94or', 'loinÂ¬', 'singingâ\\x80\\x94singing', 'danceâ\\x80\\x94', 'weaversâ\\x80\\x94the', 'womenâ\\x80\\x94dhey', 'Fictionistâ\\x80\\x99s', 'Quaritchâ\\x80\\x99s', 'satietyâ\\x80\\x94in', 'Greenlandâ\\x80\\x94unexplored', 'doorÂ¬', 'superÂ¬', 'voiceâ\\x80\\x94a', 'appearsâ\\x80\\x94an', 'Ohâ\\x80\\x94Camelia', 'guardÂ¬', 'enemiesâ\\x80\\x94I', 'someÂ¬', 'beastâ\\x80\\x94largely', 'knewâ\\x80\\x94ad', 'insectâ\\x80\\x94Theaâ\\x80\\x94without', 'elseâ\\x80\\x94', 'occurredâ\\x80\\x94he', 'upâ\\x80\\x94we', 'regretâ\\x80\\x94but', 'elephantsâ\\x80\\x99', 'heâ\\x80\\x99s', 'thereâ\\x80\\x94women', 'Chaeâ\\x80\\x99s', 'itâ\\x80\\x94as', 'youâ\\x80\\x94oh', 'Ewanâ\\x80\\x94he', 'Sergeantsâ\\x80\\x99', 'day-signsâ\\x80\\x94Kan', 'Theeâ\\x80\\x9d', 'peaceÂ¬', 'eastâ\\x80\\x94they', 'Columbusâ\\x80\\x94the', 'thereâ\\x80\\x94to', 'itâ\\x80\\x94working', 'Winterâ\\x80\\x94when', 'likeâ\\x80\\x94papers', 'fireâ\\x80\\x94a', 'HouseÂ¬', 'knewâ\\x80\\x94Letâ\\x80\\x99s', 'neighbourÂ¬', 'himâ\\x80\\x94still', 'broadÂ¬', 'tractsâ\\x80\\x94numerous', 'Theyâ\\x80\\x99ll', 'youâ\\x80\\x94as', 'journeyâ\\x80\\x94', 'mountain-barriersâ\\x80\\x94', 'itâ\\x80\\x94heâ\\x80\\x99s', 'leadâ\\x80\\x94would', 'largerâ\\x80\\x94that', 'â\\x80\\x94awakenÂ¬', 'anyhowâ\\x80\\x94the', 'pithecanÂ¬', 'Senhoraâ\\x80\\x99s', 'toâ\\x80\\x94Come', 'Empireâ\\x80\\x94and', 'â\\x80\\x9cWhyâ\\x80\\x94', 'Nile-bankâ\\x80\\x99s', 'backâ\\x80\\x94with', 'cropSâ\\x80\\x94long', 'Sidgwickâ\\x80\\x99s', 'PromisÂ¬', 'representaÂ¬', 'interestâ\\x80\\x94with', 'hereâ\\x80\\x94another', 'beyondâ\\x80\\x94ah', 'hairâ\\x80\\x99s', 'Ewanâ\\x80\\x94have', 'girlâ\\x80\\x94like', 'helpedâ\\x80\\x94at', 'loosedâ\\x80\\x94and', 'Jimmyâ\\x80\\x99s', 'techniqueâ\\x80\\x99s', 'laughâ\\x80\\x94as', 'Csesarâ\\x80\\x99s', 'creaÂ¬', 'ploughmenâ\\x80\\x94once', 'longâ\\x80\\x99after', 'Sibidoolooâ\\x80\\x94hill-defended', 'desolaÂ¬', 'CivilizaÂ¬', 'urchinâ\\x80\\x94only', 'pentÂ¬', 'forwardâ\\x80\\x94for', 'narÂ¬', 'SuppleÂ¬', 'crueltiesâ\\x80\\x94well', 'killedâ\\x80\\x9d', 'calendarâ\\x80\\x94a', 'alterÂ¬', 'cannibalsâ\\x80\\x94a', \"'Hmifcâ\\x80\\x98h\", 'Cultureâ\\x80\\x94even', 'worldâ\\x80\\x94and', 'Himalayasâ\\x80\\x94and', 'Howeâ\\x80\\x99s', 'sneerâ\\x80\\x94those', 'dayâ\\x80\\x94in', 'itâ\\x80\\x9d', 'singingâ\\x80\\x94', 'SudÂ¬', 'Polychromataâ\\x80\\x94the', 'nothingâ\\x80\\x94it', 'Reuterâ\\x80\\x99s', 'winter-timeâ\\x80\\x94', 'crofterâ\\x80\\x99s', 'cloudsâ\\x80\\x94it', 'ParaÂ¬', 'Hellâ\\x80\\x94of', 'â\\x80\\x9cNoâ\\x80\\x94no', 'Kazanâ\\x80\\x99s', 'SÂ°me', 'Crocodileâ\\x80\\x94', 'jawâ\\x80\\x94donâ\\x80\\x99t', 'writerâ\\x80\\x99s', 'toilâ\\x80\\x94', 'Perhapsâ\\x80\\x94who', 'wasâ\\x80\\x94something', 'deathâ\\x80\\x94', 'Nansenâ\\x80\\x94the', 'hellâ\\x80\\x94St', 'â\\x80\\x9cDidnâ\\x80\\x99t', 'thingâ\\x80\\x94not', 'bairnâ\\x80\\x94damnâ\\x80\\x99t', 'beastlinessâ\\x80\\x94beastliness', 'educationâ\\x80\\x94that', 'Wrightâ\\x80\\x99s', 'Itâ\\x80\\x99sâ\\x80\\x94â\\x80¢', 'everâ\\x80\\x94but', 'passengersâ\\x80\\x99', 'championâ\\x80\\x99s', 'hill-sideâ\\x80\\x94for', 'gutterâ\\x80\\x94akh', 'hersâ\\x80\\x94would', 'skinâ\\x80\\x99s', 'sediÂ¬', 'rageâ\\x80\\x94Here', 'thisâ\\x80\\x94it', 'stillâ\\x80\\x94alien', 'dayâ\\x80\\x94away', 'Europeâ\\x80\\x94the', 'lightâ\\x80\\x94we', 'tainâ\\x80\\x94do', 'SpartaÂ¬', 'BuxÂ¬', 'refurÂ¬', 'letterâ\\x80\\x94it', 'Americanâ\\x80\\x94last', 'arrowÂ¬', 'suspiÂ¬', 'worldâ\\x80\\x94but', 'properâ\\x80\\x94Old', 'glimpsedâ\\x80\\x94one', 'forestâ\\x80\\x94for', 'speakâ\\x80\\x94before', 'nowâ\\x80\\x94youâ\\x80\\x99re', 'ABERDEEÂ', 'westâ\\x80\\x94at', 'herâ\\x80\\x94uf', 'Natureâ\\x80\\x99s', 'thirdâ\\x80\\x94I', 'meâ\\x80\\x94Anton', 'CANâ\\x80\\x99T', 'Crixusâ\\x80\\x99', 'himâ\\x80\\x94oh', 'differentâ\\x80\\x94blood', 'insideâ\\x80\\x94a', 'Jewâ\\x80\\x99s', 'Poloâ\\x80\\x99s', 'regretÂ¬', 'Womenâ\\x80\\x99s', 'thanksâ\\x80\\x94if', 'churchesâ\\x80\\x94all', 'Screenâ\\x80\\x9d', 'â\\x80\\x9cMachaerodusâ\\x80\\x94a', 'Dreepâ\\x80\\x99s', 'courseâ\\x80\\x94that', 'oldâ\\x80\\x94oh', 'Europeâ\\x80\\x99s', 'â\\x80\\x9cnestâ\\x80\\x9d', 'deterÂ¬', 'quietâ\\x80\\x94dazedly', 'peopleâ\\x80\\x94even', 'Mongolianâ\\x80\\x94in', 'complaintâ\\x80\\x94I', 'Stranlayâ\\x80\\x94are', 'affairâ\\x80\\x94', 'â\\x80\\x98Weâ\\x80\\x99ve', 'againâ\\x80\\x94went', 'ofâ\\x80\\x9c', 'horsesâ\\x80\\x94dog-racingâ\\x80\\x94footÂ¬', 'cessaÂ¬', 'threeÂ¬', 'â\\x80\\x9cAntonâ\\x80\\x94I', 'Jesusâ\\x80\\x94latrines', 'Massâ\\x80\\x94they', 'lookÂ¬', 'momentâ\\x80\\x94though', 'itâ\\x80\\x94with', 'hopesâ\\x80\\x94ended', 'reposeâ\\x80\\x94when', 'unconvenÂ¬', 'privateersâ\\x80\\x94', 'schoolmasterâ\\x80\\x99s', 'shootÂ¬', 'Douglasâ\\x80\\x99', 'Sevilleâ\\x80\\x9d', 'â\\x80\\x99tisnâ\\x80\\x99t', 'liftÂ¬', 'Yorkâ\\x80\\x94damnâ\\x80\\x99t', 'Greeceâ\\x80\\x94a', 'havenâ\\x80\\x99t.â\\x80\\x9d', 'familiesâ\\x80\\x94so', 'bridgeâ\\x80\\x94for', 'hillâ\\x80\\x94and', 'Virginâ\\x80\\x99s', 'amusementâ\\x80\\x94from', 'weekâ\\x80\\x99s', 'feetâ\\x80\\x94marched', 'bushâ\\x80\\x94its', 'corridorsâ\\x80\\x94the', 'nineteen-yearsâ\\x80\\x99', 'colourâ\\x80\\x94and', 'â\\x80\\x9cLadesâ\\x80\\x99', 'monthsâ\\x80\\x94', 'â\\x80\\x98Letâ\\x80\\x99s', 'captiveâ\\x80\\x99s', 'backâ\\x80\\x94', 'seamanâ\\x80\\x94his', 'starsâ\\x80\\x94the', 'townâ\\x80\\x94crossing', 'scriptsâ\\x80\\x94on', 'ainâ\\x80\\x99t', 'sitesâ\\x80\\x94maize', 'Simpsonâ\\x80\\x99s', 'historyâ\\x80\\x94oh', 'Ospreyâ\\x80\\x94didnâ\\x80\\x99t', 'briochesâ\\x80\\x94miraculous', 'deathâ\\x80\\x99s', 'Mexâ\\x80\\x99', 'papyrusâ\\x80\\x94a', 'Harthâ\\x80\\x9d', 'guessworkâ\\x80\\x94', 'tribesâ\\x80\\x9d', 'terÂ¬', 'Cairoâ\\x80\\x94she', 'theyâ\\x80\\x99d', 'oneâ\\x80\\x94every', 'killâ\\x80\\x94here', 'themâ\\x80\\x94in', 'Selimâ\\x80\\x99s', 'neitherâ\\x80\\x94faith', 'nativeâ\\x80\\x94the', 'yearâ\\x80\\x94were', 'evenâ\\x80\\x94though', 'expeditionâ\\x80\\x94in', 'Whyâ\\x80\\x94â\\x80\\x9d', 'agesâ\\x80\\x94all', 'blackÂ¬', 'essenÂ¬', 'meâ\\x80\\x94probably', 'colleagueâ\\x80\\x99s', 'godâ\\x80\\x94what', 'Ouchâ\\x80\\x94hot', 'â\\x80\\x9cThenâ\\x80\\x94though', 'oâ\\x80\\x99t', 'startÂ¬', 'gangwaysâ\\x80\\x99ll', 'meanâ\\x80\\x94before', 'foolâ\\x80\\x94seeing', 'answerâ\\x80\\x99s', 'kirkyardâ\\x80\\x99s', 'courseâ\\x80\\x94messes', 'Columbusâ\\x80\\x99', 'Trumpetâ\\x80\\x94if', 'onceâ\\x80\\x94Twin', 'sickÂ¬', 'Franceâ\\x80\\x99s', 'ofâ\\x80\\x94', 'breeksâ\\x80\\x94HalfÂ¬', 'ploverâ\\x80\\x99s', 'Americaâ\\x80\\x94at', 'Hannoâ\\x80\\x99s', 'Harvestâ\\x80\\x99s', 'obtainÂ¬', 'myselfâ\\x80\\x94', 'selfÂ¬', 'doctorÂ¬', 'hovelâ\\x80\\x94is', 'Norwayâ\\x80\\x94Scots', 'responsiÂ¬', 'cryÂ¬', 'Ageâ\\x80\\x94they', 'originÂ¬', 'partyâ\\x80\\x94all', 'rightsâ\\x80\\x94what', 'migraÂ¬', 'arbiÂ¬', 'NachiÂ¬', 'mastersâ\\x80\\x94there', 'Soulâ\\x80\\x94-the', 'hierarchyâ\\x80\\x94all', 'Waterâ\\x80\\x94only', 'Londonâ\\x80\\x94as', 'wakeÂ¬', 'Liuâ\\x80\\x94had', 'SriPâ\\x80\\x98', 'yetâ\\x80\\x94how', 'notesâ\\x80\\x94details', 'itâ\\x80\\x94if', 'Goaâ\\x80\\x99s', 'itâ\\x80\\x94she', 'Georgiosâ\\x80\\x94who', 'â\\x80\\x9cButâ\\x80\\x94that', 'brownÂ¬', 'womenâ\\x80\\x94', 'landâ\\x80\\x94with', 'forÂ¬', 'ConfirmaÂ¬', 'mumÂ¬', 'â\\x80\\x9cOhâ\\x80\\x94any', 'Trumpetâ\\x80\\x94a', 'huntÂ¬', 'lifeâ\\x80\\x94the', 'theâ\\x80\\x94expedition', 'lightâ\\x80\\x94Georgeâ\\x80\\x99s', 'â\\x80\\x98colonelâ\\x80\\x99', 'realityâ\\x80\\x94so', 'â\\x80\\x9cinteriorâ\\x80\\x9d', 'Michâ\\x80\\x99', 'â\\x80\\x94whatâ\\x80\\x99s', 'beâ\\x80\\x99r', 'Soonâ\\x80\\x99s', 'TimÂ¬', 'yesÂ¬', 'hisâ\\x80\\x94in', 'secondâ\\x80\\x94at', 'Hannaâ\\x80\\x99s', 'expeditionâ\\x80\\x99s', 'crueltyâ\\x80\\x94unless', 'Cookâ\\x80\\x99s-tourist', 'handâ\\x80\\x99s-length', 'Wouldnâ\\x80\\x99t', 'Umbriaâ\\x80\\x94once', 'heartÂ¬', 'â\\x80\\x98Weâ\\x80\\x99ll', 'hutâ\\x80\\x94', 'Gershomâ\\x80\\x99s', 'â\\x80\\x94Thisâ\\x80\\x99ll', 'Siwaâ\\x80\\x94he', 'Ballâ\\x80\\x99s', 'expenÂ¬', 'â\\x80\\x9ckingdomâ\\x80\\x9d', 'ageâ\\x80\\x94as', \"enoughâ\\x80\\x94chefs-d'oeuvre\", 'rosesâ\\x80\\x94suddenly', 'goldâ\\x80\\x94Apalachen', 'negressâ\\x80\\x99s', 'Oceanâ\\x80\\x9d', 'Uaxactunâ\\x80\\x99s', 'seigneurâ\\x80\\x99s', 'spearâ\\x80\\x94until', 'shivÂ¬', 'manuÂ¬', 'â\\x80\\x9cMessieursâ\\x80\\x94the', 'youâ\\x80\\x94here', 'citiesâ\\x80\\x94a', 'ostenÂ¬', 'Sayyiyaâ\\x80\\x99s', 'neighboursâ\\x80\\x99', 'ruseâ\\x80\\x94and', 'Groupâ\\x80\\x99s', 'sorryâ\\x80\\x94because', 'grainâ\\x80\\x94to', 'conquerorâ\\x80\\x99s', 'knowâ\\x80\\x94I', 'Mochcovohâ\\x80\\x99s', 'unlionlyâ\\x80\\x9d', 'shomâ\\x80\\x99s', 'Ceelâ\\x80\\x99s', 'autoÂ¬', 'archÂ¬', 'poetâ\\x80\\x99s', 'Maâ\\x80\\x99s', 'thinâ\\x80\\x94', 'winterâ\\x80\\x99s', 'notâ\\x80\\x94Ahhhhhhhhhhhh', 'Ewanâ\\x80\\x94whatâ\\x80\\x99ll', 'oppressorâ\\x80\\x94the', 'explanaÂ¬', 'heavenâ\\x80\\x94where', 'beforeâ\\x80\\x94acquired', 'Billâ\\x80\\x94Bill', 'abroadâ\\x80\\x94to', 'navigatorâ\\x80\\x99s', 'superimposiÂ¬', 'princessÂ¬', 'maniÂ¬', 'entertainedâ\\x80\\x94he', 'symbolÂ¬', 'Englandâ\\x80\\x94his', 'Tanganyikaâ\\x80\\x99s', 'StraightÂ¬', 'BlasÂ¬', 'Mowatâ\\x80\\x94with', 'childâ\\x80\\x94oh', 'banÂ¬', 'morningâ\\x80\\x94exploitation', 'Mindanoaâ\\x80\\x94a', 'Trailâ\\x80\\x9d', 'capitalÂ¬', 'maelÂ¬', 'followedâ\\x80\\x94after', 'hooterâ\\x80\\x99ll', 'obserÂ¬', 'Johnâ\\x80\\x94-and', 'gratificaÂ¬', 'supÂ¬', 'MediÂ¬', 'dererâ\\x80\\x94as', 'outlineâ\\x80\\x94in', 'aeronautsâ\\x80\\x94they', 'shirtÂ¬', 'Whatâ\\x80\\x99d', 'pessimÂ¬', 'Songsâ\\x80\\x94Songs', 'chapmanâ\\x80\\x99s', 'starsâ\\x80\\x94what', 'Soâ\\x80\\x99y', 'muzzilyâ\\x80\\x94from', 'historyâ\\x80\\x99s', 'Theyâ\\x80\\x99dâ\\x80\\x94theyâ\\x80\\x99d', 'thingâ\\x80\\x94', 'Womenâ\\x80\\x94hell', 'unintelliÂ¬', 'inclineâ\\x80\\x99s', 'â\\x80\\x98Gayâ\\x80\\x99', 'lowerÂ¬', 'isâ\\x80\\x94a', 'breastsâ\\x80\\x94were', 'starsâ\\x80\\x94and', 'sleeperâ\\x80\\x99s', 'Johnâ\\x80\\x99s', 'sheepâ\\x80\\x99s', 'beforeâ\\x80\\x94in', 'practitionerâ\\x80\\x99s', 'wordâ\\x80\\x94so', 'landâ\\x80\\x94and', 'girlâ\\x80\\x94a', 'amâ\\x80\\x94in', 'sceneâ\\x80\\x94Have', 'Zemlyaâ\\x80\\x94and', 'grasslandsâ\\x80\\x94pressed', 'sayâ\\x80\\x94but', 'dragoÂ¬', 'scholarshipsâ\\x80\\x94bursaries', 'emÂ¬', 'herâ\\x80\\x94of', 'Warâ\\x80\\x94shot', 'weakenÂ¬', 'nunneryâ\\x80\\x94if', 'murÂ¬', 'himselfâ\\x80\\x94a', 'promulÂ¬', 'stairsâ\\x80\\x9d', 'darknessâ\\x80\\x94rejoicing', 'snakeâ\\x80\\x99s', 'Godâ\\x80\\x94with', 'huntsmanâ\\x80\\x99s', 'empireâ\\x80\\x94a', 'Egyptâ\\x80\\x94surely', 'meâ\\x80\\x94Iâ\\x80\\x99d', 'illâ\\x80\\x94and', 'sevenÂ¬', 'denunciaÂ¬', 'thoughtâ\\x80\\x94â\\x80\\x9c', 'Brazilâ\\x80\\x94shows', 'Radicalsâ\\x80\\x94Redsâ\\x80\\x94that', 'â\\x80\\x9cIsnâ\\x80\\x99t', 'booksâ\\x80\\x94', 'Radianceâ\\x80\\x9d', 'illnessâ\\x80\\x9d', 'soldiersâ\\x80\\x9d', 'immortalityâ\\x80\\x94an', 'hopeâ\\x80\\x94the', 'stubbleâ\\x80\\x94Hararâ\\x80\\x9d', 'theseâ\\x80\\x94men', 'sardinesâ\\x80\\x9d', 'Worseâ\\x80\\x99n', 'ownerÂ¬', 'â\\x80\\x98Iâ\\x80\\x99d', 'amâ\\x80\\x94I', 'hunterâ\\x80\\x94of', 'stockÂ¬', 'fowlsâ\\x80\\x99', 'Servantsâ\\x80\\x99', 'Craigneuksâ\\x80\\x94', 'shadowsâ\\x80\\x94the', 'intelliÂ¬', 'anachronÂ¬', 'â\\x80\\x9cSmithâ\\x80\\x99sâ\\x80\\x9d', 'undisciÂ¬', 'himselfâ\\x80\\x94released', 'agriculturalâ\\x80\\x94Austria', 'hillÂ¬', 'Iâ\\x80\\x99LL', 'facesâ\\x80\\x94there', 'Oneâ\\x80\\x99s', 'murderedâ\\x80\\x94', 'extraordinaryâ\\x80\\x94except', 'foulÂ¬', 'linenâ\\x80\\x9d', 'weatherÂ¬', 'Houghtonâ\\x80\\x94in', 'knowsâ\\x80\\x94though', 'devilÂ¬', 'thinkÂ¬', 'rockâ\\x80\\x99s', 'languageâ\\x80\\x94a', 'fearedâ\\x80\\x94heâ\\x80\\x99d', 'IVeâ\\x80\\x99re', 'harlotâ\\x80\\x94a', 'drunkardâ\\x80\\x99s', 'slowlyâ\\x80\\x94as', 'visitorâ\\x80\\x94what', 'Grammarâ\\x80\\x94Sonnenburyâ\\x80\\x99sâ\\x80\\x94no', 'desperaÂ¬', 'daughterâ\\x80\\x99s', 'soulsâ\\x80\\x94', 'beforeâ\\x80\\x94a', 'hawÂ¬', 'pleasure-jauntsâ\\x80\\x94it', 'thereâ\\x80\\x94again', 'knownâ\\x80\\x94but', 'Victoriaâ\\x80\\x99s', 'Antonâ\\x80\\x94all', 'essayedâ\\x80\\x94not', 'FrankÂ¬', 'handsâ\\x80\\x94finding', 'iâ\\x80\\x9cerajle', 'dyspepsiaâ\\x80\\x94the', 'Holleâ\\x80\\x9d', 'fleshâ\\x80\\x94for', 'â\\x80\\x9cThenâ\\x80\\x94itâ\\x80\\x99s', 'yetâ\\x80\\x94you', 'Betzâ\\x80\\x99', 'boycotÂ¬', 'colonyâ\\x80\\x94to', 'againstâ\\x80\\x94not', 'refugeâ\\x80\\x94the', 'Guadaloupeâ\\x80\\x99s', 'filledâ\\x80\\x94and', 'Zabalâ\\x80\\x99s', 'nightâ\\x80\\x94that', 'Sceneâ\\x80\\x9d', 'childeâ\\x80\\x99s', 'Europeâ\\x80\\x94civilization', 'father-in-lawâ\\x80\\x99s', 'didâ\\x80\\x94unless', 'turnedâ\\x80\\x94â\\x96', 'lipsâ\\x80\\x94and', 'menâ\\x80\\x94not', 'Simonssenâ\\x80\\x99', 'Colquohounâ\\x80\\x94oh', 'Liebeâ\\x80\\x99s', 'Remâ\\x80\\x94like', 'diaboloâ\\x80\\x99s', 'â\\x80\\x9cshunâ\\x80\\x9d', 'realizeâ\\x80\\x94look', 'Placeâ\\x80\\x94desÂ¬', 'jungle-underÂ¬', 'Neâ\\x80\\x99ersday', 'Simonssenâ\\x80\\x99s', 'water-sodÂ¬', 'drearilyâ\\x80\\x94what', 'bendÂ¬', 'Atheneâ\\x80\\x94rather', 'himâ\\x80\\x94an', 'whinsâ\\x80\\x94if', 'guessedâ\\x80\\x94the', 'buildingâ\\x80\\x94a', 'rockâ\\x80\\x94a', 'loveâ\\x80\\x94sweet', 'seeâ\\x80\\x94Christ', 'frockâ\\x80\\x94â\\x80\\x99', 'doingâ\\x80\\x94until', 'Scrofasâ\\x80\\x99s', 'Lionsâ\\x80\\x9d', 'yearsâ\\x80\\x99ll', 'bearâ\\x80\\x94a', 'obsessionâ\\x80\\x94a', 'monasteryâ\\x80\\x94no', 'Garvockâ\\x80\\x94', 'half-casteâ\\x80\\x99s', 'broughtâ\\x80\\x94where', 'Pinzonâ\\x80\\x99s', 'Churchillâ\\x80\\x99s', 'mountain-rangeâ\\x80\\x94they', 'ardourâ\\x80\\x94there', 'Warâ\\x80\\x94not', 'otherâ\\x80\\x94masses', 'certainâ\\x80\\x94from', 'wonÂ¬', 'landÂ¬', 'feltâ\\x80\\x94oh', 'helpâ\\x80\\x94with', 'maddenÂ¬', 'tramÂ¬', 'shipâ\\x80\\x94â\\x80\\x9cthat', 'authenticâ\\x80\\x94it', 'Edinburghâ\\x80\\x94by', 'crueltyâ\\x80\\x99s', 'curiosity-stirringâ\\x80\\x94Africa', 'authoritativeâ\\x80\\x94confirmed', 'happeningâ\\x80\\x94the', 'abducÂ¬', 'strongâ\\x80\\x94trying', 'helicoptersâ\\x80\\x94proved', 'Mâ\\x80\\x99sieuh', 'doâ\\x80\\x94of', 'doneâ\\x80\\x94the', 'downâ\\x80\\x94a', 'chemistâ\\x80\\x99s', 'evenâ\\x80\\x94now', 'Mayaâ\\x80\\x94abandoned', 'goâ\\x80\\x94the', 'hunterâ\\x80\\x94I', 'Prostitutesâ\\x80\\x99', 'mindâ\\x80\\x94for', 'nightâ\\x80\\x94', 'spectatorsâ\\x80\\x94sadism', 'courseâ\\x80\\x94', 'despisedâ\\x80\\x94was', 'Minorâ\\x80\\x94with', 'warâ\\x80\\x94he', 'himâ\\x80\\x94not', 'versesâ\\x80\\x94three', 'backâ\\x80\\x94a', 'orderâ\\x80\\x94guides', 'comÂ¬', 'toesâ\\x80\\x94dead', 'vehicleâ\\x80\\x99', 'Touâ\\x80\\x99ve', 'phonoÂ¬', 'torturÂ¬', 'Janissaryâ\\x80\\x99s', 'Cultureâ\\x80\\x94', 'beardâ\\x80\\x94I', 'foolsâ\\x80\\x94women', 'nativesâ\\x80\\x94Quiche', 'touchâ\\x80\\x94Iâ\\x80\\x99m', 'youngâ\\x80\\x94and', 'timeâ\\x80\\x94Spengler', 'Elseâ\\x80\\x94whatever', 'Jeanâ\\x80\\x94till', 'Folkâ\\x80\\x94evil', 'engagÂ¬', 'storiesâ\\x80\\x94oh', 'Mullaghanâ\\x80\\x99s', 'Ibrahimâ\\x80\\x94why', 'doneâ\\x80\\x94even', 'Weâ\\x80\\x99re', 'Theyâ\\x80\\x99d', 'Ramonâ\\x80\\x99s', 'exercisesâ\\x80\\x94much', 'nothingâ\\x80\\x99s', 'Foukâ\\x80\\x99ll', 'weaversâ\\x80\\x94twelve', 'sidesâ\\x80\\x94kept', 'morningâ\\x80\\x94as', 'stepÂ¬', 'throatâ\\x80\\x94she', 'proceedÂ¬', 'dediÂ¬', 'othersâ\\x80\\x94such', 'subseÂ¬', 'FrenchÂ¬', 'Darbâ\\x80\\x94it', 'advanÂ¬', 'Worldâ\\x80\\x99s', 'princessâ\\x80\\x94and', 'cityâ\\x80\\x99s', 'potmanâ\\x80\\x99s', 'immemorialâ\\x80\\x94or', 'menâ\\x80\\x94except', 'andâ\\x80\\x94youâ\\x80\\x99ll', 'CovetÂ¬', 'crewsâ\\x80\\x94shores', 'â\\x80\\x9cTheaâ\\x80\\x94you', 'Leninâ\\x80\\x99s', 'Kokolkhâ\\x80\\x94though', 'Cairoâ\\x80\\x94Cairo', 'sexâ\\x80\\x94he', 'wistfulâ\\x80\\x94â\\x80\\x9cI', 'Whereâ\\x80\\x94and', 'Gershomâ\\x80\\x94Gershom', 'Meakenâ\\x80\\x99s', 'gUAIRâ\\x80\\x9d', 'Nigerâ\\x80\\x94into', 'manyâ\\x80\\x94and', 'Gladkovâ\\x80\\x94that', 'thingsâ\\x80\\x94and', 'nightâ\\x80\\x94the', 'Butâ\\x80\\x94one', 'beenâ\\x80\\x94it', 'Cairoâ\\x80\\x99s', 'savageâ\\x80\\x94crooning', 'himâ\\x80\\x94vexed', 'worldâ\\x80\\x94fun', 'thatâ\\x80\\x94he', 'lipsâ\\x80\\x99', 'vileâ\\x80\\x94', 'Generationâ\\x80\\x9d', 'confirmaÂ¬', 'Janeâ\\x80\\x94who', \"^ledâ\\x80\\x99dtn'llg^nearm\", 'moorhenâ\\x80\\x99s', 'animalsâ\\x80\\x94strengthÂ¬', 'engenÂ¬', 'immigrantsâ\\x80\\x99', 'stiffâ\\x80\\x99s', 'shotâ\\x80\\x94', 'adviceâ\\x80\\x94at', 'accesÂ¬', 'MacGillivrayâ\\x80\\x99s', 'â\\x80\\x9cPeacockâ\\x80\\x9d', 'speedâ\\x80\\x94', 'jawâ\\x80\\x94the', 'obstacleâ\\x80\\x94that', 'fishingâ\\x80\\x9d', 'kirkyardâ\\x80\\x94the', 'Aberlemnoâ\\x80\\x99s', 'nowâ\\x80\\x94when', 'McKennaâ\\x80\\x99s', 'â\\x80\\x98Thenâ\\x80\\x94my', 'afternoonâ\\x80\\x99s', 'insolenceâ\\x80\\x94the', 'solemÂ¬', 'eternalâ\\x80\\x94â\\x80\\x9d', 'guideâ\\x80\\x99s', 'Robâ\\x80\\x99s', 'staggeredâ\\x80\\x94and', 'Frontiersâ\\x80\\x9d', 'malachiteâ\\x80\\x94green', 'ThereÂ¬', 'howâ\\x80\\x99s', 'oneâ\\x80\\x94bedecked', 'Chestertonâ\\x80\\x99s', 'Hawkersâ\\x80\\x99-defended', 'vesselâ\\x80\\x9d', 'Palenqueâ\\x80\\x94sayâ\\x80\\x94may', 'boyâ\\x80\\x99s', 'scriptâ\\x80\\x94itâ\\x80\\x99s', 'neighbourâ\\x80\\x94at', 'dâ\\x80\\x99Azil', 'ageâ\\x80\\x94she', 'Iâ\\x80\\x99mthe', 'fingerÂ¬', 'comersâ\\x80\\x94White', 'pilÂ¬', 'innumÂ¬', 'sutorâ\\x80\\x99s', 'attendÂ¬', 'exactiÂ¬', 'unmisÂ¬', 'hisâ\\x80\\x94coward', 'sangâ\\x80\\x94all', 'yearsâ\\x80\\x94my', 'thatâ\\x80\\x99d', 'stayÂ¬', 'whoâ\\x80\\x99d', 'Englandâ\\x80\\x94and', 'camouÂ¬', 'othersâ\\x80\\x94', 'daftieâ\\x80\\x99s', 'paveÂ¬', 'Jorgensenâ\\x80\\x99s', 'â\\x80\\x9chitsâ\\x80\\x9d', 'metalÂ¬', 'storyâ\\x80\\x99s', 'Burmaâ\\x80\\x94are', 'visionaryâ\\x80\\x99s', 'itselfâ\\x80\\x94thump', 'Scotlandâ\\x80\\x94lost', 'kitâ\\x80\\x94shirt', 'dreamâ\\x80\\x99s', 'Theeyâ\\x80\\x99s', 'desireâ\\x80\\x94were', 'doâ\\x80\\x94and', 'whoresonâ\\x80\\x99s', 'crawlâ\\x80\\x94it', 'commercialismâ\\x80\\x99s', 'strayÂ¬', 'mornâ\\x80\\x94that', 'lineâ\\x80\\x94it', 'Moorâ\\x80\\x99s', 'studentâ\\x80\\x99s', 'rabbitâ\\x80\\x99s', 'successâ\\x80\\x94backed', 'everythingâ\\x80\\x94she', 'Yucatanâ\\x80\\x94a', 'Malcomâ\\x80\\x99s', 'brideâ\\x80\\x94', 'devilsâ\\x80\\x94it', 'Goreeâ\\x80\\x94', 'ancientâ\\x80\\x94a', 'considerÂ¬', 'heartâ\\x80\\x94Nothing', 'contraÂ¬', 'continÂ¬', 'nameâ\\x80\\x94this', 'beneÂ¬', 'youâ\\x80\\x94sometime', 'silhouetteâ\\x80\\x99s', 'landsmanâ\\x80\\x99s', 'EveryÂ¬', 'cigarÂ¬', 'Bombardâ\\x80\\x99s', 'appliedâ\\x80\\x94Menche', 'fâ\\x80\\x99r', 'nudeâ\\x80\\x94in', 'justâ\\x80\\x94try', 'NacotÂ¬', 'Raggieâ\\x80\\x99s', 'campâ\\x80\\x99s', 'appealÂ¬', 'Shouldnâ\\x80\\x99t', 'Pharaohâ\\x80\\x99s', 'beenâ\\x80\\x94in', 'boyâ\\x80\\x94on', 'CereÂ¬', 'dataâ\\x80\\x94it', 'anyâ\\x80\\x94', 'understoodâ\\x80\\x94men', 'whatâ\\x80\\x94all', 'doorâ\\x80\\x94he', 'houseâ\\x80\\x94na', 'hairÂ¬', 'Grammarâ\\x80\\x99s', 'ingredientâ\\x80\\x94so', 'sonâ\\x80\\x99s', 'Passâ\\x80\\x94the', 'historyâ\\x80\\x94a', 'lassâ\\x80\\x99s', 'fastâ\\x80\\x94the', 'folkâ\\x80\\x99s', 'handsâ\\x80\\x94or', 'noonâ\\x80\\x94someÂ¬', 'studiedâ\\x80\\x94hard', 'factâ\\x80\\x94the', 'Papadrapoulnakophitosâ\\x80\\x94and', 'jargonâ\\x80\\x94oh', 'kirkâ\\x80\\x94no', 'Harbourâ\\x80\\x9d', 'Decemberâ\\x80\\x99s', 'Johnâ\\x80\\x99ll', 'themâ\\x80\\x94what', 'othersâ\\x80\\x94the', 'Jâ\\x80\\x9d', 'fishermanâ\\x80\\x99s', 'proviÂ¬', 'emiÂ¬', 'Pictmanâ\\x80\\x99s', 'Vision-plateâ\\x80\\x99', 'pre-historyâ\\x80\\x99s', 'thereâ\\x80\\x94his', 'Mongolsâ\\x80\\x94save', 'immediÂ¬', 'truthâ\\x80\\x94', 'stuffâ\\x80\\x94did', 'suicidesâ\\x80\\x94dazed', 'forâ\\x80\\x94and', 'amnâ\\x80\\x99t', 'outingâ\\x80\\x94why', 'exampleâ\\x80\\x94', 'knowâ\\x80\\x94that', 'somewhereâ\\x80\\x94are', 'Dicksonâ\\x80\\x94the', 'â\\x80\\x9cUnfriendlyâ\\x80\\x94if', 'tradesâ\\x80\\x94wool-cardingâ\\x80\\x94at', 'whitesâ\\x80\\x94north', 'Walkerâ\\x80\\x99s', 'râ\\x80\\x99we', 'dosâ\\x80\\x99', 'â\\x80\\x9cWeâ\\x80\\x99d', 'clothesâ\\x80\\x94so', 'materÂ¬', 'wereâ\\x80\\x94damnâ\\x80\\x99t', 'Stayâ\\x80\\x94one', 'Readingâ\\x80\\x99s', 'yearsâ\\x80\\x94condescension', 'youthâ\\x80\\x99s', 'cstraitâ\\x80\\x9d', 'Jâ\\x80\\x99', 'revolutionÂ¬', 'Slaveryâ\\x80\\x99s', 'GenerÂ¬', 'skiesâ\\x80\\x94a', 'postureâ\\x80\\x94', 'Sleepâ\\x80\\x94a', 'asleepâ\\x80\\x94or', 'Laidleyâ\\x80\\x94he', 'unhelpÂ¬', 'dramatisationâ\\x80\\x94hero-personification', 'madâ\\x80\\x94Jane', 'fairyâ\\x80\\x94a', 'theatreâ\\x80\\x99s', 'CapÂ¬', 'Khâ\\x80\\x99ershom', 'diseaseâ\\x80\\x94free', 'explorerâ\\x80\\x94mostly', 'Yetâ\\x80\\x94how', 'undeÂ¬', 'ciderâ\\x80\\x94and', 'trading-stationsâ\\x80\\x94slave', 'Heâ\\x80\\x94he', 'Bwanâ\\x80\\x94and', 'Loversâ\\x80\\x9d', 'Aprilâ\\x80\\x99s', 'Julyâ\\x80\\x99s', 'wonderâ\\x80\\x94awaiting', 'MacShilluckâ\\x80\\x99s', 'Maxwellâ\\x80\\x99s', 'disguisedâ\\x80\\x94would', 'ingreÂ¬', 'isâ\\x80\\x94difficult', 'sideÂ¬', 'itâ\\x80\\x94he', 'populationsâ\\x80\\x94the', 'disguiseâ\\x80\\x94as', 'Parkâ\\x80\\x94everything', 'armyâ\\x80\\x94a', 'shipâ\\x80\\x99s', 'Englishâ\\x80\\x94in', 'themâ\\x80\\x94they', 'foodâ\\x80\\x94perhaps', 'eyesâ\\x80\\x94', 'culture-barriersâ\\x80\\x94I', 'lifeâ\\x80\\x94queer', 'gloriousâ\\x80\\x94', 'youâ\\x80\\x94very', 'hisâ\\x80\\x94the', 'Weakâ\\x80\\x94of', 'fogâ\\x80\\x94or', 'Karlsevneâ\\x80\\x99s', 'tÂ°', 'genÂ¬', 'desperationâ\\x80\\x94a', 'innoÂ¬', 'shapeâ\\x80\\x94its', 'watersâ\\x80\\x94six', 'conquerorsâ\\x80\\x94may', 'hadâ\\x80\\x94had', 'Westminsterâ\\x80\\x94a', 'yÂ£rte', 'Knewâ\\x80\\x9d', 'somethingâ\\x80\\x94', 'Erchieâ\\x80\\x99s', 'longâ\\x80\\x94when', 'desertâ\\x80\\x94', 'Macedonianâ\\x80\\x99s', 'enemyâ\\x80\\x94all', 'panicâ\\x80\\x94shining', 'depravityâ\\x80\\x94but', 'reportersâ\\x80\\x99', 'awakÂ¬', 'talkÂ¬', 'impassableâ\\x80\\x94a', 'fortnightâ\\x80\\x99s', 'overseasâ\\x80\\x94to', 'whaleâ\\x80\\x99s', 'Scotâ\\x80\\x99s', 'onlyâ\\x80\\x94in', 'secondâ\\x80\\x99s', 'Hungerâ\\x80\\x94there', 'civilÂ¬', 'qffiliâ\\x80\\x94See', 'Mevrâ\\x80\\x94Dick', 'itâ\\x80\\x94or', 'reporterâ\\x80\\x99s', 'knifeâ\\x80\\x9d', 'cultureâ\\x80\\x94a', 'obtainâ\\x80\\x94somehow', 'herâ\\x80\\x94scavenger', 'Brotherâ\\x80\\x99s', 'loveâ\\x80\\x94surely', 'Everestâ\\x80\\x9d', 'chocolateâ\\x80\\x99s', 'worksâ\\x80\\x94who', 'bullÂ¬', 'Meiklebogsâ\\x80\\x94', 'Caldonsâ\\x80\\x99', 'Icelandâ\\x80\\x94led', 'preachÂ¬', 'Possessionâ\\x80\\x9d', 'herÂ¬', 'nÂ°r', 'hereâ\\x80\\x94', 'contiÂ¬', 'windowâ\\x80\\x94', 'warâ\\x80\\x99s', 'uncladâ\\x80\\x94men', 'AdÂ¬', 'â\\x80\\x9cWhateverâ\\x80\\x99s', 'consoÂ¬', 'knownâ\\x80\\x94known', 'artistâ\\x80\\x99s', 'Venetianâ\\x80\\x99sâ\\x80\\x94surely', 'notâ\\x80\\x94â\\x80\\x9c', 'kitchenâ\\x80\\x94thatâ\\x80\\x99s', 'scientistâ\\x80\\x94with', 'Spainâ\\x80\\x94could', 'stairsâ\\x80\\x94a', 'candidateâ\\x80\\x99s', 'workâ\\x80\\x94except', 'stupiditiesâ\\x80\\x94awoke', 'courseâ\\x80\\x94and', 'Dawnâ\\x80\\x99â\\x80\\x94a', 'lumpâ\\x80\\x99s', 'Weâ\\x80\\x99d', 'Onlyâ\\x80\\x94there', 'Boutrinâ\\x80\\x94by', 'footnotesâ\\x80\\x94as', 'Tavendaleâ\\x80\\x94that', 'kindâ\\x80\\x94', 'meâ\\x80\\x94you', 'trustificaÂ¬', 'senatorâ\\x80\\x99s', 'profileâ\\x80\\x94-I', 'dâ\\x80\\x99Ailly', 'Fathersâ\\x80\\x94teachings', 'Thamesâ\\x80\\x94it', 'ornithopterâ\\x80\\x94presently', 'Yorkâ\\x80\\x9d', 'heroâ\\x80\\x94', 'aprowlâ\\x80\\x94firmer', 'madmanâ\\x80\\x99s', 'head-hunterâ\\x80\\x99s', 'explanationâ\\x80\\x94very', 'Thereâ\\x80\\x99ll', 'shortÂ¬', 'lapâ\\x80\\x94or', 'yewâ\\x80\\x99d', 'transÂ¬', 'forâ\\x80\\x94a', 'beachâ\\x80\\x94no', 'bomÂ¬', 'Slatlcâ\\x80\\x9cinspired', 'friendsâ\\x80\\x94more', 'dawnâ\\x80\\x94quicker', 'Kadeshâ\\x80\\x94disgusted', 'slumsâ\\x80\\x94thirty', 'poemâ\\x80\\x94a', 'tionâ\\x80\\x94for', 'groanâ\\x80\\x94-but', 'Mexicoâ\\x80\\x94or', 'chairmanâ\\x80\\x99s', 'torchÂ¬', 'soundsâ\\x80\\x94the', 'babyâ\\x80\\x99s', 'Margetâ\\x80\\x99s', 'kilt-skirtâ\\x80\\x94a', 'burdenâ\\x80\\x99', 'countedâ\\x80\\x94and', 'barrowÂ¬', 'agriculÂ¬', 'channelâ\\x80\\x94if', 'cultureâ\\x80\\x94the', 'HighÂ¬', 'oneâ\\x80\\x94if', 'nessâ\\x80\\x94as', 'AuthÂ°r', 'Seggetâ\\x80\\x99s', 'keeliesâ\\x80\\x94', 'Maceâ\\x80\\x99s', 'â\\x80\\x94himselfâ\\x80\\x94fertilized', 'Eustaceâ\\x80\\x94', 'instigaÂ¬', 'colloquialâ\\x80\\x94the', 'flashâ\\x80\\x99', 'scanÂ¬', 'Delegatesâ\\x80\\x99', 'monthâ\\x80\\x94like', 'languageâ\\x80\\x94sometime', 'unquiverÂ¬', 'Indiesâ\\x80\\x94as', 'roadâ\\x80\\x99ll', 'Cairoâ\\x80\\x94those', 'manâ\\x80\\x94coming', 'dogâ\\x80\\x94mutilated', 'slaverâ\\x80\\x99s', 'novelettesâ\\x80\\x94even', 'himselfâ\\x80\\x94older', 'giâ\\x80\\x99me', 'youâ\\x80\\x94sir.â\\x80\\x99', 'ManÂ¬', 'monoÂ¬', 'Mastersâ\\x80\\x94â\\x80¢', 'videndumâ\\x80\\x9d', 'moÂ¬', 'rekindledâ\\x80\\x94', 'offâ\\x80\\x94all', 'themâ\\x80\\x94he', 'Muirâ\\x80\\x94Ritaâ\\x80\\x94', 'eyesâ\\x80\\x94Quaritch', '^terresÂ¬', 'Murdersâ\\x80\\x9d', 'MilÂ¬', 'marriedâ\\x80\\x94nail', 'rateâ\\x80\\x94and', 'eyesâ\\x80\\x94and', 'swimâ\\x80\\x94in', 'partnerâ\\x80\\x99s', 'thisâ\\x80\\x94realism', 'opponentsâ\\x80\\x94browning', 'ofâ\\x80\\x94what', 'wonderÂ¬', 'starvationâ\\x80\\x94if', 'OverÂ¬', 'â\\x80\\x9cHeâ\\x80\\x99s', 'garÂ¬', 'Pearyâ\\x80\\x99s', 'Greekâ\\x80\\x99s', 'interveneâ\\x80\\x94continents', 'partnershipâ\\x80\\x94the', 'Shadowsâ\\x80\\x9d', 'mountainâ\\x80\\x9d', 'catÂ¬', 'thanâ\\x80\\x94the', 'illustraÂ¬', 'indepenÂ¬', 'â\\x80\\x9cGreenfaceâ\\x80\\x9d', 'allegiancesâ\\x80\\x94they', 'reportersâ\\x80\\x99-room', 'usâ\\x80\\x94our', 'bathÂ¬', 'mulishÂ¬', 'eyesâ\\x80\\x94such', 'worldâ\\x80\\x9d', 'Chalcolithicâ\\x80\\x94those', 'demonÂ¬', 'Mayaâ\\x80\\x94â\\x80\\x9c', 'glowÂ¬', 'girlâ\\x80\\x94one', 'Colonelâ\\x80\\x94good', 'Pamelaâ\\x80\\x94Dr', 'languageâ\\x80\\x94not', 'leadershipâ\\x80\\x94how', 'Castleâ\\x80\\x94There', 'loveâ\\x80\\x94love', 'joggleâ\\x80\\x94Jean', 'Wyndâ\\x80\\x94what', 'caseâ\\x80\\x94the', 'ornithopÂ¬', 'onâ\\x80\\x99t', 'metâ\\x80\\x94two', 'Cutzâ\\x80\\x94the', 'destituÂ¬', 'Parkâ\\x80\\x9d', 'venturÂ¬', 'thenâ\\x80\\x94satiety', 'sub-editorsâ\\x80\\x99', 'forgetâ\\x80\\x94God', 'pointâ\\x80\\x94a', 'sleepâ\\x80\\x94Pd', 'Tabascoâ\\x80\\x99s', 'horseÂ¬', 'elseâ\\x80\\x94a', 'courseâ\\x80\\x94to', 'AnteÂ¬', 'themâ\\x80\\x94crawled', 'Shakespeareâ\\x80\\x99s', 'Prescottâ\\x80\\x99s', 'moneyâ\\x80\\x94I', 'amâ\\x80\\x94who', 'knowâ\\x80\\x94the', 'Maynâ\\x80\\x99t', 'Sonnenscheinâ\\x80\\x99s', 'situationâ\\x80\\x94the', 'supper-partyâ\\x80\\x94', 'fellow-enthuÂ¬', 'travelÂ¬', 'followingâ\\x80\\x94shouted', 'lassiesâ\\x80\\x99', 'themâ\\x80\\x94magic', 'understandingâ\\x80\\x94', 'expeÂ¬', 'guardianâ\\x80\\x94Miss', 'Christâ\\x80\\x9d', 'Doesnâ\\x80\\x99t', 'fragmentsâ\\x80\\x94Indian', 'encircleÂ¬', 'fairy-storyâ\\x80\\x94I', 'Landâ\\x80\\x99s', 'beforeâ\\x80\\x94an', 'hadâ\\x80\\x94or', 'stimuÂ¬', 'niggerâ\\x80\\x94', 'worldâ\\x80\\x94she', 'Labouristsâ\\x80\\x94well', 'StaunchÂ¬', 'muscuÂ¬', 'InnumerÂ¬', 'Itzasâ\\x80\\x94The', 'nowâ\\x80\\x94yes', 'Cubanacanâ\\x80\\x9d', 'Helmutâ\\x80\\x99s.â\\x80\\x99', 'midgetâ\\x80\\x94infantile', 'patterâ\\x80\\x94not', 'centuryâ\\x80\\x94when', 'pocketâ\\x80\\x94', 'Loveâ\\x80\\x94I', 'uniÂ¬', 'thereâ\\x80\\x99ll', 'Ringâ\\x80\\x9d', 'â\\x80\\x94hâ\\x80\\x99m', 'aboutâ\\x80\\x94two', 'Yetâ\\x80\\x94they', 'shoutâ\\x80\\x94shoutings', 'usâ\\x80\\x94â\\x80\\x99nâ\\x80\\x99en', 'mamÂ¬', 'minutesâ\\x80\\x94Donâ\\x80\\x99t', 'hensionâ\\x80\\x94as', 'thingsâ\\x80\\x94sometimes', 'bellyâ\\x80\\x99s', 'Spenceâ\\x80\\x99s', 'surgeonâ\\x80\\x94indeed', 'smiledâ\\x80\\x94it', 'beâ\\x80\\x94not', 'oneâ\\x80\\x94and', 'dreamerâ\\x80\\x99s', 'hereâ\\x80\\x94a', 'MohamÂ¬', 'himselfâ\\x80\\x94even', 'Cooperâ\\x80\\x99s', 'factâ\\x80\\x94and', 'thankÂ¬', 'tovarÂ¬', 'becauseâ\\x80\\x94', 'shouldersâ\\x80\\x94a', 'rousingâ\\x80\\x94to', 'herâ\\x80\\x94shamed', 'doubtâ\\x80\\x94in', 'wayâ\\x80\\x99s', 'Lotâ\\x80\\x99s', 'contempÂ¬', 'splatterÂ¬', 'porterâ\\x80\\x99s', 'seenâ\\x80\\x94dawn', 'HANUÂ¬', 'Dominaâ\\x80\\x99s', 'yourselfâ\\x80\\x94still', 'kissâ\\x80\\x94not', 'love-storyâ\\x80\\x94the', 'wallâ\\x80\\x9d', 'enterÂ¬', 'Rickardâ\\x80\\x99s', 'wholeÂ¬', 'usâ\\x80\\x94and', 'ChrisÂ¬', 'Whyâ\\x80\\x94the', 'isâ\\x80\\x94Iâ\\x80\\x99d', 'readersâ\\x80\\x94invite', 'indeedâ\\x80\\x94as', 'enoughâ\\x80\\x94a', 'Gladiatorsâ\\x80\\x99', 'NorseÂ¬', 'AdvenÂ¬', 'Pandoraâ\\x80\\x99s', 'phenÂ¬', 'glyphsâ\\x80\\x94from', 'Ageâ\\x80\\x94I', 'Chinaâ\\x80\\x94lovely', 'ballisticsâ\\x80\\x94vho', 'Freligrathâ\\x80\\x94Gellion', 'destiÂ¬', 'curatorâ\\x80\\x99s', 'meetâ\\x80\\x94', 'canâ\\x80\\x99tâ\\x80\\x94oh', 'Tiggityâ\\x80\\x99s', 'adornÂ¬', 'northâ\\x80\\x94they', 'jobâ\\x80\\x99s', 'sutorâ\\x80\\x99sâ\\x80\\x94and', 'Andâ\\x80\\x94youâ\\x80\\x99d', 'downâ\\x80\\x94it', 'furtherâ\\x80\\x94yet', 'Cordobaâ\\x80\\x99s', 'â\\x80\\x9cpro-Germanâ\\x80\\x9d', 'rearÂ¬', 'secureâ\\x80\\x94babble', 'Akeâ\\x80\\x99s', 'broochâ\\x80\\x94nor', 'pagesâ\\x80\\x94this', 'landsâ\\x80\\x94though', 'Bubakerâ\\x80\\x94moved', 'thereâ\\x80\\x9dâ\\x80\\x94and', 'itâ\\x80\\x94Go', 'anyoneâ\\x80\\x94let', 'WestÂ¬', 'shepÂ¬', 'race-rememÂ¬', 'Duncairnâ\\x80\\x94as', 'atmosÂ¬', 'seeeâ\\x80\\x94', 'manufacturersâ\\x80\\x94But', 'â\\x80\\x98Ledyardâ\\x80\\x94havenâ\\x80\\x99t', 'teachingsâ\\x80\\x94the', 'hersâ\\x80\\x94it', 'grassâ\\x80\\x94easy', 'boreâ\\x80\\x94like', 'hisâ\\x80\\x94surely', 'Flaubertâ\\x80\\x99s', 'Religionâ\\x80\\x94A', 'Seaâ\\x80\\x94a', 'separÂ¬', 'lastâ\\x80\\x94took', 'cravedâ\\x80\\x94all', 'Ocosingoâ\\x80\\x94far', 'â\\x80\\x9cIndiansâ\\x80\\x9d', 'beenâ\\x80\\x94â\\x80\\x98looks', 'youngâ\\x80\\x94', 'darknessâ\\x80\\x94she', 'bootsâ\\x80\\x94who', 'stranglersâ\\x80\\x99', 'bitsâ\\x80\\x94but', 'penetratedâ\\x80\\x94that', 'AmerinÂ¬', 'excitementâ\\x80\\x94and', 'selflessâ\\x80\\x94that', 'Melvinâ\\x80\\x99s', 'UPThroaughhthaâ\\x80\\x9cnly', 'othersâ\\x80\\x9dâ\\x80\\x94had', 'COUEDNâ\\x80\\x99T', 'Argyllshireâ\\x80\\x94the', 'civilisaÂ¬', 'Sheâ\\x80\\x99d', 'latchÂ¬', 'thoughtâ\\x80\\x94he', 'forgottenâ\\x80\\x94this', 'Loveâ\\x80\\x94is', 'dewiÂ¬', 'mouldsâ\\x80\\x94a', 'Dawnâ\\x80\\x99s', 'centuryâ\\x80\\x94kingdoms', 'dayâ\\x80\\x94the', 'hundredâ\\x80\\x94days', 'eastâ\\x80\\x94then', 'râ\\x80\\x9c', 'browsâ\\x80\\x94like', 'theyâ\\x80\\x94do', 'foâ\\x80\\x99câ\\x80\\x99sle', 'dearsâ\\x80\\x94life', 'depreÂ¬', 'Geordieâ\\x80\\x99s', 'thereâ\\x80\\x94Oh', 'lifeâ\\x80\\x94Hassanâ\\x80\\x99sâ\\x80\\x94mineâ\\x80\\x94if', 'comesâ\\x80\\x94the', 'domâ\\x80\\x9d', 'Christâ\\x80\\x94-â\\x80\\x94â\\x80¢', 'ranksâ\\x80\\x94not', 'restaurantâ\\x80\\x99s', 'contrastsâ\\x80\\x94of', 'girlâ\\x80\\x94brown', 'poundâ\\x80\\x94the', 'threeâ\\x80\\x94the', 'thatâ\\x80\\x94what', 'plaqueâ\\x80\\x99s', 'Freydisâ\\x80\\x99s', 'harlotâ\\x80\\x99s', 'Youâ\\x80\\x94think', 'earth-incrustaÂ¬', 'Meadowâ\\x80\\x99s', 'bolshevikâ\\x80\\x94how', 'educationâ\\x80\\x99s', 'composureâ\\x80\\x94in', 'vanishedâ\\x80\\x94very', 'carlesâ\\x80\\x94gangster-assistants', 'glowâ\\x80\\x94of', 'forestâ\\x80\\x99s', 'Mâ\\x80\\x99Askill', 'themâ\\x80\\x94those', 'thereâ\\x80\\x94Ewan', 'inheritâ\\x80\\x94thousands', 'Gardensâ\\x80\\x94the', 'rescueâ\\x80\\x94Iâ\\x80\\x99ll', 'approÂ¬', 'Mclvorâ\\x80\\x99s', 'otheysâ\\x80\\x94the', 'considerablyâ\\x80\\x94she', 'politics.â\\x80\\x9dâ\\x80\\x94YorkÂ¬', 'HeadÂ¬', 'â\\x80\\x9cscampâ\\x80\\x9d', 'â\\x80\\x9cD.T.â\\x80\\x99sâ\\x80\\x94just', 'landâ\\x80\\x99s', 'Columbusâ\\x80\\x94apparently', 'agreeâ\\x80\\x94and', 'â\\x80\\x9cArabâ\\x80\\x9d', 'awareÂ¬', 'Greeceâ\\x80\\x94Cairo', 'untilâ\\x80\\x94after', 'leadâ\\x80\\x94funny', 'yearsâ\\x80\\x94and', 'becameâ\\x80\\x94coldly', 'nowâ\\x80\\x94so', 'saintâ\\x80\\x99s', 'khansâ\\x80\\x94an', 'Pelagueyaâ\\x80\\x94wakeful', 'motorÂ¬', 'crewâ\\x80\\x94â\\x80\\x9cand', 'fertileâ\\x80\\x94St', 'photoÂ¬', 'apparÂ¬', 'nightsâ\\x80\\x94no', 'Spaniardâ\\x80\\x94maybe', 'somebodyâ\\x80\\x99s', 'lightâ\\x80\\x94the', 'wyndsâ\\x80\\x94looking', 'simplestâ\\x80\\x94the', 'orderâ\\x80\\x94took', 'foundaÂ¬', 'Romiâ\\x80\\x94for', 'housesâ\\x80\\x94', 'Sinclairâ\\x80\\x94it', 'treesâ\\x80\\x94not', 'supposedâ\\x80\\x94oh', 'Mâ\\x80\\x99Kinney', 'Passâ\\x80\\x94that', 'civilizationâ\\x80\\x94half', 'awaitedâ\\x80\\x94His', 'againâ\\x80\\x94astounding', 'dealÂ¬', 'heavyÂ¬', 'treesâ\\x80\\x94God', 'readingâ\\x80\\x94sprawled', 'saltedâ\\x80\\x94the', 'smoulÂ¬', 'mantelÂ¬', 'quarterâ\\x80\\x94the', 'yearsâ\\x80\\x94a', 'pilotsâ\\x80\\x94and', 'Princessâ\\x80\\x94rape', 'possiblyâ\\x80\\x94though', 'â\\x80\\x9cgreatâ\\x80\\x9d', 'painfulâ\\x80\\x94he', 'dreamingâ\\x80\\x94she', 'Hiketasâ\\x80\\x99', 'noiseâ\\x80\\x9d', 'againâ\\x80\\x94inÂ¬', 'red-posteriorâ\\x80\\x99d', 'ingâ\\x80\\x99s', 'fatheredâ\\x80\\x94', 'fatherâ\\x80\\x94my', 'thenâ\\x80\\x94you', 'everyÂ¬', 'indeterÂ¬', 'thatâ\\x80\\x94before', 'passageâ\\x80\\x94steps', 'isâ\\x80\\x94if', 'numÂ¬', 'forgottenâ\\x80\\x94of', 'ofâ\\x80\\x94civilization', 'womanâ\\x80\\x9d', 'JErte.â\\x80\\x94heâ\\x80\\x99ll', 'againâ\\x80\\x94that', 'belongÂ¬', 'strokÂ¬', 'partiesâ\\x80\\x94the', 'gieâ\\x80\\x99s', 'varyÂ¬', 'dayâ\\x80\\x94single', 'Neolithicâ\\x80\\x94all', 'woreâ\\x80\\x94faith', 'dyingâ\\x80\\x94daft', 'nowâ\\x80\\x94and', 'headmanâ\\x80\\x94all', 'theory-obsessionâ\\x80\\x94at', 'worldâ\\x80\\x99ll', 'testâ\\x80\\x94and', 'ERICSSONâ\\x80\\x99S', 'menâ\\x80\\x94even', 'reproachÂ¬', 'competiÂ¬', 'clangÂ¬', 'herâ\\x80\\x94how', 'stiteâ\\x80\\x94he', 'Chaeâ\\x80\\x94the', 'Willâ\\x80\\x94', 'recogÂ¬', 'whileâ\\x80\\x94perhaps', 'BuddÂ¬', 'earthÂ¬', 'herâ\\x80\\x94and', 'signifiÂ¬', 'anagramâ\\x80\\x94but', 'Utroâ\\x80\\x94of', 'Sub-Menâ\\x80\\x94an', 'devilâ\\x80\\x99s', 'caveletâ\\x80\\x94an', 'woundÂ¬', 'MeanÂ¬', 'thinkâ\\x80\\x94but', 'shanâ\\x80\\x99t.â\\x80\\x99', 'thirdâ\\x80\\x94the', 'heâ\\x80\\x99ll', 'touch-me-Iâ\\x80\\x99m-awful-grand', 'thoughtsâ\\x80\\x94what', 'selfâ\\x80\\x99â\\x80\\x94but', 'drawÂ¬', 'indistinguishÂ¬', 'fledâ\\x80\\x94at', 'Hâ\\x80\\x99m', 'foodâ\\x80\\x94at', 'Reunionâ\\x80\\x9d', 'victorâ\\x80\\x94and', 'historyâ\\x80\\x94if', 'learningâ\\x80\\x94and', 'dateâ\\x80\\x94', 'eveningâ\\x80\\x94he', 'niceâ\\x80\\x94if', 'radicalâ\\x80\\x99s', 'knock-downÂ¬', 'reserÂ¬', 'senÂ¬', 'asideâ\\x80\\x94and', 'loyaltiesâ\\x80\\x94once', 'markâ\\x80\\x94fifteen', 'platesâ\\x80\\x99', 'Martynâ\\x80\\x94in', 'kindâ\\x80\\x94that', 'tionâ\\x80\\x99s', 'palaceÂ¬', 'soundsâ\\x80\\x94', 'Chazanâ\\x80\\x99s', 'meaningÂ¬', 'itâ\\x80\\x94', 'hospiÂ¬', 'groanÂ¬', 'Abayyadâ\\x80\\x99s', 'eyesâ\\x80\\x94a', 'Mongolâ\\x80\\x94the', 'letterâ\\x80\\x94which', 'dreamsâ\\x80\\x94', 'influencedâ\\x80\\x94consciously', 'Iâ\\x80\\x99llâ\\x80\\x94Iâ\\x80\\x99llâ\\x80\\x94', 'amnesiaâ\\x80\\x94it', 'meanâ\\x80\\x94there', 'churchâ\\x80\\x9d', 'renegadeâ\\x80\\x99s', 'wellâ\\x80\\x94as', 'forâ\\x80\\x94how', 'Londonâ\\x80\\x94beauty', 'appearâ\\x80\\x94true', 'Manseâ\\x80\\x94even', 'operaâ\\x80\\x94Lord', 'pillowsâ\\x80\\x94before', 'novelsâ\\x80\\x94if', 'shouldersâ\\x80\\x94â\\x80\\x98', 'Diteâ\\x80\\x94goodness', 'yoreâ\\x80\\x94but', 'Mounthâ\\x80\\x94up', 'undergrowthâ\\x80\\x99s', 'Hembaâ\\x80\\x99s', 'â\\x80\\x9cidolatersâ\\x80\\x9d', 'loverâ\\x80\\x94and', 'unimÂ¬', 'Socialismâ\\x80\\x94I', 'convoÂ¬', 'vasesâ\\x80\\x9d', 'talkingâ\\x80\\x94talk', 'planetâ\\x80\\x94the', 'endâ\\x80\\x94in', 'Huntingtonâ\\x80\\x99s', 'soriesâ\\x80\\x94are', 'itâ\\x80\\x94something', 'whatsoeverâ\\x80\\x94he', 'prefectâ\\x80\\x99s', 'kerbâ\\x80\\x94a', 'Kennethâ\\x80\\x99s', 'Flowersâ\\x80\\x9d', 'archaeologyâ\\x80\\x94or', 'doorâ\\x80\\x94tormented', 'thinkâ\\x80\\x94the', 'Flagâ\\x80\\x9d', 'reckoningâ\\x80\\x94he', 'Vacaâ\\x80\\x99s', 'Anahâ\\x80\\x99s', 'Songsâ\\x80\\x94', 'moundsâ\\x80\\x94a', 'slowlyâ\\x80\\x94bright', 'Emirâ\\x80\\x99s', 'hill-birdâ\\x80\\x99s', 'individualâ\\x80\\x99s', 'imperÂ¬', 'advenÂ¬', 'ditchâ\\x80\\x94why', 'chronÂ¬', 'Horsensâ\\x80\\x99', 'chrysantheÂ¬', 'wasteÂ¬', 'sugÂ¬', 'Norlaâ\\x80\\x99s', 'Parkerâ\\x80\\x99s', 'thisâ\\x80\\x94what', 'calendarâ\\x80\\x94twenty', 'â\\x80\\x9cBeautiÂ¬', 'isolaÂ¬', 'â\\x80\\x98Didnâ\\x80\\x99t', 'countryâ\\x80\\x94by', 'himâ\\x80\\x94by', 'cheekÂ¬', 'Spartacusâ\\x80\\x94I', 'itâ\\x80\\x94else', 'rightâ\\x80\\x94you', 'Pepysâ\\x80\\x99', 'exileâ\\x80\\x99s', 'Scotsmanâ\\x80\\x94dealt', 'itâ\\x80\\x94this', 'thereinâ\\x80\\x94except', 'dogâ\\x80\\x99s', 'himselfâ\\x80\\x94c', 'adolescentsâ\\x80\\x94theyâ\\x80\\x99d', 'benevoÂ¬', 'soundâ\\x80\\x94the', 'theocracyâ\\x80\\x94and', 'ratherâ\\x80\\x94', 'Itzamnaâ\\x80\\x99s', 'eastwardâ\\x80\\x94north-eastward', 'gardenâ\\x80\\x94Gaultâ\\x80\\x99s', 'JARROLDSâ\\x80\\x99', 'agricultureâ\\x80\\x94ploughing', 'attitudeâ\\x80\\x94his', 'Ohâ\\x80\\x94', 'muleâ\\x80\\x99s', 'Steynâ\\x80\\x94listen', 'misappreÂ¬', 'committedâ\\x80\\x94committed', 'forâ\\x80\\x94the', 'hammerâ\\x80\\x94and', 'kneesâ\\x80\\x94to', 'Yang-cheu-fuâ\\x80\\x94a', 'hoursâ\\x80\\x94at', 'riversâ\\x80\\x94principally', 'boresâ\\x80\\x94the', 'Leslieâ\\x80\\x99s', 'Anâ\\x80\\x94an', 'horrorâ\\x80\\x94he', 'revoltâ\\x80\\x94how', 'Feetâ\\x80\\x94that', 'â\\x80\\x9cBâ\\x80\\x99God', 'eyesâ\\x80\\x94slightly', 'theseâ\\x80\\x94belief', 'querorâ\\x80\\x94if', 'Hunterâ\\x80\\x94', 'answerÂ¬', 'darknessâ\\x80\\x94the', 'guestÂ¬', 'lipsâ\\x80\\x94all', 'Bengaliâ\\x80\\x94â\\x80\\x9c', 'terrifyÂ¬', 'Bruceâ\\x80\\x99s', 'RealizaÂ¬', 'heâ\\x80\\x94', 'refugeâ\\x80\\x94a', 'wivesâ\\x80\\x94damnâ\\x80\\x99t', 'smithâ\\x80\\x94you', 'tree-spacesâ\\x80\\x94if', 'womanâ\\x80\\x94Lord', 'wasâ\\x80\\x94this', 'kingdomâ\\x80\\x94but', 'thoughtÂ¬', 'Alarluâ\\x80\\x94how', 'chillâ\\x80\\x94', 'againâ\\x80\\x94damned', 'prisonersâ\\x80\\x94we', 'â\\x80\\x94rememÂ¬', 'overtimeâ\\x80\\x94and', 'vcspoctâ\\x80\\x94you', 'warâ\\x80\\x99ll', 'workingâ\\x80\\x94Ledyard', 'toldâ\\x80\\x94it', 'baggageÂ¬', 'idolâ\\x80\\x99s', 'symbolâ\\x80\\x94she', 'GAWDâ\\x80\\x99S', 'selfâ\\x80\\x94that', 'knowâ\\x80\\x94tenderness', 'Ewanâ\\x80\\x99ll', 'hopesâ\\x80\\x94the', 'Muirâ\\x80\\x99s', 'reorganizÂ¬', 'passengerâ\\x80\\x99s', 'Cipanguâ\\x80\\x94by', 'countryâ\\x80\\x94or', 'â\\x80\\x98Youâ\\x80\\x99re', 'Nobodyâ\\x80\\x99d', 'IPâ\\x80\\x99', 'interestâ\\x80\\x94the', 'brewerâ\\x80\\x99s', 'ereâ\\x80\\x99s', 'moreâ\\x80\\x94who', 'invasionsâ\\x80\\x94the', 'SigÂ¬', 'hairâ\\x80\\x94look', 'acquainÂ¬', 'quickÂ¬', 'Thoraniusâ\\x80\\x99', 'thenâ\\x80\\x94wonder', 'scavengÂ¬', 'slavesâ\\x80\\x94a', 'AnyÂ¬', 'himselfâ\\x80\\x94', 'folkâ\\x80\\x94Remâ\\x80\\x94Wolfâ\\x80\\x94the', 'landâ\\x80\\x94pale', 'beforeâ\\x80\\x94not', 'autochÂ¬', 'beesâ\\x80\\x99', 'thereâ\\x80\\x9dâ\\x80\\x94he', 'wellâ\\x80\\x94once', 'loverâ\\x80\\x94', 'Warâ\\x80\\x99s', 'gleamÂ¬', 'continuumâ\\x80\\x94the', 'childâ\\x80\\x94only', 'youthâ\\x80\\x94was', 'wordâ\\x80\\x94', 'snowâ\\x80\\x94snow', 'Sennacheribâ\\x80\\x99s', 'Mexicansâ\\x80\\x94scratched', 'Frenchmanâ\\x80\\x99s', 'Stickellyâ\\x80\\x99s', 'unheedÂ¬', 'aboutâ\\x80\\x94that', 'Soberâ\\x80\\x94I', 'Faithâ\\x80\\x94leave', 'Husseinâ\\x80\\x99s', 'patrioÂ¬', 'alsoâ\\x80\\x94and', 'agoâ\\x80\\x94those', 'protegeâ\\x80\\x99s', 'isnâ\\x80\\x99t', 'thoughtâ\\x80\\x94if', 'Crixusâ\\x80\\x99s', 'fishÂ¬', 'goldâ\\x80\\x94the', 'tacusâ\\x80\\x94or', 'unpreÂ¬', 'wellâ\\x80\\x94^witness', 'Novemberâ\\x80\\x94at', 'Forecastâ\\x80\\x9d', 'commonÂ¬', 'nameâ\\x80\\x99s', 'likesâ\\x80\\x94and', 'beastsâ\\x80\\x99', 'Cheopsâ\\x80\\x99s', 'childhoodâ\\x80\\x94', 'agiÂ¬', 'Franceâ\\x80\\x94and', 'contriÂ¬', 'platÂ¬', 'Ghoraibâ\\x80\\x99s', 'fanaticâ\\x80\\x99s', 'limeÂ¬', 'â\\x80\\x9cGodâ\\x80\\x99s', 'counterÂ¬', 'indisÂ¬', 'convalÂ¬', 'strengÂ¬', 'Outpostsâ\\x80\\x9d', 'invitaÂ¬', 'hunterâ\\x80\\x94Aitz-koreâ\\x80\\x94Lizairâ\\x80\\x99s', 'â\\x80\\x94SomeÂ¬', 'Landaâ\\x80\\x99s', 'awÂ¬', 'goodwifeâ\\x80\\x99s', 'Goddess-cultsâ\\x80\\x94how', 'footÂ¬', 'Fire-Beamâ\\x80\\x94when', 'Graniteâ\\x80\\x9d', 'secondâ\\x80\\x94he', 'delinÂ¬', 'wolvesâ\\x80\\x94the', 'threatenÂ¬', 'Selincourtâ\\x80\\x94', 'Riddochâ\\x80\\x99s', 'Flanchareeâ\\x80\\x99s', 'inaniÂ¬', 'peewitsâ\\x80\\x99', 'relaÂ¬', 'graduÂ¬', 'lifeâ\\x80\\x94that', 'nowÂ¬', 'listenâ\\x80\\x94so', 'Ericâ\\x80\\x99s', 'patriciansâ\\x80\\x99', 'gritâ\\x80\\x94must', 'usualâ\\x80\\x94in', 'ungraciousâ\\x80\\x94and', 'Houghtonâ\\x80\\x94one', 'palaceâ\\x80\\x99', 'roadâ\\x80\\x99s', 'growingâ\\x80\\x94she', 'Cairndhuâ\\x80\\x94each', 'Anastassiouâ\\x80\\x99s', 'Quetzalcoatlâ\\x80\\x94Axcitl', 'GreenÂ¬', 'filthâ\\x80\\x94weâ\\x80\\x99ve', 'converÂ¬', 'mandragoraâ\\x80\\x94seethed', 'singingâ\\x80\\x94to', 'Sisâ\\x80\\x94Evidâ\\x80\\x94Lurâ\\x80\\x99s', 'bitâ\\x80\\x94all', 'myselfâ\\x80\\x94you', 'instruÂ¬', 'endâ\\x80\\x94menÂ¬', 'classesâ\\x80\\x94the', 'Landwardâ\\x80\\x94', 'pack-iceâ\\x80\\x99s', 'handâ\\x80\\x94and', 'reasonâ\\x80\\x94he', 'scrubÂ¬', 'Instituteâ\\x80\\x94one', 'studentâ\\x80\\x94', 'Jezreelâ\\x80\\x94under', 'â\\x80\\x9cTEMPLEâ\\x80\\x9d', 'agonyâ\\x80\\x94', 'trippersâ\\x80\\x99', 'â\\x80\\x9cShouldnâ\\x80\\x99t', 'boysâ\\x80\\x94the', 'Blakeâ\\x80\\x99s', 'husÂ¬', 'Ewanâ\\x80\\x94no', 'Strangersâ\\x80\\x99', 'standÂ¬', 'misinformedâ\\x80\\x94one', 'meetingsâ\\x80\\x94daft', 'Heliopolisâ\\x80\\x94hungered', 'slipÂ¬', 'realizaÂ¬', 'beyondâ\\x80\\x94The', 'diedâ\\x80\\x94and', 'Englandâ\\x80\\x94seeking', 'compasÂ¬', 'copperâ\\x80\\x94who', 'personâ\\x80\\x94â\\x80¢', 'marriageâ\\x80\\x94in', 'archaeÂ¬', 'sciouslyâ\\x80\\x94by', 'wayâ\\x80\\x94', 'Robertâ\\x80\\x94', 'menâ\\x80\\x94', 'Lifeâ\\x80\\x99s', 'mankindâ\\x80\\x99s', 'â\\x80\\x9cBlakeâ\\x80\\x99s', 'casuallyâ\\x80\\x94I', 'hoursâ\\x80\\x99', 'womanâ\\x80\\x94and', 'Crassusâ\\x80\\x99', 'aâ\\x80\\x99right', '^eâ\\x80\\x99d', 'cavalÂ¬', 'cavesâ\\x80\\x94', 'philÂ¬', 'bobbiesâ\\x80\\x99', 'Sarahâ\\x80\\x99s', 'head-malformationâ\\x80\\x94a', 'schoolâ\\x80\\x94especially', 'unrecogÂ¬', 'madÂ¬', 'corporalâ\\x80\\x94an', 'provocaÂ¬', 'appearanceâ\\x80\\x94they', 'Kateâ\\x80\\x99s', 'Resurrectionâ\\x80\\x94I', 'pieceÂ¬', 'Janeâ\\x80\\x94goodness', 'ProÂ¬', 'grocery-disgorgingâ\\x80\\x94', 'â\\x80\\x9cFoodâ\\x80\\x94Mr', 'seeâ\\x80\\x94at', 'ordinaryÂ¬', 'Mellisonâ\\x80\\x99s', 'stuck-upâ\\x80\\x94heâ\\x80\\x99d', 'quotationâ\\x80\\x99s', 'Lowâ\\x80\\x9d', 'womanâ\\x80\\x94Anton', 'womanâ\\x80\\x94small', 'Darwinismâ\\x80\\x94oh', 'barriÂ¬', 'fourÂ¬', 'brazierâ\\x80\\x99s', 'houseâ\\x80\\x94I', 'togetherâ\\x80\\x94thrown', 'commenÂ¬', 'backâ\\x80\\x94if', 'reflectionâ\\x80\\x94as', 'bathing-dressâ\\x80\\x94', 'thatâ\\x80\\x94and', 'enveÂ¬', 'Greigâ\\x80\\x99s', 'twoâ\\x80\\x94dead', 'WoolÂ¬', 'andâ\\x80\\x94as', 'Americansâ\\x80\\x94the', 'Covenanterâ\\x80\\x99s', 'Fowlshielsâ\\x80\\x94down', 'friendshipâ\\x80\\x94â\\x80\\x94', 'dream-mateâ\\x80\\x99s', 'Iâ\\x80\\x94ever', 'cultivaÂ¬', 'Mustnâ\\x80\\x99t', 'yoursâ\\x80\\x94this', 'dingiÂ¬', 'whiteÂ¬', 'othersâ\\x80\\x94look', 'Pedroâ\\x80\\x9d', 'shriekÂ¬', 'aireâ\\x80\\x99s', 'Mayaâ\\x80\\x94was', 'satisfacÂ¬', 'producedâ\\x80\\x9d', 'arguÂ¬', 'Stranlayâ\\x80\\x94I', 'MaterialÂ¬', 'seaâ\\x80\\x9dâ\\x80\\x94to', 'Garvockâ\\x80\\x94And', 'ballâ\\x80\\x94all', 'directâ\\x80\\x94more', 'speakâ\\x80\\x94not', 'â\\x80\\x9cButâ\\x80\\x94weâ\\x80\\x99re', 'darknessâ\\x80\\x94â\\x80\\x9cThe', 'SpringÂ¬', 'Islandâ\\x80\\x94bringing', 'fanÂ¬', 'littleâ\\x80\\x94', 'conferenceâ\\x80\\x94one', 'hauntedÂ¬', 'orâ\\x80\\x94or', 'surfaceâ\\x80\\x94they', 'ScotÂ¬', 'Seldenâ\\x80\\x99s', 'Godâ\\x80\\x94what', 'eyesâ\\x80\\x94â\\x80\\x98', 'divvleâ\\x80\\x94', 'captainâ\\x80\\x94he', 'bedâ\\x80\\x94it', 'loneliÂ¬', 'Christianâ\\x80\\x99s', 'headâ\\x80\\x99s', 'iÂ£rte', 'pursesâ\\x80\\x94', 'emanciÂ¬', 'monumentsâ\\x80\\x94', 'generalsâ\\x80\\x99', 'presÂ¬', 'ForeÂ¬', 'againâ\\x80\\x94with', 'manâ\\x80\\x94', 'tintÂ¬', 'courtsâ\\x80\\x94fountains', 'happeningâ\\x80\\x94not', 'warâ\\x80\\x94no.â\\x80\\x99', 'areasâ\\x80\\x94to', 'foremanâ\\x80\\x99s', 'wonâ\\x80\\x99t.â\\x80\\x99', 'orâ\\x80\\x94less', 'Christâ\\x80\\x99s', 'landâ\\x80\\x94tenantless', 'earthâ\\x80\\x94absolutely', 'paintÂ¬', 'lorry-manâ\\x80\\x99s', 'didnâ\\x80\\x99t', 'repetiÂ¬', 'â\\x80\\x98priestâ\\x80\\x99', 'Yeâ\\x80\\x99ll', 'wrongÂ¬', 'truthâ\\x80\\x99', 'wantâ\\x80\\x94Now', 'manâ\\x80\\x94it', 'faceâ\\x80\\x94the', 'cWeâ\\x80\\x99d', 'â\\x80\\x9cpalaceâ\\x80\\x9dâ\\x80\\x94it', 'playerâ\\x80\\x94but', 'requestâ\\x80\\x94he', 'explicitÂ¬', 'archaeoloÂ¬', 'provisionsâ\\x80\\x9d', 'encroachÂ¬', 'yearsâ\\x80\\x94since', 'accomplishedâ\\x80\\x94the', '6oÂ°', 'analoÂ¬', 'star-calculationâ\\x80\\x94bringing', 'fatherâ\\x80\\x94heâ\\x80\\x99s', 'BatterÂ¬', 'homeâ\\x80\\x94Mr', 'spiderâ\\x80\\x99s', 'DesÂ¬', 'nearâ\\x80\\x94these', 'goodâ\\x80\\x94and', 'traÂ¬', 'Clydeâ\\x80\\x99s', 'Elpiniceâ\\x80\\x99s', 'leftÂ¬', 'â\\x80\\x98Thenâ\\x80\\x94then', 'bairnsâ\\x80\\x99', 'Mailganâ\\x80\\x94gods', 'Robertâ\\x80\\x99s', 'Butâ\\x80\\x94savages', 'TENâ\\x80\\x99S', 'weatherâ\\x80\\x94marÂ¬', 'poacherâ\\x80\\x94Jew', 'acquirÂ¬', 'Heâ\\x80\\x99ll', 'Darenâ\\x80\\x99t', 'beingâ\\x80\\x94but', 'Communistâ\\x80\\x94from', 'Pelagueyaâ\\x80\\x94God', 'astoundinglyâ\\x80\\x94no', 'â\\x80\\x98Theyâ\\x80\\x99ll', 'wanÂ¬', 'â\\x80\\x99Nâ\\x80\\x99you', 'frÂ°m', 'manâ\\x80\\x94her', 'outskirtsâ\\x80\\x94though', 'Ibrahimâ\\x80\\x94go', 'milesâ\\x80\\x94is', 'youâ\\x80\\x99re', 'itâ\\x80\\x94remembered', 'cropâ\\x80\\x94maize', 'dirtâ\\x80\\x94over', 'Johnâ\\x80\\x94no', 'legionâ\\x80\\x94to', 'didnâ\\x80\\x99t.â\\x80\\x94Iâ\\x80\\x99m', 'Cro-Magnardsâ\\x80\\x94youâ\\x80\\x99ve', 'MacÂ¬', 'boyâ\\x80\\x94he', 'thingsâ\\x80\\x94to', 'Pittendreichâ\\x80\\x99s', 'Iâ\\x80\\x99llâ\\x80\\x94â\\x80\\x9d', 'impossibleâ\\x80\\x94for', 'marriedâ\\x80\\x94dâ\\x80\\x99you', 'Aveburyâ\\x80\\x94it', 'dutiâ\\x80\\x99s', 'wildernessâ\\x80\\x94he', 'Romiâ\\x80\\x94that', 'ProgresÂ¬', 'someoneâ\\x80\\x99sâ\\x80\\x94â\\x80\\x99', 'unemployÂ¬', 'sacrificesâ\\x80\\x94', 'hasnâ\\x80\\x99t', 'likeâ\\x80\\x94oh', 'calabashesâ\\x80\\x94as', 'herâ\\x80\\x94almost', 'Furiusâ\\x80\\x99', 'endangerÂ¬', 'sonâ\\x80\\x9d', 'vasesâ\\x80\\x94a', 'obviÂ¬', 'flirtaÂ¬', 'Gentilesâ\\x80\\x94what', 'bobbiesâ\\x80\\x99ll', 'plateauâ\\x80\\x94that', 'zoologistsâ\\x80\\x94and', 'Mitchellâ\\x80\\x99s', 'chalÂ¬', 'publishersâ\\x80\\x99', \"Fz'reâ\\x80\\x9d\", 'DunÂ¬', 'mineâ\\x80\\x94air-people', 'Gaultâ\\x80\\x94whom', 'diningÂ¬', 'Gentlemanâ\\x80\\x99s', 'otherâ\\x80\\x94a', 'authenticÂ¬', 'proprietiesâ\\x80\\x94he', 'brotherâ\\x80\\x99s', 'Pole-boundâ\\x80\\x94and', 'vinesâ\\x80\\x94on', 'wasâ\\x80\\x94â\\x80\\x9cit', 'Ageâ\\x80\\x99s', 'coughâ\\x80\\x99s', 'distortedâ\\x80\\x94evidently', 'Youngerâ\\x80\\x99s', 'wanderlustâ\\x80\\x94the', 'starsâ\\x80\\x94they', 'winterÂ¬', 'studyâ\\x80\\x94that', 'lionsâ\\x80\\x99', 'patriotÂ¬', \"graveâ\\x80\\x94he's\", 'capitulaÂ¬', 'inflammaÂ¬', 'sayâ\\x80\\x94', 'eveningâ\\x80\\x99s', 'mâ\\x80\\x99sieu', 'oneâ\\x80\\x94like', 'necessaryâ\\x80\\x9d', 'elevaÂ¬', 'Iliadâ\\x80\\x94one', 'Fatimaâ\\x80\\x99shut', 'voicesâ\\x80\\x94think', 'authenÂ¬', 'Islandsâ\\x80\\x94were', 'pinÂ¬', 'quivirâ\\x80\\x9d', 'aboundâ\\x80\\x94it', 'investigationâ\\x80\\x94', 'ceibasâ\\x80\\x99', 'raceâ\\x80\\x94Saharan', 'womenâ\\x80\\x94oh', 'themâ\\x80\\x94why', 'memorÂ¬', 'Africaâ\\x80\\x94spread', 'likeâ\\x80\\x94she', 'sergeantâ\\x80\\x94this', 'modernâ\\x80\\x94one', 'seeÂ¬', 'ditionâ\\x80\\x94it', 'expeditionâ\\x80\\x94one', 'monuÂ¬', 'hakimâ\\x80\\x94the', 'â\\x80\\x98Keithâ\\x80\\x99s', 'wiâ\\x80\\x99', 'cattleâ\\x80\\x94unless', 'fearedâ\\x80\\x94feared', 'posÂ¬', 'Huehuetlapallanâ\\x80\\x94the', 'caravanâ\\x80\\x94lines', 'MAGELLANâ\\x80\\x99S', 'herâ\\x80\\x94hard', 'Winterâ\\x80\\x99s', 'therÂ¬', 'hatedâ\\x80\\x94the', 'inhumanâ\\x80\\x9d', 'ProviÂ¬', 'landâ\\x80\\x94perhaps', 'herâ\\x80\\x94so', 'essaysâ\\x80\\x94a', 'â\\x80\\x9cThatâ\\x80\\x99s', 'inoffenÂ¬', 'myfatherâ\\x80\\x99s', 'conÂ¬', 'nowâ\\x80\\x94in', 'recognizÂ¬', 'Clairâ\\x80\\x99s', 'Melfortâ\\x80\\x99s', 'neighboursâ\\x80\\x99ll', 'headâ\\x80\\x94/Mm', 'Forâ\\x80\\x94three', 'hunÂ¬', 'cropsâ\\x80\\x94a', 'funâ\\x80\\x94even', 'â\\x80\\x98Pucullaâ\\x80\\x99', 'Bandâ\\x80\\x9d', 'impudenceâ\\x80\\x94', 'turnâ\\x80\\x94the', 'meansâ\\x80\\x94was', 'aboutâ\\x80\\x94if', 'imagÂ¬', 'olderâ\\x80\\x94set', 'induceÂ¬', 'relaxaÂ¬', 'Cairoâ\\x80\\x94real', 'swayÂ¬', 'manâ\\x80\\x94his', 'opporÂ¬', 'doâ\\x80\\x94supposing', 'northâ\\x80\\x94God', 'Shelleyâ\\x80\\x94comely', 'forenoonâ\\x80\\x94colloguing', 'passâ\\x80\\x94if', 'Christâ\\x80\\x94the', 'realityâ\\x80\\x94no', 'rightâ\\x80\\x94â\\x80\\x9d', 'refugeeâ\\x80\\x99s', 'Whereâ\\x80\\x99d', 'Clareâ\\x80\\x94Hassanâ\\x80\\x94the', 'Bolshevistsâ\\x80\\x94tink', 'ruffianâ\\x80\\x99s', 'lassâ\\x80\\x94what', 'fateÂ¬', 'confesÂ¬', 'ImÂ¬', 'sideâ\\x80\\x99s', 'FindÂ¬', 'rageâ\\x80\\x94faith', 'numbÂ¬', 'shedâ\\x80\\x99s', 'to-dayâ\\x80\\x99s', 'himâ\\x80\\x94he', 'ofâ\\x80\\x94I', 'daughterâ\\x80\\x94that.â\\x80\\x99', 'interiorâ\\x80\\x94even', 'BERINGâ\\x80\\x99S', 'lookâ\\x80\\x94with', 'facesâ\\x80\\x94puzzled', 'archeologistsâ\\x80\\x99', 'handiÂ¬', 'herselfâ\\x80\\x94and', 'Piddleâ\\x80\\x94the', 'frequentlyâ\\x80\\x94for', 'bookÂ¬', 'politiÂ¬', 'â\\x80\\x9cButâ\\x80\\x94in', 'wearyÂ¬', 'indentaÂ¬', 'evenâ\\x80\\x94so', 'loveâ\\x80\\x94there', 'nowâ\\x80\\x94or', 'beastâ\\x80\\x94except', 'Davilaâ\\x80\\x99s', 'GodÂ¬', 'themâ\\x80\\x94cannibals', 'handÂ¬', 'swineâ\\x80\\x94about', 'talkâ\\x80\\x94politics', 'Bambarraâ\\x80\\x99s', 'themâ\\x80\\x94her', 'Behaimâ\\x80\\x99s', 'diseaseâ\\x80\\x94a', 'Settlementsâ\\x80\\x94he', 'leaÂ¬', 'negaÂ¬', 'unadolesÂ¬', 'proseÂ¬', 're-introÂ¬', 'Robâ\\x80\\x94only', 'friendsâ\\x80\\x94long', 'concurÂ¬', 'fleaâ\\x80\\x94', 'theyâ\\x80\\x99ve', 'Thaâ\\x80\\x99s', 'travellersâ\\x80\\x94shamefaced', 'MalÂ¬', 'Peatâ\\x80\\x99s', 'cigÂ¬', 'mendacityâ\\x80\\x94he', 'cave-firesâ\\x80\\x99', 'victimâ\\x80\\x99s', 'asâ\\x80\\x94And', 'historyâ\\x80\\x94is', 'Miriamâ\\x80\\x94them', 'Norfolkâ\\x80\\x94', 'timeâ\\x80\\x94â\\x80\\x9cGood-bye', 'canal-bankâ\\x80\\x94there', 'skirtsâ\\x80\\x94or', 'UnacÂ¬', 'DecemÂ¬', 'raidÂ¬', 'epiÂ¬', 'surrenderâ\\x80\\x94how', 'stupidityâ\\x80\\x94yet', 'degeneratÂ¬', 'reverÂ¬', 'fateâ\\x80\\x94their', 'fableâ\\x80\\x94committed', 'Mansaâ\\x80\\x94sat', 'underÂ¬', 'Guanahaniâ\\x80\\x94that', 'cliffâ\\x80\\x99s', 'laughingÂ¬', 'â\\x80\\x9cDetectiveâ\\x80\\x9d', 'allâ\\x80\\x94like', 'carriedâ\\x80\\x94marking', 'thenâ\\x80\\x94Aslaug', 'churchÂ¬', 'Christiansâ\\x80\\x9d', 'CuddieÂ¬', 'Idioticâ\\x80\\x94but', 'leadâ\\x80\\x94and', 'creatingâ\\x80\\x94an', 'Chrisâ\\x80\\x94Lord', 'oneâ\\x80\\x94', 'openÂ¬', 'heardâ\\x80\\x94something.â\\x80\\x99', 'Landâ\\x80\\x94so', 'Liebknechtâ\\x80\\x94or', 'iceâ\\x80\\x94â\\x80\\x9cwe', 'runningâ\\x80\\x94fleeing', 'secretaryâ\\x80\\x94of', 'Forsakenâ\\x80\\x94how', 'heâ\\x80\\x94the', 'volcanoâ\\x80\\x99s', 'metamorÂ¬', 'thereâ\\x80\\x94were', 'leagueÂ¬', 'dâ\\x80\\x99ye', 'KNOWâ\\x80\\x94', 'Fostatâ\\x80\\x94', 'Honâ\\x80\\x99', 'Cro-Magnardâ\\x80\\x99s', 'apprenÂ¬', 'sensesâ\\x80\\x94the', 'businessÂ¬', 'feetâ\\x80\\x94off', 'fareÂ¬', 'Idrisiâ\\x80\\x99s', 'Savrautâ\\x80\\x94who', 'Zolaâ\\x80\\x99s', 'smellsâ\\x80\\x94a', 'Pewseyâ\\x80\\x94clouds', 'herâ\\x80\\x94faith', 'wineâ\\x80\\x94that', 'fastidiousÂ¬', 'Douglasâ\\x80\\x94it', 'fastÂ¬', 'greenâ\\x80\\x94the', 'themâ\\x80\\x94just', 'rangeâ\\x80\\x94a', 'Heavenâ\\x80\\x94He', 'undyingâ\\x80\\x94if', 'itâ\\x80\\x94to', 'Mayaâ\\x80\\x99s', 'himÂ¬', 'allâ\\x80\\x94unless', 'breeksâ\\x80\\x94the', 'Suezâ\\x80\\x94to', 'ferocityâ\\x80\\x94had', 'Ewanâ\\x80\\x99d', 'to-nightâ\\x80\\x94listen', 'unmarÂ¬', 'Whyâ\\x80\\x94start', 'eternalâ\\x80\\x94and', 'hisâ\\x80\\x94fear', 'harbourâ\\x80\\x94a', 'populaÂ¬', 'endÂ¬', 'seeâ\\x80\\x94any', 'automataâ\\x80\\x94off', 'couldnâ\\x80\\x99tâ\\x80\\x94', 'Maryâ\\x80\\x99s', 'elseâ\\x80\\x94the', 'Folkâ\\x80\\x94Folk', 'Geijerstamâ\\x80\\x99s', 'weariÂ¬', 'girlâ\\x80\\x94red', 'superstiÂ¬', 'weansâ\\x80\\x94by', 'lifeâ\\x80\\x94however', 'cornÂ¬', 'Southcoteâ\\x80\\x99s', 'devilsâ\\x80\\x94', 'powerâ\\x80\\x94all', 'deliberÂ¬', 'armyâ\\x80\\x94fifty', 'settlementsâ\\x80\\x94the', 'landâ\\x80\\x94where', 'havenâ\\x80\\x99t', 'glimpsedâ\\x80\\x94they', \"impudenceâ\\x80\\x94'twas\", 'stillâ\\x80\\x94Iâ\\x80\\x99ve', 'hereâ\\x80\\x94theories', 'hotÂ¬', 'â\\x80\\x9cCowheadâ\\x80\\x9d', 'desertâ\\x80\\x94not', 'dayâ\\x80\\x94brought', 'peopleâ\\x80\\x94about', 'parkâ\\x80\\x94', 'loosÂ¬', 'evenÂ¬', 'Songhayâ\\x80\\x94', 'â\\x80\\x9cKeithâ\\x80\\x94that', 'Keithâ\\x80\\x94but', 'Ericssonâ\\x80\\x99s', 'reconstrucÂ¬', 'Stellaâ\\x80\\x99s', 'â\\x80\\x9cTanguthâ\\x80\\x9d', 'sledgeâ\\x80\\x94', 'sweetÂ¬', 'laughâ\\x80\\x94a', 'mentallyâ\\x80\\x94some', 'BeÂ¬', 'employersâ\\x80\\x94in', 'informationâ\\x80\\x9d', 'anapestâ\\x80\\x94if', 'likeâ\\x80\\x94dwindle', 'Mâ\\x80\\x99sieuâ\\x80\\x99s', 'himselfâ\\x80\\x94heâ\\x80\\x99d', 'Tambacundaâ\\x80\\x94a', 'scienceâ\\x80\\x94results', 'ice-beltâ\\x80\\x94were', 'trustÂ¬', 'â\\x80\\x94Shawâ\\x80\\x99s', 'barrack-roomsâ\\x80\\x94an', 'Chaeâ\\x80\\x99d', 'regretâ\\x80\\x94did', 'doâ\\x80\\x94so', 'Georgiaâ\\x80\\x94mined', 'Islamâ\\x80\\x94attained', 'dutiesâ\\x80\\x94if', 'mournÂ¬', 'hersâ\\x80\\x94farmers', 'Astronomerâ\\x80\\x99s', 'islandâ\\x80\\x94la', 'Trikoupiâ\\x80\\x99s', 'purseâ\\x80\\x94all', 'arroÂ¬', 'meâ\\x80\\x94a', 'cookÂ¬', 'Museoâ\\x80\\x99s', 'uncommuniÂ¬', 'exciteÂ¬', 'modificaÂ¬', 'objecÂ¬', 'foodâ\\x80\\x94its', 'Mysteryâ\\x80\\x9d', 'herd-beastâ\\x80\\x94and', 'Asburyâ\\x80\\x99s', 'â\\x80\\x9cLookâ\\x80\\x94the', 'fatherâ\\x80\\x94Mr', 'Saloneyâ\\x80\\x99s', 'wasnâ\\x80\\x99t', 'BonÂ¬', 'â\\x80¢worldâ\\x80\\x99s', 'Frenchâ\\x80\\x94with', 'comeâ\\x80\\x94if', 'peopleâ\\x80\\x94undoubtedly', 'Aculhuaqueâ\\x80\\x94â\\x80\\x9c', 'hauntedâ\\x80\\x94a', 'firesâ\\x80\\x94they', 'burneâ\\x80\\x99s', 'Iâ\\x80\\x94oh', 'werenâ\\x80\\x99t', 'Pensionâ\\x80\\x94the', 'heardâ\\x80\\x94the', 'World-knownâ\\x80\\x94but', 'classâ\\x80\\x94trousers', 'â\\x80\\x9cWliereâ\\x80\\x99ll', 'civilizedâ\\x80\\x94were', 'instinctÂ¬', 'extentâ\\x80\\x94the', 'SLYMPERâ\\x80\\x99S', 'Kassonâ\\x80\\x99s', 'Godmanâ\\x80\\x99s', 'radioÂ¬', 'foreheadâ\\x80\\x94a', 'Pitchersâ\\x80\\x94theyâ\\x80\\x99ve', 'herâ\\x80\\x94if', 'andâ\\x80\\x94God', 'Zaraâ\\x80\\x99s', 'summerâ\\x80\\x94light', 'Donâ\\x80\\x99t', 'distinctâ\\x80\\x94and', 'handsâ\\x80\\x94', 'trading-stationsâ\\x80\\x94up', 'styleâ\\x80\\x94megalithic', 'ourselvesâ\\x80\\x94just', 'Experienceâ\\x80\\x9d', 'treeâ\\x80\\x9d', 'handâ\\x80\\x99s-', 'putÂ¬', 'Dayâ\\x80\\x94and', 'roseÂ¬', 'Manseâ\\x80\\x99s', 'â\\x80\\x9ckingâ\\x80\\x9d', 'exteriorâ\\x80\\x94that', 'storyâ\\x80\\x94and', 'landâ\\x80\\x94', 'writersâ\\x80\\x94an', 'factâ\\x80\\x94for', 'automaticallyâ\\x80\\x94a', 'Onlyâ\\x80\\x94Oh', 'propertyâ\\x80\\x94his', 'â\\x80\\x9cJÂ', 'hostsâ\\x80\\x99', 'i^iâ\\x80¢', 'archaeologist-comÂ¬', 'teaâ\\x80\\x94or', 'coffeeÂ¬', 'earthâ\\x80\\x94for', 'faceâ\\x80\\x94', 'Geyrieâ\\x80\\x99s', 'kingâ\\x80\\x94that', 'CamÂ¬', 'deserÂ¬', 'enemiesâ\\x80\\x94and', 'meâ\\x80\\x94if', 'Mayaâ\\x80\\x94not', 'BelÂ¬', 'mornâ\\x80\\x99s', 'Formulaâ\\x80\\x9d', 'Cleghornâ\\x80\\x99s', 'arenâ\\x80\\x99t', 'all-conquerÂ¬', 'whimperÂ¬', 'Conservativesâ\\x80\\x99', 'â\\x80\\x99aâ\\x80\\x99', 'mudâ\\x80\\x94itâ\\x80\\x99s', 'cloudyâ\\x80\\x94interesting', 'Nigerâ\\x80\\x99s', 'sheepsâ\\x80\\x99', 'bombÂ¬', 'Neanderthalersâ\\x80\\x94their', 'hoeâ\\x80\\x94heâ\\x80\\x99d', 'apartmentâ\\x80\\x94â\\x80\\x98', 'ambiÂ¬', 'THATâ\\x80\\x94her', 'andâ\\x80\\x94heritage', 'sinceâ\\x80\\x94a', 'originaÂ¬', 'upâ\\x80\\x94so', 'domiÂ¬', 'Jockâ\\x80\\x99s', 'parsonâ\\x80\\x99s', 'Whoâ\\x80\\x99re', 'eduÂ¬', 'detailâ\\x80\\x94Abyssinia', 'Surrenderâ\\x80\\x9d', 'worshipâ\\x80\\x94the', 'crescendoâ\\x80\\x99ed', 'Thalesâ\\x80\\x99', 'displayâ\\x80\\x94astonishingly', 'quicklyÂ¬', 'themâ\\x80\\x94as', 'springÂ¬', 'Muslimâ\\x80\\x94they', 'Persiaâ\\x80\\x94for', 'westâ\\x80\\x94a', 'goâ\\x80\\x94himmel', 'richâ\\x80\\x9d', 'Zumarrâ\\x80\\x99s', 'swearÂ¬', 'Glasgowâ\\x80\\x99s', 'othersâ\\x80\\x94I', 'skullâ\\x80\\x94it', 'Knowableâ\\x80\\x94', 'Childâ\\x80\\x99s', 'saidâ\\x80\\x94Did', 'negroesâ\\x80\\x94Madiboo', 'gramophoneâ\\x80\\x94the', 'ConsciousÂ¬', \"'resistâ\\x80\\x99\", 'careâ\\x80\\x94maybe', 'oceanâ\\x80\\x94if', 'beardâ\\x80\\x94Sorrow', 'Shanksâ\\x80\\x99s', 'potterâ\\x80\\x99s', 'floodsâ\\x80\\x94great', 'yellowÂ¬', 'wouldnâ\\x80\\x99t', 'imposÂ¬', 'myselfâ\\x80\\x94surely', 'uninÂ¬', 'matteredâ\\x80\\x94so', 'protoÂ¬', 'Winterâ\\x80\\x94that', 'sentiÂ¬', 'nowâ\\x80\\x94clean', 'Plainâ\\x80\\x94the', 'clerksâ\\x80\\x99', 'taxâ\\x80\\x94it', 'Mogaraâ\\x80\\x94did', 'aberraÂ¬', 'lightÂ¬', 'gunsmithâ\\x80\\x99s', 'hauntÂ¬', 'Congoâ\\x80\\x94were', 'D1ENEKESâ\\x80\\x99', 'ClimbÂ¬', 'Redâ\\x80\\x94', 'cryâ\\x80\\x94of', 'bedâ\\x80\\x94-you', 'cheapâ\\x80\\x94', 'stoveâ\\x80\\x99s', 'treesâ\\x80\\x94when', 'behavÂ¬', 'violinsâ\\x80\\x99', 'againâ\\x80\\x94or', 'â\\x80\\x98Heâ\\x80\\x99s', 'Schoolâ\\x80\\x99s', 'canalsâ\\x80\\x94he', 'armaÂ¬', 'deersâ\\x80\\x99', 'Tâ\\x80\\x99ll', 'wineÂ¬', 'objectedâ\\x80\\x94probably', 'Gaulâ\\x80\\x99s', 'Youthâ\\x80\\x94well', 'negliÂ¬', 'mindâ\\x80\\x94could', 'HoughÂ¬', 'sayâ\\x80\\x94this', 'Upperhillâ\\x80\\x99s', 'pebbleÂ¬', 'Ttâ\\x80\\x99ll', 'hopeÂ¬', 'Pechâ\\x80\\x99s', 'howeverâ\\x80\\x94that', 'tainâ\\x80\\x94might', 'Daryaâ\\x80\\x99s', 'scrimmageâ\\x80\\x9d', 'outâ\\x80\\x94ay', 'Insteadâ\\x80\\x94', 'dayâ\\x80\\x94itâ\\x80\\x99ll', 'plumsâ\\x80\\x94', 'thatâ\\x80\\x94funny', 'Hadesâ\\x80\\x94sing', 'claimâ\\x80\\x94an', 'passionsâ\\x80\\x94topographical', 'performÂ¬', 'obsesÂ¬', 'Deltaâ\\x80\\x94it', 'partâ\\x80\\x94Elia', 'personâ\\x80\\x99', 'dykeâ\\x80\\x94ill-luck', 'weepingâ\\x80\\x94slow', 'menâ\\x80\\x94Daedalus', 'passesâ\\x80\\x94a', 'themâ\\x80\\x94kicked', 'plainâ\\x80\\x94albeit', 'mindâ\\x80\\x94where', 'rubÂ¬', 'methodÂ¬', 'Iâ\\x80\\x99d', 'collaboraÂ¬', 'cloutâ\\x80\\x94', 'graphicalâ\\x80\\x94has', 'Cairoâ\\x80\\x94your', 'thisâ\\x80\\x94', 'squallâ\\x80\\x94all', 'trayâ\\x80\\x99s', 'lastâ\\x80\\x94â\\x96', 'easilyâ\\x80\\x94unless', 'Guanahaniâ\\x80\\x94they', 'hopedâ\\x80\\x94for', 'chilÂ¬', 'Islandsâ\\x80\\x94inextricably', 'Northmenâ\\x80\\x94finally', 'bishopsâ\\x80\\x99', 'encomÂ¬', 'myâ\\x80\\x94â\\x80\\x9c', 'kinsÂ¬', 'architecturÂ¬', 'nunneryâ\\x80\\x94', 'Yetâ\\x80\\x94were', 'masculineâ\\x80\\x94it', 'RubÂ¬', 'existâ\\x80\\x94when', 'peoplesâ\\x80\\x94a', 'weâ\\x80\\x94tell', 'upâ\\x80\\x94Yes', 'Mastersâ\\x80\\x94but', 'writeâ\\x80\\x94a', 'boyhoodâ\\x80\\x94the', 'clothesâ\\x80\\x94strange', 'â\\x80\\x9cTheseâ\\x80\\x94like', 'otherÂ¬', 'CASANOVAâ\\x80\\x99S', 'matÂ¬', 'captainâ\\x80\\x99', 'twinkÂ¬', 'governorâ\\x80\\x99s', 'Argusâ\\x80\\x9d', 'cornâ\\x80\\x99ll', 'â\\x80\\x9cyErteâ\\x80\\x94he', 'Hannoâ\\x80\\x94one', 'â\\x80\\x9cCanâ\\x80\\x99t', 'Keithâ\\x80\\x94the', 'Iâ\\x80\\x94â\\x80\\x99', 'Warâ\\x80\\x94', 'consulsâ\\x80\\x99', 'inâ\\x80\\x94Mem', 'contemporÂ¬', 'civilizedâ\\x80\\x94in', 'yourselfâ\\x80\\x94keen', 'storiesâ\\x80\\x94that', 'scheinâ\\x80\\x99s.â\\x80\\x99', 'surfaceâ\\x80\\x94the', 'whoâ\\x80\\x99ve', 'matterâ\\x80\\x99s', 'stonesâ\\x80\\x99', 'astroÂ¬', 'upÂ¬', 'Ohâ\\x80\\x94nobody', 'pasÂ¬', 'childrenâ\\x80\\x94which', 'bikeâ\\x80\\x94so', 'Neednâ\\x80\\x99t', 'lanternâ\\x80\\x99s', 'peopleâ\\x80\\x94Eskimos', 'twoâ\\x80\\x94three', 'touchâ\\x80\\x94down', 'beyondâ\\x80\\x94what', 'GoodÂ¬', 'repentedâ\\x80\\x94violently', 'orâ\\x80\\x94one', 'Sunlightâ\\x80\\x94he', 'beautifulâ\\x80\\x94â\\x80\\x9c', 'unforÂ¬', 'thenâ\\x80\\x94', 'MediterÂ¬', '^Erteâ\\x80\\x99s', 'enemiesâ\\x80\\x94which', 'oceanâ\\x80\\x99s', 'roomâ\\x80\\x94he', 'Amimaâ\\x80\\x94her', 'â\\x80\\x9cFascistâ\\x80\\x9d', 'bayâ\\x80\\x99s', 'sphereâ\\x80\\x94the', 'knowâ\\x80\\x94though', 'yardâ\\x80\\x94Christ', 'Westminsterâ\\x80\\x9d', 'MacMunnâ\\x80\\x99s', 'discussionâ\\x80\\x94ten', 'coloursâ\\x80\\x94how', 'Iberiansâ\\x80\\x94', 'derisionâ\\x80\\x94or', 'flowÂ¬', 'moodâ\\x80\\x94as', 'eastÂ¬', 'thingsâ\\x80\\x94milk', 'longÂ¬', 'itâ\\x80\\x94terribly', 'songâ\\x80\\x94so', 'songâ\\x80\\x94Come', 'friezeâ\\x80\\x9d', 'hersâ\\x80\\x94', 'stealÂ¬', 'serpentâ\\x80\\x94these', 'monthsâ\\x80\\x94especially', 'EuroÂ¬', 'Annaâ\\x80\\x99s', 'sleepingâ\\x80\\x99s', 'noÂ¬', 'numberâ\\x80\\x94', 'Sabbathâ\\x80\\x94if', 'themâ\\x80\\x94marshmen', 'earthâ\\x80\\x94a', 'blameâ\\x80\\x94in', 'lifeâ\\x80\\x94birds', 'madâ\\x80\\x94a', 'birthâ\\x80\\x94when', 'looseningâ\\x80\\x94and', 'carpentersâ\\x80\\x99', 'endurÂ¬', 'Imageâ\\x80\\x99s', 'Mummiusâ\\x80\\x99', 'Clearmontâ\\x80\\x99s', 'officerâ\\x80\\x99s', 'Andâ\\x80\\x94', 'fisherÂ¬', 'momenÂ¬', 'angrilyâ\\x80\\x94Dawn', 'backâ\\x80\\x94and', 'nationalismâ\\x80\\x94Clouds', 'sorryâ\\x80\\x94I', 'sportsÂ¬', 'mouthsâ\\x80\\x94the', 'Riverâ\\x80\\x99s', 'townsâ\\x80\\x94the', 'incomÂ¬', 'assistantâ\\x80\\x99s', 'Adanâ\\x80\\x99s', 'Egyptâ\\x80\\x94Hi', 'knowÂ¬', 'westÂ¬', 'jadeâ\\x80\\x94with', 'riverâ\\x80\\x99s', 'descendingâ\\x80\\x94^Erte', 'newsâ\\x80\\x94no', 'lifeâ\\x80\\x94from', 'â\\x80\\x9csaltingsâ\\x80\\x9d', 'â\\x80\\x98Weâ\\x80\\x94I', 'boyâ\\x80\\x99ll', 'soddenâ\\x80\\x94sodden', 'planÂ¬', 'thatâ\\x80\\x94â\\x80\\x99nâ\\x80\\x99', 'handâ\\x80\\x99s', 'noseâ\\x80\\x94', 'itâ\\x80\\x99s', 'straitâ\\x80\\x94at', 'stormâ\\x80\\x99s', 'â\\x80\\x98Alwaysâ\\x80\\x94while', 'promotionâ\\x80\\x94deliberately', 'poisonedâ\\x80\\x94', 'dâ\\x80\\x9cted', 'Nowâ\\x80\\x94I', 'youâ\\x80\\x9d', 'NeoÂ¬', 'doctorâ\\x80\\x94', 'Paulâ\\x80\\x99s', 'sâ\\x80\\x99il', 'â\\x80\\x98Jerusalemâ\\x80\\x99', 'boardâ\\x80\\x94for', 'simÂ¬', 'battleÂ¬', 'Flagâ\\x80\\x99â\\x80\\x99', 'inadeÂ¬', 'plainsâ\\x80\\x94as', 'futureâ\\x80\\x94^through', 'prostiÂ¬', 'worldâ\\x80\\x94or', 'occasionÂ¬', 'Grijalvaâ\\x80\\x99s', 'DIENEKESâ\\x80\\x99', 'visionâ\\x80\\x94beyond', 'nothingâ\\x80\\x94', 'counÂ¬', 'victimâ\\x80\\x94if', 'andâ\\x80\\x94in', 'redÂ¬', 'Willowâ\\x80\\x9d', 'Wellâ\\x80\\x94the', 'youâ\\x80\\x94I', 'themâ\\x80\\x94scream', 'scaredâ\\x80\\x94aloneâ\\x80\\x94with', 'suggestionâ\\x80\\x94or', 'Nuisanceâ\\x80\\x94miss', 'adventureâ\\x80\\x94Nansen', 'Angelsâ\\x80\\x99', 'anteÂ¬', '8oÂ°N', 'editedâ\\x80\\x94had', 'insistedâ\\x80\\x94', 'correspondÂ¬', 'snakeâ\\x80\\x94no', 'Itâ\\x80\\x94feuch', 'andâ\\x80\\x94', 'slaveâ\\x80\\x99s', 'secreÂ¬', 'mentâ\\x80\\x94and', 'anotherâ\\x80\\x94that', 'didâ\\x80\\x94The', 'admiraÂ¬', 'baudâ\\x80\\x99s', 'againstâ\\x80\\x94them', 'wastersâ\\x80\\x94our', 'innâ\\x80\\x94it', 'industrialistâ\\x80\\x99s', 'awayâ\\x80\\x94battle', 'leanÂ¬', 'associaÂ¬', 'damnâ\\x80\\x99t', 'passionâ\\x80\\x94the', 'ex-officerâ\\x80\\x99s', 'PHASEâ\\x80\\x9d', 'deadâ\\x80\\x94victims', 'hisâ\\x80\\x94and', 'explorationsâ\\x80\\x94', 'examinationsâ\\x80\\x94â\\x80\\x98', 'fulfilmentâ\\x80\\x94he', 'nationalismâ\\x80\\x94allâ\\x80\\x94Clouds', 'eveningâ\\x80\\x94a', 'inhabiÂ¬', 'Joyceâ\\x80\\x99ll', 'brothersâ\\x80\\x99', 'meanâ\\x80\\x94you', 'worÂ¬', 'unendÂ¬', 'blueÂ¬', 'wallâ\\x80\\x99s', 'yourâ\\x80\\x99', 'dailyâ\\x80\\x94or', 'Wolfâ\\x80\\x9d', 'stillÂ¬', 'UniÂ¬', 'jalvaâ\\x80\\x99s', 'millenniaâ\\x80\\x94they', 'lionâ\\x80\\x94a', 'PeninÂ¬', 'coveringâ\\x80\\x94the', 'flipÂ¬', 'notâ\\x80\\x94a', 'Alecâ\\x80\\x99s', 'so-and-soâ\\x80\\x99s', 'Medinaâ\\x80\\x99s', 'morningâ\\x80\\x94', 'allâ\\x80\\x94if', 'religionâ\\x80\\x94the', 'OpenÂ¬', 'capitahsmâ\\x80\\x99s', 'Isnâ\\x80\\x99t', 'Husbandâ\\x80\\x9d', 'lodgerâ\\x80\\x99s', 'Squareâ\\x80\\x94damnâ\\x80\\x99t', 'knewâ\\x80\\x94', 'vesselsâ\\x80\\x9dâ\\x80\\x94armadas', 'barberâ\\x80\\x99s', 'autumnâ\\x80\\x99s', 'Trumpetâ\\x80\\x99s', 'Bishopâ\\x80\\x99s', 'Flameâ\\x80\\x9d', 'themâ\\x80\\x94strange', 'â\\x80\\x98â\\x80\\x98Donâ\\x80\\x99t', 'sandsâ\\x80\\x94as', 'Orâ\\x80\\x94do', 'semiÂ¬', 'thisâ\\x80\\x94workâ\\x80\\x94of', 'revoÂ¬', 'atÂ¬', 'sawÂ¬', 'feedâ\\x80\\x94', 'ceremonyâ\\x80\\x94damnâ\\x80\\x99t', 'regionâ\\x80\\x94and', 'Gayfordâ\\x80\\x99s', 'calendarâ\\x80\\x94the', 'observÂ¬', 'butâ\\x80\\x94do', 'resistÂ¬', 'suspicionsâ\\x80\\x94if', 'taleâ\\x80\\x94a', 'Mogaraâ\\x80\\x94memsahib', 'haremâ\\x80\\x94a', 'Gaultâ\\x80\\x94who', 'Chirikoffâ\\x80\\x99s', 'liverâ\\x80\\x94a', 'Gaultâ\\x80\\x99s', 'inâ\\x80\\x99t', 'weekÂ¬', 'Greeksâ\\x80\\x99', 'mounÂ¬', 'foster-sonâ\\x80\\x94and', 'Kaimesâ\\x80\\x94only', 'carâ\\x80\\x94your', 'youâ\\x80\\x94he', 'sunâ\\x80\\x99ll', 'Desertâ\\x80\\x94c', 'armâ\\x80\\x99s', 'uglyâ\\x80\\x9d', 'thatâ\\x80\\x94or', 'cowsâ\\x80\\x94Berstehen', 'blacksmithâ\\x80\\x99s', 'foregoneâ\\x80\\x94', 'foundâ\\x80\\x94in', 'rightâ\\x80\\x94can', 'Canadaâ\\x80\\x94', 'themâ\\x80\\x94hair', 'Knappâ\\x80\\x99s', 'Xibalbaâ\\x80\\x9d', 'Silenceâ\\x80\\x99s', 'streetâ\\x80\\x94I', 'permitsâ\\x80\\x94â\\x80\\x9cEverything', 'daysâ\\x80\\x94took', 'diedâ\\x80\\x94once', 'whoâ\\x80\\x99s', 'rÂ°lJ-', 'browâ\\x80\\x94', 'Cairoâ\\x80\\x99', 'buildÂ¬', 'pinaÂ¬', 'gutterÂ¬', 'â\\x80\\x9cEreâ\\x80\\x99s', 'wasâ\\x80\\x94but', 'Shâ\\x80\\x94look', 'catasÂ¬', 'equipÂ¬', 'potentatesâ\\x80\\x94especially', 'athleteâ\\x80\\x99s', 'RepubÂ¬', 'â\\x80\\x9cMustnâ\\x80\\x99t', 'muchâ\\x80\\x94youâ\\x80\\x99ll', 'husbandâ\\x80\\x94and', 'angrilyâ\\x80\\x94â\\x80¢angrily', 'Frankauâ\\x80\\x99s', 'theseâ\\x80\\x99â\\x80\\x94he', 'deadâ\\x80\\x94were', 'himselfâ\\x80\\x94had', 'statuettesâ\\x80\\x94heat', 'strangersâ\\x80\\x99', 'moonâ\\x80\\x94', 'clingÂ¬', 'Stalinâ\\x80\\x99s', 'workinâ\\x80\\x99', 'Helmutâ\\x80\\x99s', 'coldâ\\x80\\x94', 'skullâ\\x80\\x94', 'whomâ\\x80\\x94who', 'drinkâ\\x80\\x94', 'himâ\\x80\\x94smiling', 'sandwichesâ\\x80\\x94remember', 'talkingâ\\x80\\x94about', 'Toltecsâ\\x80\\x94the', 'MonÂ¬', 'manâ\\x80\\x94is', 'thrallsâ\\x80\\x94slaves', 'bombardÂ¬', 'Rossâ\\x80\\x99s', 'torÂ¬', 'stormâ\\x80\\x94whatever', 'Malaysâ\\x80\\x94just', 'sobberâ\\x80\\x94a', 'mulattoâ\\x80\\x94Maruja', 'Shaftesburyâ\\x80\\x99s', 'paraÂ¬', 'pigmenÂ¬', 'ticesâ\\x80\\x94architectural', 'questionâ\\x80\\x94the', 'motherâ\\x80\\x99d', 'madnessâ\\x80\\x94it', 'Thereâ\\x80\\x94you', 'Amâ\\x80\\x98lâ\\x80\\x9c', 'allâ\\x80\\x94ever', 'silenceâ\\x80\\x94distant', 'shapeâ\\x80\\x94they', 'disenÂ¬', 'Mayanâ\\x80\\x99s', 'â\\x80\\x9cWhereâ\\x80\\x99s', 'sisterâ\\x80\\x99s', 'lookingâ\\x80\\x94if', 'seeâ\\x80\\x94noâ\\x80\\x94here', 'GuadalÂ¬', 'WindÂ¬', 'patientsâ\\x80\\x99ll', 'Joanâ\\x80\\x94Joan', 'othersâ\\x80\\x94they', 'possiÂ¬', 'Butâ\\x80\\x94we', 'Warrensâ\\x80\\x94when', 'seismologistâ\\x80\\x99s', 'Cookâ\\x80\\x99s', 'aâ\\x80\\x94what', 'didâ\\x80\\x94that', 'lotusâ\\x80\\x94lotus', 'imposiÂ¬', 'Werenâ\\x80\\x99t', 'drawingÂ¬', 'Christâ\\x80\\x94Malcom', 'parcelÂ¬', 'joinerâ\\x80\\x99s', 'mountainsâ\\x80\\x99', 'exerÂ¬', 'wereâ\\x80\\x94were', 'wellâ\\x80\\x94', 'Londonâ\\x80\\x94after', 'perÂ¬', 'hensâ\\x80\\x99', 'upâ\\x80\\x9d', 'â\\x80\\x98Theyâ\\x80\\x99re', 'moonâ\\x80\\x94far', 'northâ\\x80\\x94the', 'kidâ\\x80\\x99s', 'Dougallâ\\x80\\x99s', 'skinâ\\x80\\x94and', 'ofâ\\x80\\x94unless', 'revolversâ\\x80\\x94I', 'homeâ\\x80\\x94by', 'andâ\\x80\\x94better', 'direcÂ¬', 'tiredâ\\x80\\x94sun-tired', 'remembranceâ\\x80\\x94hate', 'taâ\\x80\\x99en', 'Cochetâ\\x80\\x99s', 'periodâ\\x80\\x94the', 'hypocriteâ\\x80\\x94the', 'unmanageÂ¬', 'Mayaâ\\x80\\x94it', 'transformaÂ¬', 'practicesâ\\x80\\x94one', 'Shepheardâ\\x80\\x99s', 'questâ\\x80\\x94out', 'bestâ\\x80\\x94', 'theyâ\\x80\\x99ll', 'â\\x80\\x9cTheyâ\\x80\\x99ll', 'moveÂ¬', 'logsâ\\x80\\x94', 'brotherâ\\x80\\x94will', 'Aida-ed-Dowlahâ\\x80\\x94a', 'situaÂ¬', 'GaduÂ¬', 'yearsâ\\x80\\x94oh', 'pairsâ\\x80\\x94and', 'fragmentâ\\x80\\x94was', 'earthâ\\x80\\x94but', 'atâ\\x80\\x94', 'unfortuÂ¬', 'Galaxyâ\\x80\\x94theyâ\\x80\\x99re', 'associÂ¬', 'Authorâ\\x80\\x99s', 'turretedâ\\x80\\x94t', 'againâ\\x80\\x94when', 'cerÂ¬', 'chooseâ\\x80\\x94looking', 'HOSÂ¬', 'thunÂ¬', 'Workersâ\\x80\\x99', 'wasâ\\x80\\x94lost', 'tremÂ¬', 'AphroÂ¬', 'candleâ\\x80\\x94Z^â\\x80\\x99s', 'ingredÂ¬', 'hillsâ\\x80\\x94folk', 'sharpÂ¬', 'computaÂ¬', 'slaughter-shedâ\\x80\\x94father', 'enoughâ\\x80\\x94the', 'thisâ\\x80\\x94blood', 'weâ\\x80\\x99d', 'â\\x80\\x98MzÂ', 'headâ\\x80\\x94â\\x80\\x98', 'Ageâ\\x80\\x94how', 'motherâ\\x80\\x94of', 'musicianâ\\x80\\x99s', 'mysÂ¬', 'comfortÂ¬', 'Twainâ\\x80\\x99s', 'irÂ¬', 'woodâ\\x80\\x94queerly', 'boasÂ¬', 'ordersâ\\x80\\x9d', 'sourcesâ\\x80\\x94what', 'goodÂ¬', 'religionâ\\x80\\x99s', 'lifeÂ¬', 'shyâ\\x80\\x94a', 'neatlyâ\\x80\\x99', 'ladsâ\\x80\\x99', 'GaneÂ¬', 'Netherhillâ\\x80\\x94last', 'politiciansâ\\x80\\x99', 'vesterâ\\x80\\x99s', 'adventureâ\\x80\\x94if', 'Davilaâ\\x80\\x94who', 'hystericsâ\\x80\\x94and', 'andâ\\x80\\x94by', 'princessâ\\x80\\x94like', 'courtâ\\x80\\x99s', 'marvelÂ¬', 'Montejosâ\\x80\\x99', 'substancesâ\\x80\\x94wood', 'allâ\\x80\\x94the', 'Eunuchâ\\x80\\x99s', 'fundâ\\x80\\x94Iâ\\x80\\x99ll', 'happenedâ\\x80\\x94it', 'themeâ\\x80\\x94he', 'laughedâ\\x80\\x94had', 'halfÂ¬', 'knowâ\\x80\\x94nowâ\\x80\\x94since', 'conductâ\\x80\\x94shrank', 'heatâ\\x80\\x99s', 'Ogilvieâ\\x80\\x99sâ\\x80\\x94-ay', 'asâ\\x80\\x94Gershom', 'Sanballatâ\\x80\\x99s', 'ridicuÂ¬', 'loveÂ¬', 'â\\x80\\x98Whatâ\\x80\\x99s', 'waveÂ¬', 'kindliÂ¬', 'factâ\\x80\\x94', 'WOLFâ\\x80\\x99S', 'robbersâ\\x80\\x94', 'kistâ\\x80\\x94a', 'maintainÂ¬', 'pilesâ\\x80\\x94one', 'demobilizationâ\\x80\\x94all', 'donâ\\x80\\x99tâ\\x80\\x94â\\x80¢', 'horizon-beckonÂ¬', 'vigorousâ\\x80\\x94Islam', 'Cipanguâ\\x80\\x94Antilia', 'dramâ\\x80\\x94itâ\\x80\\x99s', 'maÂ¬', 'Hondurasâ\\x80\\x94all', 'Crusadersâ\\x80\\x99', 'motherâ\\x80\\x94', 'socialistâ\\x80\\x99s', 'guardsÂ¬', 'alarmâ\\x80\\x94', 'amusementâ\\x80\\x94all', 'thoroughnessâ\\x80\\x94all', 'expeditionâ\\x80\\x94despite', 'Alecâ\\x80\\x94at', 'marryâ\\x80\\x94Mr', 'connectionâ\\x80\\x99s', 'GerÂ¬', 'Boussaâ\\x80\\x94a', 'expeditionâ\\x80\\x94a', 'soulâ\\x80\\x94the', 'irresponsibleâ\\x80\\x9d', 'Coastâ\\x80\\x94as', 'Earthâ\\x80\\x99s', 'melanÂ¬', 'NeverÂ¬', 'writeâ\\x80\\x94onceâ\\x80\\x94after', 'Johnâ\\x80\\x94Sinclair', 'Romiâ\\x80\\x99s', 'Wooliesâ\\x80\\x94would', 'himâ\\x80\\x94no', 'thisâ\\x80\\x94Academician', 'booksâ\\x80\\x94lesson', 'Nellieâ\\x80\\x94or', 'foot-soldierâ\\x80\\x99s', 'forceÂ¬', 'corÂ¬', 'bullâ\\x80\\x99s-eye', 'AberÂ¬', 'Revolutionâ\\x80\\x99s', 'ancesÂ¬', 'criticâ\\x80\\x99s', 'Irresponsibleâ\\x80\\x9d', 'newâ\\x80\\x99', 'Partyâ\\x80\\x94in', 'Ohmedâ\\x80\\x99s', 'hardÂ¬', 'didlyâ\\x80\\x94to', 'ragÂ¬', 'cowardâ\\x80\\x99s', 'woundedâ\\x80\\x94like', 'offâ\\x80\\x94he', 'girdleâ\\x80\\x94the', 'darkâ\\x80\\x94', 'Chrisâ\\x80\\x94Iâ\\x80\\x99ve', 'limpÂ¬', 'Itâ\\x80\\x99s', 'clodÂ¬', 'farmÂ¬', 'Kajaagaâ\\x80\\x94a', 'superiÂ¬', 'nextâ\\x80\\x94where', 'WednesÂ¬', 'saintsâ\\x80\\x94perhaps', 'boyâ\\x80\\x94before', 'thousÂ¬', 'interiorâ\\x80\\x9d', 'papakesâ\\x80\\x99', 'animalâ\\x80\\x99s', 'starsâ\\x80\\x94Goodness', 'threatÂ¬', 'menâ\\x80\\x99ll', 'â\\x80\\x9cPatientsâ\\x80\\x99', 'westerÂ¬', 'earsâ\\x80\\x94when', 'Thracianâ\\x80\\x99s', 'Moonsâ\\x80\\x9d', 'fatherâ\\x80\\x99d', 'nowâ\\x80\\x94', 'Simpsonâ\\x80\\x94freaks', 'lisÂ¬', 'Rectoriaâ\\x80\\x981', 'loverâ\\x80\\x99s', 'Prophetessâ\\x80\\x99s', 'ainâ\\x80\\x99t.â\\x80\\x99', 'mineâ\\x80\\x94', 'timeâ\\x80\\x94Dr', 'prophetâ\\x80\\x94', 'saddleâ\\x80\\x94a', 'lavatoryâ\\x80\\x94', 'chanceâ\\x80\\x94galley-loads', 'levelâ\\x80\\x94a', 'encomiendosâ\\x80\\x94sections', \"'Dundonâ\\x80\\x99\", 'motherâ\\x80\\x94it', 'errandsâ\\x80\\x94when', 'watersâ\\x80\\x94still', '^|gCÂ£L', 'â\\x80\\x98Spartacusâ\\x80\\x94Crixus', 'physiciansâ\\x80\\x99', 'airsâ\\x80\\x94the', 'legionaryâ\\x80\\x99s', 'Gordonâ\\x80\\x99s', 'periodâ\\x80\\x94even', 'Damâ\\x80\\x94what', 'Abdulâ\\x80\\x99s', 'Timesâ\\x80\\x94how', 'thrallâ\\x80\\x94presumably', 'Pyramidâ\\x80\\x94toil', 'worldâ\\x80\\x94somewhere', 'lostÂ¬', 'Onceâ\\x80\\x94the', 'womenâ\\x80\\x94weariness', 'saffronâ\\x80\\x94the', 'ohâ\\x80\\x94And', 'growâ\\x80\\x94was', 'mainÂ¬', 'merchantâ\\x80\\x94was', 'Charlesâ\\x80\\x99s', 'Sorcerersâ\\x80\\x9d', 'fringeâ\\x80\\x94of', 'grilledâ\\x80\\x94but', 'toâ\\x80\\x94really', 'Silenceâ\\x80\\x94I', 'animalâ\\x80\\x94once', 'pyramidâ\\x80\\x94the', 'nameÂ¬', 'EmÂ¬', 'interestingâ\\x80\\x94at', 'raspÂ¬', 'beenâ\\x80\\x94held', 'Dâ\\x80\\x99you', 'areasâ\\x80\\x94has', 'andâ\\x80\\x94then', 'scrollâ\\x80\\x94â\\x80\\x99', 'orâ\\x80\\x94how', 'stragÂ¬', 'Kâ\\x80\\x99ung-fu-tze', 'didnâ\\x80\\x99t.â\\x80\\x99', 'purposesâ\\x80\\x94and', 'middleâ\\x80\\x94faintly', 'Alexandriaâ\\x80\\x94nor', 'loudlyâ\\x80\\x94in', 'folkÂ¬', 'satyrâ\\x80\\x99s', 'Civilizationâ\\x80\\x99s', 'policeâ\\x80\\x99s', 'evasiveÂ¬', 'Westâ\\x80\\x94the', 'swingÂ¬', 'â\\x80\\x9cIndiesâ\\x80\\x9d', 'Beamâ\\x80\\x94Oh', 'stillâ\\x80\\x94white', 'Songhayâ\\x80\\x94decaying', 'journeyâ\\x80\\x94for', 'chairâ\\x80\\x94the', 'womenâ\\x80\\x94och', 'sunsetâ\\x80\\x99s', 'closeâ\\x80\\x94a', 'nobodyâ\\x80\\x99s', 'askedâ\\x80\\x94a', 'SeneÂ¬', 'UnÂ¬', 'withâ\\x80\\x94more', 'handâ\\x80\\x99s-breadth', 'yeâ\\x80\\x99ve', 'futureâ\\x80\\x94however', 'Gannâ\\x80\\x99s', 'skirÂ¬', 'Plongeonâ\\x80\\x94only', 'sleepâ\\x80\\x94oh', 'intruÂ¬', 'NorÂ¬', 'amuseÂ¬', 'chestâ\\x80\\x94', 'Yetâ\\x80\\x94to', 'â\\x80\\x94itâ\\x80\\x99s', 'peacefulÂ¬', 'murderÂ¬', 'Roupellâ\\x80\\x94isnâ\\x80\\x99t', 'washedâ\\x80\\x94had', 'itâ\\x80\\x94your', 'ringÂ¬', 'Communistsâ\\x80\\x94along', 'minisÂ¬', 'SouthÂ¬', 'brainâ\\x80\\x94if', 'sayâ\\x80\\x94and', 'parcelâ\\x80\\x94which', 'beastsâ\\x80\\x94did', 'Childrenâ\\x80\\x94children', 'nightsâ\\x80\\x94all', 'toâ\\x80\\x99', '^svâ\\x80\\x99j', 'foundâ\\x80\\x94salvation.â\\x80\\x9d', 'nowâ\\x80\\x94that', 'fullâ\\x80\\x94remarkable', 'crouchÂ¬', 'inexplicÂ¬', 'anÂ¬', 'missionaryâ\\x80\\x99s', 'sneerâ\\x80\\x94a', 'prophecyâ\\x80\\x94â\\x80\\x98', 'fogâ\\x80\\x94stilling', 'stagÂ¬', 'Eliaâ\\x80\\x99s', 'templeâ\\x80\\x94', 'caravanâ\\x80\\x94two', 'Murdochâ\\x80\\x99s', 'pointâ\\x80\\x9d', 'roomâ\\x80\\x94-', 'Gannâ\\x80\\x94a', 'poundsâ\\x80\\x94have', 'Belialâ\\x80\\x94who', 'Hormizdâ\\x80\\x99s', 'forâ\\x80\\x94easy', 'Discipleâ\\x80\\x9d', 'Andreeiusâ\\x80\\x94what', 'beastâ\\x80\\x94-it', 'areâ\\x80\\x94a', 'Beeâ\\x80\\x94and', 'partyâ\\x80\\x94you', 'sleepâ\\x80\\x94how', 'timeâ\\x80\\x9d', 'Ayâ\\x80\\x94it', 'nearÂ¬', 'â\\x80\\x98Goodnessâ\\x80\\x94but', 'itâ\\x80\\x94who', 'childrenâ\\x80\\x94all', 'chinsâ\\x80\\x94but', 'renunciaÂ¬', 'considerationâ\\x80\\x94', 'Spainâ\\x80\\x99s', 'ScripÂ¬', 'emirâ\\x80\\x99s', 'howlingâ\\x80\\x99s', 'ironâ\\x80\\x94all', 'PreÂ¬', 'darenâ\\x80\\x99t', 'shouldnâ\\x80\\x99t', 'staredâ\\x80\\x94We', 'slaveâ\\x80\\x94nor', 'partâ\\x80\\x94our', 'â\\x80\\x9cIâ\\x80\\x99ll', 'voiceâ\\x80\\x94for', 'deÂ¬', 'expendiÂ¬', 'themâ\\x80\\x94all', 'tobaccoâ\\x80\\x9d', 'itâ\\x80\\x99ll', 'talkerâ\\x80\\x99s', 'whimsicÂ¬', 'stomach-acheâ\\x80\\x94all', 'â\\x80\\x9cWasnâ\\x80\\x99t', 'contempoÂ¬', 'wordâ\\x80\\x94they', 'butâ\\x80\\x99ll', 'ridiculousâ\\x80\\x94crying', 'massâ\\x80\\x94Gama', 'gÂ°', 'wheelÂ¬', 'Wokinghamâ\\x80\\x94lit', 'soulsâ\\x80\\x94envoys', 'workâ\\x80\\x94and', 'enthusiastâ\\x80\\x94became', 'daughterâ\\x80\\x94grew', 'â\\x80\\x98Thereâ\\x80\\x99ll', 'daysâ\\x80\\x94nights', 'ineffecÂ¬', 'Prostituteâ\\x80\\x94the', 'strivingsâ\\x80\\x94they', 'mindâ\\x80\\x94but', 'readingâ\\x80\\x94the', 'practiseâ\\x80\\x99', 'Segoâ\\x80\\x99s', 'embezzleÂ¬', 'mineâ\\x80\\x99', 'sayingâ\\x80\\x94and', 'â\\x80\\x9cTroubadourâ\\x80\\x9d', 'stupenÂ¬', 'bringÂ¬', 'â\\x80\\x98Youâ\\x80\\x99d', 'Amimaâ\\x80\\x94sixteen', 'occasionâ\\x80\\x94had', 'deathsâ\\x80\\x94', 'boyâ\\x80\\x94and', 'Manâ\\x80\\x94That', 'compromiseâ\\x80\\x94thirty-two', 'sensualâ\\x80\\x94wondering', 'youâ\\x80\\x99d', 'futureâ\\x80\\x94thrilling', 'JVeâ\\x80\\x99re', 'miracuÂ¬', 'riceâ\\x80\\x9d', 'Caâ\\x80\\x99', 'stareâ\\x80\\x94even', 'merchantsâ\\x80\\x9d', 'yearâ\\x80\\x94and', 'meatâ\\x80\\x94not', 'queanâ\\x80\\x94oh', 'Stonesâ\\x80\\x94oh', 'eyesâ\\x80\\x94he', 'SocialÂ¬', 'experienceâ\\x80\\x94because', 'Ewanâ\\x80\\x94oh', 'findâ\\x80\\x94not', 'neighÂ¬', 'altarsâ\\x80\\x94babies', 'civilizationâ\\x80\\x94â\\x80¢', 'didâ\\x80\\x94-sometime', 'capitalâ\\x80\\x94a', 'madâ\\x80\\x94mad', 'Rhizosâ\\x80\\x99s', 'atâ\\x80\\x94and', 'soonâ\\x80\\x99s', 'â\\x80\\x9cHwawâ\\x80\\x9d', 'DepartÂ¬', 'â\\x80\\x9cLetâ\\x80\\x99s', 'careâ\\x80\\x94and', 'livesâ\\x80\\x94each', 'Jibbsâ\\x80\\x99s', 'lorryâ\\x80\\x94whoâ\\x80\\x99s', 'Johnâ\\x80\\x94wonder', 'flushedâ\\x80\\x94that', 'fightingâ\\x80\\x94what', 'commandâ\\x80\\x94that', 'welcomeâ\\x80\\x94of', 'existsâ\\x80\\x94to', 'paintâ\\x80\\x94or', 'chapâ\\x80\\x99s', 'hellâ\\x80\\x94but', 'Isleâ\\x80\\x9d', 'otherâ\\x80\\x94the', 'bearÂ¬', 'hotelâ\\x80\\x94that', 'artiÂ¬', 'weatherâ\\x80\\x94had', 'nurseÂ¬', 'thisâ\\x80\\x94her', 'areâ\\x80\\x94Mussolini', 'slopeâ\\x80\\x94or', 'Inventionâ\\x80\\x94they', 'deliriumâ\\x80\\x94the', 'Winterâ\\x80\\x94would', 'Manâ\\x80\\x9d', 'Bâ\\x80\\x9e', 'friendlinessâ\\x80\\x94mocking', 'hersâ\\x80\\x94Fulvius', 'Byzantinesâ\\x80\\x94and', 'kidâ\\x80\\x94a', 'howâ\\x80\\x99d', 'afterâ\\x80\\x94after', 'ouâ\\x80\\x99ll', 'MichaelÂ¬', 'placeâ\\x80\\x94Och', 'beforeâ\\x80\\x94slipping', 'oldâ\\x80\\x94that', 'porÂ¬', 'sworeâ\\x80\\x944', 'weâ\\x80\\x99re', 'peopleâ\\x80\\x94how', 'herâ\\x80\\x94Not', 'woolâ\\x80\\x94it', 'howÂ¬', 'Leviteâ\\x80\\x99s', 'listeningâ\\x80\\x94', 'inciÂ¬', 'PantÂ¬', 'toâ\\x80\\x94t/n', 'desperateâ\\x80\\x94what', 'rememberâ\\x80\\x94such', 'greenâ\\x80\\x94', 'disappointingâ\\x80\\x94it', 'brushÂ¬', 'trackâ\\x80\\x94a', 'fellowÂ¬', 'barrack-roomâ\\x80\\x94a', 'SabÂ¬', 'madâ\\x80\\x94stared', 'riverâ\\x80\\x94the', 'AÂ', 'moneyâ\\x80\\x94not', 'Edwardsâ\\x80\\x99', 'comingâ\\x80\\x94they', 'practisedâ\\x80\\x94at', 'chargÂ¬', 'FareÂ¬', 'scriptâ\\x80\\x94a', 'visitorâ\\x80\\x99ll', 'wasâ\\x80\\x94', 'Hierarchiesâ\\x80\\x99', 'giâ\\x80\\x99es', 'MarchÂ¬', 'Intonationâ\\x80\\x94that', 'manâ\\x80\\x99ll', 'conceitedâ\\x80\\x94', 'mosÂ¬', 'InocuÂ¬', 'feelâ\\x80\\x94sick', 'worldâ\\x80\\x94as', 'apÂ¬', 'thingsâ\\x80\\x94we', 'Caliphsâ\\x80\\x99', 'indifferenceâ\\x80\\x94I', 'ravenÂ¬', 'campÂ¬', 'paraffinâ\\x80\\x94or', 'morrowâ\\x80\\x94and', 'architectureâ\\x80\\x99s', 'complaÂ¬', 'dustâ\\x80\\x94metallic', 'tradeâ\\x80\\x94many', 'deerâ\\x80\\x94a', 'trueâ\\x80\\x94but', 'atâ\\x80\\x94received', 'Kheopsâ\\x80\\x99', 'Wyndâ\\x80\\x94', 'nativesâ\\x80\\x99', 'fullyâ\\x80\\x94that', 'isticâ\\x80\\x94a', 'Gerryâ\\x80\\x94even', 'smellyâ\\x80\\x99', 'novelsâ\\x80\\x94they', 'hereâ\\x80\\x94each', 'Ogilvieâ\\x80\\x94chips', 'poundsâ\\x80\\x94well', 'Houghtonâ\\x80\\x99s', 'Ogilvieâ\\x80\\x94Ake', 'geyserâ\\x80\\x99s', 'navigationâ\\x80\\x94he', 'womanâ\\x80\\x94with', 'Kaimesâ\\x80\\x99', 'herselfâ\\x80\\x94would', 'couldnâ\\x80\\x99t.â\\x80\\x99', 'blaseâ\\x80\\x94mid-aged', 'babyâ\\x80\\x94more', 'Osmanâ\\x80\\x99s', 'Heâ\\x80\\x99s', 'Howâ\\x80\\x99ll', 'dearâ\\x80\\x94if', 'Kempâ\\x80\\x99s', 'occurÂ¬', 'proveâ\\x80\\x94that', 'northÂ¬', 'petriÂ¬', 'inÂ¬', 'outâ\\x80\\x94leaping', 'knewâ\\x80\\x94how', 'restrictionsâ\\x80\\x94even', 'notâ\\x80\\x94yes', 'regeneraÂ¬', 'inhospitÂ¬', 'Ratâ\\x80\\x99s', 'whoâ\\x80\\x99ll', 'toil-harÂ¬', 'afterwardsâ\\x80\\x94into', 'Garciaâ\\x80\\x99s', 'Rainierâ\\x80\\x99s', 'sacriÂ¬', 'Sandâ\\x80\\x99s', 'handâ\\x80\\x94Help', 'horsesâ\\x80\\x99', 'Goodnessâ\\x80\\x94â\\x80\\x9d', 'star-conÂ¬', 'concesÂ¬', 'Smeyatâ\\x80\\x99cia', 'tableâ\\x80\\x94herself', 'second-in-commandâ\\x80\\x94a', 'Indiansâ\\x80\\x94Indians', 'nativesâ\\x80\\x94the', 'massesâ\\x80\\x94tourist', 'ReÂ¬', 'cameâ\\x80\\x94clean', 'ObÂ¬', 'â\\x80\\x9cItâ\\x80\\x99s', 'axe-bladeâ\\x80\\x94an', 'Shadowâ\\x80\\x94the', 'wentâ\\x80\\x94â\\x80\\x99nâ\\x80\\x99', 'â\\x80\\x99Whatâ\\x80\\x99s', 'yearsâ\\x80\\x94long', 'fâ\\x84¢', 'Araratâ\\x80\\x99s', 'frÂ°nt', 'everÂ¬', 'feltâ\\x80\\x94surely', 'unceasÂ¬', 'gazeâ\\x80\\x94that', 'pennedâ\\x80\\x94', 'youâ\\x80\\x94right', 'forewarnÂ¬', 'luckâ\\x80\\x94mine', 'subjectâ\\x80\\x94a', 'Stillâ\\x80\\x94without', 'Clairâ\\x80\\x94better', 'doorâ\\x80\\x94and', 'organÂ¬', 'bodyâ\\x80\\x9d', 'LaurenceÂ¬', 'thinkâ\\x80\\x94except', 'freedomâ\\x80\\x94', 'pawingâ\\x80\\x94and', 'Yeâ\\x80\\x99re', 'SmokÂ¬', 'desÂ¬', 'talesâ\\x80\\x94I', 'knowledgeâ\\x80\\x94a', 'regionâ\\x80\\x94resisted', 'himâ\\x80\\x94single-', 'passionâ\\x80\\x94a', 'â\\x80\\x9cSnapdragonâ\\x80\\x9d', 'Thenâ\\x80\\x99', 'ashamedâ\\x80\\x94to', 'cupâ\\x80\\x94of', 'elseâ\\x80\\x94that', 'scorchÂ¬', 'strategemâ\\x80\\x99s', 'yetâ\\x80\\x94weâ\\x80\\x99re', 'friendâ\\x80\\x99s', 'knewâ\\x80\\x94he', 'Nersesâ\\x80\\x94who', 'Bwanâ\\x80\\x94funny', 'foreÂ¬', 'disportingâ\\x80\\x94', 'Songâ\\x80\\x99s', 'IrishÂ¬', 'Continentsâ\\x80\\x9d', 'â\\x80\\x98dreamsâ\\x80\\x99', 'peopleâ\\x80\\x94archaeologists', 'civilisationâ\\x80\\x99s', 'peewitâ\\x80\\x99s', 'moonÂ¬', 'ancestryâ\\x80\\x94it', 'yeâ\\x80\\x99ll', 'modiÂ¬', 'reviewersâ\\x80\\x94wasnâ\\x80\\x99t', 'lustâ\\x80\\x94to', 'bestÂ¬', 'fifteenâ\\x80\\x94so-long', 'glintÂ¬', 'descenÂ¬', 'youâ\\x80\\x94this', 'Johnsonâ\\x80\\x99s', 'huntersâ\\x80\\x99', 'VACAâ\\x80\\x99s', 'Whoâ\\x80\\x99ll', 'to-nightâ\\x80\\x94God', 'saucepanâ\\x80\\x94back', 'legionsâ\\x80\\x99', 'tenderÂ¬', 'fingersâ\\x80\\x94', 'sureâ\\x80\\x94yet.â\\x80\\x99', 'difficulÂ¬', 'AmericanÂ¬', 'dearâ\\x80\\x94he', 'thisâ\\x80\\x94blasted', 'Portugalâ\\x80\\x99s', 'inshoreÂ¬', 'Yesâ\\x80\\x94damned', 'Fridtjofâ\\x80\\x99s', 'Chineseâ\\x80\\x94and', 'â\\x80\\x98Sinclairâ\\x80\\x94no', 'painfullyâ\\x80\\x94the', 'speechâ\\x80\\x94which', 'MacDonaldâ\\x80\\x94to', 'Gorkiâ\\x80\\x94Weâ\\x80\\x99ll', 'thisâ\\x80\\x94wait', 'DrumÂ¬', 'TestaÂ¬', 'adoÂ¬', 'Detectivesâ\\x80\\x9d', 'stormâ\\x80\\x94failed', 'finger-tipsâ\\x80\\x99', 'Adventureâ\\x80\\x99s', 'cultureâ\\x80\\x94they', 'rushâ\\x80\\x94a', 'INDRAâ\\x80\\x94GANESHA', 'mealâ\\x80\\x94bored', 'Unwiseâ\\x80\\x9d', 'ingsâ\\x80\\x94', 'Lehmannâ\\x80\\x99s', 'marriageâ\\x80\\x94why', 'urgeâ\\x80\\x94as', 'everâ\\x80\\x94not', 'fossilsâ\\x80\\x94of', 'Galtâ\\x80\\x94Speaking', 'outâ\\x80\\x94Godstreuth', 'doctrinaireâ\\x80\\x99s', 'Meiklebogsâ\\x80\\x94behind', 'thatâ\\x80\\x94if', 'themâ\\x80\\x94theyâ\\x80\\x99re', 'thenâ\\x80\\x94Iâ\\x80\\x99ll', 'risingâ\\x80\\x99s', 'â\\x80\\x9cSheâ\\x80\\x99s', 'doctorâ\\x80\\x99ll', 'saidâ\\x80\\x94that', 'heyâ\\x80\\x99d', 'fasciÂ¬', 'onÂ¬', 'hoeâ\\x80\\x94generally', 'eunuchâ\\x80\\x99s', 'Wellsâ\\x80\\x99s', 'desertâ\\x80\\x94or', 'TransÂ¬', 'glassâ\\x80\\x94known', 'yearsâ\\x80\\x94that', 'glimpsesâ\\x80\\x94those', 'seasâ\\x80\\x94islands', 'beggarsâ\\x80\\x99', 'thoughtâ\\x80\\x94â\\x80\\x9d', 'gladâ\\x80\\x94and', 'â\\x80\\x94Columbusâ\\x80\\x99s', 'desoÂ¬', 'guessâ\\x80\\x94oh', 'overMalcomâ\\x80\\x99s', 'instrumentâ\\x80\\x9d', 'eitherâ\\x80\\x94the', 'existsâ\\x80\\x94Surely', 'Chacoâ\\x80\\x94an', 'dreamsâ\\x80\\x94and', 'dogsâ\\x80\\x9d', 'foundedâ\\x80\\x94as', 'courseâ\\x80\\x94Mench', 'deformÂ¬', 'girlâ\\x80\\x94itâ\\x80\\x99s', 'bankerâ\\x80\\x99s', 'anyÂ¬', 'triedâ\\x80\\x94', 'to-morrowâ\\x80\\x94not', 'Ageâ\\x80\\x94Mr', 'SinÂ¬', 'amâ\\x80\\x94and', 'hornetsâ\\x80\\x99', 'â\\x80\\x9cButâ\\x80\\x94â\\x80\\x9d', 'darkâ\\x80\\x94as', 'crackedâ\\x80\\x94â\\x80\\x99', 'catâ\\x80\\x94lovely', 'antiÂ¬', 'Clodiusâ\\x80\\x99', 'everâ\\x80\\x94may', 'priestâ\\x80\\x99s', 'AristoÂ¬', 'wellâ\\x80\\x99s', 'viceroyâ\\x80\\x99s', 'Theyâ\\x80\\x99re', 'picturÂ¬', 'manâ\\x80\\x94a', 'himâ\\x80\\x94that', 'inhibiÂ¬', 'Walesâ\\x80\\x99', 'youthfulâ\\x80\\x94was', 'upâ\\x80\\x94playing', 'liberÂ¬', 'sideâ\\x80\\x94they', 'himâ\\x80\\x94but', 'stutÂ¬', 'millionaireâ\\x80\\x99s', 'augursâ\\x80\\x99', 'Nicolaosâ\\x80\\x99s', 'Tatlerâ\\x80\\x99s', 'brotherâ\\x80\\x94were', 'Moonâ\\x80\\x9d', 'whereâ\\x80\\x99ve', 'Jillifreeâ\\x80\\x94el', 'keeperâ\\x80\\x94the', 'RobertÂ¬', 'colmâ\\x80\\x99sâ\\x80\\x94Christ', 'andâ\\x80\\x94disastrously', 'Rememberâ\\x80\\x94the', 'momentâ\\x80\\x94out', 'PetersÂ¬', 'Jakeâ\\x80\\x99ll', 'jobâ\\x80\\x94except', 'dâ\\x80\\x99you', 'PaperÂ¬', 'oneâ\\x80\\x94mad', 'hiking-dressâ\\x80\\x94perhaps', 'Pillowâ\\x80\\x99s', 'diÂ¬', 'firstâ\\x80\\x94excepting', 'himselfâ\\x80\\x94and', 'diffuÂ¬', 'jobâ\\x80\\x94the', 'awayâ\\x80\\x94but', 'afforÂ¬', 'sagaâ\\x80\\x94of', 'Gloagâ\\x80\\x99s', 'himâ\\x80\\x94gently', 'tionâ\\x80\\x94', 'itâ\\x80\\x94cleansed', 'honeyâ\\x80\\x99s', 'withâ\\x80\\x94and', 'downwardsâ\\x80\\x94it', 'Iâ\\x80\\x9d', 'Pauperâ\\x80\\x99s', 'oilâ\\x80\\x94Government', 'Rossettiâ\\x80\\x99sâ\\x80\\x94lines', 'yetâ\\x80\\x94that', 'immiÂ¬', 'formaÂ¬', 'Clareâ\\x80\\x94Hassanâ\\x80\\x94all', 'childrenâ\\x80\\x99s', 'Lightâ\\x80\\x94but', 'mirthâ\\x80\\x94about', 'workâ\\x80\\x99s', 'whyâ\\x80\\x94now', 'Antonâ\\x80\\x94a', 'Electionâ\\x80\\x99s', 'ruckÂ¬', 'brightenÂ¬', 'stallionâ\\x80\\x99s', 'timeâ\\x80\\x99s', 'aroundâ\\x80\\x94sheâ\\x80\\x99d', 'temple-buildingâ\\x80\\x94had', 'â\\x80\\x9cKANSASâ\\x80\\x99', 'nightmareâ\\x80\\x94civilization', 'Sotoâ\\x80\\x99s', 'chocoÂ¬', 'peramÂ¬', 'wingâ\\x80\\x9d', 'Verdictâ\\x80\\x9d', 'incognitaâ\\x80\\x94or', 'shazzarâ\\x80\\x99s', 'kingâ\\x80\\x99s', 'trackÂ¬', 'forgetâ\\x80\\x94the', 'Meccaâ\\x80\\x94I', 'disbeliefâ\\x80\\x94to', 'dyingâ\\x80\\x94and', 'raidersâ\\x80\\x99', 'Eskandarâ\\x80\\x99s', 'thistledownâ\\x80\\x94', 'goldâ\\x80\\x94all', 'unnecesÂ¬', 'herâ\\x80\\x94they', 'everâ\\x80\\x94wars', 'skinÂ¬', 'harÂ¬', 'Damâ\\x80\\x94the', 'â\\x80\\x9citâ\\x80\\x99s', 'stuÂ¬', 'readingâ\\x80\\x94Oh', 'â\\x80\\x98Youâ\\x80\\x99ll', 'Tigrisâ\\x80\\x99', 'changeâ\\x80\\x94all', 'faâ\\x80\\x99', 'troydâ\\x80\\x99s', 'supportersâ\\x80\\x99', 'rockâ\\x80\\x94to', 'tionâ\\x80\\x94a', 'Cambodiaâ\\x80\\x94or', 'looseâ\\x80\\x94and', 'leftâ\\x80\\x94a', 'womanâ\\x80\\x99s', 'Georgiosâ\\x80\\x99', 'bairnâ\\x80\\x94God', 'whereâ\\x80\\x94some', 'Minneapolisâ\\x80\\x94a', 'mindâ\\x80\\x94Some', 'fishersâ\\x80\\x99', 'aeroÂ¬', 'manâ\\x80\\x94or', 'timeâ\\x80\\x94even', 'threeâ\\x80\\x94suddenly', 'Whyâ\\x80\\x99d', 'themâ\\x80\\x94it', 'guileÂ¬', 'Robertâ\\x80\\x94not', 'Ohâ\\x80\\x94aheeâ\\x80\\x94', 'Pewseyâ\\x80\\x94you', 'votionsâ\\x80\\x94and', 'roomâ\\x80\\x94not', 'Colquohounâ\\x80\\x94ay', 'Sihorâ\\x80\\x9d', 'Talkiesâ\\x80\\x94och', 'informÂ¬', 'yoursâ\\x80\\x94do', 'Warâ\\x80\\x94He', 'endâ\\x80\\x94knowledge', 'thereâ\\x80\\x99â\\x80\\x94she', 'protecÂ¬', 'Mansongâ\\x80\\x99s', 'hâ\\x80\\x9d', 'Swinburneâ\\x80\\x94remember', 'sorryâ\\x80\\x94', 'loathÂ¬', 'torturedâ\\x80\\x94this', 'Jeanâ\\x80\\x99s', 'herselfâ\\x80\\x94she', 'â\\x80\\x98Theyâ\\x80\\x99ve', 'unconÂ¬', 'yetâ\\x80\\x94â\\x80\\x94', 'emâ\\x80\\x94yer', 'thoughtâ\\x80\\x94what', 'resistanceâ\\x80\\x94no', 'inâ\\x80\\x94ay', 'JErtzâ\\x80\\x94his', 'appetiteâ\\x80\\x94albeit', 'beingsâ\\x80\\x94faces', 'thoughtâ\\x80\\x94it', 'countsâ\\x80\\x94', 'peneÂ¬', 'managerâ\\x80\\x99s', 'friendshipâ\\x80\\x94^patronising', 'Andersonâ\\x80\\x94these', 'travellerâ\\x80\\x99s', 'minuteâ\\x80\\x94I', 'mineâ\\x80\\x94Iâ\\x80\\x99m', 'herdâ\\x80\\x99ll', 'disappearedâ\\x80\\x94or', 'restaurantâ\\x80\\x94', 'hijraâ\\x80\\x94Andres', 'Brockettâ\\x80\\x99s', 'numerÂ¬', 'Todheadâ\\x80\\x99s', 'eyesâ\\x80\\x94into', 'poetryâ\\x80\\x94a', 'â\\x80\\x98Mustnâ\\x80\\x99t', 'sitesâ\\x80\\x94even', 'Mantellâ\\x80\\x99s', 'justifyâ\\x80\\x94the', 'loveâ\\x80\\x94', 'Mearnsâ\\x80\\x99', 'Americaâ\\x80\\x94', 'eggsâ\\x80\\x9d', 'menâ\\x80\\x94in', 'quotedâ\\x80\\x94not', 'routesâ\\x80\\x94not', 'destroyÂ¬', 'trueâ\\x80\\x94and', 'â\\x80\\x9cHâ\\x80\\x99m', 'Berkhuâ\\x80\\x99s', 'â\\x80\\x9cButâ\\x80\\x94Iâ\\x80\\x99m', 'Jezâ\\x80\\x94Jesus', 'ventureâ\\x80\\x94how', 'Iâ\\x80\\x99', 'hillâ\\x80\\x94It', 'spyâ\\x80\\x99s', 'darkâ\\x80\\x94they', 'convictedâ\\x80\\x94had', 'Earthâ\\x80\\x9d', 'Headacheâ\\x80\\x94of', 'neatÂ¬', 'â\\x80\\x9cIâ\\x80\\x99ve', 'amateurÂ¬', 'lastâ\\x80\\x94visions', 'maynâ\\x80\\x99t', 'civilizationâ\\x80\\x94lived', 'couldnâ\\x80\\x99t', 'Geijerstamsâ\\x80\\x99', 'retiariusâ\\x80\\x99', 'Mayvenâ\\x80\\x99s', 'youâ\\x80\\x94so', 'blood-sacriÂ¬', 'herdsâ\\x80\\x94uprose', 'somethingâ\\x80\\x94Clyde', 'shelvesâ\\x80\\x94â\\x80\\x98these', 'â\\x80\\x94generÂ¬', 'thatâ\\x80\\x94mighty', 'accentlessâ\\x80\\x94this', 'riâ\\x80\\x99', 'flounÂ¬', 'aluminÂ¬', 'ToÂ¬', 'oneâ\\x80\\x94northwards', 'continuÂ¬', 'allâ\\x80\\x94a', 'writeâ\\x80\\x9d', 'Sometimeâ\\x80\\x94^forgiveÂ¬', 'achieveÂ¬', 'blankÂ¬', 'Gabrielâ\\x80\\x94over', 'Danâ\\x80\\x99s', 'Foundâ\\x80\\x94God', 'Shapeâ\\x80\\x99', 'itâ\\x80\\x94twenty-five', 'advancÂ¬', 'inapproÂ¬', 'deficienÂ¬', 'RheÂ¬', 'saidâ\\x80\\x94youâ\\x80\\x99d', 'forcesâ\\x80\\x94Fascist', 'menâ\\x80\\x94but', 'shoreÂ¬', 'interiorâ\\x80\\x94an', 'â\\x80\\x9cUpÂ¬', 'Ledgworthâ\\x80\\x94came', 'yetâ\\x80\\x94with', 'faceÂ¬', 'backâ\\x80\\x94this', 'uninhabitedâ\\x80\\x94â\\x80\\x9ctwelve', 'tireÂ¬', 'Seaâ\\x80\\x9d', 'restâ\\x80\\x94they', 'Nineâ\\x80\\x94transmuted', 'penÂ¬', 'toilâ\\x80\\x94or', 'Coastâ\\x80\\x94in', 'GatherÂ¬', 'Shirazâ\\x80\\x94a', 'Mileâ\\x80\\x94till', 'Moxonâ\\x80\\x99s', 'Kempâ\\x80\\x94a', 'againâ\\x80\\x99', 'morningâ\\x80\\x94what', 'thinkingâ\\x80\\x94of', 'drumÂ¬', 'attireâ\\x80\\x94the', 'submarine-earthquakeâ\\x80\\x94two', 'wellâ\\x80\\x94that', 'experienceâ\\x80\\x94anything', 'â\\x80\\x9cHowâ\\x80\\x99s', 'Intentâ\\x80\\x9d', 'streetÂ¬', 'râ\\x80\\x99s', 'longâ\\x80\\x94the', 'lifeâ\\x80\\x94could', 'routeâ\\x80\\x94here', 'himâ\\x80\\x94bright-eyed', 'splendourâ\\x80\\x9d', 'beginÂ¬', 'plentyâ\\x80\\x94for', 'alternaÂ¬', 'youâ\\x80\\x99ve', 'threadÂ¬', 'Thoritosâ\\x80\\x99', 'mareâ\\x80\\x99s', 'leastâ\\x80\\x94Tizimin', 'Worldâ\\x80\\x9d', 'Turkâ\\x80\\x99s', 'sweirâ\\x80\\x94', 'thingsâ\\x80\\x94', 'mis-christeningâ\\x80\\x94â\\x80\\x9cbecause', 'girlsâ\\x80\\x99', 'Williamâ\\x80\\x99s', 'liesâ\\x80\\x99', 'youngÂ¬', 'Scotlandâ\\x80\\x94there', 'Butâ\\x80\\x94-have', 'birthdayâ\\x80\\x94he', 'whiteâ\\x80\\x99s', 'suffiÂ¬', 'spinÂ¬', 'enoughâ\\x80\\x94', 'stopâ\\x80\\x94', 'CREATIONâ\\x80\\x99S', 'classificaÂ¬', 'ClydeÂ¬', 'squatting-placesâ\\x80\\x94the', 'longerâ\\x80\\x94', 'lifeâ\\x80\\x94to', 'workersâ\\x80\\x99', 'cÂ', 'figureâ\\x80\\x94and', 'himselfâ\\x80\\x94his', 'Thisâ\\x80\\x99ll', 'Trustaâ\\x80\\x99s', 'driftÂ¬', 'visitorâ\\x80\\x99s', 'Miriamâ\\x80\\x99s', 'disreputableâ\\x80\\x94shockinglyâ\\x80\\x94and', 'specuÂ¬', 'mornâ\\x80\\x94well', 'Saloneyâ\\x80\\x99ll', 'Martovâ\\x80\\x94and', 'menâ\\x80\\x94a', 'minuteâ\\x80\\x94', 'Cairoâ\\x80\\x94in', 'isâ\\x80\\x94Huitzilopochtli.â\\x80\\x99', 'wastesâ\\x80\\x94Life', 'informaÂ¬', 'Shepherdâ\\x80\\x99s', 'Refugeesâ\\x80\\x99', 'herâ\\x80\\x94â\\x80\\x9cFor', 'Salomeâ\\x80\\x99s', 'Provostâ\\x80\\x99s', 'anyhowâ\\x80\\x94', 'memoryâ\\x80\\x94maths', 'compositionâ\\x80\\x94with', 'familyâ\\x80\\x94carcinomata', 'Calgacusâ\\x80\\x99', 'readÂ¬', 'Ailieâ\\x80\\x99s', 'tabooâ\\x80\\x94the', 'haveâ\\x80\\x94the', 'minutesâ\\x80\\x99', 'awayâ\\x80\\x94', 'wasâ\\x80\\x94a', 'Toltecsâ\\x80\\x99', 'incompreÂ¬', 'courseâ\\x80\\x94if', 'eyesâ\\x80\\x94how', 'Briartonâ\\x80\\x99s', 'measÂ¬', 'widowerâ\\x80\\x94came', 'nightâ\\x80\\x94so', 'Riverâ\\x80\\x94gold', 'suitâ\\x80\\x94What', 'Dominantâ\\x80\\x94a', 'â\\x80\\x9cLifeâ\\x80\\x9d', 'â\\x80\\x98weâ\\x80\\x99ve', 'reasonsâ\\x80\\x94since', 'Robertsonâ\\x80\\x99s', 'themâ\\x80\\x94for', 'daysâ\\x80\\x94the', 'scandalâ\\x80\\x94', 'dotsâ\\x80\\x94dots', 'knowâ\\x80\\x94they', 'bonesâ\\x80\\x94the', 'heightâ\\x80\\x94or', 'Linesâ\\x80\\x99', 'remainsâ\\x80\\x94Christ', 'â\\x80\\x98Canâ\\x80\\x99t', 'darknessâ\\x80\\x94fun', 'Butâ\\x80\\x94there', 'microÂ¬', 'landladyâ\\x80\\x99s', 'spearsâ\\x80\\x94saw', 'wellâ\\x80\\x94soured', 'Folkâ\\x80\\x99ll', 'â\\x80\\x9clegâ\\x80\\x9d', 'doesnâ\\x80\\x99t', 'prevaÂ¬', 'husbandâ\\x80\\x94he', 'tentaÂ¬', 'campedâ\\x80\\x94that', 'doneâ\\x80\\x94took', 'beforeâ\\x80\\x94the', 'slingerâ\\x80\\x99s', 'CzechoÂ¬', 'sawâ\\x80\\x94what', 'MONTHâ\\x80\\x99S', 'ancientsâ\\x80\\x94those', 'hereâ\\x80\\x94in', 'Godâ\\x80\\x94if', 'yearâ\\x80\\x94the', 'Fmâ\\x80\\x94Iâ\\x80\\x99m', 'contingencyâ\\x80\\x94â\\x80\\x9cand', 'dragÂ¬', 'â\\x80\\x9cButâ\\x80\\x94arenâ\\x80\\x99t', 'labourersâ\\x80\\x94who', 'pigâ\\x80\\x94may', 'documentâ\\x80\\x99s', 'nightâ\\x80\\x94if', 'pointâ\\x80\\x94fanatically', 'columnsâ\\x80\\x94they', 'â\\x80\\x94Itâ\\x80\\x99s', 'eastâ\\x80\\x94and', 'Stevenâ\\x80\\x94are', 'GriÂ¬', 'fireâ\\x80\\x94grey', 'THEMâ\\x80\\x94this', 'awayâ\\x80\\x94looked'}\n"
     ]
    }
   ],
   "source": [
    "print(list(corpus_find_pattern(lgg_tokens, re_pattern))[:100])"
   ]
  },
  {
   "cell_type": "markdown",
   "id": "62ab21be",
   "metadata": {},
   "source": [
    "Aaaaaand this was the point at which I figured out what is going on with these weird sequences. \n",
    "\n",
    "I did a bit of detective work on it, and it turns out these sequences are UTF-8 characters, incorrectly decoded in 'latin1', the character encoding we used when we first read the data from the directory. For instance, in UTF-8 an open double curly quote `“` is encoded as `\\xe2\\x80\\x9b`. This encoding uses three binary bytes to encode the character. The `\\x` is an escape sequence that indicates the following two characters are a binary byte written in hexidecimal - that is, base 16. So, `e2` is 226, which in latin1 is 'â'. `\\x80\\x9b` isn't anything in latin1, so it isn't decoded as anything.\n",
    "\n",
    "The sensible thing to do here, the thing that we would in fact do if this was a real project, rather than an exercise for a class, would be this:"
   ]
  },
  {
   "cell_type": "code",
   "execution_count": 31,
   "id": "1034d354",
   "metadata": {},
   "outputs": [
    {
     "name": "stderr",
     "output_type": "stream",
     "text": [
      "<>:1: SyntaxWarning: invalid escape sequence '\\d'\n",
      "<>:1: SyntaxWarning: invalid escape sequence '\\d'\n",
      "/var/folders/2s/vq2lnwx92y12_p32vv6jbzhr0000gn/T/ipykernel_15759/599149775.py:1: SyntaxWarning: invalid escape sequence '\\d'\n",
      "  wordlists_utf8 = PlaintextCorpusReader(data_directory, \"\\d.*\", encoding=\"utf-8\")\n"
     ]
    }
   ],
   "source": [
    "\n",
    "wordlists_utf8 = PlaintextCorpusReader(data_directory, \"\\d.*\", encoding=\"utf-8\")"
   ]
  },
  {
   "cell_type": "code",
   "execution_count": 32,
   "id": "49cc641a",
   "metadata": {},
   "outputs": [
    {
     "name": "stdout",
     "output_type": "stream",
     "text": [
      "['R', ',', '17U', '\\\\(', 'o', 'First', 'journey', 'National', 'Library', 'of', 'Scotland', '‘', 'B000054136', '*', 'TIMBUCTOO', 'NIGER', 'BY', 'THE', 'SAME', 'AUTHOR', 'Novels', 'forming', 'the', 'trilogy', ',', 'A', 'Scots', 'Quair', 'Part', 'I', '.', 'Sunset', 'Song', '(', '1932', ')', 'Part', 'II', '.', 'Cloud', 'Howe', '(', '1933', ')', 'Part', 'III', '.', 'Grey', 'Granite', '(']\n"
     ]
    }
   ],
   "source": [
    "print(wordlists_utf8.words()[:50])"
   ]
  },
  {
   "cell_type": "markdown",
   "id": "dbe3907c",
   "metadata": {},
   "source": [
    "...And then we'd re-do the data processing we've done so far, and re-check it for any weird artefacts and OCR-errors. However, there is another point I'd like to make about this sort of data analysis, which is that, depending on what it is you are trying to find out, sometimes a time-consuming and painstaking data-cleaning isn't needed. If we want to do an analysis of Gibbon's lexicon, for instance, we might just toss out every malformed token, and do our analysis using the rest.\n",
    "\n",
    "So, let's make a function that goes through a corpus and removes every token that contains 'â', 'Â', or any non-alphabetic character: (note that `str.isapha()` considers 'â' and 'Â' to be alphabetic)"
   ]
  },
  {
   "cell_type": "code",
   "execution_count": 33,
   "id": "1becca2c",
   "metadata": {},
   "outputs": [
    {
     "name": "stdout",
     "output_type": "stream",
     "text": [
      "['R', 'o', 'First', 'journey', 'National', 'Library', 'of', 'Scotland', 'TIMBUCTOO', 'NIGER', 'BY', 'THE', 'SAME', 'AUTHOR', 'Novels', 'forming', 'the', 'trilogy', 'A', 'Scots', 'Quair', 'Part', 'Sunset', 'Song', 'Part', 'II', 'Cloud', 'Howe', 'Part', 'III', 'Grey', 'Granite', 'MUNCiO', 'PARK', 'NIGER', 'THE', 'LIFE', 'OF', 'MUNGO', 'PARK']\n"
     ]
    }
   ],
   "source": [
    "def filter_nonalphabetic(corpus):\n",
    "    # your code here\n",
    "    new_corpus = [token for token in corpus if token.isalpha()]\n",
    "    new_corpus = [token for token in new_corpus if 'â' not in token]\n",
    "    return [token for token in new_corpus if 'Â' not in token]\n",
    "    \n",
    "lgg_alpha = filter_nonalphabetic(lgg_tokens)\n",
    "print(lgg_alpha[:40])"
   ]
  },
  {
   "cell_type": "markdown",
   "id": "fd4abb94",
   "metadata": {},
   "source": [
    "There. Good enough."
   ]
  },
  {
   "cell_type": "markdown",
   "id": "functional-equation",
   "metadata": {},
   "source": [
    "Ta da!"
   ]
  },
  {
   "cell_type": "markdown",
   "id": "b5db2675",
   "metadata": {},
   "source": [
    "<a id=\"normalization\"></a>\n",
    "## III. Normalization"
   ]
  },
  {
   "cell_type": "markdown",
   "id": "5cd443fb",
   "metadata": {},
   "source": [
    "A bit more preprocessing before we start our analysis.\n",
    "\n",
    "Let's casefold to normalize so capitalized and lowercased versions of words are considered the same word:"
   ]
  },
  {
   "cell_type": "code",
   "execution_count": 34,
   "id": "75b7cd02",
   "metadata": {},
   "outputs": [
    {
     "name": "stdout",
     "output_type": "stream",
     "text": [
      "['r', 'o', 'first', 'journey', 'national', 'library', 'of', 'scotland', 'timbuctoo', 'niger', 'by', 'the', 'same', 'author', 'novels', 'forming', 'the', 'trilogy', 'a', 'scots']\n"
     ]
    }
   ],
   "source": [
    "# your code here\n",
    "def lowercase_all(words):\n",
    "    return [word.lower() for word in words]\n",
    "\n",
    "lgg_words_lower = lowercase_all(lgg_alpha)\n",
    "print(lgg_words_lower[:20])"
   ]
  },
  {
   "cell_type": "markdown",
   "id": "75409713",
   "metadata": {},
   "source": [
    "...and exclude stopwords using `stopwords.words(language)`:"
   ]
  },
  {
   "cell_type": "code",
   "execution_count": 35,
   "id": "2a1d4f48",
   "metadata": {},
   "outputs": [
    {
     "name": "stdout",
     "output_type": "stream",
     "text": [
      "1153844\n",
      "565658\n"
     ]
    }
   ],
   "source": [
    "# your code here\n",
    "def remove_stopwords(corpus: list[str], min_len: int, language: str) -> list[str]:\n",
    "    \"\"\"Iterates through a list of words and removes all words of length less\n",
    "    than min_len, and all words in `stopwords.words(language)`\n",
    "\n",
    "    Parameters\n",
    "    ----------\n",
    "        words (list of str):\n",
    "            the list of words to be filtered \n",
    "        min_len (int):\n",
    "            minimum length for words: words shorter than this should be \n",
    "            filtered out\n",
    "        language (str):\n",
    "            name of corpus language, in lower case. This is used to identify\n",
    "            the correct stopwords list\n",
    "    \"\"\"\n",
    "    # your code here\n",
    "    to_exclude = set(stopwords.words('english'))\n",
    "    return [w for w in corpus if (len(w) >= min_len and not w in to_exclude)]\n",
    "\n",
    "filtered_lower = remove_stopwords(lgg_words_lower, 3, 'english')\n",
    "print(len(lgg_words_lower))\n",
    "print(len(filtered_lower))"
   ]
  },
  {
   "cell_type": "markdown",
   "id": "c6c0a32f",
   "metadata": {},
   "source": [
    "Before we go on to analysis, here's a function that chains together all the processing we've done, in case we need to do it again for any reason..."
   ]
  },
  {
   "cell_type": "code",
   "execution_count": 36,
   "id": "85220beb",
   "metadata": {},
   "outputs": [
    {
     "name": "stderr",
     "output_type": "stream",
     "text": [
      "<>:6: SyntaxWarning: invalid escape sequence '\\d'\n",
      "<>:6: SyntaxWarning: invalid escape sequence '\\d'\n",
      "/var/folders/2s/vq2lnwx92y12_p32vv6jbzhr0000gn/T/ipykernel_15759/3701654305.py:6: SyntaxWarning: invalid escape sequence '\\d'\n",
      "  wordlists2 = PlaintextCorpusReader(data_directory, \"\\d.*\", encoding=\"latin1\")\n"
     ]
    }
   ],
   "source": [
    "def process_corpus(wordlist, min_len=3, language='english'):\n",
    "    processed = filter_nonalphabetic(wordlist)\n",
    "    processed = lowercase_all(processed)\n",
    "    return remove_stopwords(processed, min_len, language)\n",
    "\n",
    "wordlists2 = PlaintextCorpusReader(data_directory, \"\\d.*\", encoding=\"latin1\")\n",
    "corpus_tokens2, _ = get_words_sents(wordlists2)\n",
    "processed_corpus = process_corpus(corpus_tokens2)\n"
   ]
  },
  {
   "cell_type": "code",
   "execution_count": 37,
   "id": "675971ad",
   "metadata": {},
   "outputs": [
    {
     "name": "stdout",
     "output_type": "stream",
     "text": [
      "['preliminary', 'note', 'think', 'read', 'almost', 'everything', 'mungo', 'everything', 'still', 'survives', 'print', 'manuscript', 'two', 'interesting', 'letters', 'peebles', 'days', 'seem', 'found', 'way', 'america', 'though', 'tried', 'could', 'trail', 'definite', 'locality', 'exhausting', 'experience', 'reading', 'certain', 'private', 'collection', 'denied', 'right', 'either', 'quote', 'mention', 'name', 'incident']\n"
     ]
    }
   ],
   "source": [
    "print(processed_corpus[60:100])"
   ]
  },
  {
   "cell_type": "markdown",
   "id": "9e1cc781",
   "metadata": {},
   "source": [
    "<a id=\"analysis\"></a>\n",
    "## IV. Analysis"
   ]
  },
  {
   "cell_type": "markdown",
   "id": "b63226db",
   "metadata": {},
   "source": [
    "Let's calculate the frequency distribution again, now that we have cleaned and normalised our data:"
   ]
  },
  {
   "cell_type": "code",
   "execution_count": 38,
   "id": "9b1e653c",
   "metadata": {},
   "outputs": [
    {
     "name": "stdout",
     "output_type": "stream",
     "text": [
      "Total words after filtering: 596426\n",
      "50 most common words after filtering: [('would', 3240), ('said', 3142), ('came', 2885), ('like', 2861), ('one', 2599), ('great', 2217), ('back', 2098), ('little', 2085), ('went', 1903), ('looked', 1903), ('long', 1874), ('eyes', 1739), ('night', 1730), ('still', 1647), ('time', 1615), ('face', 1581), ('old', 1564), ('though', 1558), ('man', 1498), ('saw', 1493), ('come', 1481), ('well', 1472), ('two', 1428), ('day', 1423), ('could', 1413), ('men', 1385), ('chris', 1364), ('never', 1363), ('thought', 1339), ('last', 1265), ('heard', 1241), ('head', 1228), ('made', 1223), ('found', 1161), ('years', 1148), ('mungo', 1145), ('first', 1141), ('away', 1125), ('even', 1112), ('hand', 1088), ('life', 1075), ('far', 1071), ('upon', 1042), ('new', 1026), ('god', 1021), ('stood', 1015), ('three', 1003), ('see', 994), ('sat', 971), ('half', 965)]\n"
     ]
    }
   ],
   "source": [
    "fdist_filtered_lower = FreqDist(processed_corpus)\n",
    "print(\"Total words after filtering:\", fdist_filtered_lower.N())\n",
    "print(\"50 most common words after filtering:\", fdist_filtered_lower.most_common(50))"
   ]
  },
  {
   "cell_type": "markdown",
   "id": "5fa06f33",
   "metadata": {},
   "source": [
    "Happily, I don't see anything there that looks dubious.\n",
    "\n",
    "Let's plot the frequency distributions of the *n* most common words"
   ]
  },
  {
   "cell_type": "code",
   "execution_count": 39,
   "id": "3d5b6d84",
   "metadata": {},
   "outputs": [],
   "source": [
    "def freq_plot(corpus, n):\n",
    "    fdist_filtered_lower = FreqDist(filtered_lower)\n",
    "    plt.figure(figsize = (20, 8))\n",
    "    plt.rc('font', size=12)\n",
    "    fdist_filtered_lower.plot(n, title=f'Frequency Distribution for {n} Most Common Tokens in the Standardised LGG Dataset (excluding stop words)')\n",
    "    plt.show()"
   ]
  },
  {
   "cell_type": "code",
   "execution_count": 40,
   "id": "7e6e87af",
   "metadata": {},
   "outputs": [
    {
     "data": {
      "image/png": "[encoded data removed]",
      "text/plain": [
       "<Figure size 2000x800 with 1 Axes>"
      ]
     },
     "metadata": {},
     "output_type": "display_data"
    }
   ],
   "source": [
    "freq_plot(processed_corpus, 20) # Try increasing or decreasing this number to view more or fewer tokens in the visualization"
   ]
  },
  {
   "cell_type": "code",
   "execution_count": 41,
   "id": "4d9727f7",
   "metadata": {},
   "outputs": [],
   "source": [
    "# INPUT: wordlists and the fileid of the wordlist to be tokenised\n",
    "# OUTPUT: a list of word tokens (in String format) for the inputted fileid\n",
    "def get_words(plaintext_corpus_read_lists, fileid):\n",
    "    file_words = process_corpus(plaintext_corpus_read_lists.words(fileid))\n",
    "    str_words = [str(word) for word in file_words]    \n",
    "    return str_words"
   ]
  },
  {
   "cell_type": "code",
   "execution_count": 42,
   "id": "7ff6e835",
   "metadata": {},
   "outputs": [],
   "source": [
    "def get_all_words(fileids):\n",
    "    words_by_file = []\n",
    "    for file in fileids:\n",
    "        words_by_file += [get_words(wordlists, file)]\n",
    "    return words_by_file\n",
    "\n",
    "words_by_file = get_all_words(fileids)"
   ]
  },
  {
   "cell_type": "code",
   "execution_count": 43,
   "id": "e6837450",
   "metadata": {},
   "outputs": [],
   "source": [
    "# INPUT: a list of words in String format\n",
    "# OUTPUT: the number of unique words divided by\n",
    "#         the total words in the inputted list\n",
    "def lexical_diversity(str_words_list):\n",
    "    return len(set(str_words_list))/len(str_words_list)"
   ]
  },
  {
   "cell_type": "markdown",
   "id": "f5e3fcca",
   "metadata": {},
   "source": [
    "Add to the inventory..."
   ]
  },
  {
   "cell_type": "code",
   "execution_count": 44,
   "id": "e21cd1f9",
   "metadata": {},
   "outputs": [
    {
     "data": {
      "text/html": [
       "<div>\n",
       "<style scoped>\n",
       "    .dataframe tbody tr th:only-of-type {\n",
       "        vertical-align: middle;\n",
       "    }\n",
       "\n",
       "    .dataframe tbody tr th {\n",
       "        vertical-align: top;\n",
       "    }\n",
       "\n",
       "    .dataframe thead th {\n",
       "        text-align: right;\n",
       "    }\n",
       "</style>\n",
       "<table border=\"1\" class=\"dataframe\">\n",
       "  <thead>\n",
       "    <tr style=\"text-align: right;\">\n",
       "      <th></th>\n",
       "      <th>fileid</th>\n",
       "      <th>title</th>\n",
       "      <th>lexicaldiversity</th>\n",
       "    </tr>\n",
       "  </thead>\n",
       "  <tbody>\n",
       "    <tr>\n",
       "      <th>10</th>\n",
       "      <td>205174251.txt</td>\n",
       "      <td>Scots quair - Sunset song - NF.523.b.29</td>\n",
       "      <td>0.136252</td>\n",
       "    </tr>\n",
       "    <tr>\n",
       "      <th>8</th>\n",
       "      <td>205174249.txt</td>\n",
       "      <td>Scots quair - Cloud howe - NF.523.b.30</td>\n",
       "      <td>0.143998</td>\n",
       "    </tr>\n",
       "    <tr>\n",
       "      <th>6</th>\n",
       "      <td>205174247.txt</td>\n",
       "      <td>Spartacus - Vts.6.k.19</td>\n",
       "      <td>0.173469</td>\n",
       "    </tr>\n",
       "    <tr>\n",
       "      <th>9</th>\n",
       "      <td>205174250.txt</td>\n",
       "      <td>Scots quair - Grey granite - NF.523.b.31</td>\n",
       "      <td>0.178205</td>\n",
       "    </tr>\n",
       "    <tr>\n",
       "      <th>12</th>\n",
       "      <td>205174253.txt</td>\n",
       "      <td>Nine against the unknown - S.72.d.10</td>\n",
       "      <td>0.197000</td>\n",
       "    </tr>\n",
       "    <tr>\n",
       "      <th>2</th>\n",
       "      <td>205174243.txt</td>\n",
       "      <td>Three go back - Vts.152.f.22</td>\n",
       "      <td>0.210224</td>\n",
       "    </tr>\n",
       "    <tr>\n",
       "      <th>14</th>\n",
       "      <td>205174255.txt</td>\n",
       "      <td>Gay hunter - Vts.215.j.26</td>\n",
       "      <td>0.211580</td>\n",
       "    </tr>\n",
       "    <tr>\n",
       "      <th>13</th>\n",
       "      <td>205174254.txt</td>\n",
       "      <td>Conquest of the Maya - S.60.c</td>\n",
       "      <td>0.218136</td>\n",
       "    </tr>\n",
       "    <tr>\n",
       "      <th>5</th>\n",
       "      <td>205174246.txt</td>\n",
       "      <td>Image and superscription - Vts.118.l.16</td>\n",
       "      <td>0.221223</td>\n",
       "    </tr>\n",
       "    <tr>\n",
       "      <th>0</th>\n",
       "      <td>205174241.txt</td>\n",
       "      <td>Niger - R.176.i</td>\n",
       "      <td>0.224656</td>\n",
       "    </tr>\n",
       "    <tr>\n",
       "      <th>3</th>\n",
       "      <td>205174244.txt</td>\n",
       "      <td>Calends of Cairo - Vts.153.c.16</td>\n",
       "      <td>0.234137</td>\n",
       "    </tr>\n",
       "    <tr>\n",
       "      <th>4</th>\n",
       "      <td>205174245.txt</td>\n",
       "      <td>Lost trumpet - Vts.143.j.8</td>\n",
       "      <td>0.246121</td>\n",
       "    </tr>\n",
       "    <tr>\n",
       "      <th>15</th>\n",
       "      <td>205202834.txt</td>\n",
       "      <td>Stained radiance - T.204.f</td>\n",
       "      <td>0.247964</td>\n",
       "    </tr>\n",
       "    <tr>\n",
       "      <th>7</th>\n",
       "      <td>205174248.txt</td>\n",
       "      <td>Persian dawns, Egyptian nights - Vts.148.d.8</td>\n",
       "      <td>0.248061</td>\n",
       "    </tr>\n",
       "    <tr>\n",
       "      <th>1</th>\n",
       "      <td>205174242.txt</td>\n",
       "      <td>Thirteenth disciple - Vts.137.d</td>\n",
       "      <td>0.261473</td>\n",
       "    </tr>\n",
       "    <tr>\n",
       "      <th>11</th>\n",
       "      <td>205174252.txt</td>\n",
       "      <td>Hanno, or, The future of exploration - S.114.j.21</td>\n",
       "      <td>0.417439</td>\n",
       "    </tr>\n",
       "  </tbody>\n",
       "</table>\n",
       "</div>"
      ],
      "text/plain": [
       "           fileid                                              title  \\\n",
       "10  205174251.txt            Scots quair - Sunset song - NF.523.b.29   \n",
       "8   205174249.txt             Scots quair - Cloud howe - NF.523.b.30   \n",
       "6   205174247.txt                            Spartacus - Vts.6.k.19    \n",
       "9   205174250.txt           Scots quair - Grey granite - NF.523.b.31   \n",
       "12  205174253.txt               Nine against the unknown - S.72.d.10   \n",
       "2   205174243.txt                       Three go back - Vts.152.f.22   \n",
       "14  205174255.txt                          Gay hunter - Vts.215.j.26   \n",
       "13  205174254.txt                      Conquest of the Maya - S.60.c   \n",
       "5   205174246.txt            Image and superscription - Vts.118.l.16   \n",
       "0   205174241.txt                                    Niger - R.176.i   \n",
       "3   205174244.txt                    Calends of Cairo - Vts.153.c.16   \n",
       "4   205174245.txt                         Lost trumpet - Vts.143.j.8   \n",
       "15  205202834.txt                         Stained radiance - T.204.f   \n",
       "7   205174248.txt       Persian dawns, Egyptian nights - Vts.148.d.8   \n",
       "1   205174242.txt                    Thirteenth disciple - Vts.137.d   \n",
       "11  205174252.txt  Hanno, or, The future of exploration - S.114.j.21   \n",
       "\n",
       "    lexicaldiversity  \n",
       "10          0.136252  \n",
       "8           0.143998  \n",
       "6           0.173469  \n",
       "9           0.178205  \n",
       "12          0.197000  \n",
       "2           0.210224  \n",
       "14          0.211580  \n",
       "13          0.218136  \n",
       "5           0.221223  \n",
       "0           0.224656  \n",
       "3           0.234137  \n",
       "4           0.246121  \n",
       "15          0.247964  \n",
       "7           0.248061  \n",
       "1           0.261473  \n",
       "11          0.417439  "
      ]
     },
     "execution_count": 44,
     "metadata": {},
     "output_type": "execute_result"
    }
   ],
   "source": [
    "lexdiv_by_file = []\n",
    "for words in words_by_file:\n",
    "    lexdiv_by_file += [lexical_diversity(words)]\n",
    "\n",
    "df['lexicaldiversity'] = lexdiv_by_file\n",
    "df_lexdiv = df.sort_values(by=['lexicaldiversity', 'title'], inplace=False, ascending=True)\n",
    "df_lexdiv"
   ]
  },
  {
   "cell_type": "markdown",
   "id": "b83080b2",
   "metadata": {},
   "source": [
    "For the entire corpus:"
   ]
  },
  {
   "cell_type": "code",
   "execution_count": 45,
   "id": "5c06524a",
   "metadata": {},
   "outputs": [
    {
     "data": {
      "text/plain": [
       "0.062426855972073654"
      ]
     },
     "execution_count": 45,
     "metadata": {},
     "output_type": "execute_result"
    }
   ],
   "source": [
    "lexical_diversity(processed_corpus)"
   ]
  },
  {
   "cell_type": "markdown",
   "id": "7743dd02",
   "metadata": {},
   "source": [
    "The table isn't bad but charts can make it easier to compare calculations more quickly, so let's visualize the lexical diversity scores!"
   ]
  },
  {
   "cell_type": "code",
   "execution_count": 46,
   "id": "bf21f02c",
   "metadata": {},
   "outputs": [
    {
     "data": {
      "text/html": [
       "\n",
       "<style>\n",
       "  #altair-viz-b880145c6b4d44a7966eebe934f1c440.vega-embed {\n",
       "    width: 100%;\n",
       "    display: flex;\n",
       "  }\n",
       "\n",
       "  #altair-viz-b880145c6b4d44a7966eebe934f1c440.vega-embed details,\n",
       "  #altair-viz-b880145c6b4d44a7966eebe934f1c440.vega-embed details summary {\n",
       "    position: relative;\n",
       "  }\n",
       "</style>\n",
       "<div id=\"altair-viz-b880145c6b4d44a7966eebe934f1c440\"></div>\n",
       "<script type=\"text/javascript\">\n",
       "  var VEGA_DEBUG = (typeof VEGA_DEBUG == \"undefined\") ? {} : VEGA_DEBUG;\n",
       "  (function(spec, embedOpt){\n",
       "    let outputDiv = document.currentScript.previousElementSibling;\n",
       "    if (outputDiv.id !== \"altair-viz-b880145c6b4d44a7966eebe934f1c440\") {\n",
       "      outputDiv = document.getElementById(\"altair-viz-b880145c6b4d44a7966eebe934f1c440\");\n",
       "    }\n",
       "\n",
       "    const paths = {\n",
       "      \"vega\": \"https://cdn.jsdelivr.net/npm/vega@5?noext\",\n",
       "      \"vega-lib\": \"https://cdn.jsdelivr.net/npm/vega-lib?noext\",\n",
       "      \"vega-lite\": \"https://cdn.jsdelivr.net/npm/vega-lite@5.20.1?noext\",\n",
       "      \"vega-embed\": \"https://cdn.jsdelivr.net/npm/vega-embed@6?noext\",\n",
       "    };\n",
       "\n",
       "    function maybeLoadScript(lib, version) {\n",
       "      var key = `${lib.replace(\"-\", \"\")}_version`;\n",
       "      return (VEGA_DEBUG[key] == version) ?\n",
       "        Promise.resolve(paths[lib]) :\n",
       "        new Promise(function(resolve, reject) {\n",
       "          var s = document.createElement('script');\n",
       "          document.getElementsByTagName(\"head\")[0].appendChild(s);\n",
       "          s.async = true;\n",
       "          s.onload = () => {\n",
       "            VEGA_DEBUG[key] = version;\n",
       "            return resolve(paths[lib]);\n",
       "          };\n",
       "          s.onerror = () => reject(`Error loading script: ${paths[lib]}`);\n",
       "          s.src = paths[lib];\n",
       "        });\n",
       "    }\n",
       "\n",
       "    function showError(err) {\n",
       "      outputDiv.innerHTML = `<div class=\"error\" style=\"color:red;\">${err}</div>`;\n",
       "      throw err;\n",
       "    }\n",
       "\n",
       "    function displayChart(vegaEmbed) {\n",
       "      vegaEmbed(outputDiv, spec, embedOpt)\n",
       "        .catch(err => showError(`Javascript Error: ${err.message}<br>This usually means there's a typo in your chart specification. See the javascript console for the full traceback.`));\n",
       "    }\n",
       "\n",
       "    if(typeof define === \"function\" && define.amd) {\n",
       "      requirejs.config({paths});\n",
       "      let deps = [\"vega-embed\"];\n",
       "      require(deps, displayChart, err => showError(`Error loading script: ${err.message}`));\n",
       "    } else {\n",
       "      maybeLoadScript(\"vega\", \"5\")\n",
       "        .then(() => maybeLoadScript(\"vega-lite\", \"5.20.1\"))\n",
       "        .then(() => maybeLoadScript(\"vega-embed\", \"6\"))\n",
       "        .catch(showError)\n",
       "        .then(() => displayChart(vegaEmbed));\n",
       "    }\n",
       "  })({\"config\": {\"view\": {\"continuousWidth\": 300, \"continuousHeight\": 300, \"strokeWidth\": 0}, \"axis\": {\"grid\": false}}, \"data\": {\"name\": \"data-f48696342697aa1ec9b6bb12de441fad\"}, \"mark\": {\"type\": \"bar\", \"size\": 30}, \"encoding\": {\"order\": {\"field\": \"Lexdiv\", \"sort\": \"ascending\", \"type\": \"quantitative\"}, \"x\": {\"axis\": {\"title\": \"Lewis Grassic Gibbon Work\"}, \"field\": \"Title\", \"sort\": null, \"type\": \"nominal\"}, \"y\": {\"axis\": {\"title\": \"Lexical Diversity\"}, \"field\": \"Lexdiv\", \"type\": \"quantitative\"}}, \"title\": \"Lexical Diversity of Gibbon's Works\", \"width\": 500, \"$schema\": \"https://vega.github.io/schema/vega-lite/v5.20.1.json\", \"datasets\": {\"data-f48696342697aa1ec9b6bb12de441fad\": [{\"Title\": \"Scots quair - Sunset song - NF.523.b.29\", \"Lexdiv\": 0.13625218914185638}, {\"Title\": \"Scots quair - Cloud howe - NF.523.b.30\", \"Lexdiv\": 0.14399846911926517}, {\"Title\": \"Spartacus - Vts.6.k.19 \", \"Lexdiv\": 0.17346884050198433}, {\"Title\": \"Scots quair - Grey granite - NF.523.b.31\", \"Lexdiv\": 0.1782050607606923}, {\"Title\": \"Nine against the unknown - S.72.d.10\", \"Lexdiv\": 0.19699955875864097}, {\"Title\": \"Three go back - Vts.152.f.22\", \"Lexdiv\": 0.21022421524663676}, {\"Title\": \"Gay hunter - Vts.215.j.26\", \"Lexdiv\": 0.21158005111737335}, {\"Title\": \"Conquest of the Maya - S.60.c\", \"Lexdiv\": 0.21813642804129277}, {\"Title\": \"Image and superscription - Vts.118.l.16\", \"Lexdiv\": 0.2212226709371954}, {\"Title\": \"Niger - R.176.i\", \"Lexdiv\": 0.22465623782219005}, {\"Title\": \"Calends of Cairo - Vts.153.c.16\", \"Lexdiv\": 0.2341373968575132}, {\"Title\": \"Lost trumpet - Vts.143.j.8\", \"Lexdiv\": 0.2461209026519519}, {\"Title\": \"Stained radiance - T.204.f\", \"Lexdiv\": 0.24796443249670433}, {\"Title\": \"Persian dawns, Egyptian nights - Vts.148.d.8\", \"Lexdiv\": 0.24806100501857525}, {\"Title\": \"Thirteenth disciple - Vts.137.d\", \"Lexdiv\": 0.2614732709295923}, {\"Title\": \"Hanno, or, The future of exploration - S.114.j.21\", \"Lexdiv\": 0.4174385180453529}]}}, {\"mode\": \"vega-lite\"});\n",
       "</script>"
      ],
      "text/plain": [
       "alt.Chart(...)"
      ]
     },
     "execution_count": 46,
     "metadata": {},
     "output_type": "execute_result"
    }
   ],
   "source": [
    "sorted_titles = list(df_lexdiv['title'])\n",
    "sorted_lexdiv = list(df_lexdiv['lexicaldiversity'])\n",
    "source = pd.DataFrame({\n",
    "    'Title': sorted_titles,\n",
    "    'Lexdiv': sorted_lexdiv\n",
    "})\n",
    "\n",
    "alt.Chart(source, title=\"Lexical Diversity of Gibbon's Works\").mark_bar(size=30).encode(\n",
    "    alt.X('Title', axis=alt.Axis(title='Lewis Grassic Gibbon Work'), type='nominal', sort=None),  # If sort unspecified, chart will sort x-axis values alphabetically\n",
    "    alt.Y('Lexdiv', axis=alt.Axis(title='Lexical Diversity')),\n",
    "    alt.Order(\n",
    "      # Sort the segments of the bars by this field\n",
    "      'Lexdiv',\n",
    "      sort='ascending'\n",
    "    )\n",
    ").configure_axis(\n",
    "    grid=False\n",
    ").configure_view(\n",
    "    strokeWidth=0\n",
    ").properties(\n",
    "    width=500\n",
    ")\n",
    "\n",
    "#     alt.Y('Lexdiv', axis=alt.Axis(format='%', title='Lexical Diversity')),"
   ]
  },
  {
   "cell_type": "markdown",
   "id": "1fe8e0d1",
   "metadata": {},
   "source": [
    "Could we sort these chronologically?\n",
    "\n",
    "We can add information available from the [digital.nls.uk](https://data.nls.uk/wp-content/uploads/2020/10/digital.nls.uk) website about the publication dates to our inventory..."
   ]
  },
  {
   "cell_type": "code",
   "execution_count": 47,
   "id": "450d0eb9",
   "metadata": {},
   "outputs": [
    {
     "data": {
      "text/html": [
       "<div>\n",
       "<style scoped>\n",
       "    .dataframe tbody tr th:only-of-type {\n",
       "        vertical-align: middle;\n",
       "    }\n",
       "\n",
       "    .dataframe tbody tr th {\n",
       "        vertical-align: top;\n",
       "    }\n",
       "\n",
       "    .dataframe thead th {\n",
       "        text-align: right;\n",
       "    }\n",
       "</style>\n",
       "<table border=\"1\" class=\"dataframe\">\n",
       "  <thead>\n",
       "    <tr style=\"text-align: right;\">\n",
       "      <th></th>\n",
       "      <th>fileid</th>\n",
       "      <th>title</th>\n",
       "      <th>lexicaldiversity</th>\n",
       "      <th>published</th>\n",
       "    </tr>\n",
       "  </thead>\n",
       "  <tbody>\n",
       "    <tr>\n",
       "      <th>11</th>\n",
       "      <td>205174252.txt</td>\n",
       "      <td>Hanno, or, The future of exploration - S.114.j.21</td>\n",
       "      <td>0.417439</td>\n",
       "      <td>1928</td>\n",
       "    </tr>\n",
       "    <tr>\n",
       "      <th>7</th>\n",
       "      <td>205174248.txt</td>\n",
       "      <td>Persian dawns, Egyptian nights - Vts.148.d.8</td>\n",
       "      <td>0.248061</td>\n",
       "      <td>1930</td>\n",
       "    </tr>\n",
       "    <tr>\n",
       "      <th>0</th>\n",
       "      <td>205174241.txt</td>\n",
       "      <td>Niger - R.176.i</td>\n",
       "      <td>0.224656</td>\n",
       "      <td>1931</td>\n",
       "    </tr>\n",
       "    <tr>\n",
       "      <th>1</th>\n",
       "      <td>205174242.txt</td>\n",
       "      <td>Thirteenth disciple - Vts.137.d</td>\n",
       "      <td>0.261473</td>\n",
       "      <td>1931</td>\n",
       "    </tr>\n",
       "    <tr>\n",
       "      <th>3</th>\n",
       "      <td>205174244.txt</td>\n",
       "      <td>Calends of Cairo - Vts.153.c.16</td>\n",
       "      <td>0.234137</td>\n",
       "      <td>1932</td>\n",
       "    </tr>\n",
       "  </tbody>\n",
       "</table>\n",
       "</div>"
      ],
      "text/plain": [
       "           fileid                                              title  \\\n",
       "11  205174252.txt  Hanno, or, The future of exploration - S.114.j.21   \n",
       "7   205174248.txt       Persian dawns, Egyptian nights - Vts.148.d.8   \n",
       "0   205174241.txt                                    Niger - R.176.i   \n",
       "1   205174242.txt                    Thirteenth disciple - Vts.137.d   \n",
       "3   205174244.txt                    Calends of Cairo - Vts.153.c.16   \n",
       "\n",
       "    lexicaldiversity  published  \n",
       "11          0.417439       1928  \n",
       "7           0.248061       1930  \n",
       "0           0.224656       1931  \n",
       "1           0.261473       1931  \n",
       "3           0.234137       1932  "
      ]
     },
     "execution_count": 47,
     "metadata": {},
     "output_type": "execute_result"
    }
   ],
   "source": [
    "published = [1932, 1933, 1933, 1934, 1933, 1932, 1934, 1934, 1934, 1931, 1932, 1934, 1932, 1930, 1931, 1928]\n",
    "df_lexdiv['published'] = published\n",
    "df_pub = df_lexdiv.sort_values(by=['published', 'title'], inplace=False, ascending=True)\n",
    "df_pub.head()"
   ]
  },
  {
   "cell_type": "markdown",
   "id": "eaf74063",
   "metadata": {},
   "source": [
    "Then we can recreate the bar chart with the bars (books) sorted by year of publication:"
   ]
  },
  {
   "cell_type": "code",
   "execution_count": 48,
   "id": "bef7c7ff",
   "metadata": {},
   "outputs": [
    {
     "data": {
      "text/html": [
       "\n",
       "<style>\n",
       "  #altair-viz-fcf9dcc4d80d4e3985ec4fe3c930f85e.vega-embed {\n",
       "    width: 100%;\n",
       "    display: flex;\n",
       "  }\n",
       "\n",
       "  #altair-viz-fcf9dcc4d80d4e3985ec4fe3c930f85e.vega-embed details,\n",
       "  #altair-viz-fcf9dcc4d80d4e3985ec4fe3c930f85e.vega-embed details summary {\n",
       "    position: relative;\n",
       "  }\n",
       "</style>\n",
       "<div id=\"altair-viz-fcf9dcc4d80d4e3985ec4fe3c930f85e\"></div>\n",
       "<script type=\"text/javascript\">\n",
       "  var VEGA_DEBUG = (typeof VEGA_DEBUG == \"undefined\") ? {} : VEGA_DEBUG;\n",
       "  (function(spec, embedOpt){\n",
       "    let outputDiv = document.currentScript.previousElementSibling;\n",
       "    if (outputDiv.id !== \"altair-viz-fcf9dcc4d80d4e3985ec4fe3c930f85e\") {\n",
       "      outputDiv = document.getElementById(\"altair-viz-fcf9dcc4d80d4e3985ec4fe3c930f85e\");\n",
       "    }\n",
       "\n",
       "    const paths = {\n",
       "      \"vega\": \"https://cdn.jsdelivr.net/npm/vega@5?noext\",\n",
       "      \"vega-lib\": \"https://cdn.jsdelivr.net/npm/vega-lib?noext\",\n",
       "      \"vega-lite\": \"https://cdn.jsdelivr.net/npm/vega-lite@5.20.1?noext\",\n",
       "      \"vega-embed\": \"https://cdn.jsdelivr.net/npm/vega-embed@6?noext\",\n",
       "    };\n",
       "\n",
       "    function maybeLoadScript(lib, version) {\n",
       "      var key = `${lib.replace(\"-\", \"\")}_version`;\n",
       "      return (VEGA_DEBUG[key] == version) ?\n",
       "        Promise.resolve(paths[lib]) :\n",
       "        new Promise(function(resolve, reject) {\n",
       "          var s = document.createElement('script');\n",
       "          document.getElementsByTagName(\"head\")[0].appendChild(s);\n",
       "          s.async = true;\n",
       "          s.onload = () => {\n",
       "            VEGA_DEBUG[key] = version;\n",
       "            return resolve(paths[lib]);\n",
       "          };\n",
       "          s.onerror = () => reject(`Error loading script: ${paths[lib]}`);\n",
       "          s.src = paths[lib];\n",
       "        });\n",
       "    }\n",
       "\n",
       "    function showError(err) {\n",
       "      outputDiv.innerHTML = `<div class=\"error\" style=\"color:red;\">${err}</div>`;\n",
       "      throw err;\n",
       "    }\n",
       "\n",
       "    function displayChart(vegaEmbed) {\n",
       "      vegaEmbed(outputDiv, spec, embedOpt)\n",
       "        .catch(err => showError(`Javascript Error: ${err.message}<br>This usually means there's a typo in your chart specification. See the javascript console for the full traceback.`));\n",
       "    }\n",
       "\n",
       "    if(typeof define === \"function\" && define.amd) {\n",
       "      requirejs.config({paths});\n",
       "      let deps = [\"vega-embed\"];\n",
       "      require(deps, displayChart, err => showError(`Error loading script: ${err.message}`));\n",
       "    } else {\n",
       "      maybeLoadScript(\"vega\", \"5\")\n",
       "        .then(() => maybeLoadScript(\"vega-lite\", \"5.20.1\"))\n",
       "        .then(() => maybeLoadScript(\"vega-embed\", \"6\"))\n",
       "        .catch(showError)\n",
       "        .then(() => displayChart(vegaEmbed));\n",
       "    }\n",
       "  })({\"config\": {\"view\": {\"continuousWidth\": 300, \"continuousHeight\": 300, \"strokeWidth\": 0}, \"axis\": {\"grid\": false, \"labelAngle\": -45, \"labelFontSize\": 12, \"titleFontSize\": 12}, \"title\": {\"fontSize\": 14}}, \"data\": {\"name\": \"data-d41fc2616da8ed098bf3f4cc4fda30fc\"}, \"mark\": {\"type\": \"bar\", \"size\": 30}, \"encoding\": {\"color\": {\"field\": \"Published\", \"legend\": {\"title\": \"Date Published\"}, \"type\": \"ordinal\"}, \"order\": {\"field\": \"Lexdiv\", \"sort\": \"descending\", \"type\": \"quantitative\"}, \"tooltip\": {\"field\": \"Title\", \"type\": \"nominal\"}, \"x\": {\"axis\": {\"title\": \"Title of Lewis Grassic Gibbon Work\"}, \"field\": \"Title\", \"sort\": null, \"type\": \"nominal\"}, \"y\": {\"axis\": {\"title\": \"Lexical Diversity\"}, \"field\": \"Lexdiv\", \"type\": \"quantitative\"}}, \"title\": \"Lexical Diversity of Gibbon's Works\", \"width\": 500, \"$schema\": \"https://vega.github.io/schema/vega-lite/v5.20.1.json\", \"datasets\": {\"data-d41fc2616da8ed098bf3f4cc4fda30fc\": [{\"Title\": \"Hanno, or, The future of exploration - S.114.j.21\", \"Lexdiv\": 0.4174385180453529, \"Published\": 1928}, {\"Title\": \"Persian dawns, Egyptian nights - Vts.148.d.8\", \"Lexdiv\": 0.24806100501857525, \"Published\": 1930}, {\"Title\": \"Niger - R.176.i\", \"Lexdiv\": 0.22465623782219005, \"Published\": 1931}, {\"Title\": \"Thirteenth disciple - Vts.137.d\", \"Lexdiv\": 0.2614732709295923, \"Published\": 1931}, {\"Title\": \"Calends of Cairo - Vts.153.c.16\", \"Lexdiv\": 0.2341373968575132, \"Published\": 1932}, {\"Title\": \"Scots quair - Sunset song - NF.523.b.29\", \"Lexdiv\": 0.13625218914185638, \"Published\": 1932}, {\"Title\": \"Stained radiance - T.204.f\", \"Lexdiv\": 0.24796443249670433, \"Published\": 1932}, {\"Title\": \"Three go back - Vts.152.f.22\", \"Lexdiv\": 0.21022421524663676, \"Published\": 1932}, {\"Title\": \"Nine against the unknown - S.72.d.10\", \"Lexdiv\": 0.19699955875864097, \"Published\": 1933}, {\"Title\": \"Scots quair - Cloud howe - NF.523.b.30\", \"Lexdiv\": 0.14399846911926517, \"Published\": 1933}, {\"Title\": \"Spartacus - Vts.6.k.19 \", \"Lexdiv\": 0.17346884050198433, \"Published\": 1933}, {\"Title\": \"Conquest of the Maya - S.60.c\", \"Lexdiv\": 0.21813642804129277, \"Published\": 1934}, {\"Title\": \"Gay hunter - Vts.215.j.26\", \"Lexdiv\": 0.21158005111737335, \"Published\": 1934}, {\"Title\": \"Image and superscription - Vts.118.l.16\", \"Lexdiv\": 0.2212226709371954, \"Published\": 1934}, {\"Title\": \"Lost trumpet - Vts.143.j.8\", \"Lexdiv\": 0.2461209026519519, \"Published\": 1934}, {\"Title\": \"Scots quair - Grey granite - NF.523.b.31\", \"Lexdiv\": 0.1782050607606923, \"Published\": 1934}]}}, {\"mode\": \"vega-lite\"});\n",
       "</script>"
      ],
      "text/plain": [
       "alt.Chart(...)"
      ]
     },
     "execution_count": 48,
     "metadata": {},
     "output_type": "execute_result"
    }
   ],
   "source": [
    "sorted_titles = list(df_pub['title'])\n",
    "sorted_lexdiv = list(df_pub['lexicaldiversity'])\n",
    "sorted_published = list(df_pub['published'])\n",
    "source = pd.DataFrame({\n",
    "    'Title': sorted_titles,\n",
    "    'Lexdiv': sorted_lexdiv,\n",
    "    'Published': sorted_published\n",
    "})\n",
    "\n",
    "alt.Chart(source, title=\"Lexical Diversity of Gibbon's Works\").mark_bar(size=30).encode(\n",
    "    alt.X('Title', axis=alt.Axis(title='Title of Lewis Grassic Gibbon Work'), type='nominal', sort=None),  # If sort unspecified, chart will sort x-axis values alphabetically\n",
    "    alt.Y('Lexdiv', axis=alt.Axis(title='Lexical Diversity')),\n",
    "    alt.Order(\n",
    "      # Sort the segments of the bars by this field\n",
    "      'Lexdiv',\n",
    "      sort='descending'\n",
    "    ),\n",
    "    color=alt.Color('Published:O', legend = alt.Legend(title='Date Published')),\n",
    "    tooltip='Title:N'\n",
    ").configure_axis(\n",
    "    grid=False,\n",
    "    labelFontSize=12,\n",
    "    titleFontSize=12,\n",
    "    labelAngle=-45\n",
    ").configure_title(\n",
    "    fontSize=14,\n",
    ").configure_view(\n",
    "    strokeWidth=0\n",
    ").properties(\n",
    "    width=500\n",
    ")"
   ]
  },
  {
   "cell_type": "markdown",
   "id": "6444c99e",
   "metadata": {},
   "source": [
    "To get the lexical diversity per year..."
   ]
  },
  {
   "cell_type": "code",
   "execution_count": 49,
   "id": "5692db78",
   "metadata": {},
   "outputs": [
    {
     "name": "stdout",
     "output_type": "stream",
     "text": [
      "{1928: ['205174252.txt'], 1930: ['205174248.txt'], 1931: ['205174241.txt', '205174242.txt'], 1932: ['205174244.txt', '205174251.txt', '205202834.txt', '205174243.txt'], 1933: ['205174253.txt', '205174249.txt', '205174247.txt'], 1934: ['205174254.txt', '205174255.txt', '205174246.txt', '205174245.txt', '205174250.txt']}\n"
     ]
    },
    {
     "name": "stderr",
     "output_type": "stream",
     "text": [
      "/var/folders/2s/vq2lnwx92y12_p32vv6jbzhr0000gn/T/ipykernel_15759/2132253417.py:4: FutureWarning: Series.__getitem__ treating keys as positions is deprecated. In a future version, integer keys will always be treated as labels (consistent with DataFrame behavior). To access a value by position, use `ser.iloc[pos]`\n",
      "  pub_yr[row[3]] += [row[0]]\n"
     ]
    }
   ],
   "source": [
    "# dictionary associating works with year they were published\n",
    "pub_yr = {1928: [], 1930: [], 1931: [], 1932: [], 1933: [], 1934: []}\n",
    "for index,row in df_pub.iterrows():\n",
    "    pub_yr[row[3]] += [row[0]]\n",
    "print(pub_yr)"
   ]
  },
  {
   "cell_type": "code",
   "execution_count": 50,
   "id": "f8148191",
   "metadata": {},
   "outputs": [
    {
     "name": "stdout",
     "output_type": "stream",
     "text": [
      "[0.23601900972590628, 0.13157772585910785, 0.130177318212258, 0.10652644005631824, 0.09148268297582209, 0.11142752871589168]\n"
     ]
    }
   ],
   "source": [
    "lexdiv_by_year = []\n",
    "for key,value in pub_yr.items():\n",
    "    lexdiv_by_file = []\n",
    "    for fileid in value:\n",
    "        file_words = wordlists.words(fileid)\n",
    "        str_words = [str(w.lower()) for w in file_words if w.isalpha()]\n",
    "        lexdiv_by_file += [lexical_diversity(str_words)]\n",
    "    lexdiv_by_year += [sum(lexdiv_by_file)/len(lexdiv_by_file)]\n",
    "print(lexdiv_by_year)"
   ]
  },
  {
   "cell_type": "code",
   "execution_count": 51,
   "id": "e39098fd",
   "metadata": {},
   "outputs": [
    {
     "data": {
      "text/plain": [
       "{1928: 0.23601900972590628,\n",
       " 1930: 0.13157772585910785,\n",
       " 1931: 0.130177318212258,\n",
       " 1932: 0.10652644005631824,\n",
       " 1933: 0.09148268297582209,\n",
       " 1934: 0.11142752871589168}"
      ]
     },
     "execution_count": 51,
     "metadata": {},
     "output_type": "execute_result"
    }
   ],
   "source": [
    "pub_years = [1928, 1930, 1931, 1932, 1933, 1934]\n",
    "pub_lex = dict(zip(pub_years, lexdiv_by_year))\n",
    "pub_lex"
   ]
  },
  {
   "cell_type": "markdown",
   "id": "52d4f744",
   "metadata": {},
   "source": [
    "Now we can visualize the average lexical diversity score for each year Gibbon published in:"
   ]
  },
  {
   "cell_type": "code",
   "execution_count": 52,
   "id": "1597cb32",
   "metadata": {},
   "outputs": [
    {
     "data": {
      "text/html": [
       "\n",
       "<style>\n",
       "  #altair-viz-fb7711e952274521aeb8dcab35beeca4.vega-embed {\n",
       "    width: 100%;\n",
       "    display: flex;\n",
       "  }\n",
       "\n",
       "  #altair-viz-fb7711e952274521aeb8dcab35beeca4.vega-embed details,\n",
       "  #altair-viz-fb7711e952274521aeb8dcab35beeca4.vega-embed details summary {\n",
       "    position: relative;\n",
       "  }\n",
       "</style>\n",
       "<div id=\"altair-viz-fb7711e952274521aeb8dcab35beeca4\"></div>\n",
       "<script type=\"text/javascript\">\n",
       "  var VEGA_DEBUG = (typeof VEGA_DEBUG == \"undefined\") ? {} : VEGA_DEBUG;\n",
       "  (function(spec, embedOpt){\n",
       "    let outputDiv = document.currentScript.previousElementSibling;\n",
       "    if (outputDiv.id !== \"altair-viz-fb7711e952274521aeb8dcab35beeca4\") {\n",
       "      outputDiv = document.getElementById(\"altair-viz-fb7711e952274521aeb8dcab35beeca4\");\n",
       "    }\n",
       "\n",
       "    const paths = {\n",
       "      \"vega\": \"https://cdn.jsdelivr.net/npm/vega@5?noext\",\n",
       "      \"vega-lib\": \"https://cdn.jsdelivr.net/npm/vega-lib?noext\",\n",
       "      \"vega-lite\": \"https://cdn.jsdelivr.net/npm/vega-lite@5.20.1?noext\",\n",
       "      \"vega-embed\": \"https://cdn.jsdelivr.net/npm/vega-embed@6?noext\",\n",
       "    };\n",
       "\n",
       "    function maybeLoadScript(lib, version) {\n",
       "      var key = `${lib.replace(\"-\", \"\")}_version`;\n",
       "      return (VEGA_DEBUG[key] == version) ?\n",
       "        Promise.resolve(paths[lib]) :\n",
       "        new Promise(function(resolve, reject) {\n",
       "          var s = document.createElement('script');\n",
       "          document.getElementsByTagName(\"head\")[0].appendChild(s);\n",
       "          s.async = true;\n",
       "          s.onload = () => {\n",
       "            VEGA_DEBUG[key] = version;\n",
       "            return resolve(paths[lib]);\n",
       "          };\n",
       "          s.onerror = () => reject(`Error loading script: ${paths[lib]}`);\n",
       "          s.src = paths[lib];\n",
       "        });\n",
       "    }\n",
       "\n",
       "    function showError(err) {\n",
       "      outputDiv.innerHTML = `<div class=\"error\" style=\"color:red;\">${err}</div>`;\n",
       "      throw err;\n",
       "    }\n",
       "\n",
       "    function displayChart(vegaEmbed) {\n",
       "      vegaEmbed(outputDiv, spec, embedOpt)\n",
       "        .catch(err => showError(`Javascript Error: ${err.message}<br>This usually means there's a typo in your chart specification. See the javascript console for the full traceback.`));\n",
       "    }\n",
       "\n",
       "    if(typeof define === \"function\" && define.amd) {\n",
       "      requirejs.config({paths});\n",
       "      let deps = [\"vega-embed\"];\n",
       "      require(deps, displayChart, err => showError(`Error loading script: ${err.message}`));\n",
       "    } else {\n",
       "      maybeLoadScript(\"vega\", \"5\")\n",
       "        .then(() => maybeLoadScript(\"vega-lite\", \"5.20.1\"))\n",
       "        .then(() => maybeLoadScript(\"vega-embed\", \"6\"))\n",
       "        .catch(showError)\n",
       "        .then(() => displayChart(vegaEmbed));\n",
       "    }\n",
       "  })({\"config\": {\"view\": {\"continuousWidth\": 300, \"continuousHeight\": 300, \"strokeWidth\": 0}, \"axis\": {\"grid\": false, \"labelAngle\": 0, \"labelFontSize\": 12, \"titleFontSize\": 12}, \"title\": {\"fontSize\": 14}}, \"data\": {\"name\": \"data-8f5935cf7f426f94b2d0a8651a5f3ca9\"}, \"mark\": {\"type\": \"bar\", \"size\": 60}, \"encoding\": {\"x\": {\"axis\": {\"title\": \"Year of Publication\"}, \"field\": \"Year\", \"type\": \"ordinal\"}, \"y\": {\"axis\": {\"title\": \"Average Lexical Diversity\"}, \"field\": \"Average Lexical Diversity\", \"type\": \"quantitative\"}}, \"title\": \"Average Yearly Lexical Diversity of Gibbon First Editions\", \"width\": 365, \"$schema\": \"https://vega.github.io/schema/vega-lite/v5.20.1.json\", \"datasets\": {\"data-8f5935cf7f426f94b2d0a8651a5f3ca9\": [{\"Year\": 1928, \"Average Lexical Diversity\": 0.23601900972590628}, {\"Year\": 1930, \"Average Lexical Diversity\": 0.13157772585910785}, {\"Year\": 1931, \"Average Lexical Diversity\": 0.130177318212258}, {\"Year\": 1932, \"Average Lexical Diversity\": 0.10652644005631824}, {\"Year\": 1933, \"Average Lexical Diversity\": 0.09148268297582209}, {\"Year\": 1934, \"Average Lexical Diversity\": 0.11142752871589168}]}}, {\"mode\": \"vega-lite\"});\n",
       "</script>"
      ],
      "text/plain": [
       "alt.Chart(...)"
      ]
     },
     "execution_count": 52,
     "metadata": {},
     "output_type": "execute_result"
    }
   ],
   "source": [
    "\n",
    "\n",
    "source = pd.DataFrame({\n",
    "    'Year': pub_years,\n",
    "    'Average Lexical Diversity': lexdiv_by_year\n",
    "})\n",
    "\n",
    "alt.Chart(source, title=\"Average Yearly Lexical Diversity of Gibbon First Editions\").mark_bar(size=60).encode(\n",
    "    alt.X('Year', axis=alt.Axis(title='Year of Publication'), type='ordinal'),\n",
    "    alt.Y('Average Lexical Diversity', axis=alt.Axis(title='Average Lexical Diversity'))\n",
    ").configure_axis(\n",
    "    grid=False,\n",
    "    labelFontSize=12,\n",
    "    titleFontSize=12,\n",
    "    labelAngle=0\n",
    ").configure_title(\n",
    "    fontSize=14,\n",
    ").configure_view(\n",
    "    strokeWidth=0\n",
    ").properties(\n",
    "    width=365\n",
    ")"
   ]
  },
  {
   "cell_type": "markdown",
   "id": "f1e9e5ae",
   "metadata": {},
   "source": [
    "So Gibbon's lexical diversity does decrease over time, excepting a small increase in the last year he published, 1934!"
   ]
  }
 ],
 "metadata": {
  "kernelspec": {
   "display_name": "venv",
   "language": "python",
   "name": "python3"
  },
  "language_info": {
   "codemirror_mode": {
    "name": "ipython",
    "version": 3
   },
   "file_extension": ".py",
   "mimetype": "text/x-python",
   "name": "python",
   "nbconvert_exporter": "python",
   "pygments_lexer": "ipython3",
   "version": "3.12.2"
  }
 },
 "nbformat": 4,
 "nbformat_minor": 5
}
